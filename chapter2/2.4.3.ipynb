{
  "cells": [
    {
      "cell_type": "code",
      "execution_count": 1,
      "metadata": {
        "collapsed": true,
        "pycharm": {
          "name": "#%% Use static libs to boost performance\n",
          "is_executing": false
        }
      },
      "outputs": [
        {
          "name": "stdout",
          "text": [
            "importing Jupyter notebook from strategy_base.ipynb\n"
          ],
          "output_type": "stream"
        }
      ],
      "source": "\n# Numexpr can quickly calculate, but has limimtations\n# numda dynamically compiles Python to boost performance\n# Cython statically compile python to boost performance\n\n# 1. Defining a function that takes params and return result+params\n\nimport import_ipynb\nfrom strategy_base import TradeStrategyBase\n    \ndef execute(strategy: TradeStrategyBase,\n         keep_stock_threshold: int, \n         buy_change_threshold: float):\n    \"\"\"\n    :param keep_stock_threshold: \n    :param buy_change_threshold: \n    :return:  \n    \"\"\"\n    \n    # Use class method to set keep_stock_threshold\n    strategy.set_keep_stock_threshold(keep_stock_threshold)\n    \n    # Use static method to set buy_change_threshold\n    strategy.set_buy_change_threshold(buy_change_threshold)\n    \n    # Create Trade Days (MasterCard)\n    from abupy import ABuSymbolPd, EMarketDataSplitMode\n    # List 2 years of MasterCard closing price to list()\n    price_array \u003d ABuSymbolPd.make_kl_df(\u0027MA\u0027, EMarketDataSplitMode.E_DATA_SPLIT_SE).close.tolist()\n    date_array \u003d ABuSymbolPd.make_kl_df(\u0027MA\u0027, EMarketDataSplitMode.E_DATA_SPLIT_SE).date.tolist()\n    price_array[-5:], date_array[-5:]\n    \n    from tradedays import StockTradeDays\n    trade_days \u003d StockTradeDays(price_array, \"\", date_array)\n    # print(\u0027trade_days has {} days\u0027.format(len(trade_days)))\n    # print(\u0027Last trading day: {}\u0027.format(trade_days[-1]))\n\n    # Backtest\n    from trade_loopback import TradeLoopBack\n    trade_loop_back \u003d TradeLoopBack(trade_days, strategy)\n    trade_loop_back.execute_trade()\n    \n    # Calculate profit after back test\n    from functools import reduce\n    profit \u003d 0.0 if len(trade_loop_back.profit_array) \u003d\u003d 0 else \\\n        reduce(lambda a, b: a + b, trade_loop_back.profit_array)\n    \n    # Return profit and the two input params\n    return profit, keep_stock_threshold, buy_change_threshold\n"
    },
    {
      "cell_type": "code",
      "execution_count": 2,
      "outputs": [
        {
          "name": "stdout",
          "text": [
            "importing Jupyter notebook from strategy_2.ipynb\n",
            "importing Jupyter notebook from tradedays.ipynb\nimporting Jupyter notebook from trade_loopback.ipynb\n"
          ],
          "output_type": "stream"
        },
        {
          "data": {
            "text/plain": "(0.1370000000000001, 5, -0.02)"
          },
          "metadata": {},
          "output_type": "execute_result",
          "execution_count": 2
        }
      ],
      "source": "\n# Initialize an instance of Strategy2\nimport import_ipynb\nfrom strategy_2 import TradeStrategy2\ntrade_strategy2 \u003d TradeStrategy2()\n\nexecute(trade_strategy2, 5, -0.02)\n",
      "metadata": {
        "pycharm": {
          "metadata": false,
          "name": "#%%\n",
          "is_executing": false
        }
      }
    },
    {
      "cell_type": "code",
      "execution_count": 3,
      "outputs": [],
      "source": "\n# Increase search dates to 49 days\nkeep_stock_list \u003d range(1, 50, 1)\n# Increase buy_threshold to -0.01 ~ -0.25\nbuy_change_list \u003d [\n    buy_change/100.00 for buy_change in range(-1, -25, -1)]\n\nimport itertools\n\ndef do_single_task():\n    task_list \u003d list(itertools.product(\n        keep_stock_list, buy_change_list\n    ))\n    # print(\u0027Cartesian product produced {} results\u0027.format(len(task_list)))\n\n    for keep_stock_threshold, buy_change_threshold in task_list:\n        # print(\"Executing {} {}\".format(keep_stock_threshold, buy_change_threshold))\n        execute(trade_strategy2, \n                keep_stock_threshold,\n                buy_change_threshold)\n",
      "metadata": {
        "pycharm": {
          "metadata": false,
          "name": "#%%\n",
          "is_executing": false
        }
      }
    },
    {
      "cell_type": "code",
      "execution_count": 10,
      "outputs": [
        {
          "name": "stdout",
          "text": [
            "Cartesian product produced 1176 results\nExecuting 1 -0.01\nExecuting 1 -0.02\nExecuting 1 -0.03\nExecuting 1 -0.04\nExecuting 1 -0.05\nExecuting 1 -0.06\n",
            "Executing 1 -0.07\nExecuting 1 -0.08\nExecuting 1 -0.09\nExecuting 1 -0.1\nExecuting 1 -0.11\nExecuting 1 -0.12\n",
            "Executing 1 -0.13\nExecuting 1 -0.14\nExecuting 1 -0.15\nExecuting 1 -0.16\nExecuting 1 -0.17\nExecuting 1 -0.18\n",
            "Executing 1 -0.19\nExecuting 1 -0.2\nExecuting 1 -0.21\nExecuting 1 -0.22\nExecuting 1 -0.23\nExecuting 1 -0.24\n",
            "Executing 2 -0.01\nExecuting 2 -0.02\nExecuting 2 -0.03\nExecuting 2 -0.04\nExecuting 2 -0.05\nExecuting 2 -0.06\nExecuting 2 -0.07\n",
            "Executing 2 -0.08\nExecuting 2 -0.09\nExecuting 2 -0.1\nExecuting 2 -0.11\nExecuting 2 -0.12\nExecuting 2 -0.13\nExecuting 2 -0.14\n",
            "Executing 2 -0.15\nExecuting 2 -0.16\nExecuting 2 -0.17\nExecuting 2 -0.18\nExecuting 2 -0.19\nExecuting 2 -0.2\n",
            "Executing 2 -0.21\nExecuting 2 -0.22\nExecuting 2 -0.23\nExecuting 2 -0.24\nExecuting 3 -0.01\nExecuting 3 -0.02\n",
            "Executing 3 -0.03\nExecuting 3 -0.04\nExecuting 3 -0.05\nExecuting 3 -0.06\nExecuting 3 -0.07\nExecuting 3 -0.08\n",
            "Executing 3 -0.09\nExecuting 3 -0.1\nExecuting 3 -0.11\nExecuting 3 -0.12\nExecuting 3 -0.13\nExecuting 3 -0.14\nExecuting 3 -0.15\n",
            "Executing 3 -0.16\nExecuting 3 -0.17\nExecuting 3 -0.18\nExecuting 3 -0.19\nExecuting 3 -0.2\nExecuting 3 -0.21\nExecuting 3 -0.22\n",
            "Executing 3 -0.23\nExecuting 3 -0.24\nExecuting 4 -0.01\nExecuting 4 -0.02\nExecuting 4 -0.03\nExecuting 4 -0.04\nExecuting 4 -0.05\n",
            "Executing 4 -0.06\nExecuting 4 -0.07\nExecuting 4 -0.08\nExecuting 4 -0.09\nExecuting 4 -0.1\nExecuting 4 -0.11\nExecuting 4 -0.12\n",
            "Executing 4 -0.13\nExecuting 4 -0.14\nExecuting 4 -0.15\nExecuting 4 -0.16\nExecuting 4 -0.17\nExecuting 4 -0.18\nExecuting 4 -0.19\n",
            "Executing 4 -0.2\nExecuting 4 -0.21\nExecuting 4 -0.22\nExecuting 4 -0.23\nExecuting 4 -0.24\nExecuting 5 -0.01\nExecuting 5 -0.02\n",
            "Executing 5 -0.03\nExecuting 5 -0.04\nExecuting 5 -0.05\nExecuting 5 -0.06\nExecuting 5 -0.07\nExecuting 5 -0.08\n",
            "Executing 5 -0.09\nExecuting 5 -0.1\nExecuting 5 -0.11\nExecuting 5 -0.12\nExecuting 5 -0.13\nExecuting 5 -0.14\nExecuting 5 -0.15\n",
            "Executing 5 -0.16\nExecuting 5 -0.17\nExecuting 5 -0.18\nExecuting 5 -0.19\nExecuting 5 -0.2\nExecuting 5 -0.21\nExecuting 5 -0.22\n",
            "Executing 5 -0.23\nExecuting 5 -0.24\nExecuting 6 -0.01\nExecuting 6 -0.02\nExecuting 6 -0.03\nExecuting 6 -0.04\nExecuting 6 -0.05\n",
            "Executing 6 -0.06\nExecuting 6 -0.07\nExecuting 6 -0.08\nExecuting 6 -0.09\nExecuting 6 -0.1\nExecuting 6 -0.11\n",
            "Executing 6 -0.12\nExecuting 6 -0.13\nExecuting 6 -0.14\nExecuting 6 -0.15\nExecuting 6 -0.16\nExecuting 6 -0.17\nExecuting 6 -0.18\n",
            "Executing 6 -0.19\nExecuting 6 -0.2\nExecuting 6 -0.21\nExecuting 6 -0.22\nExecuting 6 -0.23\nExecuting 6 -0.24\nExecuting 7 -0.01\n",
            "Executing 7 -0.02\nExecuting 7 -0.03\nExecuting 7 -0.04\nExecuting 7 -0.05\nExecuting 7 -0.06\nExecuting 7 -0.07\n",
            "Executing 7 -0.08\nExecuting 7 -0.09\nExecuting 7 -0.1\nExecuting 7 -0.11\nExecuting 7 -0.12\nExecuting 7 -0.13\n",
            "Executing 7 -0.14\nExecuting 7 -0.15\nExecuting 7 -0.16\nExecuting 7 -0.17\nExecuting 7 -0.18\nExecuting 7 -0.19\nExecuting 7 -0.2\n",
            "Executing 7 -0.21\nExecuting 7 -0.22\nExecuting 7 -0.23\nExecuting 7 -0.24\nExecuting 8 -0.01\nExecuting 8 -0.02\n",
            "Executing 8 -0.03\nExecuting 8 -0.04\nExecuting 8 -0.05\nExecuting 8 -0.06\nExecuting 8 -0.07\nExecuting 8 -0.08\nExecuting 8 -0.09\n",
            "Executing 8 -0.1\nExecuting 8 -0.11\nExecuting 8 -0.12\nExecuting 8 -0.13\nExecuting 8 -0.14\nExecuting 8 -0.15\n",
            "Executing 8 -0.16\nExecuting 8 -0.17\nExecuting 8 -0.18\nExecuting 8 -0.19\nExecuting 8 -0.2\nExecuting 8 -0.21\n",
            "Executing 8 -0.22\nExecuting 8 -0.23\nExecuting 8 -0.24\nExecuting 9 -0.01\nExecuting 9 -0.02\nExecuting 9 -0.03\n",
            "Executing 9 -0.04\nExecuting 9 -0.05\nExecuting 9 -0.06\nExecuting 9 -0.07\nExecuting 9 -0.08\nExecuting 9 -0.09\n",
            "Executing 9 -0.1\nExecuting 9 -0.11\nExecuting 9 -0.12\nExecuting 9 -0.13\nExecuting 9 -0.14\nExecuting 9 -0.15\n",
            "Executing 9 -0.16\nExecuting 9 -0.17\nExecuting 9 -0.18\nExecuting 9 -0.19\nExecuting 9 -0.2\nExecuting 9 -0.21\nExecuting 9 -0.22\n",
            "Executing 9 -0.23\nExecuting 9 -0.24\nExecuting 10 -0.01\nExecuting 10 -0.02\nExecuting 10 -0.03\nExecuting 10 -0.04\nExecuting 10 -0.05\n",
            "Executing 10 -0.06\nExecuting 10 -0.07\nExecuting 10 -0.08\nExecuting 10 -0.09\nExecuting 10 -0.1\nExecuting 10 -0.11\n",
            "Executing 10 -0.12\nExecuting 10 -0.13\nExecuting 10 -0.14\nExecuting 10 -0.15\nExecuting 10 -0.16\nExecuting 10 -0.17\n",
            "Executing 10 -0.18\nExecuting 10 -0.19\nExecuting 10 -0.2\nExecuting 10 -0.21\nExecuting 10 -0.22\n",
            "Executing 10 -0.23\nExecuting 10 -0.24\nExecuting 11 -0.01\nExecuting 11 -0.02\nExecuting 11 -0.03\nExecuting 11 -0.04\n",
            "Executing 11 -0.05\nExecuting 11 -0.06\nExecuting 11 -0.07\nExecuting 11 -0.08\nExecuting 11 -0.09\nExecuting 11 -0.1\n",
            "Executing 11 -0.11\nExecuting 11 -0.12\nExecuting 11 -0.13\nExecuting 11 -0.14\nExecuting 11 -0.15\nExecuting 11 -0.16\n",
            "Executing 11 -0.17\nExecuting 11 -0.18\nExecuting 11 -0.19\nExecuting 11 -0.2\nExecuting 11 -0.21\nExecuting 11 -0.22\n",
            "Executing 11 -0.23\nExecuting 11 -0.24\nExecuting 12 -0.01\nExecuting 12 -0.02\nExecuting 12 -0.03\nExecuting 12 -0.04\n",
            "Executing 12 -0.05\nExecuting 12 -0.06\nExecuting 12 -0.07\nExecuting 12 -0.08\nExecuting 12 -0.09\nExecuting 12 -0.1\nExecuting 12 -0.11\n",
            "Executing 12 -0.12\nExecuting 12 -0.13\nExecuting 12 -0.14\nExecuting 12 -0.15\nExecuting 12 -0.16\nExecuting 12 -0.17\n",
            "Executing 12 -0.18\nExecuting 12 -0.19\nExecuting 12 -0.2\nExecuting 12 -0.21\nExecuting 12 -0.22\nExecuting 12 -0.23\n",
            "Executing 12 -0.24\nExecuting 13 -0.01\nExecuting 13 -0.02\nExecuting 13 -0.03\nExecuting 13 -0.04\nExecuting 13 -0.05\n",
            "Executing 13 -0.06\nExecuting 13 -0.07\nExecuting 13 -0.08\nExecuting 13 -0.09\nExecuting 13 -0.1\nExecuting 13 -0.11\n",
            "Executing 13 -0.12\nExecuting 13 -0.13\nExecuting 13 -0.14\nExecuting 13 -0.15\nExecuting 13 -0.16\nExecuting 13 -0.17\n",
            "Executing 13 -0.18\nExecuting 13 -0.19\nExecuting 13 -0.2\nExecuting 13 -0.21\nExecuting 13 -0.22\n",
            "Executing 13 -0.23\nExecuting 13 -0.24\nExecuting 14 -0.01\nExecuting 14 -0.02\nExecuting 14 -0.03\nExecuting 14 -0.04\n",
            "Executing 14 -0.05\nExecuting 14 -0.06\nExecuting 14 -0.07\nExecuting 14 -0.08\nExecuting 14 -0.09\n",
            "Executing 14 -0.1\nExecuting 14 -0.11\nExecuting 14 -0.12\nExecuting 14 -0.13\nExecuting 14 -0.14\nExecuting 14 -0.15\n",
            "Executing 14 -0.16\nExecuting 14 -0.17\nExecuting 14 -0.18\nExecuting 14 -0.19\nExecuting 14 -0.2\nExecuting 14 -0.21\nExecuting 14 -0.22\n",
            "Executing 14 -0.23\nExecuting 14 -0.24\nExecuting 15 -0.01\nExecuting 15 -0.02\nExecuting 15 -0.03\nExecuting 15 -0.04\nExecuting 15 -0.05\n",
            "Executing 15 -0.06\nExecuting 15 -0.07\nExecuting 15 -0.08\nExecuting 15 -0.09\nExecuting 15 -0.1\nExecuting 15 -0.11\n",
            "Executing 15 -0.12\nExecuting 15 -0.13\nExecuting 15 -0.14\nExecuting 15 -0.15\nExecuting 15 -0.16\nExecuting 15 -0.17\n",
            "Executing 15 -0.18\nExecuting 15 -0.19\nExecuting 15 -0.2\nExecuting 15 -0.21\nExecuting 15 -0.22\nExecuting 15 -0.23\n",
            "Executing 15 -0.24\nExecuting 16 -0.01\nExecuting 16 -0.02\nExecuting 16 -0.03\nExecuting 16 -0.04\nExecuting 16 -0.05\n",
            "Executing 16 -0.06\nExecuting 16 -0.07\nExecuting 16 -0.08\nExecuting 16 -0.09\nExecuting 16 -0.1\nExecuting 16 -0.11\n",
            "Executing 16 -0.12\nExecuting 16 -0.13\nExecuting 16 -0.14\nExecuting 16 -0.15\nExecuting 16 -0.16\nExecuting 16 -0.17\nExecuting 16 -0.18",
            "\nExecuting 16 -0.19\nExecuting 16 -0.2\nExecuting 16 -0.21\nExecuting 16 -0.22\nExecuting 16 -0.23\n",
            "Executing 16 -0.24\nExecuting 17 -0.01\nExecuting 17 -0.02\nExecuting 17 -0.03\nExecuting 17 -0.04\nExecuting 17 -0.05\n",
            "Executing 17 -0.06\nExecuting 17 -0.07\nExecuting 17 -0.08\nExecuting 17 -0.09\nExecuting 17 -0.1\nExecuting 17 -0.11\n",
            "Executing 17 -0.12\nExecuting 17 -0.13\nExecuting 17 -0.14\nExecuting 17 -0.15\nExecuting 17 -0.16\nExecuting 17 -0.17\n",
            "Executing 17 -0.18\nExecuting 17 -0.19\nExecuting 17 -0.2\nExecuting 17 -0.21\nExecuting 17 -0.22\nExecuting 17 -0.23\nExecuting 17 -0.24\n",
            "Executing 18 -0.01\nExecuting 18 -0.02\nExecuting 18 -0.03\nExecuting 18 -0.04\nExecuting 18 -0.05\nExecuting 18 -0.06\n",
            "Executing 18 -0.07\nExecuting 18 -0.08\nExecuting 18 -0.09\nExecuting 18 -0.1\nExecuting 18 -0.11\nExecuting 18 -0.12\n",
            "Executing 18 -0.13\nExecuting 18 -0.14\nExecuting 18 -0.15\nExecuting 18 -0.16\nExecuting 18 -0.17\nExecuting 18 -0.18\n",
            "Executing 18 -0.19\nExecuting 18 -0.2\nExecuting 18 -0.21\nExecuting 18 -0.22\nExecuting 18 -0.23\nExecuting 18 -0.24\n",
            "Executing 19 -0.01\nExecuting 19 -0.02\nExecuting 19 -0.03\nExecuting 19 -0.04\nExecuting 19 -0.05\nExecuting 19 -0.06\n",
            "Executing 19 -0.07\nExecuting 19 -0.08\nExecuting 19 -0.09\nExecuting 19 -0.1\nExecuting 19 -0.11\nExecuting 19 -0.12\nExecuting 19 -0.13\n",
            "Executing 19 -0.14\nExecuting 19 -0.15\nExecuting 19 -0.16\nExecuting 19 -0.17\nExecuting 19 -0.18\nExecuting 19 -0.19\nExecuting 19 -0.2\n",
            "Executing 19 -0.21\nExecuting 19 -0.22\nExecuting 19 -0.23\nExecuting 19 -0.24\nExecuting 20 -0.01\nExecuting 20 -0.02\nExecuting 20 -0.03\n",
            "Executing 20 -0.04\nExecuting 20 -0.05\nExecuting 20 -0.06\nExecuting 20 -0.07\nExecuting 20 -0.08\nExecuting 20 -0.09\nExecuting 20 -0.1\n",
            "Executing 20 -0.11\nExecuting 20 -0.12\nExecuting 20 -0.13\nExecuting 20 -0.14\nExecuting 20 -0.15\nExecuting 20 -0.16\n",
            "Executing 20 -0.17\nExecuting 20 -0.18\nExecuting 20 -0.19\nExecuting 20 -0.2\nExecuting 20 -0.21\nExecuting 20 -0.22\n",
            "Executing 20 -0.23\nExecuting 20 -0.24\nExecuting 21 -0.01\nExecuting 21 -0.02\nExecuting 21 -0.03\nExecuting 21 -0.04\nExecuting 21 -0.05\n",
            "Executing 21 -0.06\nExecuting 21 -0.07\nExecuting 21 -0.08\nExecuting 21 -0.09\nExecuting 21 -0.1\nExecuting 21 -0.11\nExecuting 21 -0.12\n",
            "Executing 21 -0.13\nExecuting 21 -0.14\nExecuting 21 -0.15\nExecuting 21 -0.16\nExecuting 21 -0.17\nExecuting 21 -0.18\nExecuting 21 -0.19\n",
            "Executing 21 -0.2\nExecuting 21 -0.21\nExecuting 21 -0.22\nExecuting 21 -0.23\nExecuting 21 -0.24\nExecuting 22 -0.01\nExecuting 22 -0.02\n",
            "Executing 22 -0.03\nExecuting 22 -0.04\nExecuting 22 -0.05\nExecuting 22 -0.06\nExecuting 22 -0.07\nExecuting 22 -0.08\n",
            "Executing 22 -0.09\nExecuting 22 -0.1\nExecuting 22 -0.11\nExecuting 22 -0.12\nExecuting 22 -0.13\nExecuting 22 -0.14\n",
            "Executing 22 -0.15\nExecuting 22 -0.16\nExecuting 22 -0.17\nExecuting 22 -0.18\nExecuting 22 -0.19\nExecuting 22 -0.2\nExecuting 22 -0.21\n",
            "Executing 22 -0.22\nExecuting 22 -0.23\nExecuting 22 -0.24\nExecuting 23 -0.01\nExecuting 23 -0.02\nExecuting 23 -0.03\nExecuting 23 -0.04\n",
            "Executing 23 -0.05\nExecuting 23 -0.06\nExecuting 23 -0.07\nExecuting 23 -0.08\nExecuting 23 -0.09\nExecuting 23 -0.1\nExecuting 23 -0.11\n",
            "Executing 23 -0.12\nExecuting 23 -0.13\nExecuting 23 -0.14\nExecuting 23 -0.15\nExecuting 23 -0.16\nExecuting 23 -0.17\nExecuting 23 -0.18\n",
            "Executing 23 -0.19\nExecuting 23 -0.2\nExecuting 23 -0.21\nExecuting 23 -0.22\nExecuting 23 -0.23\nExecuting 23 -0.24\nExecuting 24 -0.01\n",
            "Executing 24 -0.02\nExecuting 24 -0.03\nExecuting 24 -0.04\nExecuting 24 -0.05\nExecuting 24 -0.06\nExecuting 24 -0.07\nExecuting 24 -0.08\n",
            "Executing 24 -0.09\nExecuting 24 -0.1\nExecuting 24 -0.11\nExecuting 24 -0.12\nExecuting 24 -0.13\nExecuting 24 -0.14\nExecuting 24 -0.15\n",
            "Executing 24 -0.16\nExecuting 24 -0.17\nExecuting 24 -0.18\nExecuting 24 -0.19\nExecuting 24 -0.2\nExecuting 24 -0.21\nExecuting 24 -0.22\n",
            "Executing 24 -0.23\nExecuting 24 -0.24\nExecuting 25 -0.01\nExecuting 25 -0.02\nExecuting 25 -0.03\nExecuting 25 -0.04\nExecuting 25 -0.05\n",
            "Executing 25 -0.06\nExecuting 25 -0.07\nExecuting 25 -0.08\nExecuting 25 -0.09\nExecuting 25 -0.1\nExecuting 25 -0.11\nExecuting 25 -0.12\n",
            "Executing 25 -0.13\nExecuting 25 -0.14\nExecuting 25 -0.15\nExecuting 25 -0.16\nExecuting 25 -0.17\nExecuting 25 -0.18\nExecuting 25 -0.19\n",
            "Executing 25 -0.2\nExecuting 25 -0.21\nExecuting 25 -0.22\nExecuting 25 -0.23\nExecuting 25 -0.24\nExecuting 26 -0.01\nExecuting 26 -0.02\n",
            "Executing 26 -0.03\nExecuting 26 -0.04\nExecuting 26 -0.05\nExecuting 26 -0.06\nExecuting 26 -0.07\nExecuting 26 -0.08\nExecuting 26 -0.09\n",
            "Executing 26 -0.1\nExecuting 26 -0.11\nExecuting 26 -0.12\nExecuting 26 -0.13\nExecuting 26 -0.14\nExecuting 26 -0.15\nExecuting 26 -0.16\n",
            "Executing 26 -0.17\nExecuting 26 -0.18\nExecuting 26 -0.19\nExecuting 26 -0.2\nExecuting 26 -0.21\nExecuting 26 -0.22\nExecuting 26 -0.23\n",
            "Executing 26 -0.24\nExecuting 27 -0.01\nExecuting 27 -0.02\nExecuting 27 -0.03\nExecuting 27 -0.04\nExecuting 27 -0.05\n",
            "Executing 27 -0.06\nExecuting 27 -0.07\nExecuting 27 -0.08\nExecuting 27 -0.09\nExecuting 27 -0.1\nExecuting 27 -0.11\nExecuting 27 -0.12\n",
            "Executing 27 -0.13\nExecuting 27 -0.14\nExecuting 27 -0.15\nExecuting 27 -0.16\nExecuting 27 -0.17\nExecuting 27 -0.18\n",
            "Executing 27 -0.19\nExecuting 27 -0.2\nExecuting 27 -0.21\nExecuting 27 -0.22\nExecuting 27 -0.23\nExecuting 27 -0.24\n",
            "Executing 28 -0.01\nExecuting 28 -0.02\nExecuting 28 -0.03\nExecuting 28 -0.04\nExecuting 28 -0.05\nExecuting 28 -0.06\n",
            "Executing 28 -0.07\nExecuting 28 -0.08\nExecuting 28 -0.09\nExecuting 28 -0.1\nExecuting 28 -0.11\nExecuting 28 -0.12\n",
            "Executing 28 -0.13\nExecuting 28 -0.14\nExecuting 28 -0.15\nExecuting 28 -0.16\nExecuting 28 -0.17\nExecuting 28 -0.18\nExecuting 28 -0.19\n",
            "Executing 28 -0.2\nExecuting 28 -0.21\nExecuting 28 -0.22\nExecuting 28 -0.23\nExecuting 28 -0.24\nExecuting 29 -0.01\n",
            "Executing 29 -0.02\nExecuting 29 -0.03\nExecuting 29 -0.04\nExecuting 29 -0.05\nExecuting 29 -0.06\nExecuting 29 -0.07\n",
            "Executing 29 -0.08\nExecuting 29 -0.09\nExecuting 29 -0.1\nExecuting 29 -0.11\nExecuting 29 -0.12\nExecuting 29 -0.13\n",
            "Executing 29 -0.14\nExecuting 29 -0.15\nExecuting 29 -0.16\nExecuting 29 -0.17\nExecuting 29 -0.18\nExecuting 29 -0.19\n",
            "Executing 29 -0.2\nExecuting 29 -0.21\nExecuting 29 -0.22\nExecuting 29 -0.23\nExecuting 29 -0.24\nExecuting 30 -0.01\n",
            "Executing 30 -0.02\nExecuting 30 -0.03\nExecuting 30 -0.04\nExecuting 30 -0.05\nExecuting 30 -0.06\n",
            "Executing 30 -0.07\nExecuting 30 -0.08\nExecuting 30 -0.09\nExecuting 30 -0.1\nExecuting 30 -0.11\nExecuting 30 -0.12\n",
            "Executing 30 -0.13\nExecuting 30 -0.14\nExecuting 30 -0.15\nExecuting 30 -0.16\nExecuting 30 -0.17\nExecuting 30 -0.18\n",
            "Executing 30 -0.19\nExecuting 30 -0.2\nExecuting 30 -0.21\nExecuting 30 -0.22\nExecuting 30 -0.23\nExecuting 30 -0.24\n",
            "Executing 31 -0.01\nExecuting 31 -0.02\nExecuting 31 -0.03\nExecuting 31 -0.04\nExecuting 31 -0.05\n",
            "Executing 31 -0.06\nExecuting 31 -0.07\nExecuting 31 -0.08\nExecuting 31 -0.09\nExecuting 31 -0.1\nExecuting 31 -0.11\n",
            "Executing 31 -0.12\nExecuting 31 -0.13\nExecuting 31 -0.14\nExecuting 31 -0.15\nExecuting 31 -0.16\nExecuting 31 -0.17\n",
            "Executing 31 -0.18\nExecuting 31 -0.19\nExecuting 31 -0.2\nExecuting 31 -0.21\nExecuting 31 -0.22\nExecuting 31 -0.23\nExecuting 31 -0.24\n",
            "Executing 32 -0.01\nExecuting 32 -0.02\nExecuting 32 -0.03\nExecuting 32 -0.04\nExecuting 32 -0.05\nExecuting 32 -0.06\nExecuting 32 -0.07\n",
            "Executing 32 -0.08\nExecuting 32 -0.09\nExecuting 32 -0.1\nExecuting 32 -0.11\nExecuting 32 -0.12\nExecuting 32 -0.13\nExecuting 32 -0.14\n",
            "Executing 32 -0.15\nExecuting 32 -0.16\nExecuting 32 -0.17\nExecuting 32 -0.18\nExecuting 32 -0.19\nExecuting 32 -0.2\nExecuting 32 -0.21\n",
            "Executing 32 -0.22\nExecuting 32 -0.23\nExecuting 32 -0.24\nExecuting 33 -0.01\nExecuting 33 -0.02\nExecuting 33 -0.03\n",
            "Executing 33 -0.04\nExecuting 33 -0.05\nExecuting 33 -0.06\nExecuting 33 -0.07\nExecuting 33 -0.08\nExecuting 33 -0.09\nExecuting 33 -0.1\n",
            "Executing 33 -0.11\nExecuting 33 -0.12\nExecuting 33 -0.13\nExecuting 33 -0.14\nExecuting 33 -0.15\nExecuting 33 -0.16\nExecuting 33 -0.17\n",
            "Executing 33 -0.18\nExecuting 33 -0.19\nExecuting 33 -0.2\nExecuting 33 -0.21\nExecuting 33 -0.22\nExecuting 33 -0.23\nExecuting 33 -0.24\n",
            "Executing 34 -0.01\nExecuting 34 -0.02\nExecuting 34 -0.03\nExecuting 34 -0.04\nExecuting 34 -0.05\nExecuting 34 -0.06\nExecuting 34 -0.07\n",
            "Executing 34 -0.08\nExecuting 34 -0.09\nExecuting 34 -0.1\nExecuting 34 -0.11\nExecuting 34 -0.12\nExecuting 34 -0.13\n",
            "Executing 34 -0.14\nExecuting 34 -0.15\nExecuting 34 -0.16\nExecuting 34 -0.17\nExecuting 34 -0.18\nExecuting 34 -0.19\nExecuting 34 -0.2\n",
            "Executing 34 -0.21\nExecuting 34 -0.22\nExecuting 34 -0.23\nExecuting 34 -0.24\nExecuting 35 -0.01\nExecuting 35 -0.02\n",
            "Executing 35 -0.03\nExecuting 35 -0.04\nExecuting 35 -0.05\nExecuting 35 -0.06\nExecuting 35 -0.07\nExecuting 35 -0.08\n",
            "Executing 35 -0.09\nExecuting 35 -0.1\nExecuting 35 -0.11\nExecuting 35 -0.12\nExecuting 35 -0.13\nExecuting 35 -0.14\n",
            "Executing 35 -0.15\nExecuting 35 -0.16\nExecuting 35 -0.17\nExecuting 35 -0.18\nExecuting 35 -0.19\nExecuting 35 -0.2\n",
            "Executing 35 -0.21\nExecuting 35 -0.22\nExecuting 35 -0.23\nExecuting 35 -0.24\nExecuting 36 -0.01\nExecuting 36 -0.02\n",
            "Executing 36 -0.03\nExecuting 36 -0.04\nExecuting 36 -0.05\nExecuting 36 -0.06\nExecuting 36 -0.07\nExecuting 36 -0.08\nExecuting 36 -0.09\n",
            "Executing 36 -0.1\nExecuting 36 -0.11\nExecuting 36 -0.12\nExecuting 36 -0.13\nExecuting 36 -0.14\n",
            "Executing 36 -0.15\nExecuting 36 -0.16\nExecuting 36 -0.17\nExecuting 36 -0.18\nExecuting 36 -0.19\nExecuting 36 -0.2\nExecuting 36 -0.21\n",
            "Executing 36 -0.22\nExecuting 36 -0.23\nExecuting 36 -0.24\nExecuting 37 -0.01\nExecuting 37 -0.02\nExecuting 37 -0.03\nExecuting 37 -0.04\n",
            "Executing 37 -0.05\nExecuting 37 -0.06\nExecuting 37 -0.07\nExecuting 37 -0.08\nExecuting 37 -0.09\nExecuting 37 -0.1\n",
            "Executing 37 -0.11\nExecuting 37 -0.12\nExecuting 37 -0.13\nExecuting 37 -0.14\nExecuting 37 -0.15\nExecuting 37 -0.16\n",
            "Executing 37 -0.17\nExecuting 37 -0.18\nExecuting 37 -0.19\nExecuting 37 -0.2\nExecuting 37 -0.21\nExecuting 37 -0.22\nExecuting 37 -0.23\n",
            "Executing 37 -0.24\nExecuting 38 -0.01\nExecuting 38 -0.02\nExecuting 38 -0.03\nExecuting 38 -0.04\nExecuting 38 -0.05\n",
            "Executing 38 -0.06\nExecuting 38 -0.07\nExecuting 38 -0.08\nExecuting 38 -0.09\nExecuting 38 -0.1\nExecuting 38 -0.11\n",
            "Executing 38 -0.12\nExecuting 38 -0.13\nExecuting 38 -0.14\nExecuting 38 -0.15\nExecuting 38 -0.16\nExecuting 38 -0.17\n",
            "Executing 38 -0.18\nExecuting 38 -0.19\nExecuting 38 -0.2\nExecuting 38 -0.21\nExecuting 38 -0.22\nExecuting 38 -0.23\n",
            "Executing 38 -0.24\nExecuting 39 -0.01\nExecuting 39 -0.02\nExecuting 39 -0.03\nExecuting 39 -0.04\nExecuting 39 -0.05\n",
            "Executing 39 -0.06\nExecuting 39 -0.07\nExecuting 39 -0.08\nExecuting 39 -0.09\nExecuting 39 -0.1\nExecuting 39 -0.11\n",
            "Executing 39 -0.12\nExecuting 39 -0.13\nExecuting 39 -0.14\nExecuting 39 -0.15\nExecuting 39 -0.16\nExecuting 39 -0.17\n",
            "Executing 39 -0.18\nExecuting 39 -0.19\nExecuting 39 -0.2\nExecuting 39 -0.21\nExecuting 39 -0.22\nExecuting 39 -0.23\n",
            "Executing 39 -0.24\nExecuting 40 -0.01\nExecuting 40 -0.02\nExecuting 40 -0.03\nExecuting 40 -0.04\nExecuting 40 -0.05\n",
            "Executing 40 -0.06\nExecuting 40 -0.07\nExecuting 40 -0.08\nExecuting 40 -0.09\nExecuting 40 -0.1\n",
            "Executing 40 -0.11\nExecuting 40 -0.12\nExecuting 40 -0.13\nExecuting 40 -0.14\nExecuting 40 -0.15\n",
            "Executing 40 -0.16\nExecuting 40 -0.17\nExecuting 40 -0.18\nExecuting 40 -0.19\nExecuting 40 -0.2\nExecuting 40 -0.21\n",
            "Executing 40 -0.22\nExecuting 40 -0.23\nExecuting 40 -0.24\nExecuting 41 -0.01\nExecuting 41 -0.02\nExecuting 41 -0.03\n",
            "Executing 41 -0.04\nExecuting 41 -0.05\nExecuting 41 -0.06\nExecuting 41 -0.07\nExecuting 41 -0.08\nExecuting 41 -0.09\n",
            "Executing 41 -0.1\nExecuting 41 -0.11\nExecuting 41 -0.12\nExecuting 41 -0.13\nExecuting 41 -0.14\nExecuting 41 -0.15\n",
            "Executing 41 -0.16\nExecuting 41 -0.17\nExecuting 41 -0.18\nExecuting 41 -0.19\nExecuting 41 -0.2\nExecuting 41 -0.21\n",
            "Executing 41 -0.22\nExecuting 41 -0.23\nExecuting 41 -0.24\nExecuting 42 -0.01\nExecuting 42 -0.02\nExecuting 42 -0.03\n",
            "Executing 42 -0.04\nExecuting 42 -0.05\nExecuting 42 -0.06\nExecuting 42 -0.07\nExecuting 42 -0.08\nExecuting 42 -0.09\n",
            "Executing 42 -0.1\nExecuting 42 -0.11\nExecuting 42 -0.12\nExecuting 42 -0.13\nExecuting 42 -0.14\nExecuting 42 -0.15\n",
            "Executing 42 -0.16\nExecuting 42 -0.17\nExecuting 42 -0.18\nExecuting 42 -0.19\nExecuting 42 -0.2\nExecuting 42 -0.21\n",
            "Executing 42 -0.22\nExecuting 42 -0.23\nExecuting 42 -0.24\nExecuting 43 -0.01\nExecuting 43 -0.02\nExecuting 43 -0.03\n",
            "Executing 43 -0.04\nExecuting 43 -0.05\nExecuting 43 -0.06\nExecuting 43 -0.07\nExecuting 43 -0.08\nExecuting 43 -0.09\n",
            "Executing 43 -0.1\nExecuting 43 -0.11\nExecuting 43 -0.12\nExecuting 43 -0.13\nExecuting 43 -0.14\nExecuting 43 -0.15\n",
            "Executing 43 -0.16\nExecuting 43 -0.17\nExecuting 43 -0.18\nExecuting 43 -0.19\nExecuting 43 -0.2\nExecuting 43 -0.21\n",
            "Executing 43 -0.22\nExecuting 43 -0.23\nExecuting 43 -0.24\nExecuting 44 -0.01\nExecuting 44 -0.02\nExecuting 44 -0.03\n",
            "Executing 44 -0.04\nExecuting 44 -0.05\nExecuting 44 -0.06\nExecuting 44 -0.07\nExecuting 44 -0.08\nExecuting 44 -0.09\n",
            "Executing 44 -0.1\nExecuting 44 -0.11\nExecuting 44 -0.12\nExecuting 44 -0.13\nExecuting 44 -0.14\nExecuting 44 -0.15\n",
            "Executing 44 -0.16\nExecuting 44 -0.17\nExecuting 44 -0.18\nExecuting 44 -0.19\nExecuting 44 -0.2\nExecuting 44 -0.21\n",
            "Executing 44 -0.22\nExecuting 44 -0.23\nExecuting 44 -0.24\nExecuting 45 -0.01\nExecuting 45 -0.02\nExecuting 45 -0.03\n",
            "Executing 45 -0.04\nExecuting 45 -0.05\nExecuting 45 -0.06\nExecuting 45 -0.07\nExecuting 45 -0.08\nExecuting 45 -0.09\n",
            "Executing 45 -0.1\nExecuting 45 -0.11\nExecuting 45 -0.12\nExecuting 45 -0.13\nExecuting 45 -0.14\nExecuting 45 -0.15\n",
            "Executing 45 -0.16\nExecuting 45 -0.17\nExecuting 45 -0.18\nExecuting 45 -0.19\nExecuting 45 -0.2\nExecuting 45 -0.21\n",
            "Executing 45 -0.22\nExecuting 45 -0.23\nExecuting 45 -0.24\nExecuting 46 -0.01\nExecuting 46 -0.02\nExecuting 46 -0.03\n",
            "Executing 46 -0.04\nExecuting 46 -0.05\nExecuting 46 -0.06\nExecuting 46 -0.07\nExecuting 46 -0.08\nExecuting 46 -0.09\nExecuting 46 -0.1\n",
            "Executing 46 -0.11\nExecuting 46 -0.12\nExecuting 46 -0.13\nExecuting 46 -0.14\nExecuting 46 -0.15\nExecuting 46 -0.16\nExecuting 46 -0.17\n",
            "Executing 46 -0.18\nExecuting 46 -0.19\nExecuting 46 -0.2\nExecuting 46 -0.21\nExecuting 46 -0.22\nExecuting 46 -0.23\nExecuting 46 -0.24\n",
            "Executing 47 -0.01\nExecuting 47 -0.02\nExecuting 47 -0.03\nExecuting 47 -0.04\nExecuting 47 -0.05\nExecuting 47 -0.06\nExecuting 47 -0.07\n",
            "Executing 47 -0.08\nExecuting 47 -0.09\nExecuting 47 -0.1\nExecuting 47 -0.11\nExecuting 47 -0.12\nExecuting 47 -0.13\nExecuting 47 -0.14\n",
            "Executing 47 -0.15\nExecuting 47 -0.16\nExecuting 47 -0.17\nExecuting 47 -0.18\nExecuting 47 -0.19\nExecuting 47 -0.2\nExecuting 47 -0.21\n",
            "Executing 47 -0.22\nExecuting 47 -0.23\nExecuting 47 -0.24\nExecuting 48 -0.01\nExecuting 48 -0.02\nExecuting 48 -0.03\nExecuting 48 -0.04\n",
            "Executing 48 -0.05\nExecuting 48 -0.06\nExecuting 48 -0.07\nExecuting 48 -0.08\nExecuting 48 -0.09\nExecuting 48 -0.1\n",
            "Executing 48 -0.11\nExecuting 48 -0.12\nExecuting 48 -0.13\nExecuting 48 -0.14\nExecuting 48 -0.15\nExecuting 48 -0.16\nExecuting 48 -0.17\n",
            "Executing 48 -0.18\nExecuting 48 -0.19\nExecuting 48 -0.2\nExecuting 48 -0.21\nExecuting 48 -0.22\nExecuting 48 -0.23\nExecuting 48 -0.24\n",
            "Executing 49 -0.01\nExecuting 49 -0.02\nExecuting 49 -0.03\nExecuting 49 -0.04\nExecuting 49 -0.05\nExecuting 49 -0.06\nExecuting 49 -0.07\n",
            "Executing 49 -0.08\nExecuting 49 -0.09\nExecuting 49 -0.1\nExecuting 49 -0.11\nExecuting 49 -0.12\nExecuting 49 -0.13\nExecuting 49 -0.14\n",
            "Executing 49 -0.15\nExecuting 49 -0.16\nExecuting 49 -0.17\nExecuting 49 -0.18\nExecuting 49 -0.19\nExecuting 49 -0.2\n",
            "Executing 49 -0.21\nExecuting 49 -0.22\nExecuting 49 -0.23\nExecuting 49 -0.24\nCPU times: user 39.9 s, sys: 1.26 s, total: 41.1 s\nWall time: 41.7 s\n"
          ],
          "output_type": "stream"
        }
      ],
      "source": "        \n# %time ipython magic code \n%time do_single_task()\n",
      "metadata": {
        "pycharm": {
          "metadata": false,
          "name": "#%%\n",
          "is_executing": false
        }
      }
    },
    {
      "cell_type": "code",
      "execution_count": 4,
      "outputs": [
        {
          "name": "stderr",
          "text": [
            "\u003cipython-input-3-34f6b28c2bcd\u003e:10: NumbaWarning: \u001b[1m\nCompilation is falling back to object mode WITH looplifting enabled because Function \"do_single_task\" failed type inference due to: \u001b[1mUntyped global name \u0027keep_stock_list\u0027:\u001b[0m \u001b[1m\u001b[1mcannot determine Numba type of \u003cclass \u0027range\u0027\u003e\u001b[0m\n\u001b[1m\nFile \"\u003cipython-input-3-34f6b28c2bcd\u003e\", line 12:\u001b[0m\n\u001b[1mdef do_single_task():\n    \u003csource elided\u003e\n    task_list \u003d list(itertools.product(\n\u001b[1m        keep_stock_list, buy_change_list\n\u001b[0m        \u001b[1m^\u001b[0m\u001b[0m\n\u001b[0m\u001b[0m\n  def do_single_task():\n\u003cipython-input-3-34f6b28c2bcd\u003e:10: NumbaWarning: \u001b[1m\nCompilation is falling back to object mode WITHOUT looplifting enabled because Function \"do_single_task\" failed type inference due to: \u001b[1mUntyped global name \u0027keep_stock_list\u0027:\u001b[0m \u001b[1m\u001b[1mcannot determine Numba type of \u003cclass \u0027range\u0027\u003e\u001b[0m\n\u001b[1m\nFile \"\u003cipython-input-3-34f6b28c2bcd\u003e\", line 12:\u001b[0m\n\u001b[1mdef do_single_task():\n    \u003csource elided\u003e\n    task_list \u003d list(itertools.product(\n\u001b[1m        keep_stock_list, buy_change_list\n\u001b[0m        \u001b[1m^\u001b[0m\u001b[0m\n\u001b[0m\u001b[0m\n  def do_single_task():\n/Library/Frameworks/Python.framework/Versions/3.7/lib/python3.7/site-packages/numba/compiler.py:725: NumbaWarning: \u001b[1mFunction \"do_single_task\" was compiled in object mode without forceobj\u003dTrue, but has lifted loops.\n\u001b[1m\nFile \"\u003cipython-input-3-34f6b28c2bcd\u003e\", line 10:\u001b[0m\n\u001b[1m\n\u001b[1mdef do_single_task():\n\u001b[0m\u001b[1m^\u001b[0m\u001b[0m\n\u001b[0m\n  self.func_ir.loc))\n/Library/Frameworks/Python.framework/Versions/3.7/lib/python3.7/site-packages/numba/compiler.py:734: NumbaDeprecationWarning: \u001b[1m\nFall-back from the nopython compilation path to the object mode compilation path has been detected, this is deprecated behaviour.\n\nFor more information visit http://numba.pydata.org/numba-doc/latest/reference/deprecation.html#deprecation-of-object-mode-fall-back-behaviour-when-using-jit\n\u001b[1m\nFile \"\u003cipython-input-3-34f6b28c2bcd\u003e\", line 10:\u001b[0m\n\u001b[1m\n\u001b[1mdef do_single_task():\n\u001b[0m\u001b[1m^\u001b[0m\u001b[0m\n\u001b[0m\n  warnings.warn(errors.NumbaDeprecationWarning(msg, self.func_ir.loc))\n\u003cipython-input-3-34f6b28c2bcd\u003e:10: NumbaWarning: \u001b[1m\nCompilation is falling back to object mode WITHOUT looplifting enabled because Function \"do_single_task\" failed type inference due to: \u001b[1mUntyped global name \u0027execute\u0027:\u001b[0m \u001b[1m\u001b[1mcannot determine Numba type of \u003cclass \u0027function\u0027\u003e\u001b[0m\n\u001b[1m\nFile \"\u003cipython-input-3-34f6b28c2bcd\u003e\", line 18:\u001b[0m\n\u001b[1mdef do_single_task():\n    \u003csource elided\u003e\n        # print(\"Executing {} {}\".format(keep_stock_threshold, buy_change_threshold))\n\u001b[1m        execute(trade_strategy2, \n\u001b[0m        \u001b[1m^\u001b[0m\u001b[0m\n\u001b[0m\u001b[0m\n  def do_single_task():\n/Library/Frameworks/Python.framework/Versions/3.7/lib/python3.7/site-packages/numba/compiler.py:725: NumbaWarning: \u001b[1mFunction \"do_single_task\" was compiled in object mode without forceobj\u003dTrue.\n\u001b[1m\nFile \"\u003cipython-input-3-34f6b28c2bcd\u003e\", line 16:\u001b[0m\n\u001b[1mdef do_single_task():\n    \u003csource elided\u003e\n\n\u001b[1m    for keep_stock_threshold, buy_change_threshold in task_list:\n\u001b[0m    \u001b[1m^\u001b[0m\u001b[0m\n\u001b[0m\n  self.func_ir.loc))\n/Library/Frameworks/Python.framework/Versions/3.7/lib/python3.7/site-packages/numba/compiler.py:734: NumbaDeprecationWarning: \u001b[1m\nFall-back from the nopython compilation path to the object mode compilation path has been detected, this is deprecated behaviour.\n\nFor more information visit http://numba.pydata.org/numba-doc/latest/reference/deprecation.html#deprecation-of-object-mode-fall-back-behaviour-when-using-jit\n\u001b[1m\nFile \"\u003cipython-input-3-34f6b28c2bcd\u003e\", line 16:\u001b[0m\n\u001b[1mdef do_single_task():\n    \u003csource elided\u003e\n\n\u001b[1m    for keep_stock_threshold, buy_change_threshold in task_list:\n\u001b[0m    \u001b[1m^\u001b[0m\u001b[0m\n\u001b[0m\n  warnings.warn(errors.NumbaDeprecationWarning(msg, self.func_ir.loc))\n\u003cipython-input-3-34f6b28c2bcd\u003e:10: NumbaWarning: \u001b[1m\nCompilation is falling back to object mode WITHOUT looplifting enabled because Function \"do_single_task\" failed type inference due to: \u001b[1mUntyped global name \u0027execute\u0027:\u001b[0m \u001b[1m\u001b[1mcannot determine Numba type of \u003cclass \u0027function\u0027\u003e\u001b[0m\n\u001b[1m\nFile \"\u003cipython-input-3-34f6b28c2bcd\u003e\", line 18:\u001b[0m\n\u001b[1mdef do_single_task():\n    \u003csource elided\u003e\n        # print(\"Executing {} {}\".format(keep_stock_threshold, buy_change_threshold))\n\u001b[1m        execute(trade_strategy2, \n\u001b[0m        \u001b[1m^\u001b[0m\u001b[0m\n\u001b[0m\u001b[0m\n  def do_single_task():\n"
          ],
          "output_type": "stream"
        },
        {
          "name": "stdout",
          "text": [
            "CPU times: user 37.6 s, sys: 845 ms, total: 38.4 s\nWall time: 38.9 s\n"
          ],
          "output_type": "stream"
        }
      ],
      "source": "\nimport numba as nb\ndo_single_task_nb \u003d nb.jit(do_single_task)\n%time do_single_task_nb()\n",
      "metadata": {
        "pycharm": {
          "metadata": false,
          "name": "#%%\n",
          "is_executing": false
        }
      }
    },
    {
      "cell_type": "code",
      "execution_count": 9,
      "outputs": [
        {
          "name": "stdout",
          "text": [
            "1\n2\n3\n4\n5\n6\n7\n8\n9\n10\n11\n12\n13\n14\n15\n16\n17\n18\n19\n20\n21\n22\n23\n24\n25\n26\n27\n28\n29\n30\n31\n32\n33\n34\n35\n36\n37\n38\n39\n40\n41\n42\n43\n44\n45\n46\n47\n48\n49\n-0.01\n-0.02\n-0.03\n-0.04\n-0.05\n-0.06\n-0.07\n-0.08\n-0.09\n-0.1\n-0.11\n-0.12\n-0.13\n-0.14\n-0.15\n-0.16\n-0.17\n-0.18\n-0.19\n-0.2\n-0.21\n-0.22\n-0.23\n-0.24\n"
          ],
          "output_type": "stream"
        }
      ],
      "source": "for s in list(keep_stock_list) + list(buy_change_list):\n    print(s)",
      "metadata": {
        "pycharm": {
          "metadata": false,
          "name": "#%% This creates a new list\n",
          "is_executing": false
        }
      }
    },
    {
      "cell_type": "code",
      "execution_count": 11,
      "outputs": [
        {
          "name": "stdout",
          "text": [
            "1\n2\n3\n4\n5\n6\n7\n8\n9\n10\n11\n12\n13\n14\n15\n16\n17\n18\n19\n20\n21\n22\n23\n24\n25\n26\n27\n28\n29\n30\n31\n32\n33\n34\n35\n36\n37\n38\n39\n40\n41\n42\n43\n44\n45\n46\n47\n48\n49\n-0.01\n-0.02\n-0.03\n-0.04\n-0.05\n-0.06\n-0.07\n-0.08\n-0.09\n-0.1\n-0.11\n-0.12\n-0.13\n-0.14\n-0.15\n-0.16\n-0.17\n-0.18\n-0.19\n-0.2\n-0.21\n-0.22\n-0.23\n-0.24\n"
          ],
          "output_type": "stream"
        }
      ],
      "source": "for s in itertools.chain(keep_stock_list, buy_change_list):\n    print(s)",
      "metadata": {
        "pycharm": {
          "metadata": false,
          "name": "#%% This does not create a new list, it saves RAM\n",
          "is_executing": false
        }
      }
    },
    {
      "cell_type": "code",
      "execution_count": null,
      "outputs": [],
      "source": "\n",
      "metadata": {
        "pycharm": {
          "metadata": false,
          "name": "#%%\n"
        }
      }
    }
  ],
  "metadata": {
    "language_info": {
      "codemirror_mode": {
        "name": "ipython",
        "version": 2
      },
      "file_extension": ".py",
      "mimetype": "text/x-python",
      "name": "python",
      "nbconvert_exporter": "python",
      "pygments_lexer": "ipython2",
      "version": "2.7.6"
    },
    "kernelspec": {
      "name": "python3",
      "language": "python",
      "display_name": "Python 3"
    }
  },
  "nbformat": 4,
  "nbformat_minor": 0
}