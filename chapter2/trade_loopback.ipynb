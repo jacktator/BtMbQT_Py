{
  "cells": [
    {
      "cell_type": "code",
      "execution_count": 1,
      "metadata": {
        "collapsed": true,
        "pycharm": {
          "is_executing": false
        }
      },
      "outputs": [
        {
          "name": "stdout",
          "text": [
            "importing Jupyter notebook from tradedays.ipynb\nimporting Jupyter notebook from strategy_base.ipynb\n"
          ],
          "output_type": "stream"
        }
      ],
      "source": "import import_ipynb\nfrom tradedays import StockTradeDays\nfrom strategy_base import TradeStrategyBase\n\nclass TradeLoopBack(object):\n    \"\"\"\n    Trade Back-Testing System\n    \"\"\"\n    def __init__(self,\n                 trade_days: StockTradeDays, \n                 trade_strategy: TradeStrategyBase):\n        \"\"\"\n        Initialize trading system using StockTradeDays and TradeStrategyBase\n        :type trade_days: StockTradeDays\n        :type trade_strategy: TradeStrategyBase\n        :param trade_days: StockTradeDays \n        :param trade_strategy: TradeStrategyBase\n        \"\"\"\n        self.trade_days \u003d trade_days\n        self.trade_strategy \u003d trade_strategy\n        # Profit Array from Trading\n        self.profit_array \u003d []\n        \n    def execute_trade(self):\n        \"\"\"\n        Executing the back-test\n        :return: \n        \"\"\" \n        for index, day in enumerate(self.trade_days):\n            \"\"\"\n            Iterate through dates, execute the back-test\n            \"\"\"\n            if self.trade_strategy.held_period_days \u003e 0:\n                # If holding, add trading profit\n                self.profit_array.append(day.change)\n                \n            # hasattr: To check if a attribute exists\n            if hasattr(self.trade_strategy, \u0027buy_strategy\u0027):\n                # Execute Buy\n                self.trade_strategy.buy_strategy(index, day, self.trade_days)\n                \n            if hasattr(self.trade_strategy, \u0027sell_strategy\u0027):\n                # Execute Sell\n                self.trade_strategy.sell_strategy(index, day, self.trade_days)\n            "
    },
    {
      "cell_type": "code",
      "execution_count": null,
      "outputs": [],
      "source": "\n",
      "metadata": {
        "pycharm": {
          "metadata": false,
          "name": "#%%\n"
        }
      }
    }
  ],
  "metadata": {
    "language_info": {
      "codemirror_mode": {
        "name": "ipython",
        "version": 2
      },
      "file_extension": ".py",
      "mimetype": "text/x-python",
      "name": "python",
      "nbconvert_exporter": "python",
      "pygments_lexer": "ipython2",
      "version": "2.7.6"
    },
    "kernelspec": {
      "name": "python3",
      "language": "python",
      "display_name": "Python 3"
    }
  },
  "nbformat": 4,
  "nbformat_minor": 0
}