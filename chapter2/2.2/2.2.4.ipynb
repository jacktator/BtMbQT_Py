{
 "cells": [
  {
   "cell_type": "code",
   "execution_count": 4,
   "outputs": [
    {
     "data": {
      "text/plain": "{'20190401': 30.14,\n '20190402': 29.58,\n '20190403': 26.36,\n '20190404': 32.56,\n '20190405': 32.82}"
     },
     "metadata": {},
     "output_type": "execute_result",
     "execution_count": 4
    }
   ],
   "source": [
    "price_array = [30.14, 29.58, 26.36, 32.56, 32.82]\n",
    "date_array = [str(20190401 + ind) for ind, _ in enumerate(price_array)]\n",
    "stock_dict: dict = {date:price for date, price in zip(date_array, price_array)}\n",
    "stock_dict"
   ],
   "metadata": {
    "collapsed": false,
    "pycharm": {
     "name": "#%% High Functions\n",
     "is_executing": false
    }
   }
  },
  {
   "cell_type": "code",
   "execution_count": 5,
   "outputs": [
    {
     "data": {
      "text/plain": "[(30.14, 29.58), (29.58, 26.36), (26.36, 32.56), (32.56, 32.82)]"
     },
     "metadata": {},
     "output_type": "execute_result",
     "execution_count": 5
    }
   ],
   "source": [
    "price_float_array = [float(price_str) for price_str in stock_dict.values()]\n",
    "pp_array = [(price1, price2) for price1, price2 in zip(price_float_array[:-1], price_float_array[1:])]\n",
    "pp_array"
   ],
   "metadata": {
    "collapsed": false,
    "pycharm": {
     "name": "#%% Find the % change for every day price\n",
     "is_executing": false
    }
   }
  },
  {
   "cell_type": "code",
   "execution_count": 6,
   "outputs": [
    {
     "data": {
      "text/plain": "[0, -0.019, -0.109, 0.235, 0.008]"
     },
     "metadata": {},
     "output_type": "execute_result",
     "execution_count": 6
    }
   ],
   "source": [
    "from functools import reduce\n",
    "change_array = map(\n",
    "    lambda pp: reduce(\n",
    "        lambda a, b: round((b - a ) / a, 3), pp\n",
    "    ), pp_array\n",
    ")\n",
    "change_array = list(change_array)\n",
    "change_array.insert(0, 0)\n",
    "change_array"
   ],
   "metadata": {
    "collapsed": false,
    "pycharm": {
     "name": "#%%\n",
     "is_executing": false
    }
   }
  },
  {
   "cell_type": "code",
   "execution_count": 7,
   "outputs": [
    {
     "data": {
      "text/plain": "OrderedDict([('20190401', stock(date='20190401', price=30.14, change=0)),\n             ('20190402', stock(date='20190402', price=29.58, change=-0.019)),\n             ('20190403', stock(date='20190403', price=26.36, change=-0.109)),\n             ('20190404', stock(date='20190404', price=32.56, change=0.235)),\n             ('20190405', stock(date='20190405', price=32.82, change=0.008))])"
     },
     "metadata": {},
     "output_type": "execute_result",
     "execution_count": 7
    }
   ],
   "source": [
    "from collections import  namedtuple, OrderedDict\n",
    "stock_namedtuple = namedtuple('stock', ('date', 'price', 'change'))\n",
    "stock_dict = OrderedDict(\n",
    "    (date, stock_namedtuple(date, price, change)) for date, price, change in zip(date_array, price_array, change_array)\n",
    ")\n",
    "stock_dict"
   ],
   "metadata": {
    "collapsed": false,
    "pycharm": {
     "name": "#%%\n",
     "is_executing": false
    }
   }
  },
  {
   "cell_type": "code",
   "execution_count": 8,
   "outputs": [
    {
     "data": {
      "text/plain": "[stock(date='20190404', price=32.56, change=0.235),\n stock(date='20190405', price=32.82, change=0.008)]"
     },
     "metadata": {},
     "output_type": "execute_result",
     "execution_count": 8
    }
   ],
   "source": [
    "up_days = filter(lambda day: day.change > 0, stock_dict.values())\n",
    "up_days = list(up_days)\n",
    "up_days"
   ],
   "metadata": {
    "collapsed": false,
    "pycharm": {
     "name": "#%%\n",
     "is_executing": false
    }
   }
  },
  {
   "cell_type": "code",
   "execution_count": 10,
   "outputs": [
    {
     "name": "stdout",
     "text": [
      "All up days: [stock(date='20190404', price=32.56, change=0.235), stock(date='20190405', price=32.82, change=0.008)]\nAll down days: [stock(date='20190402', price=29.58, change=-0.019), stock(date='20190403', price=26.36, change=-0.109)]\nAll down sum: 0.243\nAll down sum: -0.128\n"
     ],
     "output_type": "stream"
    }
   ],
   "source": [
    "def filter_stock(stock_array_dict, want_up=True, want_calc_sum=False):\n",
    "    \n",
    "    if not isinstance(stock_array_dict, OrderedDict):\n",
    "        raise TypeError('stock_array_dict must be OrderedDict!')\n",
    "    \n",
    "    filter_func = (lambda day: day.change > 0) \\\n",
    "        if want_up else (lambda day: day.change < 0) \n",
    "    \n",
    "    \n",
    "    # print(type(stock_array_dict.values()))\n",
    "    filtered_days = filter(filter_func, stock_array_dict.values())\n",
    "    if not want_calc_sum:\n",
    "        return filtered_days\n",
    "    \n",
    "    change_sum = 0.0\n",
    "    for day in filtered_days:\n",
    "        change_sum += day.change\n",
    "    return change_sum\n",
    "\n",
    "print('All up days: {}'.format(list(filter_stock(stock_dict))))\n",
    "print('All down days: {}'.format(list(filter_stock(stock_dict, want_up=False))))\n",
    "print('All down sum: {}'.format(filter_stock(stock_dict, want_calc_sum=True)))\n",
    "print('All down sum: {}'.format(filter_stock(stock_dict, want_up=False, want_calc_sum=True)))"
   ],
   "metadata": {
    "collapsed": false,
    "pycharm": {
     "name": "#%%\n",
     "is_executing": false
    }
   }
  },
  {
   "cell_type": "code",
   "execution_count": null,
   "outputs": [],
   "source": [
    "\n"
   ],
   "metadata": {
    "collapsed": false,
    "pycharm": {
     "name": "#%%\n"
    }
   }
  },
  {
   "cell_type": "code",
   "execution_count": 11,
   "metadata": {
    "collapsed": true,
    "pycharm": {
     "name": "#%% Partial function\n",
     "is_executing": false
    }
   },
   "outputs": [
    {
     "name": "stdout",
     "text": [
      "All up days: <filter object at 0x110cf43c8>\nAll down days: <filter object at 0x110cb6630>\nAll down sum: 0.243\nAll down sum: -0.128\n"
     ],
     "output_type": "stream"
    }
   ],
   "source": [
    "from functools import partial\n",
    "# Filter up days\n",
    "filter_stock_up_days = partial(filter_stock, want_up=True, want_calc_sum=False)\n",
    "# Filter down days\n",
    "filter_stock_down_days = partial(filter_stock, want_up=False, want_calc_sum=False)\n",
    "# Calculate sum of ups\n",
    "filter_stock_up_sums = partial(filter_stock, want_up=True, want_calc_sum=True)\n",
    "# Calculate sum of downs\n",
    "filter_stock_down_sums = partial(filter_stock, want_up=False, want_calc_sum=True)\n",
    "\n",
    "print('All up days: {}'.format(filter_stock_up_days(stock_dict)))\n",
    "print('All down days: {}'.format(filter_stock_down_days(stock_dict)))\n",
    "print('All down sum: {}'.format(filter_stock_up_sums(stock_dict)))\n",
    "print('All down sum: {}'.format(filter_stock_down_sums(stock_dict)))"
   ]
  },
  {
   "cell_type": "code",
   "execution_count": null,
   "outputs": [],
   "source": [
    "\n"
   ],
   "metadata": {
    "collapsed": false,
    "pycharm": {
     "name": "#%%\n"
    }
   }
  }
 ],
 "metadata": {
  "language_info": {
   "codemirror_mode": {
    "name": "ipython",
    "version": 2
   },
   "file_extension": ".py",
   "mimetype": "text/x-python",
   "name": "python",
   "nbconvert_exporter": "python",
   "pygments_lexer": "ipython2",
   "version": "2.7.6"
  },
  "kernelspec": {
   "name": "python3",
   "language": "python",
   "display_name": "Python 3"
  },
  "pycharm": {
   "stem_cell": {
    "cell_type": "raw",
    "source": [],
    "metadata": {
     "collapsed": false
    }
   }
  }
 },
 "nbformat": 4,
 "nbformat_minor": 0
}