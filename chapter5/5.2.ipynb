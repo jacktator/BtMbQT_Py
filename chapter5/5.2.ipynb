{
  "cells": [
    {
      "cell_type": "code",
      "execution_count": 2,
      "metadata": {
        "collapsed": true,
        "pycharm": {
          "name": "#%% Use Bokeh to Interactive Visual\n",
          "is_executing": false
        }
      },
      "outputs": [],
      "source": "import pandas as pd\nfrom abupy import ABuMarketDrawing\n\namex_df \u003d pd.read_csv(\u0027../chapter4/gen/amex_df.csv\u0027,\n                           parse_dates\u003dTrue,\n                           index_col\u003d0)\n\nABuMarketDrawing.plot_candle_form_klpd(amex_df,\n                                       html_bk\u003dTrue)"
    },
    {
      "cell_type": "code",
      "execution_count": null,
      "outputs": [],
      "source": "\n",
      "metadata": {
        "pycharm": {
          "metadata": false,
          "name": "#%%\n"
        }
      }
    }
  ],
  "metadata": {
    "language_info": {
      "codemirror_mode": {
        "name": "ipython",
        "version": 2
      },
      "file_extension": ".py",
      "mimetype": "text/x-python",
      "name": "python",
      "nbconvert_exporter": "python",
      "pygments_lexer": "ipython2",
      "version": "2.7.6"
    },
    "kernelspec": {
      "name": "python3",
      "language": "python",
      "display_name": "Python 3"
    }
  },
  "nbformat": 4,
  "nbformat_minor": 0
}