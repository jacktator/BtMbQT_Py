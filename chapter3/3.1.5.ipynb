{
  "cells": [
    {
      "cell_type": "code",
      "execution_count": 15,
      "metadata": {
        "collapsed": true,
        "pycharm": {
          "is_executing": false
        }
      },
      "outputs": [],
      "source": "\nimport numpy as np\n\nstock_day_change \u003d np.load(\u0027./gen/stock_day_change.npy\u0027)\n"
    },
    {
      "cell_type": "code",
      "execution_count": 16,
      "outputs": [
        {
          "name": "stdout",
          "text": [
            "[[ True False  True False False]\n [ True False False False False]]\n"
          ],
          "output_type": "stream"
        }
      ],
      "source": "mask \u003d stock_day_change[0:2, 0:5] \u003e 0.5\nprint(mask)\n",
      "metadata": {
        "pycharm": {
          "metadata": false,
          "name": "#%% Masks\n",
          "is_executing": false
        }
      }
    },
    {
      "cell_type": "code",
      "execution_count": 17,
      "outputs": [
        {
          "data": {
            "text/plain": "array([0.52772005, 0.51491667, 1.32417809])"
          },
          "metadata": {},
          "output_type": "execute_result",
          "execution_count": 17
        }
      ],
      "source": "tmp_test \u003d stock_day_change[0:2, 0:5].copy()\ntmp_test[mask]\n",
      "metadata": {
        "pycharm": {
          "metadata": false,
          "name": "#%% Apply Masks\n",
          "is_executing": false
        }
      }
    },
    {
      "cell_type": "code",
      "execution_count": 18,
      "outputs": [
        {
          "data": {
            "text/plain": "array([[ 1.        , -1.23686502,  1.        ,  0.18083315, -0.045416  ],\n       [ 1.        ,  0.05159529, -1.02241279, -0.30628773, -1.52755081]])"
          },
          "metadata": {},
          "output_type": "execute_result",
          "execution_count": 18
        }
      ],
      "source": "\ntmp_test[tmp_test \u003e 0.5] \u003d 1\ntmp_test",
      "metadata": {
        "pycharm": {
          "metadata": false,
          "name": "#%% Replace elements using masks\n",
          "is_executing": false
        }
      }
    },
    {
      "cell_type": "code",
      "execution_count": 20,
      "outputs": [
        {
          "name": "stdout",
          "text": [
            "[[ 1.33187212 -0.12179383 -0.75982958  0.52701703 -0.40945897]\n [-0.741641   -0.11308376  0.10925913 -1.67585091 -0.62818711]]\n"
          ],
          "output_type": "stream"
        },
        {
          "data": {
            "text/plain": "array([ 1.33187212, -1.67585091])"
          },
          "metadata": {},
          "output_type": "execute_result",
          "execution_count": 20
        }
      ],
      "source": "\ntmp_test \u003d stock_day_change[-2:, -5:]\nprint(tmp_test)\ntmp_test[(tmp_test \u003e 1) | (tmp_test \u003c -1)]",
      "metadata": {
        "pycharm": {
          "metadata": false,
          "name": "#%% Multiple Masks\n",
          "is_executing": false
        }
      }
    },
    {
      "cell_type": "code",
      "execution_count": null,
      "outputs": [],
      "source": "\n",
      "metadata": {
        "pycharm": {
          "metadata": false,
          "name": "#%%\n"
        }
      }
    }
  ],
  "metadata": {
    "language_info": {
      "codemirror_mode": {
        "name": "ipython",
        "version": 2
      },
      "file_extension": ".py",
      "mimetype": "text/x-python",
      "name": "python",
      "nbconvert_exporter": "python",
      "pygments_lexer": "ipython2",
      "version": "2.7.6"
    },
    "kernelspec": {
      "name": "python3",
      "language": "python",
      "display_name": "Python 3"
    }
  },
  "nbformat": 4,
  "nbformat_minor": 0
}