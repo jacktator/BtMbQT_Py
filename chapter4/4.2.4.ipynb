{
  "cells": [
    {
      "cell_type": "code",
      "execution_count": 39,
      "metadata": {
        "collapsed": true,
        "pycharm": {
          "is_executing": false,
          "name": "#%% Data Type Conversion \u0026 Sorting\n"
        }
      },
      "outputs": [
        {
          "data": {
            "text/plain": "            close   high    low  p_change   open  pre_close   volume  \\\n2018-12-24  89.50  91.55  89.50    -2.004  90.74      91.33  3190855   \n2018-12-26  93.84  93.89  89.05     4.849  89.85      89.50  5383666   \n2018-12-27  93.84  93.89  89.05     0.000  89.85      93.84  5383666   \n2018-12-28  93.84  93.89  89.05     0.000  89.85      93.84  5383666   \n2018-12-31  93.84  93.89  89.05     0.000  89.85      93.84  5383666   \n\n                date  date_week  key   atr21   atr14  \n2018-12-24  20181224          0  392  4.4431  4.8634  \n2018-12-26  20181226          2  393  4.4792  4.8603  \n2018-12-27  20181227          3  394  4.5120  4.8576  \n2018-12-28  20181228          4  395  4.5418  4.8552  \n2018-12-31  20181231          0  396  4.5689  4.8532  ",
            "text/html": "\u003cdiv\u003e\n\u003cstyle scoped\u003e\n    .dataframe tbody tr th:only-of-type {\n        vertical-align: middle;\n    }\n\n    .dataframe tbody tr th {\n        vertical-align: top;\n    }\n\n    .dataframe thead th {\n        text-align: right;\n    }\n\u003c/style\u003e\n\u003ctable border\u003d\"1\" class\u003d\"dataframe\"\u003e\n  \u003cthead\u003e\n    \u003ctr style\u003d\"text-align: right;\"\u003e\n      \u003cth\u003e\u003c/th\u003e\n      \u003cth\u003eclose\u003c/th\u003e\n      \u003cth\u003ehigh\u003c/th\u003e\n      \u003cth\u003elow\u003c/th\u003e\n      \u003cth\u003ep_change\u003c/th\u003e\n      \u003cth\u003eopen\u003c/th\u003e\n      \u003cth\u003epre_close\u003c/th\u003e\n      \u003cth\u003evolume\u003c/th\u003e\n      \u003cth\u003edate\u003c/th\u003e\n      \u003cth\u003edate_week\u003c/th\u003e\n      \u003cth\u003ekey\u003c/th\u003e\n      \u003cth\u003eatr21\u003c/th\u003e\n      \u003cth\u003eatr14\u003c/th\u003e\n    \u003c/tr\u003e\n  \u003c/thead\u003e\n  \u003ctbody\u003e\n    \u003ctr\u003e\n      \u003cth\u003e2018-12-24\u003c/th\u003e\n      \u003ctd\u003e89.50\u003c/td\u003e\n      \u003ctd\u003e91.55\u003c/td\u003e\n      \u003ctd\u003e89.50\u003c/td\u003e\n      \u003ctd\u003e-2.004\u003c/td\u003e\n      \u003ctd\u003e90.74\u003c/td\u003e\n      \u003ctd\u003e91.33\u003c/td\u003e\n      \u003ctd\u003e3190855\u003c/td\u003e\n      \u003ctd\u003e20181224\u003c/td\u003e\n      \u003ctd\u003e0\u003c/td\u003e\n      \u003ctd\u003e392\u003c/td\u003e\n      \u003ctd\u003e4.4431\u003c/td\u003e\n      \u003ctd\u003e4.8634\u003c/td\u003e\n    \u003c/tr\u003e\n    \u003ctr\u003e\n      \u003cth\u003e2018-12-26\u003c/th\u003e\n      \u003ctd\u003e93.84\u003c/td\u003e\n      \u003ctd\u003e93.89\u003c/td\u003e\n      \u003ctd\u003e89.05\u003c/td\u003e\n      \u003ctd\u003e4.849\u003c/td\u003e\n      \u003ctd\u003e89.85\u003c/td\u003e\n      \u003ctd\u003e89.50\u003c/td\u003e\n      \u003ctd\u003e5383666\u003c/td\u003e\n      \u003ctd\u003e20181226\u003c/td\u003e\n      \u003ctd\u003e2\u003c/td\u003e\n      \u003ctd\u003e393\u003c/td\u003e\n      \u003ctd\u003e4.4792\u003c/td\u003e\n      \u003ctd\u003e4.8603\u003c/td\u003e\n    \u003c/tr\u003e\n    \u003ctr\u003e\n      \u003cth\u003e2018-12-27\u003c/th\u003e\n      \u003ctd\u003e93.84\u003c/td\u003e\n      \u003ctd\u003e93.89\u003c/td\u003e\n      \u003ctd\u003e89.05\u003c/td\u003e\n      \u003ctd\u003e0.000\u003c/td\u003e\n      \u003ctd\u003e89.85\u003c/td\u003e\n      \u003ctd\u003e93.84\u003c/td\u003e\n      \u003ctd\u003e5383666\u003c/td\u003e\n      \u003ctd\u003e20181227\u003c/td\u003e\n      \u003ctd\u003e3\u003c/td\u003e\n      \u003ctd\u003e394\u003c/td\u003e\n      \u003ctd\u003e4.5120\u003c/td\u003e\n      \u003ctd\u003e4.8576\u003c/td\u003e\n    \u003c/tr\u003e\n    \u003ctr\u003e\n      \u003cth\u003e2018-12-28\u003c/th\u003e\n      \u003ctd\u003e93.84\u003c/td\u003e\n      \u003ctd\u003e93.89\u003c/td\u003e\n      \u003ctd\u003e89.05\u003c/td\u003e\n      \u003ctd\u003e0.000\u003c/td\u003e\n      \u003ctd\u003e89.85\u003c/td\u003e\n      \u003ctd\u003e93.84\u003c/td\u003e\n      \u003ctd\u003e5383666\u003c/td\u003e\n      \u003ctd\u003e20181228\u003c/td\u003e\n      \u003ctd\u003e4\u003c/td\u003e\n      \u003ctd\u003e395\u003c/td\u003e\n      \u003ctd\u003e4.5418\u003c/td\u003e\n      \u003ctd\u003e4.8552\u003c/td\u003e\n    \u003c/tr\u003e\n    \u003ctr\u003e\n      \u003cth\u003e2018-12-31\u003c/th\u003e\n      \u003ctd\u003e93.84\u003c/td\u003e\n      \u003ctd\u003e93.89\u003c/td\u003e\n      \u003ctd\u003e89.05\u003c/td\u003e\n      \u003ctd\u003e0.000\u003c/td\u003e\n      \u003ctd\u003e89.85\u003c/td\u003e\n      \u003ctd\u003e93.84\u003c/td\u003e\n      \u003ctd\u003e5383666\u003c/td\u003e\n      \u003ctd\u003e20181231\u003c/td\u003e\n      \u003ctd\u003e0\u003c/td\u003e\n      \u003ctd\u003e396\u003c/td\u003e\n      \u003ctd\u003e4.5689\u003c/td\u003e\n      \u003ctd\u003e4.8532\u003c/td\u003e\n    \u003c/tr\u003e\n  \u003c/tbody\u003e\n\u003c/table\u003e\n\u003c/div\u003e"
          },
          "metadata": {},
          "output_type": "execute_result",
          "execution_count": 39
        }
      ],
      "source": "\nimport pandas as pd\nimport numpy as np\n\namex_df \u003d pd.read_csv(\u0027./gen/amex_df.csv\u0027,\n                           parse_dates\u003dTrue,\n                           index_col\u003d0)\n\namex_df.tail()\n"
    },
    {
      "cell_type": "code",
      "execution_count": 40,
      "outputs": [
        {
          "name": "stderr",
          "text": [
            "/Library/Frameworks/Python.framework/Versions/3.7/lib/python3.7/site-packages/ipykernel_launcher.py:2: FutureWarning: by argument to sort_index is deprecated, please use .sort_values(by\u003d...)\n  \n"
          ],
          "output_type": "stream"
        },
        {
          "data": {
            "text/plain": "             close     high     low  p_change    open  pre_close    volume  \\\n2018-02-08   88.34   93.970   88.28    -5.630   93.75      93.61   5814910   \n2018-02-05   92.01   96.725   88.61    -4.830   95.83      96.68   6421934   \n2018-12-21   91.33   96.630   91.15    -4.636   95.20      95.77  11005372   \n2018-12-17  101.18  105.460  100.78    -4.276  105.46     105.70   7345570   \n2018-12-04  107.64  112.160  107.54    -4.124  111.86     112.27   5159589   \n\n                date  date_week  key   atr21   atr14  \n2018-02-08  20180208          3  172  3.3243  3.9114  \n2018-02-05  20180205          0  169  2.5813  3.0391  \n2018-12-21  20181221          4  391  4.2604  4.6470  \n2018-12-17  20181217          0  387  3.5855  3.7770  \n2018-12-04  20181204          1  379  2.9591  3.0904  ",
            "text/html": "\u003cdiv\u003e\n\u003cstyle scoped\u003e\n    .dataframe tbody tr th:only-of-type {\n        vertical-align: middle;\n    }\n\n    .dataframe tbody tr th {\n        vertical-align: top;\n    }\n\n    .dataframe thead th {\n        text-align: right;\n    }\n\u003c/style\u003e\n\u003ctable border\u003d\"1\" class\u003d\"dataframe\"\u003e\n  \u003cthead\u003e\n    \u003ctr style\u003d\"text-align: right;\"\u003e\n      \u003cth\u003e\u003c/th\u003e\n      \u003cth\u003eclose\u003c/th\u003e\n      \u003cth\u003ehigh\u003c/th\u003e\n      \u003cth\u003elow\u003c/th\u003e\n      \u003cth\u003ep_change\u003c/th\u003e\n      \u003cth\u003eopen\u003c/th\u003e\n      \u003cth\u003epre_close\u003c/th\u003e\n      \u003cth\u003evolume\u003c/th\u003e\n      \u003cth\u003edate\u003c/th\u003e\n      \u003cth\u003edate_week\u003c/th\u003e\n      \u003cth\u003ekey\u003c/th\u003e\n      \u003cth\u003eatr21\u003c/th\u003e\n      \u003cth\u003eatr14\u003c/th\u003e\n    \u003c/tr\u003e\n  \u003c/thead\u003e\n  \u003ctbody\u003e\n    \u003ctr\u003e\n      \u003cth\u003e2018-02-08\u003c/th\u003e\n      \u003ctd\u003e88.34\u003c/td\u003e\n      \u003ctd\u003e93.970\u003c/td\u003e\n      \u003ctd\u003e88.28\u003c/td\u003e\n      \u003ctd\u003e-5.630\u003c/td\u003e\n      \u003ctd\u003e93.75\u003c/td\u003e\n      \u003ctd\u003e93.61\u003c/td\u003e\n      \u003ctd\u003e5814910\u003c/td\u003e\n      \u003ctd\u003e20180208\u003c/td\u003e\n      \u003ctd\u003e3\u003c/td\u003e\n      \u003ctd\u003e172\u003c/td\u003e\n      \u003ctd\u003e3.3243\u003c/td\u003e\n      \u003ctd\u003e3.9114\u003c/td\u003e\n    \u003c/tr\u003e\n    \u003ctr\u003e\n      \u003cth\u003e2018-02-05\u003c/th\u003e\n      \u003ctd\u003e92.01\u003c/td\u003e\n      \u003ctd\u003e96.725\u003c/td\u003e\n      \u003ctd\u003e88.61\u003c/td\u003e\n      \u003ctd\u003e-4.830\u003c/td\u003e\n      \u003ctd\u003e95.83\u003c/td\u003e\n      \u003ctd\u003e96.68\u003c/td\u003e\n      \u003ctd\u003e6421934\u003c/td\u003e\n      \u003ctd\u003e20180205\u003c/td\u003e\n      \u003ctd\u003e0\u003c/td\u003e\n      \u003ctd\u003e169\u003c/td\u003e\n      \u003ctd\u003e2.5813\u003c/td\u003e\n      \u003ctd\u003e3.0391\u003c/td\u003e\n    \u003c/tr\u003e\n    \u003ctr\u003e\n      \u003cth\u003e2018-12-21\u003c/th\u003e\n      \u003ctd\u003e91.33\u003c/td\u003e\n      \u003ctd\u003e96.630\u003c/td\u003e\n      \u003ctd\u003e91.15\u003c/td\u003e\n      \u003ctd\u003e-4.636\u003c/td\u003e\n      \u003ctd\u003e95.20\u003c/td\u003e\n      \u003ctd\u003e95.77\u003c/td\u003e\n      \u003ctd\u003e11005372\u003c/td\u003e\n      \u003ctd\u003e20181221\u003c/td\u003e\n      \u003ctd\u003e4\u003c/td\u003e\n      \u003ctd\u003e391\u003c/td\u003e\n      \u003ctd\u003e4.2604\u003c/td\u003e\n      \u003ctd\u003e4.6470\u003c/td\u003e\n    \u003c/tr\u003e\n    \u003ctr\u003e\n      \u003cth\u003e2018-12-17\u003c/th\u003e\n      \u003ctd\u003e101.18\u003c/td\u003e\n      \u003ctd\u003e105.460\u003c/td\u003e\n      \u003ctd\u003e100.78\u003c/td\u003e\n      \u003ctd\u003e-4.276\u003c/td\u003e\n      \u003ctd\u003e105.46\u003c/td\u003e\n      \u003ctd\u003e105.70\u003c/td\u003e\n      \u003ctd\u003e7345570\u003c/td\u003e\n      \u003ctd\u003e20181217\u003c/td\u003e\n      \u003ctd\u003e0\u003c/td\u003e\n      \u003ctd\u003e387\u003c/td\u003e\n      \u003ctd\u003e3.5855\u003c/td\u003e\n      \u003ctd\u003e3.7770\u003c/td\u003e\n    \u003c/tr\u003e\n    \u003ctr\u003e\n      \u003cth\u003e2018-12-04\u003c/th\u003e\n      \u003ctd\u003e107.64\u003c/td\u003e\n      \u003ctd\u003e112.160\u003c/td\u003e\n      \u003ctd\u003e107.54\u003c/td\u003e\n      \u003ctd\u003e-4.124\u003c/td\u003e\n      \u003ctd\u003e111.86\u003c/td\u003e\n      \u003ctd\u003e112.27\u003c/td\u003e\n      \u003ctd\u003e5159589\u003c/td\u003e\n      \u003ctd\u003e20181204\u003c/td\u003e\n      \u003ctd\u003e1\u003c/td\u003e\n      \u003ctd\u003e379\u003c/td\u003e\n      \u003ctd\u003e2.9591\u003c/td\u003e\n      \u003ctd\u003e3.0904\u003c/td\u003e\n    \u003c/tr\u003e\n  \u003c/tbody\u003e\n\u003c/table\u003e\n\u003c/div\u003e"
          },
          "metadata": {},
          "output_type": "execute_result",
          "execution_count": 40
        }
      ],
      "source": "\namex_df.sort_index(by\u003d\u0027p_change\u0027)[:5]\n",
      "metadata": {
        "pycharm": {
          "metadata": false,
          "name": "#%% 1. Sorting\n",
          "is_executing": false
        }
      }
    },
    {
      "cell_type": "code",
      "execution_count": 41,
      "outputs": [
        {
          "name": "stderr",
          "text": [
            "/Library/Frameworks/Python.framework/Versions/3.7/lib/python3.7/site-packages/ipykernel_launcher.py:2: FutureWarning: by argument to sort_index is deprecated, please use .sort_values(by\u003d...)\n  \n"
          ],
          "output_type": "stream"
        },
        {
          "data": {
            "text/plain": "             close    high     low  p_change    open  pre_close    volume  \\\n2018-12-26   93.84   93.89   89.05     4.849   89.85     89.500   5383666   \n2018-04-18   98.28   95.22   94.08     4.626   94.08     93.935    435538   \n2018-04-19  102.37  102.96   99.05     4.162   99.36     98.280  11716884   \n2018-02-09   91.72   92.52   87.54     3.826   89.47     88.340   8017551   \n2018-10-19  106.73  107.55  104.06     3.783  104.06    102.840   5726327   \n\n                date  date_week  key   atr21   atr14  \n2018-12-26  20181226          2  393  4.4792  4.8603  \n2018-04-18  20180418          2  219  2.2288  2.0588  \n2018-04-19  20180419          3  220  2.8467  2.9877  \n2018-02-09  20180209          4  173  3.5739  4.1992  \n2018-10-19  20181019          4  348  2.3899  2.5490  ",
            "text/html": "\u003cdiv\u003e\n\u003cstyle scoped\u003e\n    .dataframe tbody tr th:only-of-type {\n        vertical-align: middle;\n    }\n\n    .dataframe tbody tr th {\n        vertical-align: top;\n    }\n\n    .dataframe thead th {\n        text-align: right;\n    }\n\u003c/style\u003e\n\u003ctable border\u003d\"1\" class\u003d\"dataframe\"\u003e\n  \u003cthead\u003e\n    \u003ctr style\u003d\"text-align: right;\"\u003e\n      \u003cth\u003e\u003c/th\u003e\n      \u003cth\u003eclose\u003c/th\u003e\n      \u003cth\u003ehigh\u003c/th\u003e\n      \u003cth\u003elow\u003c/th\u003e\n      \u003cth\u003ep_change\u003c/th\u003e\n      \u003cth\u003eopen\u003c/th\u003e\n      \u003cth\u003epre_close\u003c/th\u003e\n      \u003cth\u003evolume\u003c/th\u003e\n      \u003cth\u003edate\u003c/th\u003e\n      \u003cth\u003edate_week\u003c/th\u003e\n      \u003cth\u003ekey\u003c/th\u003e\n      \u003cth\u003eatr21\u003c/th\u003e\n      \u003cth\u003eatr14\u003c/th\u003e\n    \u003c/tr\u003e\n  \u003c/thead\u003e\n  \u003ctbody\u003e\n    \u003ctr\u003e\n      \u003cth\u003e2018-12-26\u003c/th\u003e\n      \u003ctd\u003e93.84\u003c/td\u003e\n      \u003ctd\u003e93.89\u003c/td\u003e\n      \u003ctd\u003e89.05\u003c/td\u003e\n      \u003ctd\u003e4.849\u003c/td\u003e\n      \u003ctd\u003e89.85\u003c/td\u003e\n      \u003ctd\u003e89.500\u003c/td\u003e\n      \u003ctd\u003e5383666\u003c/td\u003e\n      \u003ctd\u003e20181226\u003c/td\u003e\n      \u003ctd\u003e2\u003c/td\u003e\n      \u003ctd\u003e393\u003c/td\u003e\n      \u003ctd\u003e4.4792\u003c/td\u003e\n      \u003ctd\u003e4.8603\u003c/td\u003e\n    \u003c/tr\u003e\n    \u003ctr\u003e\n      \u003cth\u003e2018-04-18\u003c/th\u003e\n      \u003ctd\u003e98.28\u003c/td\u003e\n      \u003ctd\u003e95.22\u003c/td\u003e\n      \u003ctd\u003e94.08\u003c/td\u003e\n      \u003ctd\u003e4.626\u003c/td\u003e\n      \u003ctd\u003e94.08\u003c/td\u003e\n      \u003ctd\u003e93.935\u003c/td\u003e\n      \u003ctd\u003e435538\u003c/td\u003e\n      \u003ctd\u003e20180418\u003c/td\u003e\n      \u003ctd\u003e2\u003c/td\u003e\n      \u003ctd\u003e219\u003c/td\u003e\n      \u003ctd\u003e2.2288\u003c/td\u003e\n      \u003ctd\u003e2.0588\u003c/td\u003e\n    \u003c/tr\u003e\n    \u003ctr\u003e\n      \u003cth\u003e2018-04-19\u003c/th\u003e\n      \u003ctd\u003e102.37\u003c/td\u003e\n      \u003ctd\u003e102.96\u003c/td\u003e\n      \u003ctd\u003e99.05\u003c/td\u003e\n      \u003ctd\u003e4.162\u003c/td\u003e\n      \u003ctd\u003e99.36\u003c/td\u003e\n      \u003ctd\u003e98.280\u003c/td\u003e\n      \u003ctd\u003e11716884\u003c/td\u003e\n      \u003ctd\u003e20180419\u003c/td\u003e\n      \u003ctd\u003e3\u003c/td\u003e\n      \u003ctd\u003e220\u003c/td\u003e\n      \u003ctd\u003e2.8467\u003c/td\u003e\n      \u003ctd\u003e2.9877\u003c/td\u003e\n    \u003c/tr\u003e\n    \u003ctr\u003e\n      \u003cth\u003e2018-02-09\u003c/th\u003e\n      \u003ctd\u003e91.72\u003c/td\u003e\n      \u003ctd\u003e92.52\u003c/td\u003e\n      \u003ctd\u003e87.54\u003c/td\u003e\n      \u003ctd\u003e3.826\u003c/td\u003e\n      \u003ctd\u003e89.47\u003c/td\u003e\n      \u003ctd\u003e88.340\u003c/td\u003e\n      \u003ctd\u003e8017551\u003c/td\u003e\n      \u003ctd\u003e20180209\u003c/td\u003e\n      \u003ctd\u003e4\u003c/td\u003e\n      \u003ctd\u003e173\u003c/td\u003e\n      \u003ctd\u003e3.5739\u003c/td\u003e\n      \u003ctd\u003e4.1992\u003c/td\u003e\n    \u003c/tr\u003e\n    \u003ctr\u003e\n      \u003cth\u003e2018-10-19\u003c/th\u003e\n      \u003ctd\u003e106.73\u003c/td\u003e\n      \u003ctd\u003e107.55\u003c/td\u003e\n      \u003ctd\u003e104.06\u003c/td\u003e\n      \u003ctd\u003e3.783\u003c/td\u003e\n      \u003ctd\u003e104.06\u003c/td\u003e\n      \u003ctd\u003e102.840\u003c/td\u003e\n      \u003ctd\u003e5726327\u003c/td\u003e\n      \u003ctd\u003e20181019\u003c/td\u003e\n      \u003ctd\u003e4\u003c/td\u003e\n      \u003ctd\u003e348\u003c/td\u003e\n      \u003ctd\u003e2.3899\u003c/td\u003e\n      \u003ctd\u003e2.5490\u003c/td\u003e\n    \u003c/tr\u003e\n  \u003c/tbody\u003e\n\u003c/table\u003e\n\u003c/div\u003e"
          },
          "metadata": {},
          "output_type": "execute_result",
          "execution_count": 41
        }
      ],
      "source": "\namex_df.sort_index(by\u003d\u0027p_change\u0027, ascending\u003dFalse)[:5]\n",
      "metadata": {
        "pycharm": {
          "metadata": false,
          "name": "#%%\n",
          "is_executing": false
        }
      }
    },
    {
      "cell_type": "code",
      "execution_count": 42,
      "outputs": [],
      "source": "\n# amex_df.dropna()\n\n# amex_df.dropna(how\u003d\u0027all\u0027)\n\namex_df.fillna(amex_df.mean(), inplace\u003dTrue)\n",
      "metadata": {
        "pycharm": {
          "metadata": false,
          "name": "#%% 2. Dealing with missing data\n",
          "is_executing": false
        }
      }
    },
    {
      "cell_type": "code",
      "execution_count": 43,
      "outputs": [
        {
          "data": {
            "text/plain": "2017-06-05    78.97\n2017-06-06    78.85\n2017-06-07    79.81\nName: close, dtype: float64"
          },
          "metadata": {},
          "output_type": "execute_result",
          "execution_count": 43
        }
      ],
      "source": "\namex_df.close[:3]\n",
      "metadata": {
        "pycharm": {
          "metadata": false,
          "name": "#%% 3. Data Conversion\n",
          "is_executing": false
        }
      }
    },
    {
      "cell_type": "code",
      "execution_count": 44,
      "outputs": [
        {
          "data": {
            "text/plain": "2017-06-05       NaN\n2017-06-06   -0.0015\n2017-06-07    0.0122\nName: close, dtype: float64"
          },
          "metadata": {},
          "output_type": "execute_result",
          "execution_count": 44
        }
      ],
      "source": "\namex_df.close.pct_change()[:3]\n",
      "metadata": {
        "pycharm": {
          "metadata": false,
          "name": "#%%\n",
          "is_executing": false
        }
      }
    },
    {
      "cell_type": "code",
      "execution_count": 45,
      "outputs": [
        {
          "data": {
            "text/plain": "2018-12-24   -0.0200\n2018-12-26    0.0485\n2018-12-27    0.0000\n2018-12-28    0.0000\n2018-12-31    0.0000\nName: close, dtype: float64"
          },
          "metadata": {},
          "output_type": "execute_result",
          "execution_count": 45
        }
      ],
      "source": "\nchange_ratio \u003d amex_df.close.pct_change()\nchange_ratio.tail()\n",
      "metadata": {
        "pycharm": {
          "metadata": false,
          "name": "#%%\n",
          "is_executing": false
        }
      }
    },
    {
      "cell_type": "code",
      "execution_count": 48,
      "outputs": [
        {
          "data": {
            "text/plain": "2018-12-24   -2.00\n2018-12-26    4.85\n2018-12-27    0.00\n2018-12-28    0.00\n2018-12-31    0.00\nName: close, dtype: float64"
          },
          "metadata": {},
          "output_type": "execute_result",
          "execution_count": 48
        }
      ],
      "source": "\nnp.round(change_ratio[-5:] * 100, 2)\n",
      "metadata": {
        "pycharm": {
          "metadata": false,
          "name": "#%%\n",
          "is_executing": false
        }
      }
    },
    {
      "cell_type": "code",
      "execution_count": 49,
      "outputs": [
        {
          "data": {
            "text/plain": "2018-12-24    4.44\n2018-12-26    4.48\n2018-12-27    4.51\n2018-12-28    4.54\n2018-12-31    4.57\nName: atr21, dtype: object"
          },
          "metadata": {},
          "output_type": "execute_result",
          "execution_count": 49
        }
      ],
      "source": "\nformat \u003d lambda x: \u0027%.2f\u0027 % x\namex_df.atr21.map(format).tail()\n",
      "metadata": {
        "pycharm": {
          "metadata": false,
          "name": "#%%\n",
          "is_executing": false
        }
      }
    },
    {
      "cell_type": "code",
      "execution_count": null,
      "outputs": [],
      "source": "\n",
      "metadata": {
        "pycharm": {
          "metadata": false,
          "name": "#%%\n"
        }
      }
    }
  ],
  "metadata": {
    "language_info": {
      "codemirror_mode": {
        "name": "ipython",
        "version": 2
      },
      "file_extension": ".py",
      "mimetype": "text/x-python",
      "name": "python",
      "nbconvert_exporter": "python",
      "pygments_lexer": "ipython2",
      "version": "2.7.6"
    },
    "kernelspec": {
      "name": "python3",
      "language": "python",
      "display_name": "Python 3"
    }
  },
  "nbformat": 4,
  "nbformat_minor": 0
}