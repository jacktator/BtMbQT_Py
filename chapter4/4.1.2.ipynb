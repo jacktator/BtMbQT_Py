{
  "cells": [
    {
      "cell_type": "code",
      "execution_count": 1,
      "outputs": [
        {
          "data": {
            "text/plain": "(200, 504)"
          },
          "metadata": {},
          "output_type": "execute_result",
          "execution_count": 1
        }
      ],
      "source": "\nimport pandas as pd\nimport numpy as np\n\nstock_day_change \u003d np.load(\u0027../chapter3/gen/stock_day_change.npy\u0027)\nstock_day_change.shape",
      "metadata": {
        "pycharm": {
          "metadata": false,
          "name": "#%% Index Row\n",
          "is_executing": false
        }
      }
    },
    {
      "cell_type": "code",
      "execution_count": 3,
      "outputs": [
        {
          "data": {
            "text/plain": "              0         1         2         3         4         5         6    \\\nStock 0 -0.506857 -0.298351  0.287734  1.294099 -1.410662 -0.007399  0.832101   \nStock 1  1.090711  1.096060 -0.647854  0.753340 -1.760276  1.071615  1.215913   \n\n              7         8         9    ...       494       495       496  \\\nStock 0 -0.090907 -1.628213 -0.714435  ...  1.034027  0.530784 -0.380703   \nStock 1  0.888936 -0.769439  0.589205  ... -1.346089  0.536451  0.960366   \n\n              497       498       499       500       501       502       503  \nStock 0  0.107044 -1.299332 -0.801399  1.337638  1.420855  0.341945  1.208976  \nStock 1 -0.406703  1.302131 -0.097017  0.599954 -0.260712 -1.117452  0.578165  \n\n[2 rows x 504 columns]",
            "text/html": "\u003cdiv\u003e\n\u003cstyle scoped\u003e\n    .dataframe tbody tr th:only-of-type {\n        vertical-align: middle;\n    }\n\n    .dataframe tbody tr th {\n        vertical-align: top;\n    }\n\n    .dataframe thead th {\n        text-align: right;\n    }\n\u003c/style\u003e\n\u003ctable border\u003d\"1\" class\u003d\"dataframe\"\u003e\n  \u003cthead\u003e\n    \u003ctr style\u003d\"text-align: right;\"\u003e\n      \u003cth\u003e\u003c/th\u003e\n      \u003cth\u003e0\u003c/th\u003e\n      \u003cth\u003e1\u003c/th\u003e\n      \u003cth\u003e2\u003c/th\u003e\n      \u003cth\u003e3\u003c/th\u003e\n      \u003cth\u003e4\u003c/th\u003e\n      \u003cth\u003e5\u003c/th\u003e\n      \u003cth\u003e6\u003c/th\u003e\n      \u003cth\u003e7\u003c/th\u003e\n      \u003cth\u003e8\u003c/th\u003e\n      \u003cth\u003e9\u003c/th\u003e\n      \u003cth\u003e...\u003c/th\u003e\n      \u003cth\u003e494\u003c/th\u003e\n      \u003cth\u003e495\u003c/th\u003e\n      \u003cth\u003e496\u003c/th\u003e\n      \u003cth\u003e497\u003c/th\u003e\n      \u003cth\u003e498\u003c/th\u003e\n      \u003cth\u003e499\u003c/th\u003e\n      \u003cth\u003e500\u003c/th\u003e\n      \u003cth\u003e501\u003c/th\u003e\n      \u003cth\u003e502\u003c/th\u003e\n      \u003cth\u003e503\u003c/th\u003e\n    \u003c/tr\u003e\n  \u003c/thead\u003e\n  \u003ctbody\u003e\n    \u003ctr\u003e\n      \u003cth\u003eStock 0\u003c/th\u003e\n      \u003ctd\u003e-0.506857\u003c/td\u003e\n      \u003ctd\u003e-0.298351\u003c/td\u003e\n      \u003ctd\u003e0.287734\u003c/td\u003e\n      \u003ctd\u003e1.294099\u003c/td\u003e\n      \u003ctd\u003e-1.410662\u003c/td\u003e\n      \u003ctd\u003e-0.007399\u003c/td\u003e\n      \u003ctd\u003e0.832101\u003c/td\u003e\n      \u003ctd\u003e-0.090907\u003c/td\u003e\n      \u003ctd\u003e-1.628213\u003c/td\u003e\n      \u003ctd\u003e-0.714435\u003c/td\u003e\n      \u003ctd\u003e...\u003c/td\u003e\n      \u003ctd\u003e1.034027\u003c/td\u003e\n      \u003ctd\u003e0.530784\u003c/td\u003e\n      \u003ctd\u003e-0.380703\u003c/td\u003e\n      \u003ctd\u003e0.107044\u003c/td\u003e\n      \u003ctd\u003e-1.299332\u003c/td\u003e\n      \u003ctd\u003e-0.801399\u003c/td\u003e\n      \u003ctd\u003e1.337638\u003c/td\u003e\n      \u003ctd\u003e1.420855\u003c/td\u003e\n      \u003ctd\u003e0.341945\u003c/td\u003e\n      \u003ctd\u003e1.208976\u003c/td\u003e\n    \u003c/tr\u003e\n    \u003ctr\u003e\n      \u003cth\u003eStock 1\u003c/th\u003e\n      \u003ctd\u003e1.090711\u003c/td\u003e\n      \u003ctd\u003e1.096060\u003c/td\u003e\n      \u003ctd\u003e-0.647854\u003c/td\u003e\n      \u003ctd\u003e0.753340\u003c/td\u003e\n      \u003ctd\u003e-1.760276\u003c/td\u003e\n      \u003ctd\u003e1.071615\u003c/td\u003e\n      \u003ctd\u003e1.215913\u003c/td\u003e\n      \u003ctd\u003e0.888936\u003c/td\u003e\n      \u003ctd\u003e-0.769439\u003c/td\u003e\n      \u003ctd\u003e0.589205\u003c/td\u003e\n      \u003ctd\u003e...\u003c/td\u003e\n      \u003ctd\u003e-1.346089\u003c/td\u003e\n      \u003ctd\u003e0.536451\u003c/td\u003e\n      \u003ctd\u003e0.960366\u003c/td\u003e\n      \u003ctd\u003e-0.406703\u003c/td\u003e\n      \u003ctd\u003e1.302131\u003c/td\u003e\n      \u003ctd\u003e-0.097017\u003c/td\u003e\n      \u003ctd\u003e0.599954\u003c/td\u003e\n      \u003ctd\u003e-0.260712\u003c/td\u003e\n      \u003ctd\u003e-1.117452\u003c/td\u003e\n      \u003ctd\u003e0.578165\u003c/td\u003e\n    \u003c/tr\u003e\n  \u003c/tbody\u003e\n\u003c/table\u003e\n\u003cp\u003e2 rows × 504 columns\u003c/p\u003e\n\u003c/div\u003e"
          },
          "metadata": {},
          "output_type": "execute_result",
          "execution_count": 3
        }
      ],
      "source": "stock_symbols \u003d [\u0027Stock \u0027 + str(x) for x in range(stock_day_change.shape[0])]\n\n\npd.DataFrame(stock_day_change, index\u003dstock_symbols).head(2)",
      "metadata": {
        "pycharm": {
          "metadata": false,
          "name": "#%%\n",
          "is_executing": false
        }
      }
    },
    {
      "cell_type": "code",
      "execution_count": 5,
      "outputs": [
        {
          "data": {
            "text/plain": "           2019-05-05  2019-05-06  2019-05-07  2019-05-08  2019-05-09  \\\nStock 198   -0.878839    0.275720   -0.372983    0.230094    0.228319   \nStock 199    0.271601   -0.229816    0.443362    1.696638   -0.266938   \n\n           2019-05-10  2019-05-11  2019-05-12  2019-05-13  2019-05-14  ...  \\\nStock 198   -2.356772    0.820326    0.733801    0.382649    0.683604  ...   \nStock 199    0.820770   -0.774684   -0.404516   -0.382519   -0.037754  ...   \n\n           2020-09-10  2020-09-11  2020-09-12  2020-09-13  2020-09-14  \\\nStock 198    0.363046   -0.491884    0.156982    0.100225    0.636174   \nStock 199    0.439571   -1.541329    0.336386    0.153086   -0.916691   \n\n           2020-09-15  2020-09-16  2020-09-17  2020-09-18  2020-09-19  \nStock 198   -0.126595   -0.023974   -1.952426    0.047569   -0.565014  \nStock 199   -0.795388    1.208598   -0.882161   -0.081196   -0.588972  \n\n[2 rows x 504 columns]",
            "text/html": "\u003cdiv\u003e\n\u003cstyle scoped\u003e\n    .dataframe tbody tr th:only-of-type {\n        vertical-align: middle;\n    }\n\n    .dataframe tbody tr th {\n        vertical-align: top;\n    }\n\n    .dataframe thead th {\n        text-align: right;\n    }\n\u003c/style\u003e\n\u003ctable border\u003d\"1\" class\u003d\"dataframe\"\u003e\n  \u003cthead\u003e\n    \u003ctr style\u003d\"text-align: right;\"\u003e\n      \u003cth\u003e\u003c/th\u003e\n      \u003cth\u003e2019-05-05 00:00:00\u003c/th\u003e\n      \u003cth\u003e2019-05-06 00:00:00\u003c/th\u003e\n      \u003cth\u003e2019-05-07 00:00:00\u003c/th\u003e\n      \u003cth\u003e2019-05-08 00:00:00\u003c/th\u003e\n      \u003cth\u003e2019-05-09 00:00:00\u003c/th\u003e\n      \u003cth\u003e2019-05-10 00:00:00\u003c/th\u003e\n      \u003cth\u003e2019-05-11 00:00:00\u003c/th\u003e\n      \u003cth\u003e2019-05-12 00:00:00\u003c/th\u003e\n      \u003cth\u003e2019-05-13 00:00:00\u003c/th\u003e\n      \u003cth\u003e2019-05-14 00:00:00\u003c/th\u003e\n      \u003cth\u003e...\u003c/th\u003e\n      \u003cth\u003e2020-09-10 00:00:00\u003c/th\u003e\n      \u003cth\u003e2020-09-11 00:00:00\u003c/th\u003e\n      \u003cth\u003e2020-09-12 00:00:00\u003c/th\u003e\n      \u003cth\u003e2020-09-13 00:00:00\u003c/th\u003e\n      \u003cth\u003e2020-09-14 00:00:00\u003c/th\u003e\n      \u003cth\u003e2020-09-15 00:00:00\u003c/th\u003e\n      \u003cth\u003e2020-09-16 00:00:00\u003c/th\u003e\n      \u003cth\u003e2020-09-17 00:00:00\u003c/th\u003e\n      \u003cth\u003e2020-09-18 00:00:00\u003c/th\u003e\n      \u003cth\u003e2020-09-19 00:00:00\u003c/th\u003e\n    \u003c/tr\u003e\n  \u003c/thead\u003e\n  \u003ctbody\u003e\n    \u003ctr\u003e\n      \u003cth\u003eStock 198\u003c/th\u003e\n      \u003ctd\u003e-0.878839\u003c/td\u003e\n      \u003ctd\u003e0.275720\u003c/td\u003e\n      \u003ctd\u003e-0.372983\u003c/td\u003e\n      \u003ctd\u003e0.230094\u003c/td\u003e\n      \u003ctd\u003e0.228319\u003c/td\u003e\n      \u003ctd\u003e-2.356772\u003c/td\u003e\n      \u003ctd\u003e0.820326\u003c/td\u003e\n      \u003ctd\u003e0.733801\u003c/td\u003e\n      \u003ctd\u003e0.382649\u003c/td\u003e\n      \u003ctd\u003e0.683604\u003c/td\u003e\n      \u003ctd\u003e...\u003c/td\u003e\n      \u003ctd\u003e0.363046\u003c/td\u003e\n      \u003ctd\u003e-0.491884\u003c/td\u003e\n      \u003ctd\u003e0.156982\u003c/td\u003e\n      \u003ctd\u003e0.100225\u003c/td\u003e\n      \u003ctd\u003e0.636174\u003c/td\u003e\n      \u003ctd\u003e-0.126595\u003c/td\u003e\n      \u003ctd\u003e-0.023974\u003c/td\u003e\n      \u003ctd\u003e-1.952426\u003c/td\u003e\n      \u003ctd\u003e0.047569\u003c/td\u003e\n      \u003ctd\u003e-0.565014\u003c/td\u003e\n    \u003c/tr\u003e\n    \u003ctr\u003e\n      \u003cth\u003eStock 199\u003c/th\u003e\n      \u003ctd\u003e0.271601\u003c/td\u003e\n      \u003ctd\u003e-0.229816\u003c/td\u003e\n      \u003ctd\u003e0.443362\u003c/td\u003e\n      \u003ctd\u003e1.696638\u003c/td\u003e\n      \u003ctd\u003e-0.266938\u003c/td\u003e\n      \u003ctd\u003e0.820770\u003c/td\u003e\n      \u003ctd\u003e-0.774684\u003c/td\u003e\n      \u003ctd\u003e-0.404516\u003c/td\u003e\n      \u003ctd\u003e-0.382519\u003c/td\u003e\n      \u003ctd\u003e-0.037754\u003c/td\u003e\n      \u003ctd\u003e...\u003c/td\u003e\n      \u003ctd\u003e0.439571\u003c/td\u003e\n      \u003ctd\u003e-1.541329\u003c/td\u003e\n      \u003ctd\u003e0.336386\u003c/td\u003e\n      \u003ctd\u003e0.153086\u003c/td\u003e\n      \u003ctd\u003e-0.916691\u003c/td\u003e\n      \u003ctd\u003e-0.795388\u003c/td\u003e\n      \u003ctd\u003e1.208598\u003c/td\u003e\n      \u003ctd\u003e-0.882161\u003c/td\u003e\n      \u003ctd\u003e-0.081196\u003c/td\u003e\n      \u003ctd\u003e-0.588972\u003c/td\u003e\n    \u003c/tr\u003e\n  \u003c/tbody\u003e\n\u003c/table\u003e\n\u003cp\u003e2 rows × 504 columns\u003c/p\u003e\n\u003c/div\u003e"
          },
          "metadata": {},
          "output_type": "execute_result",
          "execution_count": 5
        }
      ],
      "source": "\ndays \u003d pd.date_range(\u00272019-5-5\u0027, \n                     periods\u003dstock_day_change.shape[1], \n                     freq\u003d\u00271d\u0027)\n\ndf \u003d pd.DataFrame(stock_day_change, \n                  index\u003dstock_symbols,\n                  columns\u003ddays)\n\ndf.tail(2)",
      "metadata": {
        "pycharm": {
          "metadata": false,
          "name": "#%%\n",
          "is_executing": false
        }
      }
    },
    {
      "cell_type": "code",
      "execution_count": null,
      "outputs": [],
      "source": "\n",
      "metadata": {
        "pycharm": {
          "metadata": false,
          "name": "#%%\n"
        }
      }
    }
  ],
  "metadata": {
    "language_info": {
      "codemirror_mode": {
        "name": "ipython",
        "version": 2
      },
      "file_extension": ".py",
      "mimetype": "text/x-python",
      "name": "python",
      "nbconvert_exporter": "python",
      "pygments_lexer": "ipython2",
      "version": "2.7.6"
    },
    "kernelspec": {
      "name": "python3",
      "language": "python",
      "display_name": "Python 3"
    },
    "stem_cell": {
      "cell_type": "raw",
      "source": "",
      "metadata": {
        "pycharm": {
          "metadata": false
        }
      }
    }
  },
  "nbformat": 4,
  "nbformat_minor": 0
}