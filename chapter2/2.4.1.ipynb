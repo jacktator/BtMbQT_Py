{
  "cells": [
    {
      "cell_type": "code",
      "execution_count": 6,
      "metadata": {
        "collapsed": true,
        "pycharm": {
          "name": "#%% Using itertools\n",
          "is_executing": false
        }
      },
      "outputs": [],
      "source": "import itertools\n"
    },
    {
      "cell_type": "code",
      "execution_count": 7,
      "outputs": [
        {
          "name": "stdout",
          "text": [
            "(1, 2, 3)\n(1, 3, 2)\n(2, 1, 3)\n(2, 3, 1)\n(3, 1, 2)\n(3, 2, 1)\n"
          ],
          "output_type": "stream"
        }
      ],
      "source": "items \u003d [1, 2, 3]\nfor item in itertools.permutations(items, 3):\n    print(item)\n",
      "metadata": {
        "pycharm": {
          "metadata": false,
          "name": "#%% Permutation - P(n,r) \u003d n!(n−r)!\n",
          "is_executing": false
        }
      }
    },
    {
      "cell_type": "code",
      "execution_count": 8,
      "outputs": [
        {
          "name": "stdout",
          "text": [
            "(1, 2)\n(1, 3)\n(2, 3)\n"
          ],
          "output_type": "stream"
        }
      ],
      "source": "for item in itertools.combinations(items, 2):\n    print(item)\n",
      "metadata": {
        "pycharm": {
          "metadata": false,
          "name": "#%% Combination - C(n,r) \u003d n! / (r!(n-r)!)\n",
          "is_executing": false
        }
      }
    },
    {
      "cell_type": "code",
      "execution_count": 9,
      "outputs": [
        {
          "name": "stdout",
          "text": [
            "(1, 1)\n(1, 2)\n(1, 3)\n(2, 2)\n(2, 3)\n(3, 3)\n"
          ],
          "output_type": "stream"
        }
      ],
      "source": "for item in itertools.combinations_with_replacement(items, 2):\n    print(item)\n",
      "metadata": {
        "pycharm": {
          "metadata": false,
          "name": "#%% Combination with replacement\n",
          "is_executing": false
        }
      }
    },
    {
      "cell_type": "code",
      "execution_count": 10,
      "outputs": [
        {
          "name": "stdout",
          "text": [
            "(\u0027a\u0027, \u0027c\u0027)\n(\u0027a\u0027, \u0027d\u0027)\n(\u0027b\u0027, \u0027c\u0027)\n(\u0027b\u0027, \u0027d\u0027)\n"
          ],
          "output_type": "stream"
        }
      ],
      "source": "ab \u003d [\u0027a\u0027, \u0027b\u0027]\ncd \u003d [\u0027c\u0027, \u0027d\u0027]\n# Produce the product of two arrays\nfor item in itertools.product(ab, cd):\n    print(item)\n",
      "metadata": {
        "pycharm": {
          "metadata": false,
          "name": "#%% product\n",
          "is_executing": false
        }
      }
    },
    {
      "cell_type": "code",
      "execution_count": 31,
      "outputs": [
        {
          "data": {
            "text/plain": "(0.1370000000000001, 5, -0.02)"
          },
          "metadata": {},
          "output_type": "execute_result",
          "execution_count": 31
        }
      ],
      "source": "\n# 1. Defining a function that takes params and return result+params\n\ndef calc(keep_stock_threshold, buy_change_threshold):\n    \"\"\"\n    :param keep_stock_threshold: \n    :param buy_change_threshold: \n    :return:  \n    \"\"\"\n\n    # Initialize an instance of Strategy2\n    import import_ipynb\n    from strategy_2 import TradeStrategy2\n    trade_strategy2 \u003d TradeStrategy2()\n    \n    # Use class method to set keep_stock_threshold\n    TradeStrategy2.set_keep_stock_threshold(keep_stock_threshold)\n    \n    # Use static method to set buy_change_threshold\n    TradeStrategy2.set_buy_change_threshold(buy_change_threshold)\n    \n    # Create Trade Days (MasterCard)\n    from abupy import ABuSymbolPd, EMarketDataSplitMode\n    # List 2 years of MasterCard closing price to list()\n    price_array \u003d ABuSymbolPd.make_kl_df(\u0027MA\u0027, EMarketDataSplitMode.E_DATA_SPLIT_SE).close.tolist()\n    date_array \u003d ABuSymbolPd.make_kl_df(\u0027MA\u0027, EMarketDataSplitMode.E_DATA_SPLIT_SE).date.tolist()\n    price_array[-5:], date_array[-5:]\n    \n    from tradedays import StockTradeDays\n    trade_days \u003d StockTradeDays(price_array, \"\", date_array)\n    # print(\u0027trade_days has {} days\u0027.format(len(trade_days)))\n    # print(\u0027Last trading day: {}\u0027.format(trade_days[-1]))\n\n    # Backtest\n    from trade_loopback import TradeLoopBack\n    trade_loop_back \u003d TradeLoopBack(trade_days, trade_strategy2)\n    trade_loop_back.execute_trade()\n    \n    # Calculate profit after back test\n    from functools import reduce\n    profit \u003d 0.0 if len(trade_loop_back.profit_array) \u003d\u003d 0 else \\\n        reduce(lambda a, b: a + b, trade_loop_back.profit_array)\n    \n    # Return profit and the two input params\n    return profit, keep_stock_threshold, buy_change_threshold\n\ncalc(5, -0.02)\n",
      "metadata": {
        "pycharm": {
          "metadata": false,
          "name": "#%% Use Cartesian product to find the best s_buy_change_threshold and s_keep_stock_threshold for strategy_2\n",
          "is_executing": false
        }
      }
    },
    {
      "cell_type": "code",
      "execution_count": 42,
      "outputs": [
        {
          "name": "stdout",
          "text": [
            "keep_stock Array: [2, 4, 6, 8, 10, 12, 14, 16, 18, 20, 22, 24, 26, 28]\nbuy_change Array: [-0.05, -0.06, -0.07, -0.08, -0.09, -0.1, -0.11, -0.12, -0.13, -0.14, -0.15]\n"
          ],
          "output_type": "stream"
        }
      ],
      "source": "\n# range: buy and then hold 2~30 days, step is 2\nkeep_stock_days_list \u003d range(2, 30, 2)\nprint(\u0027keep_stock Array: {}\u0027.format(list(keep_stock_days_list)))\n# range: \u0027buy_change\u0027 from -0.05 to -0.15, aka down 5% to 15%\nbuy_change_list \u003d [buy_change / 100.0 for buy_change in range(-5, -16, -1)]\nprint(\u0027buy_change Array: {}\u0027.format(buy_change_list))\n",
      "metadata": {
        "pycharm": {
          "metadata": false,
          "name": "#%%\n",
          "is_executing": false
        }
      }
    },
    {
      "cell_type": "code",
      "execution_count": 43,
      "outputs": [
        {
          "name": "stderr",
          "text": [
            "HTTPConnectionPool(host\u003d\u0027gp.baidu.com\u0027, port\u003d80): Max retries exceeded with url: /stocks/stockkline?from\u003dandroid\u0026os_ver\u003d21\u0026format\u003djson\u0026vv\u003d3.3.0\u0026uid\u003d\u0026BDUSS\u003d\u0026cuid\u003d9jg3uwqut4fbpo0b3f9vg0pamrgj2guetjln86b1\u0026channel\u003ddefault_channel\u0026device\u003dOPPOR9\u0026logid\u003d1559200886\u0026actionid\u003d1559200820\u0026device_net_type\u003dwifi\u0026period\u003dday\u0026stock_code\u003dusMA\u0026fq_type\u003dfront (Caused by NewConnectionError(\u0027\u003curllib3.connection.HTTPConnection object at 0x1076ccd30\u003e: Failed to establish a new connection: [Errno 8] nodename nor servname provided, or not known\u0027))\nTraceback (most recent call last):\n  File \"/Users/XujieSong/Library/Python/3.7/lib/python/site-packages/urllib3/connection.py\", line 160, in _new_conn\n    (self._dns_host, self.port), self.timeout, **extra_kw)\n  File \"/Users/XujieSong/Library/Python/3.7/lib/python/site-packages/urllib3/util/connection.py\", line 57, in create_connection\n    for res in socket.getaddrinfo(host, port, family, socket.SOCK_STREAM):\n  File \"/Library/Frameworks/Python.framework/Versions/3.7/lib/python3.7/socket.py\", line 748, in getaddrinfo\n    for res in _socket.getaddrinfo(host, port, family, type, proto, flags):\nsocket.gaierror: [Errno 8] nodename nor servname provided, or not known\n\nDuring handling of the above exception, another exception occurred:\n\nTraceback (most recent call last):\n  File \"/Users/XujieSong/Library/Python/3.7/lib/python/site-packages/urllib3/connectionpool.py\", line 603, in urlopen\n    chunked\u003dchunked)\n  File \"/Users/XujieSong/Library/Python/3.7/lib/python/site-packages/urllib3/connectionpool.py\", line 355, in _make_request\n    conn.request(method, url, **httplib_request_kw)\n  File \"/Library/Frameworks/Python.framework/Versions/3.7/lib/python3.7/http/client.py\", line 1229, in request\n    self._send_request(method, url, body, headers, encode_chunked)\n  File \"/Library/Frameworks/Python.framework/Versions/3.7/lib/python3.7/http/client.py\", line 1275, in _send_request\n    self.endheaders(body, encode_chunked\u003dencode_chunked)\n  File \"/Library/Frameworks/Python.framework/Versions/3.7/lib/python3.7/http/client.py\", line 1224, in endheaders\n    self._send_output(message_body, encode_chunked\u003dencode_chunked)\n  File \"/Library/Frameworks/Python.framework/Versions/3.7/lib/python3.7/http/client.py\", line 1016, in _send_output\n    self.send(msg)\n  File \"/Library/Frameworks/Python.framework/Versions/3.7/lib/python3.7/http/client.py\", line 956, in send\n    self.connect()\n  File \"/Users/XujieSong/Library/Python/3.7/lib/python/site-packages/urllib3/connection.py\", line 183, in connect\n    conn \u003d self._new_conn()\n  File \"/Users/XujieSong/Library/Python/3.7/lib/python/site-packages/urllib3/connection.py\", line 169, in _new_conn\n    self, \"Failed to establish a new connection: %s\" % e)\nurllib3.exceptions.NewConnectionError: \u003curllib3.connection.HTTPConnection object at 0x1076ccd30\u003e: Failed to establish a new connection: [Errno 8] nodename nor servname provided, or not known\n\nDuring handling of the above exception, another exception occurred:\n\nTraceback (most recent call last):\n  File \"/Library/Frameworks/Python.framework/Versions/3.7/lib/python3.7/site-packages/requests/adapters.py\", line 449, in send\n    timeout\u003dtimeout\n  File \"/Users/XujieSong/Library/Python/3.7/lib/python/site-packages/urllib3/connectionpool.py\", line 641, in urlopen\n    _stacktrace\u003dsys.exc_info()[2])\n  File \"/Users/XujieSong/Library/Python/3.7/lib/python/site-packages/urllib3/util/retry.py\", line 399, in increment\n    raise MaxRetryError(_pool, url, error or ResponseError(cause))\nurllib3.exceptions.MaxRetryError: HTTPConnectionPool(host\u003d\u0027gp.baidu.com\u0027, port\u003d80): Max retries exceeded with url: /stocks/stockkline?from\u003dandroid\u0026os_ver\u003d21\u0026format\u003djson\u0026vv\u003d3.3.0\u0026uid\u003d\u0026BDUSS\u003d\u0026cuid\u003d9jg3uwqut4fbpo0b3f9vg0pamrgj2guetjln86b1\u0026channel\u003ddefault_channel\u0026device\u003dOPPOR9\u0026logid\u003d1559200886\u0026actionid\u003d1559200820\u0026device_net_type\u003dwifi\u0026period\u003dday\u0026stock_code\u003dusMA\u0026fq_type\u003dfront (Caused by NewConnectionError(\u0027\u003curllib3.connection.HTTPConnection object at 0x1076ccd30\u003e: Failed to establish a new connection: [Errno 8] nodename nor servname provided, or not known\u0027))\n\nDuring handling of the above exception, another exception occurred:\n\nTraceback (most recent call last):\n  File \"/Library/Frameworks/Python.framework/Versions/3.7/lib/python3.7/site-packages/abupy/MarketBu/ABuNetWork.py\", line 43, in get\n    resp \u003d requests.get(url\u003durl, params\u003dparams, headers\u003dheaders, **kwargs)\n  File \"/Library/Frameworks/Python.framework/Versions/3.7/lib/python3.7/site-packages/requests/api.py\", line 75, in get\n    return request(\u0027get\u0027, url, params\u003dparams, **kwargs)\n  File \"/Library/Frameworks/Python.framework/Versions/3.7/lib/python3.7/site-packages/requests/api.py\", line 60, in request\n    return session.request(method\u003dmethod, url\u003durl, **kwargs)\n  File \"/Library/Frameworks/Python.framework/Versions/3.7/lib/python3.7/site-packages/requests/sessions.py\", line 533, in request\n    resp \u003d self.send(prep, **send_kwargs)\n  File \"/Library/Frameworks/Python.framework/Versions/3.7/lib/python3.7/site-packages/requests/sessions.py\", line 646, in send\n    r \u003d adapter.send(request, **kwargs)\n  File \"/Library/Frameworks/Python.framework/Versions/3.7/lib/python3.7/site-packages/requests/adapters.py\", line 516, in send\n    raise ConnectionError(e, request\u003drequest)\nrequests.exceptions.ConnectionError: HTTPConnectionPool(host\u003d\u0027gp.baidu.com\u0027, port\u003d80): Max retries exceeded with url: /stocks/stockkline?from\u003dandroid\u0026os_ver\u003d21\u0026format\u003djson\u0026vv\u003d3.3.0\u0026uid\u003d\u0026BDUSS\u003d\u0026cuid\u003d9jg3uwqut4fbpo0b3f9vg0pamrgj2guetjln86b1\u0026channel\u003ddefault_channel\u0026device\u003dOPPOR9\u0026logid\u003d1559200886\u0026actionid\u003d1559200820\u0026device_net_type\u003dwifi\u0026period\u003dday\u0026stock_code\u003dusMA\u0026fq_type\u003dfront (Caused by NewConnectionError(\u0027\u003curllib3.connection.HTTPConnection object at 0x1076ccd30\u003e: Failed to establish a new connection: [Errno 8] nodename nor servname provided, or not known\u0027))\n",
            "HTTPConnectionPool(host\u003d\u0027gp.baidu.com\u0027, port\u003d80): Max retries exceeded with url: /stocks/stockkline?from\u003dandroid\u0026os_ver\u003d21\u0026format\u003djson\u0026vv\u003d3.3.0\u0026uid\u003d\u0026BDUSS\u003d\u0026cuid\u003d9jg3uwqut4fbpo0b3f9vg0pamrgj2guetjln86b1\u0026channel\u003ddefault_channel\u0026device\u003dOPPOR9\u0026logid\u003d1559200886\u0026actionid\u003d1559200820\u0026device_net_type\u003dwifi\u0026period\u003dday\u0026stock_code\u003dusMA\u0026fq_type\u003dfront (Caused by NewConnectionError(\u0027\u003curllib3.connection.HTTPConnection object at 0x1076cccf8\u003e: Failed to establish a new connection: [Errno 8] nodename nor servname provided, or not known\u0027))\nTraceback (most recent call last):\n  File \"/Users/XujieSong/Library/Python/3.7/lib/python/site-packages/urllib3/connection.py\", line 160, in _new_conn\n    (self._dns_host, self.port), self.timeout, **extra_kw)\n  File \"/Users/XujieSong/Library/Python/3.7/lib/python/site-packages/urllib3/util/connection.py\", line 57, in create_connection\n    for res in socket.getaddrinfo(host, port, family, socket.SOCK_STREAM):\n  File \"/Library/Frameworks/Python.framework/Versions/3.7/lib/python3.7/socket.py\", line 748, in getaddrinfo\n    for res in _socket.getaddrinfo(host, port, family, type, proto, flags):\nsocket.gaierror: [Errno 8] nodename nor servname provided, or not known\n\nDuring handling of the above exception, another exception occurred:\n\nTraceback (most recent call last):\n  File \"/Users/XujieSong/Library/Python/3.7/lib/python/site-packages/urllib3/connectionpool.py\", line 603, in urlopen\n    chunked\u003dchunked)\n  File \"/Users/XujieSong/Library/Python/3.7/lib/python/site-packages/urllib3/connectionpool.py\", line 355, in _make_request\n    conn.request(method, url, **httplib_request_kw)\n  File \"/Library/Frameworks/Python.framework/Versions/3.7/lib/python3.7/http/client.py\", line 1229, in request\n    self._send_request(method, url, body, headers, encode_chunked)\n  File \"/Library/Frameworks/Python.framework/Versions/3.7/lib/python3.7/http/client.py\", line 1275, in _send_request\n    self.endheaders(body, encode_chunked\u003dencode_chunked)\n  File \"/Library/Frameworks/Python.framework/Versions/3.7/lib/python3.7/http/client.py\", line 1224, in endheaders\n    self._send_output(message_body, encode_chunked\u003dencode_chunked)\n  File \"/Library/Frameworks/Python.framework/Versions/3.7/lib/python3.7/http/client.py\", line 1016, in _send_output\n    self.send(msg)\n  File \"/Library/Frameworks/Python.framework/Versions/3.7/lib/python3.7/http/client.py\", line 956, in send\n    self.connect()\n  File \"/Users/XujieSong/Library/Python/3.7/lib/python/site-packages/urllib3/connection.py\", line 183, in connect\n    conn \u003d self._new_conn()\n  File \"/Users/XujieSong/Library/Python/3.7/lib/python/site-packages/urllib3/connection.py\", line 169, in _new_conn\n    self, \"Failed to establish a new connection: %s\" % e)\nurllib3.exceptions.NewConnectionError: \u003curllib3.connection.HTTPConnection object at 0x1076cccf8\u003e: Failed to establish a new connection: [Errno 8] nodename nor servname provided, or not known\n\nDuring handling of the above exception, another exception occurred:\n\nTraceback (most recent call last):\n  File \"/Library/Frameworks/Python.framework/Versions/3.7/lib/python3.7/site-packages/requests/adapters.py\", line 449, in send\n    timeout\u003dtimeout\n  File \"/Users/XujieSong/Library/Python/3.7/lib/python/site-packages/urllib3/connectionpool.py\", line 641, in urlopen\n    _stacktrace\u003dsys.exc_info()[2])\n  File \"/Users/XujieSong/Library/Python/3.7/lib/python/site-packages/urllib3/util/retry.py\", line 399, in increment\n    raise MaxRetryError(_pool, url, error or ResponseError(cause))\nurllib3.exceptions.MaxRetryError: HTTPConnectionPool(host\u003d\u0027gp.baidu.com\u0027, port\u003d80): Max retries exceeded with url: /stocks/stockkline?from\u003dandroid\u0026os_ver\u003d21\u0026format\u003djson\u0026vv\u003d3.3.0\u0026uid\u003d\u0026BDUSS\u003d\u0026cuid\u003d9jg3uwqut4fbpo0b3f9vg0pamrgj2guetjln86b1\u0026channel\u003ddefault_channel\u0026device\u003dOPPOR9\u0026logid\u003d1559200886\u0026actionid\u003d1559200820\u0026device_net_type\u003dwifi\u0026period\u003dday\u0026stock_code\u003dusMA\u0026fq_type\u003dfront (Caused by NewConnectionError(\u0027\u003curllib3.connection.HTTPConnection object at 0x1076cccf8\u003e: Failed to establish a new connection: [Errno 8] nodename nor servname provided, or not known\u0027))\n\nDuring handling of the above exception, another exception occurred:\n\nTraceback (most recent call last):\n  File \"/Library/Frameworks/Python.framework/Versions/3.7/lib/python3.7/site-packages/abupy/MarketBu/ABuNetWork.py\", line 43, in get\n    resp \u003d requests.get(url\u003durl, params\u003dparams, headers\u003dheaders, **kwargs)\n  File \"/Library/Frameworks/Python.framework/Versions/3.7/lib/python3.7/site-packages/requests/api.py\", line 75, in get\n    return request(\u0027get\u0027, url, params\u003dparams, **kwargs)\n  File \"/Library/Frameworks/Python.framework/Versions/3.7/lib/python3.7/site-packages/requests/api.py\", line 60, in request\n    return session.request(method\u003dmethod, url\u003durl, **kwargs)\n  File \"/Library/Frameworks/Python.framework/Versions/3.7/lib/python3.7/site-packages/requests/sessions.py\", line 533, in request\n    resp \u003d self.send(prep, **send_kwargs)\n  File \"/Library/Frameworks/Python.framework/Versions/3.7/lib/python3.7/site-packages/requests/sessions.py\", line 646, in send\n    r \u003d adapter.send(request, **kwargs)\n  File \"/Library/Frameworks/Python.framework/Versions/3.7/lib/python3.7/site-packages/requests/adapters.py\", line 516, in send\n    raise ConnectionError(e, request\u003drequest)\nrequests.exceptions.ConnectionError: HTTPConnectionPool(host\u003d\u0027gp.baidu.com\u0027, port\u003d80): Max retries exceeded with url: /stocks/stockkline?from\u003dandroid\u0026os_ver\u003d21\u0026format\u003djson\u0026vv\u003d3.3.0\u0026uid\u003d\u0026BDUSS\u003d\u0026cuid\u003d9jg3uwqut4fbpo0b3f9vg0pamrgj2guetjln86b1\u0026channel\u003ddefault_channel\u0026device\u003dOPPOR9\u0026logid\u003d1559200886\u0026actionid\u003d1559200820\u0026device_net_type\u003dwifi\u0026period\u003dday\u0026stock_code\u003dusMA\u0026fq_type\u003dfront (Caused by NewConnectionError(\u0027\u003curllib3.connection.HTTPConnection object at 0x1076cccf8\u003e: Failed to establish a new connection: [Errno 8] nodename nor servname provided, or not known\u0027))\n",
            "HTTPConnectionPool(host\u003d\u0027gp.baidu.com\u0027, port\u003d80): Max retries exceeded with url: /stocks/stockkline?from\u003dandroid\u0026os_ver\u003d21\u0026format\u003djson\u0026vv\u003d3.3.0\u0026uid\u003d\u0026BDUSS\u003d\u0026cuid\u003d9jg3uwqut4fbpo0b3f9vg0pamrgj2guetjln86b1\u0026channel\u003ddefault_channel\u0026device\u003dOPPOR9\u0026logid\u003d1559200886\u0026actionid\u003d1559200820\u0026device_net_type\u003dwifi\u0026period\u003dday\u0026stock_code\u003dusMA\u0026fq_type\u003dfront (Caused by NewConnectionError(\u0027\u003curllib3.connection.HTTPConnection object at 0x1076ccd30\u003e: Failed to establish a new connection: [Errno 8] nodename nor servname provided, or not known\u0027))\nTraceback (most recent call last):\n  File \"/Users/XujieSong/Library/Python/3.7/lib/python/site-packages/urllib3/connection.py\", line 160, in _new_conn\n    (self._dns_host, self.port), self.timeout, **extra_kw)\n  File \"/Users/XujieSong/Library/Python/3.7/lib/python/site-packages/urllib3/util/connection.py\", line 57, in create_connection\n    for res in socket.getaddrinfo(host, port, family, socket.SOCK_STREAM):\n  File \"/Library/Frameworks/Python.framework/Versions/3.7/lib/python3.7/socket.py\", line 748, in getaddrinfo\n    for res in _socket.getaddrinfo(host, port, family, type, proto, flags):\nsocket.gaierror: [Errno 8] nodename nor servname provided, or not known\n\nDuring handling of the above exception, another exception occurred:\n\nTraceback (most recent call last):\n  File \"/Users/XujieSong/Library/Python/3.7/lib/python/site-packages/urllib3/connectionpool.py\", line 603, in urlopen\n    chunked\u003dchunked)\n  File \"/Users/XujieSong/Library/Python/3.7/lib/python/site-packages/urllib3/connectionpool.py\", line 355, in _make_request\n    conn.request(method, url, **httplib_request_kw)\n  File \"/Library/Frameworks/Python.framework/Versions/3.7/lib/python3.7/http/client.py\", line 1229, in request\n    self._send_request(method, url, body, headers, encode_chunked)\n  File \"/Library/Frameworks/Python.framework/Versions/3.7/lib/python3.7/http/client.py\", line 1275, in _send_request\n    self.endheaders(body, encode_chunked\u003dencode_chunked)\n  File \"/Library/Frameworks/Python.framework/Versions/3.7/lib/python3.7/http/client.py\", line 1224, in endheaders\n    self._send_output(message_body, encode_chunked\u003dencode_chunked)\n  File \"/Library/Frameworks/Python.framework/Versions/3.7/lib/python3.7/http/client.py\", line 1016, in _send_output\n    self.send(msg)\n  File \"/Library/Frameworks/Python.framework/Versions/3.7/lib/python3.7/http/client.py\", line 956, in send\n    self.connect()\n  File \"/Users/XujieSong/Library/Python/3.7/lib/python/site-packages/urllib3/connection.py\", line 183, in connect\n    conn \u003d self._new_conn()\n  File \"/Users/XujieSong/Library/Python/3.7/lib/python/site-packages/urllib3/connection.py\", line 169, in _new_conn\n    self, \"Failed to establish a new connection: %s\" % e)\nurllib3.exceptions.NewConnectionError: \u003curllib3.connection.HTTPConnection object at 0x1076ccd30\u003e: Failed to establish a new connection: [Errno 8] nodename nor servname provided, or not known\n\nDuring handling of the above exception, another exception occurred:\n\nTraceback (most recent call last):\n  File \"/Library/Frameworks/Python.framework/Versions/3.7/lib/python3.7/site-packages/requests/adapters.py\", line 449, in send\n    timeout\u003dtimeout\n  File \"/Users/XujieSong/Library/Python/3.7/lib/python/site-packages/urllib3/connectionpool.py\", line 641, in urlopen\n    _stacktrace\u003dsys.exc_info()[2])\n  File \"/Users/XujieSong/Library/Python/3.7/lib/python/site-packages/urllib3/util/retry.py\", line 399, in increment\n    raise MaxRetryError(_pool, url, error or ResponseError(cause))\nurllib3.exceptions.MaxRetryError: HTTPConnectionPool(host\u003d\u0027gp.baidu.com\u0027, port\u003d80): Max retries exceeded with url: /stocks/stockkline?from\u003dandroid\u0026os_ver\u003d21\u0026format\u003djson\u0026vv\u003d3.3.0\u0026uid\u003d\u0026BDUSS\u003d\u0026cuid\u003d9jg3uwqut4fbpo0b3f9vg0pamrgj2guetjln86b1\u0026channel\u003ddefault_channel\u0026device\u003dOPPOR9\u0026logid\u003d1559200886\u0026actionid\u003d1559200820\u0026device_net_type\u003dwifi\u0026period\u003dday\u0026stock_code\u003dusMA\u0026fq_type\u003dfront (Caused by NewConnectionError(\u0027\u003curllib3.connection.HTTPConnection object at 0x1076ccd30\u003e: Failed to establish a new connection: [Errno 8] nodename nor servname provided, or not known\u0027))\n\nDuring handling of the above exception, another exception occurred:\n\nTraceback (most recent call last):\n  File \"/Library/Frameworks/Python.framework/Versions/3.7/lib/python3.7/site-packages/abupy/MarketBu/ABuNetWork.py\", line 43, in get\n    resp \u003d requests.get(url\u003durl, params\u003dparams, headers\u003dheaders, **kwargs)\n  File \"/Library/Frameworks/Python.framework/Versions/3.7/lib/python3.7/site-packages/requests/api.py\", line 75, in get\n    return request(\u0027get\u0027, url, params\u003dparams, **kwargs)\n  File \"/Library/Frameworks/Python.framework/Versions/3.7/lib/python3.7/site-packages/requests/api.py\", line 60, in request\n    return session.request(method\u003dmethod, url\u003durl, **kwargs)\n  File \"/Library/Frameworks/Python.framework/Versions/3.7/lib/python3.7/site-packages/requests/sessions.py\", line 533, in request\n    resp \u003d self.send(prep, **send_kwargs)\n  File \"/Library/Frameworks/Python.framework/Versions/3.7/lib/python3.7/site-packages/requests/sessions.py\", line 646, in send\n    r \u003d adapter.send(request, **kwargs)\n  File \"/Library/Frameworks/Python.framework/Versions/3.7/lib/python3.7/site-packages/requests/adapters.py\", line 516, in send\n    raise ConnectionError(e, request\u003drequest)\nrequests.exceptions.ConnectionError: HTTPConnectionPool(host\u003d\u0027gp.baidu.com\u0027, port\u003d80): Max retries exceeded with url: /stocks/stockkline?from\u003dandroid\u0026os_ver\u003d21\u0026format\u003djson\u0026vv\u003d3.3.0\u0026uid\u003d\u0026BDUSS\u003d\u0026cuid\u003d9jg3uwqut4fbpo0b3f9vg0pamrgj2guetjln86b1\u0026channel\u003ddefault_channel\u0026device\u003dOPPOR9\u0026logid\u003d1559200886\u0026actionid\u003d1559200820\u0026device_net_type\u003dwifi\u0026period\u003dday\u0026stock_code\u003dusMA\u0026fq_type\u003dfront (Caused by NewConnectionError(\u0027\u003curllib3.connection.HTTPConnection object at 0x1076ccd30\u003e: Failed to establish a new connection: [Errno 8] nodename nor servname provided, or not known\u0027))\n"
          ],
          "output_type": "stream"
        },
        {
          "traceback": [
            "\u001b[0;31m---------------------------------------------------------------------------\u001b[0m",
            "\u001b[0;31mAttributeError\u001b[0m                            Traceback (most recent call last)",
            "\u001b[0;32m\u003cipython-input-43-33f8bd290749\u003e\u001b[0m in \u001b[0;36m\u003cmodule\u003e\u001b[0;34m\u001b[0m\n\u001b[1;32m      2\u001b[0m for keep_stock_threshold, buy_change_threshold in itertools.product(\n\u001b[1;32m      3\u001b[0m     keep_stock_days_list, buy_change_list):\n\u001b[0;32m----\u003e 4\u001b[0;31m     \u001b[0mresult\u001b[0m\u001b[0;34m.\u001b[0m\u001b[0mappend\u001b[0m\u001b[0;34m(\u001b[0m\u001b[0mcalc\u001b[0m\u001b[0;34m(\u001b[0m\u001b[0mkeep_stock_threshold\u001b[0m\u001b[0;34m,\u001b[0m \u001b[0mbuy_change_threshold\u001b[0m\u001b[0;34m)\u001b[0m\u001b[0;34m)\u001b[0m\u001b[0;34m\u001b[0m\u001b[0;34m\u001b[0m\u001b[0m\n\u001b[0m\u001b[1;32m      5\u001b[0m \u001b[0;34m\u001b[0m\u001b[0m\n\u001b[1;32m      6\u001b[0m \u001b[0mprint\u001b[0m\u001b[0;34m(\u001b[0m\u001b[0;34m\u0027Cartesian product produced {} results\u0027\u001b[0m\u001b[0;34m.\u001b[0m\u001b[0mformat\u001b[0m\u001b[0;34m(\u001b[0m\u001b[0mlen\u001b[0m\u001b[0;34m(\u001b[0m\u001b[0mresult\u001b[0m\u001b[0;34m)\u001b[0m\u001b[0;34m)\u001b[0m\u001b[0;34m)\u001b[0m\u001b[0;34m\u001b[0m\u001b[0;34m\u001b[0m\u001b[0m\n",
            "\u001b[0;32m\u003cipython-input-31-a49e3f666b23\u003e\u001b[0m in \u001b[0;36mcalc\u001b[0;34m(keep_stock_threshold, buy_change_threshold)\u001b[0m\n\u001b[1;32m     23\u001b[0m     \u001b[0;32mfrom\u001b[0m \u001b[0mabupy\u001b[0m \u001b[0;32mimport\u001b[0m \u001b[0mABuSymbolPd\u001b[0m\u001b[0;34m,\u001b[0m \u001b[0mEMarketDataSplitMode\u001b[0m\u001b[0;34m\u001b[0m\u001b[0;34m\u001b[0m\u001b[0m\n\u001b[1;32m     24\u001b[0m     \u001b[0;31m# List 2 years of MasterCard closing price to list()\u001b[0m\u001b[0;34m\u001b[0m\u001b[0;34m\u001b[0m\u001b[0;34m\u001b[0m\u001b[0m\n\u001b[0;32m---\u003e 25\u001b[0;31m     \u001b[0mprice_array\u001b[0m \u001b[0;34m\u003d\u001b[0m \u001b[0mABuSymbolPd\u001b[0m\u001b[0;34m.\u001b[0m\u001b[0mmake_kl_df\u001b[0m\u001b[0;34m(\u001b[0m\u001b[0;34m\u0027MA\u0027\u001b[0m\u001b[0;34m,\u001b[0m \u001b[0mEMarketDataSplitMode\u001b[0m\u001b[0;34m.\u001b[0m\u001b[0mE_DATA_SPLIT_SE\u001b[0m\u001b[0;34m)\u001b[0m\u001b[0;34m.\u001b[0m\u001b[0mclose\u001b[0m\u001b[0;34m.\u001b[0m\u001b[0mtolist\u001b[0m\u001b[0;34m(\u001b[0m\u001b[0;34m)\u001b[0m\u001b[0;34m\u001b[0m\u001b[0;34m\u001b[0m\u001b[0m\n\u001b[0m\u001b[1;32m     26\u001b[0m     \u001b[0mdate_array\u001b[0m \u001b[0;34m\u003d\u001b[0m \u001b[0mABuSymbolPd\u001b[0m\u001b[0;34m.\u001b[0m\u001b[0mmake_kl_df\u001b[0m\u001b[0;34m(\u001b[0m\u001b[0;34m\u0027MA\u0027\u001b[0m\u001b[0;34m,\u001b[0m \u001b[0mEMarketDataSplitMode\u001b[0m\u001b[0;34m.\u001b[0m\u001b[0mE_DATA_SPLIT_SE\u001b[0m\u001b[0;34m)\u001b[0m\u001b[0;34m.\u001b[0m\u001b[0mdate\u001b[0m\u001b[0;34m.\u001b[0m\u001b[0mtolist\u001b[0m\u001b[0;34m(\u001b[0m\u001b[0;34m)\u001b[0m\u001b[0;34m\u001b[0m\u001b[0;34m\u001b[0m\u001b[0m\n\u001b[1;32m     27\u001b[0m     \u001b[0mprice_array\u001b[0m\u001b[0;34m[\u001b[0m\u001b[0;34m-\u001b[0m\u001b[0;36m5\u001b[0m\u001b[0;34m:\u001b[0m\u001b[0;34m]\u001b[0m\u001b[0;34m,\u001b[0m \u001b[0mdate_array\u001b[0m\u001b[0;34m[\u001b[0m\u001b[0;34m-\u001b[0m\u001b[0;36m5\u001b[0m\u001b[0;34m:\u001b[0m\u001b[0;34m]\u001b[0m\u001b[0;34m\u001b[0m\u001b[0;34m\u001b[0m\u001b[0m\n",
            "\u001b[0;31mAttributeError\u001b[0m: \u0027NoneType\u0027 object has no attribute \u0027close\u0027"
          ],
          "ename": "AttributeError",
          "evalue": "\u0027NoneType\u0027 object has no attribute \u0027close\u0027",
          "output_type": "error"
        }
      ],
      "source": "result \u003d []\nfor keep_stock_threshold, buy_change_threshold in itertools.product(\n    keep_stock_days_list, buy_change_list):\n    result.append(calc(keep_stock_threshold, buy_change_threshold))\n\nprint(\u0027Cartesian product produced {} results\u0027.format(len(result)))\n",
      "metadata": {
        "pycharm": {
          "metadata": false,
          "name": "#%% Use Cartesian product to find the best combination\n",
          "is_executing": false
        }
      }
    },
    {
      "cell_type": "code",
      "execution_count": 41,
      "outputs": [
        {
          "data": {
            "text/plain": "[(0.37900000000000006, 8, -0.05),\n (0.306, 6, -0.05),\n (0.29800000000000004, 20, -0.05),\n (0.29300000000000004, 12, -0.05),\n (0.292, 8, -0.06),\n (0.289, 10, -0.05),\n (0.2749999999999999, 28, -0.05),\n (0.2719999999999999, 26, -0.05),\n (0.263, 16, -0.05),\n (0.2560000000000001, 18, -0.05)]"
          },
          "metadata": {},
          "output_type": "execute_result",
          "execution_count": 41
        }
      ],
      "source": "sorted(result)[::-1][:10]",
      "metadata": {
        "pycharm": {
          "metadata": false,
          "name": "#%% Reverse the result, find the top 10, sort\n",
          "is_executing": false
        }
      }
    },
    {
      "cell_type": "code",
      "execution_count": null,
      "outputs": [],
      "source": "",
      "metadata": {
        "pycharm": {
          "metadata": false,
          "name": "#%%"
        }
      }
    }
  ],
  "metadata": {
    "language_info": {
      "codemirror_mode": {
        "name": "ipython",
        "version": 2
      },
      "file_extension": ".py",
      "mimetype": "text/x-python",
      "name": "python",
      "nbconvert_exporter": "python",
      "pygments_lexer": "ipython2",
      "version": "2.7.6"
    },
    "kernelspec": {
      "name": "python3",
      "language": "python",
      "display_name": "Python 3"
    }
  },
  "nbformat": 4,
  "nbformat_minor": 0
}