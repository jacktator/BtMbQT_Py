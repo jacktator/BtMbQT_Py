{
  "cells": [
    {
      "cell_type": "code",
      "execution_count": null,
      "outputs": [],
      "source": "import import_ipynb\nfrom strategy_base import TradeStrategyBase\n\nclass TradeStrategy2(TradeStrategyBase):\n    \"\"\"\n    Trade Strategy 2: Reversion Strategy. \n    When price drops two days in a row, and more than 10% in absolute total (s_buy_change_threshold), buy and hold s_keep_stock_threshold (10) days. \n    \"\"\"\n    # Number of days for hold after buy in\n    s_keep_stock_threshold \u003d 10\n    # Absolute threshold for buy in\n    s_buy_change_threshold \u003d 0.10\n    \n    def __init__(self):\n        self.held_period_days \u003d 0\n        \n    def buy_strategy(self, trade_index, trade_day, trade_days):\n        if self.held_period_days \u003d\u003d 0 and trade_index \u003e\u003d 1:\n            \"\"\"\n            When we do not have any stock holdings\n            We need to start earliest from the 2nd day, because we need one days data to know if price dropped.\n            \"\"\"\n            # trade_day.change \u003c 0 : Tells if price dropped\n            is_today_price_down \u003d trade_day.change \u003c 0\n            # Check if yesterday was down\n            is_yesterday_price_down \u003d trade_days[trade_index - 1].change \u003c 0\n            \n            # Sum of all drops\n            total_down_rate \u003d trade_day.change + trade_days[trade_index - 1].change\n            \n            if is_today_price_down and \\\n                is_yesterday_price_down and \\\n                    total_down_rate \u003c TradeStrategy2.s_buy_change_threshold:\n                # Buy Criteria met, buy\n                self.held_period_days +\u003d 1\n                \n        elif self.held_period_days \u003e 0:\n            # self.held_period_days \u003e 0, means have holdings. \n            self.held_period_days +\u003d 1\n    \n    def sell_strategy(self, trade_index, trade_day, trade_days):\n        if self.held_period_days \u003e\u003d TradeStrategy2.s_keep_stock_threshold:\n            # When held_period_days meets criteria, sell\n            self.held_period_days \u003d 0\n            \n    @classmethod\n    def set_keep_stock_threshold(cls, keep_stock_threshold):\n        cls.s_keep_stock_threshold \u003d keep_stock_threshold\n        \n    @staticmethod\n    def set_buy_change_threshold(buy_change_threshold):\n        TradeStrategy2.s_buy_change_threshold \u003d buy_change_threshold\n        ",
      "metadata": {
        "pycharm": {
          "metadata": false,
          "name": "#%% Trade Strategy 2: Reversion Strategy after Double Drop\n"
        }
      }
    }
  ],
  "metadata": {
    "language_info": {
      "codemirror_mode": {
        "name": "ipython",
        "version": 2
      },
      "file_extension": ".py",
      "mimetype": "text/x-python",
      "name": "python",
      "nbconvert_exporter": "python",
      "pygments_lexer": "ipython2",
      "version": "2.7.6"
    },
    "kernelspec": {
      "name": "python3",
      "language": "python",
      "display_name": "Python 3"
    },
    "stem_cell": {
      "cell_type": "raw",
      "source": "",
      "metadata": {
        "pycharm": {
          "metadata": false
        }
      }
    }
  },
  "nbformat": 4,
  "nbformat_minor": 0
}