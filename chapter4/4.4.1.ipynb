{
  "cells": [
    {
      "cell_type": "code",
      "execution_count": 17,
      "metadata": {
        "collapsed": true,
        "pycharm": {
          "is_executing": false
        }
      },
      "outputs": [
        {
          "data": {
            "text/plain": "            close   high    low  p_change   open  pre_close   volume  \\\n2018-12-24  89.50  91.55  89.50    -2.004  90.74      91.33  3190855   \n2018-12-26  93.84  93.89  89.05     4.849  89.85      89.50  5383666   \n2018-12-27  93.84  93.89  89.05     0.000  89.85      93.84  5383666   \n2018-12-28  93.84  93.89  89.05     0.000  89.85      93.84  5383666   \n2018-12-31  93.84  93.89  89.05     0.000  89.85      93.84  5383666   \n\n                date  date_week  key     atr21     atr14  \n2018-12-24  20181224          0  392  4.443110  4.863392  \n2018-12-26  20181226          2  393  4.479191  4.860273  \n2018-12-27  20181227          3  394  4.511992  4.857570  \n2018-12-28  20181228          4  395  4.541811  4.855227  \n2018-12-31  20181231          0  396  4.568919  4.853197  ",
            "text/html": "\u003cdiv\u003e\n\u003cstyle scoped\u003e\n    .dataframe tbody tr th:only-of-type {\n        vertical-align: middle;\n    }\n\n    .dataframe tbody tr th {\n        vertical-align: top;\n    }\n\n    .dataframe thead th {\n        text-align: right;\n    }\n\u003c/style\u003e\n\u003ctable border\u003d\"1\" class\u003d\"dataframe\"\u003e\n  \u003cthead\u003e\n    \u003ctr style\u003d\"text-align: right;\"\u003e\n      \u003cth\u003e\u003c/th\u003e\n      \u003cth\u003eclose\u003c/th\u003e\n      \u003cth\u003ehigh\u003c/th\u003e\n      \u003cth\u003elow\u003c/th\u003e\n      \u003cth\u003ep_change\u003c/th\u003e\n      \u003cth\u003eopen\u003c/th\u003e\n      \u003cth\u003epre_close\u003c/th\u003e\n      \u003cth\u003evolume\u003c/th\u003e\n      \u003cth\u003edate\u003c/th\u003e\n      \u003cth\u003edate_week\u003c/th\u003e\n      \u003cth\u003ekey\u003c/th\u003e\n      \u003cth\u003eatr21\u003c/th\u003e\n      \u003cth\u003eatr14\u003c/th\u003e\n    \u003c/tr\u003e\n  \u003c/thead\u003e\n  \u003ctbody\u003e\n    \u003ctr\u003e\n      \u003cth\u003e2018-12-24\u003c/th\u003e\n      \u003ctd\u003e89.50\u003c/td\u003e\n      \u003ctd\u003e91.55\u003c/td\u003e\n      \u003ctd\u003e89.50\u003c/td\u003e\n      \u003ctd\u003e-2.004\u003c/td\u003e\n      \u003ctd\u003e90.74\u003c/td\u003e\n      \u003ctd\u003e91.33\u003c/td\u003e\n      \u003ctd\u003e3190855\u003c/td\u003e\n      \u003ctd\u003e20181224\u003c/td\u003e\n      \u003ctd\u003e0\u003c/td\u003e\n      \u003ctd\u003e392\u003c/td\u003e\n      \u003ctd\u003e4.443110\u003c/td\u003e\n      \u003ctd\u003e4.863392\u003c/td\u003e\n    \u003c/tr\u003e\n    \u003ctr\u003e\n      \u003cth\u003e2018-12-26\u003c/th\u003e\n      \u003ctd\u003e93.84\u003c/td\u003e\n      \u003ctd\u003e93.89\u003c/td\u003e\n      \u003ctd\u003e89.05\u003c/td\u003e\n      \u003ctd\u003e4.849\u003c/td\u003e\n      \u003ctd\u003e89.85\u003c/td\u003e\n      \u003ctd\u003e89.50\u003c/td\u003e\n      \u003ctd\u003e5383666\u003c/td\u003e\n      \u003ctd\u003e20181226\u003c/td\u003e\n      \u003ctd\u003e2\u003c/td\u003e\n      \u003ctd\u003e393\u003c/td\u003e\n      \u003ctd\u003e4.479191\u003c/td\u003e\n      \u003ctd\u003e4.860273\u003c/td\u003e\n    \u003c/tr\u003e\n    \u003ctr\u003e\n      \u003cth\u003e2018-12-27\u003c/th\u003e\n      \u003ctd\u003e93.84\u003c/td\u003e\n      \u003ctd\u003e93.89\u003c/td\u003e\n      \u003ctd\u003e89.05\u003c/td\u003e\n      \u003ctd\u003e0.000\u003c/td\u003e\n      \u003ctd\u003e89.85\u003c/td\u003e\n      \u003ctd\u003e93.84\u003c/td\u003e\n      \u003ctd\u003e5383666\u003c/td\u003e\n      \u003ctd\u003e20181227\u003c/td\u003e\n      \u003ctd\u003e3\u003c/td\u003e\n      \u003ctd\u003e394\u003c/td\u003e\n      \u003ctd\u003e4.511992\u003c/td\u003e\n      \u003ctd\u003e4.857570\u003c/td\u003e\n    \u003c/tr\u003e\n    \u003ctr\u003e\n      \u003cth\u003e2018-12-28\u003c/th\u003e\n      \u003ctd\u003e93.84\u003c/td\u003e\n      \u003ctd\u003e93.89\u003c/td\u003e\n      \u003ctd\u003e89.05\u003c/td\u003e\n      \u003ctd\u003e0.000\u003c/td\u003e\n      \u003ctd\u003e89.85\u003c/td\u003e\n      \u003ctd\u003e93.84\u003c/td\u003e\n      \u003ctd\u003e5383666\u003c/td\u003e\n      \u003ctd\u003e20181228\u003c/td\u003e\n      \u003ctd\u003e4\u003c/td\u003e\n      \u003ctd\u003e395\u003c/td\u003e\n      \u003ctd\u003e4.541811\u003c/td\u003e\n      \u003ctd\u003e4.855227\u003c/td\u003e\n    \u003c/tr\u003e\n    \u003ctr\u003e\n      \u003cth\u003e2018-12-31\u003c/th\u003e\n      \u003ctd\u003e93.84\u003c/td\u003e\n      \u003ctd\u003e93.89\u003c/td\u003e\n      \u003ctd\u003e89.05\u003c/td\u003e\n      \u003ctd\u003e0.000\u003c/td\u003e\n      \u003ctd\u003e89.85\u003c/td\u003e\n      \u003ctd\u003e93.84\u003c/td\u003e\n      \u003ctd\u003e5383666\u003c/td\u003e\n      \u003ctd\u003e20181231\u003c/td\u003e\n      \u003ctd\u003e0\u003c/td\u003e\n      \u003ctd\u003e396\u003c/td\u003e\n      \u003ctd\u003e4.568919\u003c/td\u003e\n      \u003ctd\u003e4.853197\u003c/td\u003e\n    \u003c/tr\u003e\n  \u003c/tbody\u003e\n\u003c/table\u003e\n\u003c/div\u003e"
          },
          "metadata": {},
          "output_type": "execute_result",
          "execution_count": 17
        }
      ],
      "source": "import pandas as pd\nimport numpy as np\n\namex_df \u003d pd.read_csv(\u0027./gen/amex_df.csv\u0027,\n                           parse_dates\u003dTrue,\n                           index_col\u003d0)\namex_df.tail()"
    },
    {
      "cell_type": "code",
      "execution_count": 18,
      "outputs": [],
      "source": "amex_df[\u0027positive\u0027] \u003d np.where(\n    amex_df.p_change \u003e 0, 1, 0\n)",
      "metadata": {
        "pycharm": {
          "metadata": false,
          "name": "#%%\n",
          "is_executing": false
        }
      }
    },
    {
      "cell_type": "code",
      "execution_count": 19,
      "outputs": [
        {
          "data": {
            "text/plain": "            close   high    low  p_change   open  pre_close   volume  \\\n2018-12-24  89.50  91.55  89.50    -2.004  90.74      91.33  3190855   \n2018-12-26  93.84  93.89  89.05     4.849  89.85      89.50  5383666   \n2018-12-27  93.84  93.89  89.05     0.000  89.85      93.84  5383666   \n2018-12-28  93.84  93.89  89.05     0.000  89.85      93.84  5383666   \n2018-12-31  93.84  93.89  89.05     0.000  89.85      93.84  5383666   \n\n                date  date_week  key     atr21     atr14  positive  \n2018-12-24  20181224          0  392  4.443110  4.863392         0  \n2018-12-26  20181226          2  393  4.479191  4.860273         1  \n2018-12-27  20181227          3  394  4.511992  4.857570         0  \n2018-12-28  20181228          4  395  4.541811  4.855227         0  \n2018-12-31  20181231          0  396  4.568919  4.853197         0  ",
            "text/html": "\u003cdiv\u003e\n\u003cstyle scoped\u003e\n    .dataframe tbody tr th:only-of-type {\n        vertical-align: middle;\n    }\n\n    .dataframe tbody tr th {\n        vertical-align: top;\n    }\n\n    .dataframe thead th {\n        text-align: right;\n    }\n\u003c/style\u003e\n\u003ctable border\u003d\"1\" class\u003d\"dataframe\"\u003e\n  \u003cthead\u003e\n    \u003ctr style\u003d\"text-align: right;\"\u003e\n      \u003cth\u003e\u003c/th\u003e\n      \u003cth\u003eclose\u003c/th\u003e\n      \u003cth\u003ehigh\u003c/th\u003e\n      \u003cth\u003elow\u003c/th\u003e\n      \u003cth\u003ep_change\u003c/th\u003e\n      \u003cth\u003eopen\u003c/th\u003e\n      \u003cth\u003epre_close\u003c/th\u003e\n      \u003cth\u003evolume\u003c/th\u003e\n      \u003cth\u003edate\u003c/th\u003e\n      \u003cth\u003edate_week\u003c/th\u003e\n      \u003cth\u003ekey\u003c/th\u003e\n      \u003cth\u003eatr21\u003c/th\u003e\n      \u003cth\u003eatr14\u003c/th\u003e\n      \u003cth\u003epositive\u003c/th\u003e\n    \u003c/tr\u003e\n  \u003c/thead\u003e\n  \u003ctbody\u003e\n    \u003ctr\u003e\n      \u003cth\u003e2018-12-24\u003c/th\u003e\n      \u003ctd\u003e89.50\u003c/td\u003e\n      \u003ctd\u003e91.55\u003c/td\u003e\n      \u003ctd\u003e89.50\u003c/td\u003e\n      \u003ctd\u003e-2.004\u003c/td\u003e\n      \u003ctd\u003e90.74\u003c/td\u003e\n      \u003ctd\u003e91.33\u003c/td\u003e\n      \u003ctd\u003e3190855\u003c/td\u003e\n      \u003ctd\u003e20181224\u003c/td\u003e\n      \u003ctd\u003e0\u003c/td\u003e\n      \u003ctd\u003e392\u003c/td\u003e\n      \u003ctd\u003e4.443110\u003c/td\u003e\n      \u003ctd\u003e4.863392\u003c/td\u003e\n      \u003ctd\u003e0\u003c/td\u003e\n    \u003c/tr\u003e\n    \u003ctr\u003e\n      \u003cth\u003e2018-12-26\u003c/th\u003e\n      \u003ctd\u003e93.84\u003c/td\u003e\n      \u003ctd\u003e93.89\u003c/td\u003e\n      \u003ctd\u003e89.05\u003c/td\u003e\n      \u003ctd\u003e4.849\u003c/td\u003e\n      \u003ctd\u003e89.85\u003c/td\u003e\n      \u003ctd\u003e89.50\u003c/td\u003e\n      \u003ctd\u003e5383666\u003c/td\u003e\n      \u003ctd\u003e20181226\u003c/td\u003e\n      \u003ctd\u003e2\u003c/td\u003e\n      \u003ctd\u003e393\u003c/td\u003e\n      \u003ctd\u003e4.479191\u003c/td\u003e\n      \u003ctd\u003e4.860273\u003c/td\u003e\n      \u003ctd\u003e1\u003c/td\u003e\n    \u003c/tr\u003e\n    \u003ctr\u003e\n      \u003cth\u003e2018-12-27\u003c/th\u003e\n      \u003ctd\u003e93.84\u003c/td\u003e\n      \u003ctd\u003e93.89\u003c/td\u003e\n      \u003ctd\u003e89.05\u003c/td\u003e\n      \u003ctd\u003e0.000\u003c/td\u003e\n      \u003ctd\u003e89.85\u003c/td\u003e\n      \u003ctd\u003e93.84\u003c/td\u003e\n      \u003ctd\u003e5383666\u003c/td\u003e\n      \u003ctd\u003e20181227\u003c/td\u003e\n      \u003ctd\u003e3\u003c/td\u003e\n      \u003ctd\u003e394\u003c/td\u003e\n      \u003ctd\u003e4.511992\u003c/td\u003e\n      \u003ctd\u003e4.857570\u003c/td\u003e\n      \u003ctd\u003e0\u003c/td\u003e\n    \u003c/tr\u003e\n    \u003ctr\u003e\n      \u003cth\u003e2018-12-28\u003c/th\u003e\n      \u003ctd\u003e93.84\u003c/td\u003e\n      \u003ctd\u003e93.89\u003c/td\u003e\n      \u003ctd\u003e89.05\u003c/td\u003e\n      \u003ctd\u003e0.000\u003c/td\u003e\n      \u003ctd\u003e89.85\u003c/td\u003e\n      \u003ctd\u003e93.84\u003c/td\u003e\n      \u003ctd\u003e5383666\u003c/td\u003e\n      \u003ctd\u003e20181228\u003c/td\u003e\n      \u003ctd\u003e4\u003c/td\u003e\n      \u003ctd\u003e395\u003c/td\u003e\n      \u003ctd\u003e4.541811\u003c/td\u003e\n      \u003ctd\u003e4.855227\u003c/td\u003e\n      \u003ctd\u003e0\u003c/td\u003e\n    \u003c/tr\u003e\n    \u003ctr\u003e\n      \u003cth\u003e2018-12-31\u003c/th\u003e\n      \u003ctd\u003e93.84\u003c/td\u003e\n      \u003ctd\u003e93.89\u003c/td\u003e\n      \u003ctd\u003e89.05\u003c/td\u003e\n      \u003ctd\u003e0.000\u003c/td\u003e\n      \u003ctd\u003e89.85\u003c/td\u003e\n      \u003ctd\u003e93.84\u003c/td\u003e\n      \u003ctd\u003e5383666\u003c/td\u003e\n      \u003ctd\u003e20181231\u003c/td\u003e\n      \u003ctd\u003e0\u003c/td\u003e\n      \u003ctd\u003e396\u003c/td\u003e\n      \u003ctd\u003e4.568919\u003c/td\u003e\n      \u003ctd\u003e4.853197\u003c/td\u003e\n      \u003ctd\u003e0\u003c/td\u003e\n    \u003c/tr\u003e\n  \u003c/tbody\u003e\n\u003c/table\u003e\n\u003c/div\u003e"
          },
          "metadata": {},
          "output_type": "execute_result",
          "execution_count": 19
        }
      ],
      "source": "amex_df.tail()\n",
      "metadata": {
        "pycharm": {
          "metadata": false,
          "name": "#%%\n",
          "is_executing": false
        }
      }
    },
    {
      "cell_type": "code",
      "execution_count": 20,
      "outputs": [
        {
          "data": {
            "text/plain": "positive    0   1\ndate_week        \n0          37  39\n1          35  45\n2          38  42\n3          37  43\n4          40  41",
            "text/html": "\u003cdiv\u003e\n\u003cstyle scoped\u003e\n    .dataframe tbody tr th:only-of-type {\n        vertical-align: middle;\n    }\n\n    .dataframe tbody tr th {\n        vertical-align: top;\n    }\n\n    .dataframe thead th {\n        text-align: right;\n    }\n\u003c/style\u003e\n\u003ctable border\u003d\"1\" class\u003d\"dataframe\"\u003e\n  \u003cthead\u003e\n    \u003ctr style\u003d\"text-align: right;\"\u003e\n      \u003cth\u003epositive\u003c/th\u003e\n      \u003cth\u003e0\u003c/th\u003e\n      \u003cth\u003e1\u003c/th\u003e\n    \u003c/tr\u003e\n    \u003ctr\u003e\n      \u003cth\u003edate_week\u003c/th\u003e\n      \u003cth\u003e\u003c/th\u003e\n      \u003cth\u003e\u003c/th\u003e\n    \u003c/tr\u003e\n  \u003c/thead\u003e\n  \u003ctbody\u003e\n    \u003ctr\u003e\n      \u003cth\u003e0\u003c/th\u003e\n      \u003ctd\u003e37\u003c/td\u003e\n      \u003ctd\u003e39\u003c/td\u003e\n    \u003c/tr\u003e\n    \u003ctr\u003e\n      \u003cth\u003e1\u003c/th\u003e\n      \u003ctd\u003e35\u003c/td\u003e\n      \u003ctd\u003e45\u003c/td\u003e\n    \u003c/tr\u003e\n    \u003ctr\u003e\n      \u003cth\u003e2\u003c/th\u003e\n      \u003ctd\u003e38\u003c/td\u003e\n      \u003ctd\u003e42\u003c/td\u003e\n    \u003c/tr\u003e\n    \u003ctr\u003e\n      \u003cth\u003e3\u003c/th\u003e\n      \u003ctd\u003e37\u003c/td\u003e\n      \u003ctd\u003e43\u003c/td\u003e\n    \u003c/tr\u003e\n    \u003ctr\u003e\n      \u003cth\u003e4\u003c/th\u003e\n      \u003ctd\u003e40\u003c/td\u003e\n      \u003ctd\u003e41\u003c/td\u003e\n    \u003c/tr\u003e\n  \u003c/tbody\u003e\n\u003c/table\u003e\n\u003c/div\u003e"
          },
          "metadata": {},
          "output_type": "execute_result",
          "execution_count": 20
        }
      ],
      "source": "\nxt \u003d pd.crosstab(amex_df.date_week,\n                 amex_df.positive)\nxt",
      "metadata": {
        "pycharm": {
          "metadata": false,
          "name": "#%% Construction CrossTab\n",
          "is_executing": false
        }
      }
    },
    {
      "cell_type": "code",
      "execution_count": 21,
      "outputs": [
        {
          "data": {
            "text/plain": "positive          0         1\ndate_week                    \n0          0.486842  0.513158\n1          0.437500  0.562500\n2          0.475000  0.525000\n3          0.462500  0.537500\n4          0.493827  0.506173",
            "text/html": "\u003cdiv\u003e\n\u003cstyle scoped\u003e\n    .dataframe tbody tr th:only-of-type {\n        vertical-align: middle;\n    }\n\n    .dataframe tbody tr th {\n        vertical-align: top;\n    }\n\n    .dataframe thead th {\n        text-align: right;\n    }\n\u003c/style\u003e\n\u003ctable border\u003d\"1\" class\u003d\"dataframe\"\u003e\n  \u003cthead\u003e\n    \u003ctr style\u003d\"text-align: right;\"\u003e\n      \u003cth\u003epositive\u003c/th\u003e\n      \u003cth\u003e0\u003c/th\u003e\n      \u003cth\u003e1\u003c/th\u003e\n    \u003c/tr\u003e\n    \u003ctr\u003e\n      \u003cth\u003edate_week\u003c/th\u003e\n      \u003cth\u003e\u003c/th\u003e\n      \u003cth\u003e\u003c/th\u003e\n    \u003c/tr\u003e\n  \u003c/thead\u003e\n  \u003ctbody\u003e\n    \u003ctr\u003e\n      \u003cth\u003e0\u003c/th\u003e\n      \u003ctd\u003e0.486842\u003c/td\u003e\n      \u003ctd\u003e0.513158\u003c/td\u003e\n    \u003c/tr\u003e\n    \u003ctr\u003e\n      \u003cth\u003e1\u003c/th\u003e\n      \u003ctd\u003e0.437500\u003c/td\u003e\n      \u003ctd\u003e0.562500\u003c/td\u003e\n    \u003c/tr\u003e\n    \u003ctr\u003e\n      \u003cth\u003e2\u003c/th\u003e\n      \u003ctd\u003e0.475000\u003c/td\u003e\n      \u003ctd\u003e0.525000\u003c/td\u003e\n    \u003c/tr\u003e\n    \u003ctr\u003e\n      \u003cth\u003e3\u003c/th\u003e\n      \u003ctd\u003e0.462500\u003c/td\u003e\n      \u003ctd\u003e0.537500\u003c/td\u003e\n    \u003c/tr\u003e\n    \u003ctr\u003e\n      \u003cth\u003e4\u003c/th\u003e\n      \u003ctd\u003e0.493827\u003c/td\u003e\n      \u003ctd\u003e0.506173\u003c/td\u003e\n    \u003c/tr\u003e\n  \u003c/tbody\u003e\n\u003c/table\u003e\n\u003c/div\u003e"
          },
          "metadata": {},
          "output_type": "execute_result",
          "execution_count": 21
        }
      ],
      "source": "xt_pct \u003d xt.div(xt.sum(1).astype(float), \n                axis\u003d0)\nxt_pct\n",
      "metadata": {
        "pycharm": {
          "metadata": false,
          "name": "#%%\n",
          "is_executing": false
        }
      }
    },
    {
      "cell_type": "code",
      "execution_count": 22,
      "outputs": [
        {
          "traceback": [
            "\u001b[0;31m---------------------------------------------------------------------------\u001b[0m",
            "\u001b[0;31mAttributeError\u001b[0m                            Traceback (most recent call last)",
            "\u001b[0;32m\u003cipython-input-22-baf66eb0a5ee\u003e\u001b[0m in \u001b[0;36m\u003cmodule\u003e\u001b[0;34m\u001b[0m\n\u001b[1;32m      8\u001b[0m     \u001b[0mtitle\u001b[0m\u001b[0;34m\u003d\u001b[0m\u001b[0;34m\u0027date_week -\u003e positive\u0027\u001b[0m\u001b[0;34m\u001b[0m\u001b[0;34m\u001b[0m\u001b[0m\n\u001b[1;32m      9\u001b[0m )\n\u001b[0;32m---\u003e 10\u001b[0;31m \u001b[0mplt\u001b[0m\u001b[0;34m.\u001b[0m\u001b[0mxlabel\u001b[0m\u001b[0;34m(\u001b[0m\u001b[0;34m\u0027date_week\u0027\u001b[0m\u001b[0;34m)\u001b[0m\u001b[0;34m\u001b[0m\u001b[0;34m\u001b[0m\u001b[0m\n\u001b[0m\u001b[1;32m     11\u001b[0m \u001b[0mplt\u001b[0m\u001b[0;34m.\u001b[0m\u001b[0mxlabel\u001b[0m\u001b[0;34m(\u001b[0m\u001b[0;34m\u0027positive\u0027\u001b[0m\u001b[0;34m)\u001b[0m\u001b[0;34m\u001b[0m\u001b[0;34m\u001b[0m\u001b[0m\n",
            "\u001b[0;31mAttributeError\u001b[0m: \u0027AxesSubplot\u0027 object has no attribute \u0027xlabel\u0027"
          ],
          "ename": "AttributeError",
          "evalue": "\u0027AxesSubplot\u0027 object has no attribute \u0027xlabel\u0027",
          "output_type": "error"
        },
        {
          "data": {
            "text/plain": "\u003cFigure size 576x360 with 1 Axes\u003e",
            "image/png": "[encoded data removed]"
          },
          "metadata": {
            "needs_background": "light"
          },
          "output_type": "display_data"
        }
      ],
      "source": "\nfrom matplotlib import pyplot as plt\n\nplt \u003d xt_pct.plot(\n    figsize\u003d(8,5),\n    kind\u003d\u0027bar\u0027,\n    stacked\u003dTrue,\n    title\u003d\u0027date_week -\u003e positive\u0027\n)\nplt.xlabel(\u0027date_week\u0027)\nplt.xlabel(\u0027positive\u0027)",
      "metadata": {
        "pycharm": {
          "metadata": false,
          "name": "#%%\n",
          "is_executing": false
        }
      }
    },
    {
      "cell_type": "code",
      "execution_count": null,
      "outputs": [],
      "source": "\n",
      "metadata": {
        "pycharm": {
          "metadata": false,
          "name": "#%%\n"
        }
      }
    }
  ],
  "metadata": {
    "language_info": {
      "codemirror_mode": {
        "name": "ipython",
        "version": 2
      },
      "file_extension": ".py",
      "mimetype": "text/x-python",
      "name": "python",
      "nbconvert_exporter": "python",
      "pygments_lexer": "ipython2",
      "version": "2.7.6"
    },
    "kernelspec": {
      "name": "python3",
      "language": "python",
      "display_name": "Python 3"
    }
  },
  "nbformat": 4,
  "nbformat_minor": 0
}