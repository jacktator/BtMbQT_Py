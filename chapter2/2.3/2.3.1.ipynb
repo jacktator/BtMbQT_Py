{
  "cells": [
    {
      "cell_type": "code",
      "execution_count": 25,
      "metadata": {
        "collapsed": true,
        "pycharm": {
          "name": "#%% Class\n",
          "is_executing": false
        }
      },
      "outputs": [],
      "source": "from typing import List\nfrom collections import namedtuple, OrderedDict\nfrom functools import reduce\n\nclass StockTradeDays(object): \n    \n    def __init__(self, \n                 price_array: List[int], \n                 start_date: str, \n                 date_array: List[int] \u003d None):\n        # Private Price Array\n        self.__price_array \u003d price_array\n        # Private Date Array\n        self.__date_array \u003d self._init_days(start_date, date_array)\n        # Private Change Array\n        self.__change_array \u003d self.__init_change()\n        # Construct OrderedDict\n        self.stock_dict \u003d self._init_stock_dict()\n    \n    def __init_change(self):\n        \"\"\"\n        Generate change_array from price_array\n        :return: \n        \"\"\"\n        price_float_array \u003d [float(price_str) for price_str in self.__price_array]\n        \n        # Move the price to generate a change_array\n        pp_array \u003d [(price1, price2) for price1, price2 in zip(price_float_array[:-1], price_float_array[1:])]\n        change_map \u003d map(\n            lambda pp: reduce(\n                lambda  a, b: round(\n                    (b - a) / a, \n                    3), \n                pp),\n            pp_array)\n        \n        # list insert() function insert first date change as 9.\n        change_array \u003d list(change_map)\n        change_array.insert(0, 0)\n        return change_array\n    \n    def _init_days(self, \n                   start_date:str, \n                   date_array:List[int]):\n        \"\"\"\n        protected function,\n        :param start_date: First date\n        :param date_array: date_array\n        :return:\n        \"\"\"\n        if date_array is None:\n            # Use start_date and self.__price_arary to determine date_array\n            date_array \u003d [str(start_date + index) for index, _ in enumerate(self.__price_array)]\n        else:\n            # Use date_array if provided\n            date_array \u003d [str(date) for date in date_array]\n        return date_array\n    \n    def _init_stock_dict(self):\n        \"\"\"\n        Use namedtupple, OrderedDict to combine results\n        :return: \n        \"\"\"\n        stock_namedtuple \u003d namedtuple(\u0027stock\u0027, \n                                      (\u0027date\u0027, \u0027price\u0027, \u0027change\u0027))\n        # Use defined __date_array to combine OrderedDict\n        stock_dict \u003d OrderedDict(\n            (date, stock_namedtuple(date, price, change))\n            for date, price, change in\n            zip (self.__date_array, self.__price_array, self.__change_array))\n        return stock_dict\n    \n    def filter_stock(self, \n                     up_days_only: bool \u003d True, \n                     want_calc_sum: bool \u003d False):\n        \"\"\"\n        Filter stock result\n        :param up_days_only: \n        :param want_calc_sum: \n        :return: \n        \"\"\"\n        # Use filter_func as Filter\n        filter_func \u003d (lambda day: day.change \u003e 0) if up_days_only \\\n            else (lambda day: day.change \u003c 0)\n        \n        filtered_days \u003d list(filter(filter_func, self.stock_dict.values()))\n        \n        if not want_calc_sum:\n            return filtered_days\n        \n        # Need to calculate the sum\n        change_sum \u003d 0.0\n        for day in filtered_days:\n            change_sum +\u003d day.change\n            return change_sum\n        \n    def __str__(self):\n        return str(self.stock_dict)\n    \n    __repr__ \u003d __str__\n        \n    def __iter__(self):\n        \"\"\"\n        Iterate stock_dict to yield elements\n        :return: \n        \"\"\"\n        for key in self.stock_dict:\n            yield self.stock_dict[key]\n        \n    def __getitem__(self, index):\n        date_key \u003d self.__date_array[index]\n        return self.stock_dict[date_key]\n    \n    def __len__(self):\n        return len(self.stock_dict)\n"
    },
    {
      "cell_type": "code",
      "execution_count": 26,
      "outputs": [
        {
          "data": {
            "text/plain": "OrderedDict([(\u002720190501\u0027, stock(date\u003d\u002720190501\u0027, price\u003d\u002730.14\u0027, change\u003d0)), (\u002720190502\u0027, stock(date\u003d\u002720190502\u0027, price\u003d\u002729.58\u0027, change\u003d-0.019)), (\u002720190503\u0027, stock(date\u003d\u002720190503\u0027, price\u003d\u002726.36\u0027, change\u003d-0.109)), (\u002720190504\u0027, stock(date\u003d\u002720190504\u0027, price\u003d\u002732.56\u0027, change\u003d0.235)), (\u002720190505\u0027, stock(date\u003d\u002720190505\u0027, price\u003d\u002732.82\u0027, change\u003d0.008))])"
          },
          "metadata": {},
          "output_type": "execute_result",
          "execution_count": 26
        }
      ],
      "source": "price_array \u003d \u002730.14, 29.58, 26.36, 32.56, 32.82\u0027.split(\u0027, \u0027)\nstart_date \u003d 20190501\n# Initialize trade_days using StockTradeDays\ntrade_days \u003d StockTradeDays(price_array, start_date)\n# Print\ntrade_days\n",
      "metadata": {
        "pycharm": {
          "metadata": false,
          "name": "#%% 1. Initialize Object \u0026 Print     \n",
          "is_executing": false
        }
      }
    },
    {
      "cell_type": "code",
      "execution_count": 27,
      "outputs": [
        {
          "name": "stdout",
          "text": [
            "trade_days has 5 days\n"
          ],
          "output_type": "stream"
        }
      ],
      "source": "print(\u0027trade_days has {} days\u0027.format(len(trade_days)))\n",
      "metadata": {
        "pycharm": {
          "metadata": false,
          "name": "#%% 2. Get Length\n",
          "is_executing": false
        }
      }
    },
    {
      "cell_type": "code",
      "execution_count": 28,
      "outputs": [
        {
          "name": "stdout",
          "text": [
            "stock(date\u003d\u002720190501\u0027, price\u003d\u002730.14\u0027, change\u003d0)\nstock(date\u003d\u002720190502\u0027, price\u003d\u002729.58\u0027, change\u003d-0.019)\nstock(date\u003d\u002720190503\u0027, price\u003d\u002726.36\u0027, change\u003d-0.109)\nstock(date\u003d\u002720190504\u0027, price\u003d\u002732.56\u0027, change\u003d0.235)\nstock(date\u003d\u002720190505\u0027, price\u003d\u002732.82\u0027, change\u003d0.008)\n"
          ],
          "output_type": "stream"
        }
      ],
      "source": "from collections import Iterable\nif isinstance(trade_days, Iterable):\n    for day in trade_days:\n        print(day)",
      "metadata": {
        "pycharm": {
          "metadata": false,
          "name": "#%% 3. Iteration\n",
          "is_executing": false
        }
      }
    },
    {
      "cell_type": "code",
      "execution_count": 29,
      "outputs": [
        {
          "data": {
            "text/plain": "[stock(date\u003d\u002720190504\u0027, price\u003d\u002732.56\u0027, change\u003d0.235),\n stock(date\u003d\u002720190505\u0027, price\u003d\u002732.82\u0027, change\u003d0.008)]"
          },
          "metadata": {},
          "output_type": "execute_result",
          "execution_count": 29
        }
      ],
      "source": "trade_days.filter_stock()",
      "metadata": {
        "pycharm": {
          "metadata": false,
          "name": "#%% 4. Calling functions\n",
          "is_executing": false
        }
      }
    },
    {
      "cell_type": "code",
      "execution_count": 30,
      "outputs": [
        {
          "data": {
            "text/plain": "([174.65, 186.43, 186.43, 186.43, 186.43],\n [20181224, 20181226, 20181227, 20181228, 20181231])"
          },
          "metadata": {},
          "output_type": "execute_result",
          "execution_count": 30
        }
      ],
      "source": "from abupy import ABuSymbolPd, EMarketDataSplitMode\n# List 2 years of MasterCard closing price to list()\nprice_array \u003d ABuSymbolPd.make_kl_df(\u0027MA\u0027, EMarketDataSplitMode.E_DATA_SPLIT_SE).close.tolist()\ndate_array \u003d ABuSymbolPd.make_kl_df(\u0027MA\u0027, EMarketDataSplitMode.E_DATA_SPLIT_SE).date.tolist()\nprice_array[-5:], date_array[-5:]",
      "metadata": {
        "pycharm": {
          "metadata": false,
          "name": "#%% 5. Object Indexing\n",
          "is_executing": false
        }
      }
    },
    {
      "cell_type": "code",
      "execution_count": 32,
      "outputs": [
        {
          "name": "stdout",
          "text": [
            "trade_days has 401 days\nLast trading day: stock(date\u003d\u002720181231\u0027, price\u003d186.43, change\u003d0.0)\n"
          ],
          "output_type": "stream"
        }
      ],
      "source": "trade_days \u003d StockTradeDays(price_array, \"\", date_array)\nprint(\u0027trade_days has {} days\u0027.format(len(trade_days)))\nprint(\u0027Last trading day: {}\u0027.format(trade_days[-1]))",
      "metadata": {
        "pycharm": {
          "metadata": false,
          "name": "#%%\n",
          "is_executing": false
        }
      }
    },
    {
      "cell_type": "code",
      "execution_count": null,
      "outputs": [],
      "source": "\n",
      "metadata": {
        "pycharm": {
          "metadata": false,
          "name": "#%%\n"
        }
      }
    }
  ],
  "metadata": {
    "language_info": {
      "codemirror_mode": {
        "name": "ipython",
        "version": 2
      },
      "file_extension": ".py",
      "mimetype": "text/x-python",
      "name": "python",
      "nbconvert_exporter": "python",
      "pygments_lexer": "ipython2",
      "version": "2.7.6"
    },
    "kernelspec": {
      "name": "python3",
      "language": "python",
      "display_name": "Python 3"
    }
  },
  "nbformat": 4,
  "nbformat_minor": 0
}