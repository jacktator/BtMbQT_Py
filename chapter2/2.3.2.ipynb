{
  "cells": [
    {
      "cell_type": "code",
      "execution_count": 110,
      "outputs": [
        {
          "name": "stdout",
          "text": [
            "importing Jupyter notebook from trade_loopback.ipynb\n"
          ],
          "output_type": "stream"
        }
      ],
      "source": "\nimport import_ipynb\nfrom tradedays import StockTradeDays\nfrom strategy_1 import TradeStrategy1   \nfrom trade_loopback import TradeLoopBack\n",
      "metadata": {
        "pycharm": {
          "metadata": false,
          "name": "#%% StockTradeDays Class\n",
          "is_executing": false
        }
      }
    },
    {
      "cell_type": "code",
      "execution_count": 112,
      "outputs": [
        {
          "data": {
            "text/plain": "([174.65, 186.43, 186.43, 186.43, 186.43],\n [20181224, 20181226, 20181227, 20181228, 20181231])"
          },
          "metadata": {},
          "output_type": "execute_result",
          "execution_count": 112
        }
      ],
      "source": "from abupy import ABuSymbolPd, EMarketDataSplitMode\n# List 2 years of MasterCard closing price to list()\nprice_array \u003d ABuSymbolPd.make_kl_df(\u0027MA\u0027, EMarketDataSplitMode.E_DATA_SPLIT_SE).close.tolist()\ndate_array \u003d ABuSymbolPd.make_kl_df(\u0027MA\u0027, EMarketDataSplitMode.E_DATA_SPLIT_SE).date.tolist()\nprice_array[-5:], date_array[-5:]",
      "metadata": {
        "pycharm": {
          "metadata": false,
          "name": "#%%\n",
          "is_executing": false
        }
      }
    },
    {
      "cell_type": "code",
      "execution_count": 113,
      "outputs": [
        {
          "name": "stdout",
          "text": [
            "trade_days has 401 days\nLast trading day: stock(date\u003d\u002720181231\u0027, price\u003d186.43, change\u003d0.0)\n"
          ],
          "output_type": "stream"
        }
      ],
      "source": "# Create Trade Days\ntrade_days \u003d StockTradeDays(price_array, \"\", date_array)\nprint(\u0027trade_days has {} days\u0027.format(len(trade_days)))\nprint(\u0027Last trading day: {}\u0027.format(trade_days[-1]))",
      "metadata": {
        "pycharm": {
          "metadata": false,
          "name": "#%%\n",
          "is_executing": false
        }
      }
    },
    {
      "cell_type": "code",
      "execution_count": 116,
      "outputs": [
        {
          "name": "stdout",
          "text": [
            "TradeStrategy1 Total Profit: 6.5000000000000115%\n"
          ],
          "output_type": "stream"
        }
      ],
      "source": "# Back Test Strategy\ntrade_loop_back \u003d TradeLoopBack(trade_days, TradeStrategy1())\ntrade_loop_back.execute_trade()\nprint(\u0027TradeStrategy1 Total Profit: {}%\u0027.format(\n    reduce(lambda a, b: a + b, trade_loop_back.profit_array) * 100\n))",
      "metadata": {
        "pycharm": {
          "metadata": false,
          "name": "#%%\n",
          "is_executing": false
        }
      }
    },
    {
      "cell_type": "code",
      "execution_count": 117,
      "outputs": [
        {
          "data": {
            "text/plain": "[\u003cmatplotlib.lines.Line2D at 0x12d7bf8d0\u003e]"
          },
          "metadata": {},
          "output_type": "execute_result",
          "execution_count": 117
        },
        {
          "data": {
            "text/plain": "\u003cFigure size 432x288 with 1 Axes\u003e",
            "image/png": "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\u003d\n"
          },
          "metadata": {
            "needs_background": "light"
          },
          "output_type": "display_data"
        }
      ],
      "source": "# Visulazation\nimport numpy as np\nfrom matplotlib import pyplot\npyplot.plot(np.array(trade_loop_back.profit_array).cumsum())",
      "metadata": {
        "pycharm": {
          "metadata": false,
          "name": "#%%\n",
          "is_executing": false
        }
      }
    },
    {
      "cell_type": "code",
      "execution_count": 118,
      "outputs": [],
      "source": "",
      "metadata": {
        "pycharm": {
          "metadata": false,
          "name": "#%%",
          "is_executing": false
        }
      }
    }
  ],
  "metadata": {
    "language_info": {
      "codemirror_mode": {
        "name": "ipython",
        "version": 2
      },
      "file_extension": ".py",
      "mimetype": "text/x-python",
      "name": "python",
      "nbconvert_exporter": "python",
      "pygments_lexer": "ipython2",
      "version": "2.7.6"
    },
    "kernelspec": {
      "name": "python3",
      "language": "python",
      "display_name": "Python 3"
    },
    "stem_cell": {
      "cell_type": "raw",
      "source": "",
      "metadata": {
        "pycharm": {
          "metadata": false
        }
      }
    }
  },
  "nbformat": 4,
  "nbformat_minor": 0
}