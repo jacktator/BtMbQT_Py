{
  "cells": [
    {
      "cell_type": "code",
      "execution_count": 1,
      "outputs": [
        {
          "data": {
            "text/plain": "{\u002720190401\u0027: 30.14,\n \u002720190402\u0027: 29.58,\n \u002720190403\u0027: 26.36,\n \u002720190404\u0027: 32.56,\n \u002720190405\u0027: 32.82}"
          },
          "metadata": {},
          "output_type": "execute_result",
          "execution_count": 1
        }
      ],
      "source": [
        "price_array \u003d [30.14, 29.58, 26.36, 32.56, 32.82]\n",
        "date_array \u003d [str(20190401 + ind) for ind, _ in enumerate(price_array)]\n",
        "stock_dict: dict \u003d {date:price for date, price in zip(date_array, price_array)}\n",
        "stock_dict"
      ],
      "metadata": {
        "collapsed": false,
        "pycharm": {
          "name": "#%% High Functions\n",
          "is_executing": false
        }
      }
    },
    {
      "cell_type": "code",
      "execution_count": 3,
      "outputs": [
        {
          "data": {
            "text/plain": "[(30.14, 29.58), (29.58, 26.36), (26.36, 32.56), (32.56, 32.82)]"
          },
          "metadata": {},
          "output_type": "execute_result",
          "execution_count": 3
        }
      ],
      "source": [
        "price_float_array \u003d [float(price_str) for price_str in stock_dict.values()]\n",
        "pp_array \u003d [(price1, price2) for price1, price2 in zip(price_float_array[:-1], price_float_array[1:])]\n",
        "pp_array"
      ],
      "metadata": {
        "collapsed": false,
        "pycharm": {
          "name": "#%% Find the % change for every day price\n",
          "is_executing": false
        }
      }
    },
    {
      "cell_type": "code",
      "execution_count": 6,
      "outputs": [
        {
          "data": {
            "text/plain": "[0, -0.019, -0.109, 0.235, 0.008]"
          },
          "metadata": {},
          "output_type": "execute_result",
          "execution_count": 6
        }
      ],
      "source": [
        "from functools import reduce\n",
        "change_array \u003d map(\n",
        "    lambda pp: reduce(\n",
        "        lambda a, b: round((b - a ) / a, 3), pp\n",
        "    ), pp_array\n",
        ")\n",
        "change_array \u003d list(change_array)\n",
        "change_array.insert(0, 0)\n",
        "change_array"
      ],
      "metadata": {
        "collapsed": false,
        "pycharm": {
          "name": "#%%\n",
          "is_executing": false
        }
      }
    },
    {
      "cell_type": "code",
      "execution_count": 7,
      "outputs": [
        {
          "data": {
            "text/plain": "OrderedDict([(\u002720190401\u0027, stock(date\u003d\u002720190401\u0027, price\u003d30.14, change\u003d0)),\n             (\u002720190402\u0027, stock(date\u003d\u002720190402\u0027, price\u003d29.58, change\u003d-0.019)),\n             (\u002720190403\u0027, stock(date\u003d\u002720190403\u0027, price\u003d26.36, change\u003d-0.109)),\n             (\u002720190404\u0027, stock(date\u003d\u002720190404\u0027, price\u003d32.56, change\u003d0.235)),\n             (\u002720190405\u0027, stock(date\u003d\u002720190405\u0027, price\u003d32.82, change\u003d0.008))])"
          },
          "metadata": {},
          "output_type": "execute_result",
          "execution_count": 7
        }
      ],
      "source": "from collections import  namedtuple, OrderedDict\nstock_namedtuple \u003d namedtuple(\u0027s tock\u0027, (\u0027date\u0027, \u0027price\u0027, \u0027change\u0027))\nstock_dict \u003d OrderedDict(\n    (date, stock_namedtuple(date, price, change)) for date, price, change in zip(date_array, price_array, change_array)\n)\nstock_dict",
      "metadata": {
        "collapsed": false,
        "pycharm": {
          "name": "#%%\n",
          "is_executing": false
        }
      }
    },
    {
      "cell_type": "code",
      "execution_count": 8,
      "outputs": [
        {
          "data": {
            "text/plain": "[stock(date\u003d\u002720190404\u0027, price\u003d32.56, change\u003d0.235),\n stock(date\u003d\u002720190405\u0027, price\u003d32.82, change\u003d0.008)]"
          },
          "metadata": {},
          "output_type": "execute_result",
          "execution_count": 8
        }
      ],
      "source": [
        "up_days \u003d filter(lambda day: day.change \u003e 0, stock_dict.values())\n",
        "up_days \u003d list(up_days)\n",
        "up_days"
      ],
      "metadata": {
        "collapsed": false,
        "pycharm": {
          "name": "#%%\n",
          "is_executing": false
        }
      }
    },
    {
      "cell_type": "code",
      "execution_count": 10,
      "outputs": [
        {
          "name": "stdout",
          "text": [
            "All up days: [stock(date\u003d\u002720190404\u0027, price\u003d32.56, change\u003d0.235), stock(date\u003d\u002720190405\u0027, price\u003d32.82, change\u003d0.008)]\nAll down days: [stock(date\u003d\u002720190402\u0027, price\u003d29.58, change\u003d-0.019), stock(date\u003d\u002720190403\u0027, price\u003d26.36, change\u003d-0.109)]\nAll down sum: 0.243\nAll down sum: -0.128\n"
          ],
          "output_type": "stream"
        }
      ],
      "source": [
        "def filter_stock(stock_array_dict, want_up\u003dTrue, want_calc_sum\u003dFalse):\n",
        "    \n",
        "    if not isinstance(stock_array_dict, OrderedDict):\n",
        "        raise TypeError(\u0027stock_array_dict must be OrderedDict!\u0027)\n",
        "    \n",
        "    filter_func \u003d (lambda day: day.change \u003e 0) \\\n",
        "        if want_up else (lambda day: day.change \u003c 0) \n",
        "    \n",
        "    \n",
        "    # print(type(stock_array_dict.values()))\n",
        "    filtered_days \u003d filter(filter_func, stock_array_dict.values())\n",
        "    if not want_calc_sum:\n",
        "        return filtered_days\n",
        "    \n",
        "    change_sum \u003d 0.0\n",
        "    for day in filtered_days:\n",
        "        change_sum +\u003d day.change\n",
        "    return change_sum\n",
        "\n",
        "print(\u0027All up days: {}\u0027.format(list(filter_stock(stock_dict))))\n",
        "print(\u0027All down days: {}\u0027.format(list(filter_stock(stock_dict, want_up\u003dFalse))))\n",
        "print(\u0027All down sum: {}\u0027.format(filter_stock(stock_dict, want_calc_sum\u003dTrue)))\n",
        "print(\u0027All down sum: {}\u0027.format(filter_stock(stock_dict, want_up\u003dFalse, want_calc_sum\u003dTrue)))"
      ],
      "metadata": {
        "collapsed": false,
        "pycharm": {
          "name": "#%%\n",
          "is_executing": false
        }
      }
    },
    {
      "cell_type": "code",
      "execution_count": null,
      "outputs": [],
      "source": [
        "\n"
      ],
      "metadata": {
        "collapsed": false,
        "pycharm": {
          "name": "#%%\n"
        }
      }
    },
    {
      "cell_type": "code",
      "execution_count": 11,
      "metadata": {
        "collapsed": true,
        "pycharm": {
          "name": "#%% Partial function\n",
          "is_executing": false
        }
      },
      "outputs": [
        {
          "name": "stdout",
          "text": [
            "All up days: \u003cfilter object at 0x110cf43c8\u003e\nAll down days: \u003cfilter object at 0x110cb6630\u003e\nAll down sum: 0.243\nAll down sum: -0.128\n"
          ],
          "output_type": "stream"
        }
      ],
      "source": [
        "from functools import partial\n",
        "# Filter up days\n",
        "filter_stock_up_days \u003d partial(filter_stock, want_up\u003dTrue, want_calc_sum\u003dFalse)\n",
        "# Filter down days\n",
        "filter_stock_down_days \u003d partial(filter_stock, want_up\u003dFalse, want_calc_sum\u003dFalse)\n",
        "# Calculate sum of ups\n",
        "filter_stock_up_sums \u003d partial(filter_stock, want_up\u003dTrue, want_calc_sum\u003dTrue)\n",
        "# Calculate sum of downs\n",
        "filter_stock_down_sums \u003d partial(filter_stock, want_up\u003dFalse, want_calc_sum\u003dTrue)\n",
        "\n",
        "print(\u0027All up days: {}\u0027.format(filter_stock_up_days(stock_dict)))\n",
        "print(\u0027All down days: {}\u0027.format(filter_stock_down_days(stock_dict)))\n",
        "print(\u0027All down sum: {}\u0027.format(filter_stock_up_sums(stock_dict)))\n",
        "print(\u0027All down sum: {}\u0027.format(filter_stock_down_sums(stock_dict)))"
      ]
    },
    {
      "cell_type": "code",
      "execution_count": null,
      "outputs": [],
      "source": [
        "\n"
      ],
      "metadata": {
        "collapsed": false,
        "pycharm": {
          "name": "#%%\n"
        }
      }
    }
  ],
  "metadata": {
    "language_info": {
      "codemirror_mode": {
        "name": "ipython",
        "version": 2
      },
      "file_extension": ".py",
      "mimetype": "text/x-python",
      "name": "python",
      "nbconvert_exporter": "python",
      "pygments_lexer": "ipython2",
      "version": "2.7.6"
    },
    "kernelspec": {
      "name": "python3",
      "language": "python",
      "display_name": "Python 3"
    },
    "pycharm": {
      "stem_cell": {
        "cell_type": "raw",
        "source": [],
        "metadata": {
          "collapsed": false
        }
      }
    }
  },
  "nbformat": 4,
  "nbformat_minor": 0
}