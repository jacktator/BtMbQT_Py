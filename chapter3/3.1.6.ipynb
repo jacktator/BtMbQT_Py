{
  "cells": [
    {
      "cell_type": "code",
      "execution_count": 3,
      "metadata": {
        "collapsed": true,
        "pycharm": {
          "name": "#%%\n",
          "is_executing": false
        }
      },
      "outputs": [],
      "source": "\nimport numpy as np\n\nstock_day_change \u003d np.load(\u0027./gen/stock_day_change.npy\u0027)\n"
    },
    {
      "cell_type": "code",
      "execution_count": 4,
      "outputs": [
        {
          "data": {
            "text/plain": "False"
          },
          "metadata": {},
          "output_type": "execute_result",
          "execution_count": 4
        }
      ],
      "source": "\nnp.all(stock_day_change[0:2, 0:5] \u003e 0)\n",
      "metadata": {
        "pycharm": {
          "metadata": false,
          "name": "#%%\n",
          "is_executing": false
        }
      }
    },
    {
      "cell_type": "code",
      "execution_count": 5,
      "outputs": [
        {
          "data": {
            "text/plain": "True"
          },
          "metadata": {},
          "output_type": "execute_result",
          "execution_count": 5
        }
      ],
      "source": "\nnp.any(stock_day_change[0:2, 0:5] \u003e 0)\n",
      "metadata": {
        "pycharm": {
          "metadata": false,
          "name": "#%% \n",
          "is_executing": false
        }
      }
    },
    {
      "cell_type": "code",
      "execution_count": 8,
      "outputs": [
        {
          "data": {
            "text/plain": "array([[ 1.33187212, -0.12179383,  0.51491667,  0.52701703, -0.045416  ],\n       [ 1.32417809,  0.05159529,  0.10925913, -0.30628773, -0.62818711]])"
          },
          "metadata": {},
          "output_type": "execute_result",
          "execution_count": 8
        }
      ],
      "source": "\nnp.maximum(stock_day_change[0:2, 0:5], stock_day_change[-2:, -5:])\n",
      "metadata": {
        "pycharm": {
          "metadata": false,
          "name": "#%%\n",
          "is_executing": false
        }
      }
    },
    {
      "cell_type": "code",
      "execution_count": 9,
      "outputs": [
        {
          "name": "stdout",
          "text": [
            "[[ 0 -1  0  0  0]\n [ 1  0 -1  0 -1]]\n"
          ],
          "output_type": "stream"
        },
        {
          "data": {
            "text/plain": "array([-1,  0,  1])"
          },
          "metadata": {},
          "output_type": "execute_result",
          "execution_count": 9
        }
      ],
      "source": "\nchange_int \u003d stock_day_change[0:2, 0:5].astype(int)\nprint(change_int)\n\nnp.unique(change_int)",
      "metadata": {
        "pycharm": {
          "metadata": false,
          "name": "#%%\n",
          "is_executing": false
        }
      }
    },
    {
      "cell_type": "code",
      "execution_count": 10,
      "outputs": [
        {
          "data": {
            "text/plain": "array([[-1.76458507,  1.75178169, -0.33408351, -0.22624915],\n       [-1.27258281, -1.07400808,  0.71612507, -1.22126308]])"
          },
          "metadata": {},
          "output_type": "execute_result",
          "execution_count": 10
        }
      ],
      "source": "\nnp.diff(stock_day_change[0:2, 0:5])\n",
      "metadata": {
        "pycharm": {
          "metadata": false,
          "name": "#%%\n",
          "is_executing": false
        }
      }
    },
    {
      "cell_type": "code",
      "execution_count": 11,
      "outputs": [
        {
          "data": {
            "text/plain": "array([[-0.69736965, -0.21785514, -0.12619308, -0.30485645,  0.76760641]])"
          },
          "metadata": {},
          "output_type": "execute_result",
          "execution_count": 11
        }
      ],
      "source": "\nnp.diff(stock_day_change[0:2, 0:5], axis\u003d0)\n",
      "metadata": {
        "pycharm": {
          "metadata": false,
          "name": "#%%\n",
          "is_executing": false
        }
      }
    },
    {
      "cell_type": "code",
      "execution_count": 11,
      "outputs": [
        {
          "name": "stdout",
          "text": [
            "[[1 0 0 1 0]\n [0 0 0 0 0]]\n"
          ],
          "output_type": "stream"
        }
      ],
      "source": "\ntmp_test \u003d stock_day_change[-2:, -5:]\nprint(np.where(tmp_test \u003e 0.5, 1, 0))\n",
      "metadata": {
        "pycharm": {
          "metadata": false,
          "name": "#%%\n",
          "is_executing": false
        }
      }
    },
    {
      "cell_type": "code",
      "execution_count": 12,
      "outputs": [
        {
          "name": "stdout",
          "text": [
            "[[ 1.         -0.12179383 -0.75982958  1.         -0.40945897]\n [-0.741641   -0.11308376  0.10925913 -1.67585091 -0.62818711]]\n"
          ],
          "output_type": "stream"
        }
      ],
      "source": "\nprint(np.where(tmp_test \u003e 0.5, 1, tmp_test))\n",
      "metadata": {
        "pycharm": {
          "metadata": false,
          "name": "#%%\n",
          "is_executing": false
        }
      }
    },
    {
      "cell_type": "code",
      "execution_count": 13,
      "outputs": [
        {
          "data": {
            "text/plain": "array([[1, 0, 1, 1, 0],\n       [1, 0, 0, 1, 1]])"
          },
          "metadata": {},
          "output_type": "execute_result",
          "execution_count": 13
        }
      ],
      "source": "\nnp.where(np.logical_or(tmp_test \u003e 0.5, tmp_test \u003c -0.5), 1, 0)",
      "metadata": {
        "pycharm": {
          "metadata": false,
          "name": "#%%\n",
          "is_executing": false
        }
      }
    },
    {
      "cell_type": "code",
      "execution_count": null,
      "outputs": [],
      "source": "\n",
      "metadata": {
        "pycharm": {
          "metadata": false,
          "name": "#%%\n"
        }
      }
    }
  ],
  "metadata": {
    "language_info": {
      "codemirror_mode": {
        "name": "ipython",
        "version": 2
      },
      "file_extension": ".py",
      "mimetype": "text/x-python",
      "name": "python",
      "nbconvert_exporter": "python",
      "pygments_lexer": "ipython2",
      "version": "2.7.6"
    },
    "kernelspec": {
      "name": "python3",
      "language": "python",
      "display_name": "Python 3"
    }
  },
  "nbformat": 4,
  "nbformat_minor": 0
}