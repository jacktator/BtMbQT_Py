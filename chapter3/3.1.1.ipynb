{
  "cells": [
    {
      "cell_type": "code",
      "execution_count": 1,
      "outputs": [
        {
          "name": "stdout",
          "text": [
            "2.85 ms ± 29.8 µs per loop (mean ± std. dev. of 7 runs, 100 loops each)\n"
          ],
          "output_type": "stream"
        }
      ],
      "source": "\nnormal_list \u003d list(range(10000))\n%timeit [i**2 for i in normal_list]\n",
      "metadata": {
        "pycharm": {
          "metadata": false,
          "name": "#%% Concurrent\n",
          "is_executing": false
        }
      }
    },
    {
      "cell_type": "code",
      "execution_count": 3,
      "outputs": [
        {
          "name": "stdout",
          "text": [
            "7.51 µs ± 122 ns per loop (mean ± std. dev. of 7 runs, 100000 loops each)\n"
          ],
          "output_type": "stream"
        }
      ],
      "source": "\nimport numpy as np\n\nnp_list \u003d np.arange(10000)\n%timeit np_list**2\n",
      "metadata": {
        "pycharm": {
          "metadata": false,
          "name": "#%%\n",
          "is_executing": false
        }
      }
    },
    {
      "cell_type": "code",
      "execution_count": 4,
      "outputs": [
        {
          "name": "stdout",
          "text": [
            "[3. 3. 3. 3. 3.]\n"
          ],
          "output_type": "stream"
        }
      ],
      "source": "\nnp_list \u003d np.ones(5) * 3\nprint(np_list)\n",
      "metadata": {
        "pycharm": {
          "metadata": false,
          "name": "#%%\n",
          "is_executing": false
        }
      }
    },
    {
      "cell_type": "code",
      "execution_count": 5,
      "outputs": [
        {
          "data": {
            "text/plain": "([1, 1, 1, 1, 1, 1, 1, 1, 1, 1, 1, 1, 1, 1, 1], 15)"
          },
          "metadata": {},
          "output_type": "execute_result",
          "execution_count": 5
        }
      ],
      "source": "\nnormal_list \u003d [1,1,1,1,1] * 3\nnormal_list, len(normal_list)",
      "metadata": {
        "pycharm": {
          "metadata": false,
          "name": "#%%\n",
          "is_executing": false
        }
      }
    },
    {
      "cell_type": "code",
      "execution_count": null,
      "outputs": [],
      "source": "\n",
      "metadata": {
        "pycharm": {
          "metadata": false,
          "name": "#%%\n"
        }
      }
    }
  ],
  "metadata": {
    "language_info": {
      "codemirror_mode": {
        "name": "ipython",
        "version": 2
      },
      "file_extension": ".py",
      "mimetype": "text/x-python",
      "name": "python",
      "nbconvert_exporter": "python",
      "pygments_lexer": "ipython2",
      "version": "2.7.6"
    },
    "kernelspec": {
      "name": "python3",
      "language": "python",
      "display_name": "Python 3"
    },
    "stem_cell": {
      "cell_type": "raw",
      "source": "\n",
      "metadata": {
        "pycharm": {
          "metadata": false
        }
      }
    }
  },
  "nbformat": 4,
  "nbformat_minor": 0
}