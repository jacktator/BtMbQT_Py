{
  "cells": [
    {
      "cell_type": "code",
      "execution_count": 10,
      "outputs": [
        {
          "data": {
            "text/plain": "(200, 504)"
          },
          "metadata": {},
          "output_type": "execute_result",
          "execution_count": 10
        }
      ],
      "source": "\nimport pandas as pd\nimport numpy as np\n\nstock_day_change \u003d np.load(\u0027../chapter3/gen/stock_day_change.npy\u0027)\nstock_day_change.shape",
      "metadata": {
        "pycharm": {
          "metadata": false,
          "name": "#%% Index Row\n",
          "is_executing": false
        }
      }
    },
    {
      "cell_type": "code",
      "execution_count": 11,
      "outputs": [
        {
          "data": {
            "text/plain": "              0         1         2         3         4         5         6    \\\nStock 0 -0.506857 -0.298351  0.287734  1.294099 -1.410662 -0.007399  0.832101   \nStock 1  1.090711  1.096060 -0.647854  0.753340 -1.760276  1.071615  1.215913   \n\n              7         8         9    ...       494       495       496  \\\nStock 0 -0.090907 -1.628213 -0.714435  ...  1.034027  0.530784 -0.380703   \nStock 1  0.888936 -0.769439  0.589205  ... -1.346089  0.536451  0.960366   \n\n              497       498       499       500       501       502       503  \nStock 0  0.107044 -1.299332 -0.801399  1.337638  1.420855  0.341945  1.208976  \nStock 1 -0.406703  1.302131 -0.097017  0.599954 -0.260712 -1.117452  0.578165  \n\n[2 rows x 504 columns]",
            "text/html": "\u003cdiv\u003e\n\u003cstyle scoped\u003e\n    .dataframe tbody tr th:only-of-type {\n        vertical-align: middle;\n    }\n\n    .dataframe tbody tr th {\n        vertical-align: top;\n    }\n\n    .dataframe thead th {\n        text-align: right;\n    }\n\u003c/style\u003e\n\u003ctable border\u003d\"1\" class\u003d\"dataframe\"\u003e\n  \u003cthead\u003e\n    \u003ctr style\u003d\"text-align: right;\"\u003e\n      \u003cth\u003e\u003c/th\u003e\n      \u003cth\u003e0\u003c/th\u003e\n      \u003cth\u003e1\u003c/th\u003e\n      \u003cth\u003e2\u003c/th\u003e\n      \u003cth\u003e3\u003c/th\u003e\n      \u003cth\u003e4\u003c/th\u003e\n      \u003cth\u003e5\u003c/th\u003e\n      \u003cth\u003e6\u003c/th\u003e\n      \u003cth\u003e7\u003c/th\u003e\n      \u003cth\u003e8\u003c/th\u003e\n      \u003cth\u003e9\u003c/th\u003e\n      \u003cth\u003e...\u003c/th\u003e\n      \u003cth\u003e494\u003c/th\u003e\n      \u003cth\u003e495\u003c/th\u003e\n      \u003cth\u003e496\u003c/th\u003e\n      \u003cth\u003e497\u003c/th\u003e\n      \u003cth\u003e498\u003c/th\u003e\n      \u003cth\u003e499\u003c/th\u003e\n      \u003cth\u003e500\u003c/th\u003e\n      \u003cth\u003e501\u003c/th\u003e\n      \u003cth\u003e502\u003c/th\u003e\n      \u003cth\u003e503\u003c/th\u003e\n    \u003c/tr\u003e\n  \u003c/thead\u003e\n  \u003ctbody\u003e\n    \u003ctr\u003e\n      \u003cth\u003eStock 0\u003c/th\u003e\n      \u003ctd\u003e-0.506857\u003c/td\u003e\n      \u003ctd\u003e-0.298351\u003c/td\u003e\n      \u003ctd\u003e0.287734\u003c/td\u003e\n      \u003ctd\u003e1.294099\u003c/td\u003e\n      \u003ctd\u003e-1.410662\u003c/td\u003e\n      \u003ctd\u003e-0.007399\u003c/td\u003e\n      \u003ctd\u003e0.832101\u003c/td\u003e\n      \u003ctd\u003e-0.090907\u003c/td\u003e\n      \u003ctd\u003e-1.628213\u003c/td\u003e\n      \u003ctd\u003e-0.714435\u003c/td\u003e\n      \u003ctd\u003e...\u003c/td\u003e\n      \u003ctd\u003e1.034027\u003c/td\u003e\n      \u003ctd\u003e0.530784\u003c/td\u003e\n      \u003ctd\u003e-0.380703\u003c/td\u003e\n      \u003ctd\u003e0.107044\u003c/td\u003e\n      \u003ctd\u003e-1.299332\u003c/td\u003e\n      \u003ctd\u003e-0.801399\u003c/td\u003e\n      \u003ctd\u003e1.337638\u003c/td\u003e\n      \u003ctd\u003e1.420855\u003c/td\u003e\n      \u003ctd\u003e0.341945\u003c/td\u003e\n      \u003ctd\u003e1.208976\u003c/td\u003e\n    \u003c/tr\u003e\n    \u003ctr\u003e\n      \u003cth\u003eStock 1\u003c/th\u003e\n      \u003ctd\u003e1.090711\u003c/td\u003e\n      \u003ctd\u003e1.096060\u003c/td\u003e\n      \u003ctd\u003e-0.647854\u003c/td\u003e\n      \u003ctd\u003e0.753340\u003c/td\u003e\n      \u003ctd\u003e-1.760276\u003c/td\u003e\n      \u003ctd\u003e1.071615\u003c/td\u003e\n      \u003ctd\u003e1.215913\u003c/td\u003e\n      \u003ctd\u003e0.888936\u003c/td\u003e\n      \u003ctd\u003e-0.769439\u003c/td\u003e\n      \u003ctd\u003e0.589205\u003c/td\u003e\n      \u003ctd\u003e...\u003c/td\u003e\n      \u003ctd\u003e-1.346089\u003c/td\u003e\n      \u003ctd\u003e0.536451\u003c/td\u003e\n      \u003ctd\u003e0.960366\u003c/td\u003e\n      \u003ctd\u003e-0.406703\u003c/td\u003e\n      \u003ctd\u003e1.302131\u003c/td\u003e\n      \u003ctd\u003e-0.097017\u003c/td\u003e\n      \u003ctd\u003e0.599954\u003c/td\u003e\n      \u003ctd\u003e-0.260712\u003c/td\u003e\n      \u003ctd\u003e-1.117452\u003c/td\u003e\n      \u003ctd\u003e0.578165\u003c/td\u003e\n    \u003c/tr\u003e\n  \u003c/tbody\u003e\n\u003c/table\u003e\n\u003cp\u003e2 rows × 504 columns\u003c/p\u003e\n\u003c/div\u003e"
          },
          "metadata": {},
          "output_type": "execute_result",
          "execution_count": 11
        }
      ],
      "source": "stock_symbols \u003d [\u0027Stock \u0027 + str(x) for x in range(stock_day_change.shape[0])]\n\n\npd.DataFrame(stock_day_change, index\u003dstock_symbols).head(2)",
      "metadata": {
        "pycharm": {
          "metadata": false,
          "name": "#%%\n",
          "is_executing": false
        }
      }
    },
    {
      "cell_type": "code",
      "execution_count": 15,
      "outputs": [
        {
          "data": {
            "text/plain": "           2019-05-05  2019-05-06  2019-05-07  2019-05-08  2019-05-09  \\\nStock 198   -0.878839    0.275720   -0.372983    0.230094    0.228319   \nStock 199    0.271601   -0.229816    0.443362    1.696638   -0.266938   \n\n           2019-05-10  2019-05-11  2019-05-12  2019-05-13  2019-05-14  ...  \\\nStock 198   -2.356772    0.820326    0.733801    0.382649    0.683604  ...   \nStock 199    0.820770   -0.774684   -0.404516   -0.382519   -0.037754  ...   \n\n           2020-09-10  2020-09-11  2020-09-12  2020-09-13  2020-09-14  \\\nStock 198    0.363046   -0.491884    0.156982    0.100225    0.636174   \nStock 199    0.439571   -1.541329    0.336386    0.153086   -0.916691   \n\n           2020-09-15  2020-09-16  2020-09-17  2020-09-18  2020-09-19  \nStock 198   -0.126595   -0.023974   -1.952426    0.047569   -0.565014  \nStock 199   -0.795388    1.208598   -0.882161   -0.081196   -0.588972  \n\n[2 rows x 504 columns]",
            "text/html": "\u003cdiv\u003e\n\u003cstyle scoped\u003e\n    .dataframe tbody tr th:only-of-type {\n        vertical-align: middle;\n    }\n\n    .dataframe tbody tr th {\n        vertical-align: top;\n    }\n\n    .dataframe thead th {\n        text-align: right;\n    }\n\u003c/style\u003e\n\u003ctable border\u003d\"1\" class\u003d\"dataframe\"\u003e\n  \u003cthead\u003e\n    \u003ctr style\u003d\"text-align: right;\"\u003e\n      \u003cth\u003e\u003c/th\u003e\n      \u003cth\u003e2019-05-05 00:00:00\u003c/th\u003e\n      \u003cth\u003e2019-05-06 00:00:00\u003c/th\u003e\n      \u003cth\u003e2019-05-07 00:00:00\u003c/th\u003e\n      \u003cth\u003e2019-05-08 00:00:00\u003c/th\u003e\n      \u003cth\u003e2019-05-09 00:00:00\u003c/th\u003e\n      \u003cth\u003e2019-05-10 00:00:00\u003c/th\u003e\n      \u003cth\u003e2019-05-11 00:00:00\u003c/th\u003e\n      \u003cth\u003e2019-05-12 00:00:00\u003c/th\u003e\n      \u003cth\u003e2019-05-13 00:00:00\u003c/th\u003e\n      \u003cth\u003e2019-05-14 00:00:00\u003c/th\u003e\n      \u003cth\u003e...\u003c/th\u003e\n      \u003cth\u003e2020-09-10 00:00:00\u003c/th\u003e\n      \u003cth\u003e2020-09-11 00:00:00\u003c/th\u003e\n      \u003cth\u003e2020-09-12 00:00:00\u003c/th\u003e\n      \u003cth\u003e2020-09-13 00:00:00\u003c/th\u003e\n      \u003cth\u003e2020-09-14 00:00:00\u003c/th\u003e\n      \u003cth\u003e2020-09-15 00:00:00\u003c/th\u003e\n      \u003cth\u003e2020-09-16 00:00:00\u003c/th\u003e\n      \u003cth\u003e2020-09-17 00:00:00\u003c/th\u003e\n      \u003cth\u003e2020-09-18 00:00:00\u003c/th\u003e\n      \u003cth\u003e2020-09-19 00:00:00\u003c/th\u003e\n    \u003c/tr\u003e\n  \u003c/thead\u003e\n  \u003ctbody\u003e\n    \u003ctr\u003e\n      \u003cth\u003eStock 198\u003c/th\u003e\n      \u003ctd\u003e-0.878839\u003c/td\u003e\n      \u003ctd\u003e0.275720\u003c/td\u003e\n      \u003ctd\u003e-0.372983\u003c/td\u003e\n      \u003ctd\u003e0.230094\u003c/td\u003e\n      \u003ctd\u003e0.228319\u003c/td\u003e\n      \u003ctd\u003e-2.356772\u003c/td\u003e\n      \u003ctd\u003e0.820326\u003c/td\u003e\n      \u003ctd\u003e0.733801\u003c/td\u003e\n      \u003ctd\u003e0.382649\u003c/td\u003e\n      \u003ctd\u003e0.683604\u003c/td\u003e\n      \u003ctd\u003e...\u003c/td\u003e\n      \u003ctd\u003e0.363046\u003c/td\u003e\n      \u003ctd\u003e-0.491884\u003c/td\u003e\n      \u003ctd\u003e0.156982\u003c/td\u003e\n      \u003ctd\u003e0.100225\u003c/td\u003e\n      \u003ctd\u003e0.636174\u003c/td\u003e\n      \u003ctd\u003e-0.126595\u003c/td\u003e\n      \u003ctd\u003e-0.023974\u003c/td\u003e\n      \u003ctd\u003e-1.952426\u003c/td\u003e\n      \u003ctd\u003e0.047569\u003c/td\u003e\n      \u003ctd\u003e-0.565014\u003c/td\u003e\n    \u003c/tr\u003e\n    \u003ctr\u003e\n      \u003cth\u003eStock 199\u003c/th\u003e\n      \u003ctd\u003e0.271601\u003c/td\u003e\n      \u003ctd\u003e-0.229816\u003c/td\u003e\n      \u003ctd\u003e0.443362\u003c/td\u003e\n      \u003ctd\u003e1.696638\u003c/td\u003e\n      \u003ctd\u003e-0.266938\u003c/td\u003e\n      \u003ctd\u003e0.820770\u003c/td\u003e\n      \u003ctd\u003e-0.774684\u003c/td\u003e\n      \u003ctd\u003e-0.404516\u003c/td\u003e\n      \u003ctd\u003e-0.382519\u003c/td\u003e\n      \u003ctd\u003e-0.037754\u003c/td\u003e\n      \u003ctd\u003e...\u003c/td\u003e\n      \u003ctd\u003e0.439571\u003c/td\u003e\n      \u003ctd\u003e-1.541329\u003c/td\u003e\n      \u003ctd\u003e0.336386\u003c/td\u003e\n      \u003ctd\u003e0.153086\u003c/td\u003e\n      \u003ctd\u003e-0.916691\u003c/td\u003e\n      \u003ctd\u003e-0.795388\u003c/td\u003e\n      \u003ctd\u003e1.208598\u003c/td\u003e\n      \u003ctd\u003e-0.882161\u003c/td\u003e\n      \u003ctd\u003e-0.081196\u003c/td\u003e\n      \u003ctd\u003e-0.588972\u003c/td\u003e\n    \u003c/tr\u003e\n  \u003c/tbody\u003e\n\u003c/table\u003e\n\u003cp\u003e2 rows × 504 columns\u003c/p\u003e\n\u003c/div\u003e"
          },
          "metadata": {},
          "output_type": "execute_result",
          "execution_count": 15
        }
      ],
      "source": "\ndays \u003d pd.date_range(\u00272019-5-5\u0027, \n                     periods\u003dstock_day_change.shape[1], \n                     freq\u003d\u00271d\u0027)\n\ndf \u003d pd.DataFrame(stock_day_change, \n                  index\u003dstock_symbols,\n                  columns\u003ddays)\n\ndf.tail(2)\n",
      "metadata": {
        "pycharm": {
          "metadata": false,
          "name": "#%%\n",
          "is_executing": false
        }
      }
    },
    {
      "cell_type": "code",
      "execution_count": 16,
      "outputs": [
        {
          "data": {
            "text/plain": "             Stock 0   Stock 1   Stock 2   Stock 3   Stock 4   Stock 5  \\\n2019-05-05 -0.506857  1.090711  0.373684  0.809291 -1.752636 -2.952854   \n2019-05-06 -0.298351  1.096060 -0.477065 -0.453796 -2.942695 -0.996775   \n2019-05-07  0.287734 -0.647854 -0.207089 -1.217405 -0.560116 -1.206895   \n2019-05-08  1.294099  0.753340  1.607185  0.216179  0.398311  0.641651   \n2019-05-09 -1.410662 -1.760276 -0.061423 -0.831195 -0.866971  1.128578   \n\n             Stock 6   Stock 7   Stock 8   Stock 9  ...  Stock 190  Stock 191  \\\n2019-05-05  0.106409  1.889763  1.225531  0.374656  ...  -0.346456  -1.091096   \n2019-05-06  1.054571  0.778077 -2.520750 -0.867114  ...   0.067842   0.483856   \n2019-05-07 -0.113872 -0.999805 -0.593713  0.607763  ...  -0.595827   0.661378   \n2019-05-08  1.200570  0.640452  0.987177 -0.599716  ...   0.415872   0.293173   \n2019-05-09  2.669840 -0.530921  1.350396 -0.213242  ...  -0.310630   0.076795   \n\n            Stock 192  Stock 193  Stock 194  Stock 195  Stock 196  Stock 197  \\\n2019-05-05  -0.346139   0.506435  -0.896319  -0.481032   1.249549   0.276082   \n2019-05-06   0.671936  -1.550365   0.116652  -0.882604  -0.421115   0.404352   \n2019-05-07  -0.452928  -0.908632   1.701420  -0.001381  -0.724871   1.541651   \n2019-05-08  -1.121605  -0.062685  -0.603673   1.339592   1.964875  -0.006093   \n2019-05-09  -0.137254   0.534734   0.533235   1.836515   0.990284  -1.162237   \n\n            Stock 198  Stock 199  \n2019-05-05  -0.878839   0.271601  \n2019-05-06   0.275720  -0.229816  \n2019-05-07  -0.372983   0.443362  \n2019-05-08   0.230094   1.696638  \n2019-05-09   0.228319  -0.266938  \n\n[5 rows x 200 columns]",
            "text/html": "\u003cdiv\u003e\n\u003cstyle scoped\u003e\n    .dataframe tbody tr th:only-of-type {\n        vertical-align: middle;\n    }\n\n    .dataframe tbody tr th {\n        vertical-align: top;\n    }\n\n    .dataframe thead th {\n        text-align: right;\n    }\n\u003c/style\u003e\n\u003ctable border\u003d\"1\" class\u003d\"dataframe\"\u003e\n  \u003cthead\u003e\n    \u003ctr style\u003d\"text-align: right;\"\u003e\n      \u003cth\u003e\u003c/th\u003e\n      \u003cth\u003eStock 0\u003c/th\u003e\n      \u003cth\u003eStock 1\u003c/th\u003e\n      \u003cth\u003eStock 2\u003c/th\u003e\n      \u003cth\u003eStock 3\u003c/th\u003e\n      \u003cth\u003eStock 4\u003c/th\u003e\n      \u003cth\u003eStock 5\u003c/th\u003e\n      \u003cth\u003eStock 6\u003c/th\u003e\n      \u003cth\u003eStock 7\u003c/th\u003e\n      \u003cth\u003eStock 8\u003c/th\u003e\n      \u003cth\u003eStock 9\u003c/th\u003e\n      \u003cth\u003e...\u003c/th\u003e\n      \u003cth\u003eStock 190\u003c/th\u003e\n      \u003cth\u003eStock 191\u003c/th\u003e\n      \u003cth\u003eStock 192\u003c/th\u003e\n      \u003cth\u003eStock 193\u003c/th\u003e\n      \u003cth\u003eStock 194\u003c/th\u003e\n      \u003cth\u003eStock 195\u003c/th\u003e\n      \u003cth\u003eStock 196\u003c/th\u003e\n      \u003cth\u003eStock 197\u003c/th\u003e\n      \u003cth\u003eStock 198\u003c/th\u003e\n      \u003cth\u003eStock 199\u003c/th\u003e\n    \u003c/tr\u003e\n  \u003c/thead\u003e\n  \u003ctbody\u003e\n    \u003ctr\u003e\n      \u003cth\u003e2019-05-05\u003c/th\u003e\n      \u003ctd\u003e-0.506857\u003c/td\u003e\n      \u003ctd\u003e1.090711\u003c/td\u003e\n      \u003ctd\u003e0.373684\u003c/td\u003e\n      \u003ctd\u003e0.809291\u003c/td\u003e\n      \u003ctd\u003e-1.752636\u003c/td\u003e\n      \u003ctd\u003e-2.952854\u003c/td\u003e\n      \u003ctd\u003e0.106409\u003c/td\u003e\n      \u003ctd\u003e1.889763\u003c/td\u003e\n      \u003ctd\u003e1.225531\u003c/td\u003e\n      \u003ctd\u003e0.374656\u003c/td\u003e\n      \u003ctd\u003e...\u003c/td\u003e\n      \u003ctd\u003e-0.346456\u003c/td\u003e\n      \u003ctd\u003e-1.091096\u003c/td\u003e\n      \u003ctd\u003e-0.346139\u003c/td\u003e\n      \u003ctd\u003e0.506435\u003c/td\u003e\n      \u003ctd\u003e-0.896319\u003c/td\u003e\n      \u003ctd\u003e-0.481032\u003c/td\u003e\n      \u003ctd\u003e1.249549\u003c/td\u003e\n      \u003ctd\u003e0.276082\u003c/td\u003e\n      \u003ctd\u003e-0.878839\u003c/td\u003e\n      \u003ctd\u003e0.271601\u003c/td\u003e\n    \u003c/tr\u003e\n    \u003ctr\u003e\n      \u003cth\u003e2019-05-06\u003c/th\u003e\n      \u003ctd\u003e-0.298351\u003c/td\u003e\n      \u003ctd\u003e1.096060\u003c/td\u003e\n      \u003ctd\u003e-0.477065\u003c/td\u003e\n      \u003ctd\u003e-0.453796\u003c/td\u003e\n      \u003ctd\u003e-2.942695\u003c/td\u003e\n      \u003ctd\u003e-0.996775\u003c/td\u003e\n      \u003ctd\u003e1.054571\u003c/td\u003e\n      \u003ctd\u003e0.778077\u003c/td\u003e\n      \u003ctd\u003e-2.520750\u003c/td\u003e\n      \u003ctd\u003e-0.867114\u003c/td\u003e\n      \u003ctd\u003e...\u003c/td\u003e\n      \u003ctd\u003e0.067842\u003c/td\u003e\n      \u003ctd\u003e0.483856\u003c/td\u003e\n      \u003ctd\u003e0.671936\u003c/td\u003e\n      \u003ctd\u003e-1.550365\u003c/td\u003e\n      \u003ctd\u003e0.116652\u003c/td\u003e\n      \u003ctd\u003e-0.882604\u003c/td\u003e\n      \u003ctd\u003e-0.421115\u003c/td\u003e\n      \u003ctd\u003e0.404352\u003c/td\u003e\n      \u003ctd\u003e0.275720\u003c/td\u003e\n      \u003ctd\u003e-0.229816\u003c/td\u003e\n    \u003c/tr\u003e\n    \u003ctr\u003e\n      \u003cth\u003e2019-05-07\u003c/th\u003e\n      \u003ctd\u003e0.287734\u003c/td\u003e\n      \u003ctd\u003e-0.647854\u003c/td\u003e\n      \u003ctd\u003e-0.207089\u003c/td\u003e\n      \u003ctd\u003e-1.217405\u003c/td\u003e\n      \u003ctd\u003e-0.560116\u003c/td\u003e\n      \u003ctd\u003e-1.206895\u003c/td\u003e\n      \u003ctd\u003e-0.113872\u003c/td\u003e\n      \u003ctd\u003e-0.999805\u003c/td\u003e\n      \u003ctd\u003e-0.593713\u003c/td\u003e\n      \u003ctd\u003e0.607763\u003c/td\u003e\n      \u003ctd\u003e...\u003c/td\u003e\n      \u003ctd\u003e-0.595827\u003c/td\u003e\n      \u003ctd\u003e0.661378\u003c/td\u003e\n      \u003ctd\u003e-0.452928\u003c/td\u003e\n      \u003ctd\u003e-0.908632\u003c/td\u003e\n      \u003ctd\u003e1.701420\u003c/td\u003e\n      \u003ctd\u003e-0.001381\u003c/td\u003e\n      \u003ctd\u003e-0.724871\u003c/td\u003e\n      \u003ctd\u003e1.541651\u003c/td\u003e\n      \u003ctd\u003e-0.372983\u003c/td\u003e\n      \u003ctd\u003e0.443362\u003c/td\u003e\n    \u003c/tr\u003e\n    \u003ctr\u003e\n      \u003cth\u003e2019-05-08\u003c/th\u003e\n      \u003ctd\u003e1.294099\u003c/td\u003e\n      \u003ctd\u003e0.753340\u003c/td\u003e\n      \u003ctd\u003e1.607185\u003c/td\u003e\n      \u003ctd\u003e0.216179\u003c/td\u003e\n      \u003ctd\u003e0.398311\u003c/td\u003e\n      \u003ctd\u003e0.641651\u003c/td\u003e\n      \u003ctd\u003e1.200570\u003c/td\u003e\n      \u003ctd\u003e0.640452\u003c/td\u003e\n      \u003ctd\u003e0.987177\u003c/td\u003e\n      \u003ctd\u003e-0.599716\u003c/td\u003e\n      \u003ctd\u003e...\u003c/td\u003e\n      \u003ctd\u003e0.415872\u003c/td\u003e\n      \u003ctd\u003e0.293173\u003c/td\u003e\n      \u003ctd\u003e-1.121605\u003c/td\u003e\n      \u003ctd\u003e-0.062685\u003c/td\u003e\n      \u003ctd\u003e-0.603673\u003c/td\u003e\n      \u003ctd\u003e1.339592\u003c/td\u003e\n      \u003ctd\u003e1.964875\u003c/td\u003e\n      \u003ctd\u003e-0.006093\u003c/td\u003e\n      \u003ctd\u003e0.230094\u003c/td\u003e\n      \u003ctd\u003e1.696638\u003c/td\u003e\n    \u003c/tr\u003e\n    \u003ctr\u003e\n      \u003cth\u003e2019-05-09\u003c/th\u003e\n      \u003ctd\u003e-1.410662\u003c/td\u003e\n      \u003ctd\u003e-1.760276\u003c/td\u003e\n      \u003ctd\u003e-0.061423\u003c/td\u003e\n      \u003ctd\u003e-0.831195\u003c/td\u003e\n      \u003ctd\u003e-0.866971\u003c/td\u003e\n      \u003ctd\u003e1.128578\u003c/td\u003e\n      \u003ctd\u003e2.669840\u003c/td\u003e\n      \u003ctd\u003e-0.530921\u003c/td\u003e\n      \u003ctd\u003e1.350396\u003c/td\u003e\n      \u003ctd\u003e-0.213242\u003c/td\u003e\n      \u003ctd\u003e...\u003c/td\u003e\n      \u003ctd\u003e-0.310630\u003c/td\u003e\n      \u003ctd\u003e0.076795\u003c/td\u003e\n      \u003ctd\u003e-0.137254\u003c/td\u003e\n      \u003ctd\u003e0.534734\u003c/td\u003e\n      \u003ctd\u003e0.533235\u003c/td\u003e\n      \u003ctd\u003e1.836515\u003c/td\u003e\n      \u003ctd\u003e0.990284\u003c/td\u003e\n      \u003ctd\u003e-1.162237\u003c/td\u003e\n      \u003ctd\u003e0.228319\u003c/td\u003e\n      \u003ctd\u003e-0.266938\u003c/td\u003e\n    \u003c/tr\u003e\n  \u003c/tbody\u003e\n\u003c/table\u003e\n\u003cp\u003e5 rows × 200 columns\u003c/p\u003e\n\u003c/div\u003e"
          },
          "metadata": {},
          "output_type": "execute_result",
          "execution_count": 16
        }
      ],
      "source": "\ndfT \u003d df.T\n\ndfT.head()",
      "metadata": {
        "pycharm": {
          "metadata": false,
          "name": "#%% Financial Time Series\n",
          "is_executing": false
        }
      }
    },
    {
      "cell_type": "code",
      "execution_count": 17,
      "outputs": [
        {
          "name": "stderr",
          "text": [
            "/Library/Frameworks/Python.framework/Versions/3.7/lib/python3.7/site-packages/ipykernel_launcher.py:2: FutureWarning: how in .resample() is deprecated\nthe new syntax is .resample(...).mean()\n  \n"
          ],
          "output_type": "stream"
        },
        {
          "data": {
            "text/plain": "             Stock 0   Stock 1   Stock 2   Stock 3   Stock 4   Stock 5  \\\n2019-05-05  0.126734  0.040264  0.389529  0.275289 -0.138106 -0.232682   \n2019-05-26  0.262047 -0.171022  0.163304 -0.223355  0.137678  0.004021   \n2019-06-16  0.217441  0.015986 -0.004570  0.011293  0.320080  0.082807   \n2019-07-07  0.103525  0.307140 -0.248838 -0.093852  0.106091 -0.070213   \n2019-07-28 -0.335890  0.183317 -0.279965  0.018698 -0.351927 -0.261884   \n\n             Stock 6   Stock 7   Stock 8   Stock 9  ...  Stock 190  Stock 191  \\\n2019-05-05  0.038088  0.264559 -0.164050 -0.121657  ...  -0.299124   0.316980   \n2019-05-26  0.094891 -0.078355  0.453132  0.090670  ...   0.360112  -0.193916   \n2019-06-16  0.123642  0.236910  0.035496 -0.145730  ...  -0.216607  -0.029313   \n2019-07-07  0.042546  0.256815 -0.229412  0.264921  ...   0.063688  -0.183336   \n2019-07-28  0.194863 -0.157465  0.022996 -0.124747  ...  -0.315442  -0.245300   \n\n            Stock 192  Stock 193  Stock 194  Stock 195  Stock 196  Stock 197  \\\n2019-05-05  -0.369732  -0.445366   0.458701   0.032341   0.404103   0.176979   \n2019-05-26   0.119575   0.620949  -0.026034  -0.280499   0.142658  -0.063782   \n2019-06-16   0.009001   0.315698   0.265536   0.191974  -0.057080   0.170175   \n2019-07-07   0.004640   0.123131   0.061365   0.001733   0.328562  -0.061509   \n2019-07-28  -0.011220  -0.132323   0.119321   0.076577   0.095191   0.269639   \n\n            Stock 198  Stock 199  \n2019-05-05   0.087162   0.156653  \n2019-05-26   0.227492  -0.021898  \n2019-06-16  -0.218082   0.449133  \n2019-07-07  -0.125934  -0.070423  \n2019-07-28   0.128455  -0.095554  \n\n[5 rows x 200 columns]",
            "text/html": "\u003cdiv\u003e\n\u003cstyle scoped\u003e\n    .dataframe tbody tr th:only-of-type {\n        vertical-align: middle;\n    }\n\n    .dataframe tbody tr th {\n        vertical-align: top;\n    }\n\n    .dataframe thead th {\n        text-align: right;\n    }\n\u003c/style\u003e\n\u003ctable border\u003d\"1\" class\u003d\"dataframe\"\u003e\n  \u003cthead\u003e\n    \u003ctr style\u003d\"text-align: right;\"\u003e\n      \u003cth\u003e\u003c/th\u003e\n      \u003cth\u003eStock 0\u003c/th\u003e\n      \u003cth\u003eStock 1\u003c/th\u003e\n      \u003cth\u003eStock 2\u003c/th\u003e\n      \u003cth\u003eStock 3\u003c/th\u003e\n      \u003cth\u003eStock 4\u003c/th\u003e\n      \u003cth\u003eStock 5\u003c/th\u003e\n      \u003cth\u003eStock 6\u003c/th\u003e\n      \u003cth\u003eStock 7\u003c/th\u003e\n      \u003cth\u003eStock 8\u003c/th\u003e\n      \u003cth\u003eStock 9\u003c/th\u003e\n      \u003cth\u003e...\u003c/th\u003e\n      \u003cth\u003eStock 190\u003c/th\u003e\n      \u003cth\u003eStock 191\u003c/th\u003e\n      \u003cth\u003eStock 192\u003c/th\u003e\n      \u003cth\u003eStock 193\u003c/th\u003e\n      \u003cth\u003eStock 194\u003c/th\u003e\n      \u003cth\u003eStock 195\u003c/th\u003e\n      \u003cth\u003eStock 196\u003c/th\u003e\n      \u003cth\u003eStock 197\u003c/th\u003e\n      \u003cth\u003eStock 198\u003c/th\u003e\n      \u003cth\u003eStock 199\u003c/th\u003e\n    \u003c/tr\u003e\n  \u003c/thead\u003e\n  \u003ctbody\u003e\n    \u003ctr\u003e\n      \u003cth\u003e2019-05-05\u003c/th\u003e\n      \u003ctd\u003e0.126734\u003c/td\u003e\n      \u003ctd\u003e0.040264\u003c/td\u003e\n      \u003ctd\u003e0.389529\u003c/td\u003e\n      \u003ctd\u003e0.275289\u003c/td\u003e\n      \u003ctd\u003e-0.138106\u003c/td\u003e\n      \u003ctd\u003e-0.232682\u003c/td\u003e\n      \u003ctd\u003e0.038088\u003c/td\u003e\n      \u003ctd\u003e0.264559\u003c/td\u003e\n      \u003ctd\u003e-0.164050\u003c/td\u003e\n      \u003ctd\u003e-0.121657\u003c/td\u003e\n      \u003ctd\u003e...\u003c/td\u003e\n      \u003ctd\u003e-0.299124\u003c/td\u003e\n      \u003ctd\u003e0.316980\u003c/td\u003e\n      \u003ctd\u003e-0.369732\u003c/td\u003e\n      \u003ctd\u003e-0.445366\u003c/td\u003e\n      \u003ctd\u003e0.458701\u003c/td\u003e\n      \u003ctd\u003e0.032341\u003c/td\u003e\n      \u003ctd\u003e0.404103\u003c/td\u003e\n      \u003ctd\u003e0.176979\u003c/td\u003e\n      \u003ctd\u003e0.087162\u003c/td\u003e\n      \u003ctd\u003e0.156653\u003c/td\u003e\n    \u003c/tr\u003e\n    \u003ctr\u003e\n      \u003cth\u003e2019-05-26\u003c/th\u003e\n      \u003ctd\u003e0.262047\u003c/td\u003e\n      \u003ctd\u003e-0.171022\u003c/td\u003e\n      \u003ctd\u003e0.163304\u003c/td\u003e\n      \u003ctd\u003e-0.223355\u003c/td\u003e\n      \u003ctd\u003e0.137678\u003c/td\u003e\n      \u003ctd\u003e0.004021\u003c/td\u003e\n      \u003ctd\u003e0.094891\u003c/td\u003e\n      \u003ctd\u003e-0.078355\u003c/td\u003e\n      \u003ctd\u003e0.453132\u003c/td\u003e\n      \u003ctd\u003e0.090670\u003c/td\u003e\n      \u003ctd\u003e...\u003c/td\u003e\n      \u003ctd\u003e0.360112\u003c/td\u003e\n      \u003ctd\u003e-0.193916\u003c/td\u003e\n      \u003ctd\u003e0.119575\u003c/td\u003e\n      \u003ctd\u003e0.620949\u003c/td\u003e\n      \u003ctd\u003e-0.026034\u003c/td\u003e\n      \u003ctd\u003e-0.280499\u003c/td\u003e\n      \u003ctd\u003e0.142658\u003c/td\u003e\n      \u003ctd\u003e-0.063782\u003c/td\u003e\n      \u003ctd\u003e0.227492\u003c/td\u003e\n      \u003ctd\u003e-0.021898\u003c/td\u003e\n    \u003c/tr\u003e\n    \u003ctr\u003e\n      \u003cth\u003e2019-06-16\u003c/th\u003e\n      \u003ctd\u003e0.217441\u003c/td\u003e\n      \u003ctd\u003e0.015986\u003c/td\u003e\n      \u003ctd\u003e-0.004570\u003c/td\u003e\n      \u003ctd\u003e0.011293\u003c/td\u003e\n      \u003ctd\u003e0.320080\u003c/td\u003e\n      \u003ctd\u003e0.082807\u003c/td\u003e\n      \u003ctd\u003e0.123642\u003c/td\u003e\n      \u003ctd\u003e0.236910\u003c/td\u003e\n      \u003ctd\u003e0.035496\u003c/td\u003e\n      \u003ctd\u003e-0.145730\u003c/td\u003e\n      \u003ctd\u003e...\u003c/td\u003e\n      \u003ctd\u003e-0.216607\u003c/td\u003e\n      \u003ctd\u003e-0.029313\u003c/td\u003e\n      \u003ctd\u003e0.009001\u003c/td\u003e\n      \u003ctd\u003e0.315698\u003c/td\u003e\n      \u003ctd\u003e0.265536\u003c/td\u003e\n      \u003ctd\u003e0.191974\u003c/td\u003e\n      \u003ctd\u003e-0.057080\u003c/td\u003e\n      \u003ctd\u003e0.170175\u003c/td\u003e\n      \u003ctd\u003e-0.218082\u003c/td\u003e\n      \u003ctd\u003e0.449133\u003c/td\u003e\n    \u003c/tr\u003e\n    \u003ctr\u003e\n      \u003cth\u003e2019-07-07\u003c/th\u003e\n      \u003ctd\u003e0.103525\u003c/td\u003e\n      \u003ctd\u003e0.307140\u003c/td\u003e\n      \u003ctd\u003e-0.248838\u003c/td\u003e\n      \u003ctd\u003e-0.093852\u003c/td\u003e\n      \u003ctd\u003e0.106091\u003c/td\u003e\n      \u003ctd\u003e-0.070213\u003c/td\u003e\n      \u003ctd\u003e0.042546\u003c/td\u003e\n      \u003ctd\u003e0.256815\u003c/td\u003e\n      \u003ctd\u003e-0.229412\u003c/td\u003e\n      \u003ctd\u003e0.264921\u003c/td\u003e\n      \u003ctd\u003e...\u003c/td\u003e\n      \u003ctd\u003e0.063688\u003c/td\u003e\n      \u003ctd\u003e-0.183336\u003c/td\u003e\n      \u003ctd\u003e0.004640\u003c/td\u003e\n      \u003ctd\u003e0.123131\u003c/td\u003e\n      \u003ctd\u003e0.061365\u003c/td\u003e\n      \u003ctd\u003e0.001733\u003c/td\u003e\n      \u003ctd\u003e0.328562\u003c/td\u003e\n      \u003ctd\u003e-0.061509\u003c/td\u003e\n      \u003ctd\u003e-0.125934\u003c/td\u003e\n      \u003ctd\u003e-0.070423\u003c/td\u003e\n    \u003c/tr\u003e\n    \u003ctr\u003e\n      \u003cth\u003e2019-07-28\u003c/th\u003e\n      \u003ctd\u003e-0.335890\u003c/td\u003e\n      \u003ctd\u003e0.183317\u003c/td\u003e\n      \u003ctd\u003e-0.279965\u003c/td\u003e\n      \u003ctd\u003e0.018698\u003c/td\u003e\n      \u003ctd\u003e-0.351927\u003c/td\u003e\n      \u003ctd\u003e-0.261884\u003c/td\u003e\n      \u003ctd\u003e0.194863\u003c/td\u003e\n      \u003ctd\u003e-0.157465\u003c/td\u003e\n      \u003ctd\u003e0.022996\u003c/td\u003e\n      \u003ctd\u003e-0.124747\u003c/td\u003e\n      \u003ctd\u003e...\u003c/td\u003e\n      \u003ctd\u003e-0.315442\u003c/td\u003e\n      \u003ctd\u003e-0.245300\u003c/td\u003e\n      \u003ctd\u003e-0.011220\u003c/td\u003e\n      \u003ctd\u003e-0.132323\u003c/td\u003e\n      \u003ctd\u003e0.119321\u003c/td\u003e\n      \u003ctd\u003e0.076577\u003c/td\u003e\n      \u003ctd\u003e0.095191\u003c/td\u003e\n      \u003ctd\u003e0.269639\u003c/td\u003e\n      \u003ctd\u003e0.128455\u003c/td\u003e\n      \u003ctd\u003e-0.095554\u003c/td\u003e\n    \u003c/tr\u003e\n  \u003c/tbody\u003e\n\u003c/table\u003e\n\u003cp\u003e5 rows × 200 columns\u003c/p\u003e\n\u003c/div\u003e"
          },
          "metadata": {},
          "output_type": "execute_result",
          "execution_count": 17
        }
      ],
      "source": "\ndf_20 \u003d dfT.resample(\u002721d\u0027, how\u003d\u0027mean\u0027)\n\ndf_20.head()",
      "metadata": {
        "pycharm": {
          "metadata": false,
          "name": "#%%\n",
          "is_executing": false
        }
      }
    },
    {
      "cell_type": "code",
      "execution_count": null,
      "outputs": [],
      "source": "\n",
      "metadata": {
        "pycharm": {
          "metadata": false,
          "name": "#%%\n"
        }
      }
    }
  ],
  "metadata": {
    "language_info": {
      "codemirror_mode": {
        "name": "ipython",
        "version": 2
      },
      "file_extension": ".py",
      "mimetype": "text/x-python",
      "name": "python",
      "nbconvert_exporter": "python",
      "pygments_lexer": "ipython2",
      "version": "2.7.6"
    },
    "kernelspec": {
      "name": "python3",
      "language": "python",
      "display_name": "Python 3"
    },
    "stem_cell": {
      "cell_type": "raw",
      "source": "",
      "metadata": {
        "pycharm": {
          "metadata": false
        }
      }
    }
  },
  "nbformat": 4,
  "nbformat_minor": 0
}