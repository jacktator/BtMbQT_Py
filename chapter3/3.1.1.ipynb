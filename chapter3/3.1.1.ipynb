{
  "cells": [
    {
      "cell_type": "code",
      "execution_count": 14,
      "outputs": [
        {
          "name": "stdout",
          "text": [
            "3.02 ms ± 14.8 µs per loop (mean ± std. dev. of 7 runs, 100 loops each)\n",
            "23.2 µs ± 164 ns per loop (mean ± std. dev. of 7 runs, 10000 loops each)\n"
          ],
          "output_type": "stream"
        }
      ],
      "source": "\nnormal_list \u003d list(range(10000))\n%timeit [i**3 for i in normal_list]\n\nimport numpy as np\n\nnp_list \u003d np.arange(10000)\n%timeit np_list**3\n",
      "metadata": {
        "pycharm": {
          "metadata": false,
          "name": "#%% Concurrent\n",
          "is_executing": false
        }
      }
    },
    {
      "cell_type": "code",
      "execution_count": 15,
      "outputs": [
        {
          "name": "stdout",
          "text": [
            "968 ns ± 9.28 ns per loop (mean ± std. dev. of 7 runs, 1000000 loops each)\n",
            "1.42 µs ± 3.59 ns per loop (mean ± std. dev. of 7 runs, 1000000 loops each)\n"
          ],
          "output_type": "stream"
        }
      ],
      "source": "\n%timeit [i**3 for i in list(range(10))]\n%timeit np.arange(10)**3\n",
      "metadata": {
        "pycharm": {
          "metadata": false,
          "name": "#%%\n",
          "is_executing": false
        }
      }
    },
    {
      "cell_type": "code",
      "execution_count": 17,
      "outputs": [
        {
          "name": "stdout",
          "text": [
            "[3. 3. 3. 3. 3.]\n"
          ],
          "output_type": "stream"
        }
      ],
      "source": "\nnp_list \u003d np.ones(5) * 3\nprint(np_list)\n",
      "metadata": {
        "pycharm": {
          "metadata": false,
          "name": "#%% Numpy uses Universal Function to process each element in an array\n",
          "is_executing": false
        }
      }
    },
    {
      "cell_type": "code",
      "execution_count": 16,
      "outputs": [
        {
          "data": {
            "text/plain": "([1, 1, 1, 1, 1, 1, 1, 1, 1, 1, 1, 1, 1, 1, 1], 15)"
          },
          "metadata": {},
          "output_type": "execute_result",
          "execution_count": 16
        }
      ],
      "source": "\nnormal_list \u003d [1,1,1,1,1] * 3\nnormal_list, len(normal_list)",
      "metadata": {
        "pycharm": {
          "metadata": false,
          "name": "#%% Normal array just duplicates elements\n",
          "is_executing": false
        }
      }
    },
    {
      "cell_type": "code",
      "execution_count": null,
      "outputs": [],
      "source": "\n ",
      "metadata": {
        "pycharm": {
          "metadata": false,
          "name": "#%%\n"
        }
      }
    }
  ],
  "metadata": {
    "language_info": {
      "codemirror_mode": {
        "name": "ipython",
        "version": 2
      },
      "file_extension": ".py",
      "mimetype": "text/x-python",
      "name": "python",
      "nbconvert_exporter": "python",
      "pygments_lexer": "ipython2",
      "version": "2.7.6"
    },
    "kernelspec": {
      "name": "python3",
      "language": "python",
      "display_name": "Python 3"
    },
    "stem_cell": {
      "cell_type": "raw",
      "source": "\n",
      "metadata": {
        "pycharm": {
          "metadata": false
        }
      }
    }
  },
  "nbformat": 4,
  "nbformat_minor": 0
}