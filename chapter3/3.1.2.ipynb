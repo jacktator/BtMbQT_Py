{
  "cells": [
    {
      "cell_type": "code",
      "execution_count": 5,
      "metadata": {
        "collapsed": true,
        "pycharm": {
          "name": "#%% Initialization\n",
          "is_executing": false
        }
      },
      "outputs": [
        {
          "data": {
            "text/plain": "array([0., 0., 0., 0., 0.])"
          },
          "metadata": {},
          "output_type": "execute_result",
          "execution_count": 5
        }
      ],
      "source": "\nimport numpy as np\n\n# 100 0s\nnp.zeros(100)\n\n# shape: 3 rows 2 columns of 0s\nnp.zeros((3,2))\n\n# shape: 3 rows 3 columns of 1s\nnp.ones((3,2))\n\n# shape: x\u003d2, y\u003d3, z\u003d3\nnp.empty((2,3,3))\n\n# Initialize shape like np_list, all 1s\nnp_list \u003d np.ones(5) * 3\nnp.ones_like(np_list)\n\n# Initialize shape like np_list, all 0s\nnp.zeros_like(np_list)\n\n# eye() Unit Matrix\nnp.eye(3)\n"
    },
    {
      "cell_type": "code",
      "execution_count": 6,
      "outputs": [
        {
          "data": {
            "text/plain": "array([[1, 2, 3, 4],\n       [5, 6, 7, 8]])"
          },
          "metadata": {},
          "output_type": "execute_result",
          "execution_count": 6
        }
      ],
      "source": "\ndata \u003d [\n    [1, 2, 3, 4],\n    [5, 6, 7, 8]\n]\narr_np \u003d np.array(data)\narr_np\n",
      "metadata": {
        "pycharm": {
          "metadata": false,
          "name": "#%% Initializing np array using normal array\n",
          "is_executing": false
        }
      }
    },
    {
      "cell_type": "code",
      "execution_count": 8,
      "outputs": [
        {
          "data": {
            "text/plain": "array([0.        , 0.11111111, 0.22222222, 0.33333333, 0.44444444,\n       0.55555556, 0.66666667, 0.77777778, 0.88888889, 1.        ])"
          },
          "metadata": {},
          "output_type": "execute_result",
          "execution_count": 8
        }
      ],
      "source": "\nnp.linspace(0, 1, 10)\n",
      "metadata": {
        "pycharm": {
          "metadata": false,
          "name": "#%% linespace\n",
          "is_executing": false
        }
      }
    },
    {
      "cell_type": "code",
      "execution_count": 11,
      "outputs": [
        {
          "name": "stdout",
          "text": [
            "(200, 504)\n[[ 0.64853611  2.2577269  -0.63808856 -0.89915437 -0.47613256]]\n"
          ],
          "output_type": "stream"
        }
      ],
      "source": "\n# 200 stocks\nstock_cnt \u003d 200\n\n#504 trade days\nview_days \u003d 504\n\n# Normal distribution mean \u003d 0, std \u003d 1\nstock_day_change \u003d np.random.standard_normal((stock_cnt,\n                                              view_days))\n\n# print shape(200, 504)\nprint(stock_day_change.shape)\n\n# print first stock, first 5 days\nprint(stock_day_change[0:1, :5])\n",
      "metadata": {
        "pycharm": {
          "metadata": false,
          "name": "#%% Using stock data\n",
          "is_executing": false
        }
      }
    },
    {
      "cell_type": "code",
      "execution_count": null,
      "outputs": [],
      "source": "\n",
      "metadata": {
        "pycharm": {
          "metadata": false,
          "name": "#%%\n"
        }
      }
    }
  ],
  "metadata": {
    "language_info": {
      "codemirror_mode": {
        "name": "ipython",
        "version": 2
      },
      "file_extension": ".py",
      "mimetype": "text/x-python",
      "name": "python",
      "nbconvert_exporter": "python",
      "pygments_lexer": "ipython2",
      "version": "2.7.6"
    },
    "kernelspec": {
      "name": "python3",
      "language": "python",
      "display_name": "Python 3"
    }
  },
  "nbformat": 4,
  "nbformat_minor": 0
}