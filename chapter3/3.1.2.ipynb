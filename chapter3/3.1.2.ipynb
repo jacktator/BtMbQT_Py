{
  "cells": [
    {
      "cell_type": "code",
      "execution_count": 9,
      "metadata": {
        "collapsed": true,
        "pycharm": {
          "name": "#%% Initialization\n",
          "is_executing": false
        }
      },
      "outputs": [
        {
          "data": {
            "text/plain": "array([[1., 0., 0.],\n       [0., 1., 0.],\n       [0., 0., 1.]])"
          },
          "metadata": {},
          "output_type": "execute_result",
          "execution_count": 9
        }
      ],
      "source": "\nimport numpy as np\n\n# 100 0s\nnp.zeros(100)\n\n# shape: 3 rows 2 columns of 0s\nnp.zeros((3,2))\n\n# shape: 3 rows 3 columns of 1s\nnp.ones((3,2))\n\n# shape: x\u003d2, y\u003d3, z\u003d3\nnp.empty((2,3,3))\n\n# Initialize shape like np_list, all 1s\nnp_list \u003d np.ones(5) * 3\nnp.ones_like(np_list)\n\n# Initialize shape like np_list, all 0s\nnp.zeros_like(np_list)\n\n# eye() Unit Matrix\nnp.eye(3)\n"
    },
    {
      "cell_type": "code",
      "execution_count": 10,
      "outputs": [
        {
          "data": {
            "text/plain": "array([[1, 2, 3, 4],\n       [5, 6, 7, 8]])"
          },
          "metadata": {},
          "output_type": "execute_result",
          "execution_count": 10
        }
      ],
      "source": "\ndata \u003d [\n    [1, 2, 3, 4],\n    [5, 6, 7, 8]\n]\narr_np \u003d np.array(data)\narr_np\n",
      "metadata": {
        "pycharm": {
          "metadata": false,
          "name": "#%% Initializing np array using normal array\n",
          "is_executing": false
        }
      }
    },
    {
      "cell_type": "code",
      "execution_count": 11,
      "outputs": [
        {
          "data": {
            "text/plain": "array([0.        , 0.11111111, 0.22222222, 0.33333333, 0.44444444,\n       0.55555556, 0.66666667, 0.77777778, 0.88888889, 1.        ])"
          },
          "metadata": {},
          "output_type": "execute_result",
          "execution_count": 11
        }
      ],
      "source": "\nnp.linspace(0, 1, 10)\n",
      "metadata": {
        "pycharm": {
          "metadata": false,
          "name": "#%% linespace\n",
          "is_executing": false
        }
      }
    },
    {
      "cell_type": "code",
      "execution_count": 12,
      "outputs": [
        {
          "name": "stdout",
          "text": [
            "(200, 504)\n[[ 0.52772005 -1.23686502  0.51491667  0.18083315 -0.045416  ]]\n"
          ],
          "output_type": "stream"
        }
      ],
      "source": "\n# 200 stocks\nstock_cnt \u003d 200\n\n#504 trade days\nview_days \u003d 504\n\n# Generate a Array of Stocks and their changes. \nstock_day_change \u003d np.random.standard_normal((stock_cnt,\n                                              view_days)) \n\n# print shape(200, 504)\nprint(stock_day_change.shape)\n\n# print first stock, first 5 days\nprint(stock_day_change[:1, :5])\n",
      "metadata": {
        "pycharm": {
          "metadata": false,
          "name": "#%% Using stock data\n",
          "is_executing": false
        }
      }
    },
    {
      "cell_type": "code",
      "execution_count": 13,
      "outputs": [],
      "source": "\nnp.save(\u0027./gen/stock_day_change\u0027, stock_day_change)\n",
      "metadata": {
        "pycharm": {
          "metadata": false,
          "name": "#%%\n",
          "is_executing": false
        }
      }
    },
    {
      "cell_type": "code",
      "execution_count": null,
      "outputs": [],
      "source": "\n",
      "metadata": {
        "pycharm": {
          "metadata": false,
          "name": "#%%\n"
        }
      }
    }
  ],
  "metadata": {
    "language_info": {
      "codemirror_mode": {
        "name": "ipython",
        "version": 2
      },
      "file_extension": ".py",
      "mimetype": "text/x-python",
      "name": "python",
      "nbconvert_exporter": "python",
      "pygments_lexer": "ipython2",
      "version": "2.7.6"
    },
    "kernelspec": {
      "name": "python3",
      "language": "python",
      "display_name": "Python 3"
    }
  },
  "nbformat": 4,
  "nbformat_minor": 0
}