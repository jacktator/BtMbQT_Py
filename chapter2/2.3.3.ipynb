{
  "cells": [
    {
      "cell_type": "code",
      "execution_count": 6,
      "metadata": {
        "collapsed": true,
        "pycharm": {
          "name": "#%% Static, CLass methods and properties\n",
          "is_executing": false
        }
      },
      "outputs": [],
      "source": "import import_ipynb\nfrom tradedays import StockTradeDays\nfrom strategy_2 import TradeStrategy2   \nfrom trade_loopback import TradeLoopBack\nfrom functools import reduce\n"
    },
    {
      "cell_type": "code",
      "execution_count": 7,
      "outputs": [
        {
          "data": {
            "text/plain": "([174.65, 186.43, 186.43, 186.43, 186.43],\n [20181224, 20181226, 20181227, 20181228, 20181231])"
          },
          "metadata": {},
          "output_type": "execute_result",
          "execution_count": 7
        }
      ],
      "source": "from abupy import ABuSymbolPd, EMarketDataSplitMode\n# List 2 years of MasterCard closing price to list()\nprice_array \u003d ABuSymbolPd.make_kl_df(\u0027MA\u0027, EMarketDataSplitMode.E_DATA_SPLIT_SE).close.tolist()\ndate_array \u003d ABuSymbolPd.make_kl_df(\u0027MA\u0027, EMarketDataSplitMode.E_DATA_SPLIT_SE).date.tolist()\nprice_array[-5:], date_array[-5:]",
      "metadata": {
        "pycharm": {
          "metadata": false,
          "name": "#%%\n",
          "is_executing": false
        }
      }
    },
    {
      "cell_type": "code",
      "execution_count": 8,
      "outputs": [
        {
          "name": "stdout",
          "text": [
            "trade_days has 401 days\nLast trading day: stock(date\u003d\u002720181231\u0027, price\u003d186.43, change\u003d0.0)\n"
          ],
          "output_type": "stream"
        }
      ],
      "source": "# Create Trade Days\ntrade_days \u003d StockTradeDays(price_array, \"\", date_array)\nprint(\u0027trade_days has {} days\u0027.format(len(trade_days)))\nprint(\u0027Last trading day: {}\u0027.format(trade_days[-1]))",
      "metadata": {
        "pycharm": {
          "metadata": false,
          "name": "#%%\n",
          "is_executing": false
        }
      }
    },
    {
      "cell_type": "code",
      "execution_count": 9,
      "outputs": [
        {
          "name": "stdout",
          "text": [
            "TradeStrategy2 Total Profit: 13.00000000000002%\n"
          ],
          "output_type": "stream"
        }
      ],
      "source": "# Back Test Strategy\ntrade_loop_back \u003d TradeLoopBack(trade_days, TradeStrategy2())\ntrade_loop_back.execute_trade()\nprint(\u0027TradeStrategy2 Total Profit: {}%\u0027.format(\n    reduce(lambda a, b: a + b, trade_loop_back.profit_array) * 100\n))",
      "metadata": {
        "pycharm": {
          "metadata": false,
          "name": "#%%\n",
          "is_executing": false
        }
      }
    },
    {
      "cell_type": "code",
      "execution_count": 10,
      "outputs": [
        {
          "data": {
            "text/plain": "[\u003cmatplotlib.lines.Line2D at 0x10ab50588\u003e]"
          },
          "metadata": {},
          "output_type": "execute_result",
          "execution_count": 10
        },
        {
          "data": {
            "text/plain": "\u003cFigure size 432x288 with 1 Axes\u003e",
            "image/png": "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\u003d\n"
          },
          "metadata": {
            "needs_background": "light"
          },
          "output_type": "display_data"
        }
      ],
      "source": "# Visulazation\nimport numpy as np\nfrom matplotlib import pyplot\npyplot.plot(np.array(trade_loop_back.profit_array).cumsum())",
      "metadata": {
        "pycharm": {
          "metadata": false,
          "name": "#%%\n",
          "is_executing": false
        }
      }
    },
    {
      "cell_type": "code",
      "execution_count": null,
      "outputs": [],
      "source": "\n",
      "metadata": {
        "pycharm": {
          "metadata": false,
          "name": "#%%\n"
        }
      }
    }
  ],
  "metadata": {
    "language_info": {
      "codemirror_mode": {
        "name": "ipython",
        "version": 2
      },
      "file_extension": ".py",
      "mimetype": "text/x-python",
      "name": "python",
      "nbconvert_exporter": "python",
      "pygments_lexer": "ipython2",
      "version": "2.7.6"
    },
    "kernelspec": {
      "name": "python3",
      "language": "python",
      "display_name": "Python 3"
    }
  },
  "nbformat": 4,
  "nbformat_minor": 0
}