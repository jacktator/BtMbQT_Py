{
  "cells": [
    {
      "cell_type": "code",
      "execution_count": 2,
      "outputs": [],
      "source": "import numpy as np\n\nstock_day_change \u003d np.load(\u0027./gen/stock_day_change.npy\u0027)\n",
      "metadata": {
        "pycharm": {
          "metadata": false,
          "name": "#%%\n",
          "is_executing": false
        }
      }
    },
    {
      "cell_type": "code",
      "execution_count": 3,
      "metadata": {
        "collapsed": true,
        "pycharm": {
          "name": "#%% Normal Distribution\n",
          "is_executing": false
        }
      },
      "outputs": [
        {
          "name": "stdout",
          "text": [
            "Stock 0 Mean: 0.002\nStock 0 Std: 1.017\n"
          ],
          "output_type": "stream"
        }
      ],
      "source": "\nimport scipy.stats as scs\n\nstock_mean \u003d stock_day_change[0].mean()\n\nstock_std \u003d stock_day_change[0].std()\n\nprint(\u0027Stock 0 Mean: {:.3f}\u0027.format(stock_mean))\nprint(\u0027Stock 0 Std: {:.3f}\u0027.format(stock_std))\n"
    },
    {
      "cell_type": "code",
      "execution_count": 5,
      "outputs": [
        {
          "data": {
            "text/plain": "(array([0.01668249, 0.        , 0.        , 0.01668249, 0.        ,\n        0.03336499, 0.03336499, 0.06672998, 0.11677746, 0.05004748,\n        0.08341247, 0.06672998, 0.08341247, 0.18350744, 0.11677746,\n        0.10009497, 0.16682495, 0.13345996, 0.28360241, 0.38369737,\n        0.33364989, 0.43374486, 0.3002849 , 0.33364989, 0.46710985,\n        0.40037987, 0.46710985, 0.43374486, 0.33364989, 0.26691991,\n        0.43374486, 0.18350744, 0.3169674 , 0.26691991, 0.26691991,\n        0.18350744, 0.13345996, 0.20018993, 0.16682495, 0.08341247,\n        0.10009497, 0.10009497, 0.08341247, 0.03336499, 0.05004748,\n        0.01668249, 0.03336499, 0.01668249, 0.        , 0.03336499]),\n array([-3.09490546e+00, -2.97597079e+00, -2.85703612e+00, -2.73810145e+00,\n        -2.61916678e+00, -2.50023211e+00, -2.38129744e+00, -2.26236277e+00,\n        -2.14342810e+00, -2.02449343e+00, -1.90555876e+00, -1.78662409e+00,\n        -1.66768942e+00, -1.54875475e+00, -1.42982008e+00, -1.31088541e+00,\n        -1.19195074e+00, -1.07301607e+00, -9.54081400e-01, -8.35146730e-01,\n        -7.16212060e-01, -5.97277389e-01, -4.78342719e-01, -3.59408049e-01,\n        -2.40473379e-01, -1.21538709e-01, -2.60403945e-03,  1.16330631e-01,\n         2.35265301e-01,  3.54199971e-01,  4.73134641e-01,  5.92069311e-01,\n         7.11003981e-01,  8.29938651e-01,  9.48873321e-01,  1.06780799e+00,\n         1.18674266e+00,  1.30567733e+00,  1.42461200e+00,  1.54354667e+00,\n         1.66248134e+00,  1.78141601e+00,  1.90035068e+00,  2.01928535e+00,\n         2.13822002e+00,  2.25715469e+00,  2.37608936e+00,  2.49502403e+00,\n         2.61395870e+00,  2.73289337e+00,  2.85182804e+00]),\n \u003ca list of 50 Patch objects\u003e)"
          },
          "metadata": {},
          "output_type": "execute_result",
          "execution_count": 5
        },
        {
          "data": {
            "text/plain": "\u003cFigure size 432x288 with 1 Axes\u003e",
            "image/png": "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\u003d\u003d\n"
          },
          "metadata": {
            "needs_background": "light"
          },
          "output_type": "display_data"
        }
      ],
      "source": "\nfrom matplotlib import pyplot as plt\nplt.hist(stock_day_change[0], \n            bins\u003d50, \n            density\u003dTrue)\n",
      "metadata": {
        "pycharm": {
          "metadata": false,
          "name": "#%%\n",
          "is_executing": false
        }
      }
    },
    {
      "cell_type": "code",
      "execution_count": 6,
      "outputs": [
        {
          "data": {
            "text/plain": "[\u003cmatplotlib.lines.Line2D at 0x1249385c0\u003e]"
          },
          "metadata": {},
          "output_type": "execute_result",
          "execution_count": 6
        },
        {
          "data": {
            "text/plain": "\u003cFigure size 432x288 with 1 Axes\u003e",
            "image/png": "[encoded data removed]"
          },
          "metadata": {
            "needs_background": "light"
          },
          "output_type": "display_data"
        }
      ],
      "source": "\nfit_linspace \u003d np.linspace(stock_day_change[0].min(),\n                           stock_day_change[0].max())\npdf \u003d scs.norm(stock_mean, stock_std).pdf(fit_linspace)\n\nplt.plot(fit_linspace, pdf, lw\u003d2, c\u003d\u0027r\u0027)\n",
      "metadata": {
        "pycharm": {
          "metadata": false,
          "name": "#%%\n",
          "is_executing": false
        }
      }
    },
    {
      "cell_type": "code",
      "execution_count": null,
      "outputs": [],
      "source": "\n",
      "metadata": {
        "pycharm": {
          "metadata": false,
          "name": "#%%\n"
        }
      }
    }
  ],
  "metadata": {
    "language_info": {
      "codemirror_mode": {
        "name": "ipython",
        "version": 2
      },
      "file_extension": ".py",
      "mimetype": "text/x-python",
      "name": "python",
      "nbconvert_exporter": "python",
      "pygments_lexer": "ipython2",
      "version": "2.7.6"
    },
    "kernelspec": {
      "name": "python3",
      "language": "python",
      "display_name": "Python 3"
    },
    "stem_cell": {
      "cell_type": "raw",
      "source": "",
      "metadata": {
        "pycharm": {
          "metadata": false
        }
      }
    }
  },
  "nbformat": 4,
  "nbformat_minor": 0
}