{
  "cells": [
    {
      "cell_type": "code",
      "execution_count": 12,
      "metadata": {
        "collapsed": true,
        "pycharm": {
          "name": "#%% String \u0026 Containers\n",
          "is_executing": false
        }
      },
      "outputs": [
        {
          "name": "stdout",
          "text": [
            "Old string id \u003d 4583574760\nNew string id \u003d 4583710928\n"
          ],
          "output_type": "stream"
        },
        {
          "data": {
            "text/plain": "\u002730.14,29.58,26.36,32.56,32.82\u0027"
          },
          "metadata": {},
          "output_type": "execute_result",
          "execution_count": 12
        }
      ],
      "source": ""
    },
    {
      "cell_type": "code",
      "execution_count": null,
      "outputs": [],
      "source": "price_str \u003d \u002730.14, 29.58, 26.36, 32.56, 32.82\u0027\nprint(\u0027Old string id \u003d {}\u0027.format(id(price_str)))\nprice_str \u003d price_str.replace(\" \", \u0027\u0027)\nprint(\u0027New string id \u003d {}\u0027.format(id(price_str)))\nprice_str",
      "metadata": {
        "pycharm": {
          "metadata": false,
          "name": "#%% 1. String\n"
        }
      }
    },
    {
      "cell_type": "code",
      "execution_count": 16,
      "outputs": [
        {
          "data": {
            "text/plain": "[\u002730.14\u0027, \u002729.58\u0027, \u002726.36\u0027, \u002732.56\u0027, \u002732.82\u0027]"
          },
          "metadata": {},
          "output_type": "execute_result",
          "execution_count": 16
        }
      ],
      "source": "price_array \u003d price_str.split(\u0027,\u0027)\nprice_array",
      "metadata": {
        "pycharm": {
          "metadata": false,
          "name": "#%% 2. Container\n",
          "is_executing": false
        }
      }
    },
    {
      "cell_type": "code",
      "execution_count": 18,
      "outputs": [
        {
          "data": {
            "text/plain": "[\u002730.14\u0027, \u002729.58\u0027, \u002726.36\u0027, \u002732.56\u0027, \u002732.82\u0027, \u002732.92\u0027, \u002732.92\u0027]"
          },
          "metadata": {},
          "output_type": "execute_result",
          "execution_count": 18
        }
      ],
      "source": "price_array.append(\u002732.92\u0027)\nprice_array",
      "metadata": {
        "pycharm": {
          "metadata": false,
          "name": "#%% Array\n",
          "is_executing": false
        }
      }
    },
    {
      "cell_type": "code",
      "execution_count": 19,
      "outputs": [
        {
          "data": {
            "text/plain": "{\u002726.36\u0027, \u002729.58\u0027, \u002730.14\u0027, \u002732.56\u0027, \u002732.82\u0027, \u002732.92\u0027}"
          },
          "metadata": {},
          "output_type": "execute_result",
          "execution_count": 19
        }
      ],
      "source": "set(price_array)",
      "metadata": {
        "pycharm": {
          "metadata": false,
          "name": "#%% Set\n",
          "is_executing": false
        }
      }
    },
    {
      "cell_type": "code",
      "execution_count": 20,
      "outputs": [
        {
          "data": {
            "text/plain": "[\u002720190401\u0027,\n \u002720190402\u0027,\n \u002720190403\u0027,\n \u002720190404\u0027,\n \u002720190405\u0027,\n \u002720190406\u0027,\n \u002720190407\u0027]"
          },
          "metadata": {},
          "output_type": "execute_result",
          "execution_count": 20
        }
      ],
      "source": "date_array \u003d []\ndate_base \u003d 20190401\n\nfor _ in range(0, len(price_array)):\n    # Add Date to date_base\n    date_array.append(str(date_base))\n    # Increment date_base\n    date_base +\u003d 1\ndate_array\n",
      "metadata": {
        "pycharm": {
          "metadata": false,
          "name": "#%% 3. Loop\n",
          "is_executing": false
        }
      }
    },
    {
      "cell_type": "code",
      "execution_count": 22,
      "outputs": [
        {
          "data": {
            "text/plain": "[\u002720190401\u0027, \u002720190402\u0027, \u002720190403\u0027, \u002720190404\u0027, \u002720190405\u0027, \u002720190406\u0027]"
          },
          "metadata": {},
          "output_type": "execute_result",
          "execution_count": 22
        }
      ],
      "source": "date_array \u003d []\ndate_base \u003d 20190401\nprice_cnt \u003d len(price_array) - 1\nwhile price_cnt \u003e 0:\n    date_array.append(str(date_base))\n    date_base +\u003d 1\n    price_cnt -\u003d 1\ndate_array",
      "metadata": {
        "pycharm": {
          "metadata": false,
          "name": "#%% using \u0027while\u0027 instead\n",
          "is_executing": false
        }
      }
    },
    {
      "cell_type": "code",
      "execution_count": 24,
      "outputs": [
        {
          "data": {
            "text/plain": "[\u002720190401\u0027,\n \u002720190402\u0027,\n \u002720190403\u0027,\n \u002720190404\u0027,\n \u002720190405\u0027,\n \u002720190406\u0027,\n \u002720190407\u0027]"
          },
          "metadata": {},
          "output_type": "execute_result",
          "execution_count": 24
        }
      ],
      "source": "date_base \u003d 20190401\ndate_array \u003d [str(date_base + ind) for ind, _ in enumerate(price_array)]\ndate_array",
      "metadata": {
        "pycharm": {
          "metadata": false,
          "name": "#%% 4. List Enumaration\n",
          "is_executing": false
        }
      }
    },
    {
      "cell_type": "code",
      "execution_count": 26,
      "outputs": [
        {
          "name": "stdout",
          "text": [
            "20190402 price: 29.58\n"
          ],
          "output_type": "stream"
        },
        {
          "data": {
            "text/plain": "[(\u002720190401\u0027, \u002730.14\u0027),\n (\u002720190402\u0027, \u002729.58\u0027),\n (\u002720190403\u0027, \u002726.36\u0027),\n (\u002720190404\u0027, \u002732.56\u0027),\n (\u002720190405\u0027, \u002732.82\u0027),\n (\u002720190406\u0027, \u002732.92\u0027),\n (\u002720190407\u0027, \u002732.92\u0027)]"
          },
          "metadata": {},
          "output_type": "execute_result",
          "execution_count": 26
        }
      ],
      "source": "stock_tuple_list \u003d [(date, price) for date, price in zip(date_array, price_array)]\n# tuple index\nprint(\u002720190402 price: {}\u0027.format(stock_tuple_list[1][1]))\nstock_tuple_list",
      "metadata": {
        "pycharm": {
          "metadata": false,
          "name": "#%% tuple\n",
          "is_executing": false
        }
      }
    },
    {
      "cell_type": "code",
      "execution_count": 28,
      "outputs": [
        {
          "data": {
            "text/plain": "[stock(date\u003d\u002720190401\u0027, price\u003d\u002730.14\u0027),\n stock(date\u003d\u002720190402\u0027, price\u003d\u002729.58\u0027),\n stock(date\u003d\u002720190403\u0027, price\u003d\u002726.36\u0027),\n stock(date\u003d\u002720190404\u0027, price\u003d\u002732.56\u0027),\n stock(date\u003d\u002720190405\u0027, price\u003d\u002732.82\u0027),\n stock(date\u003d\u002720190406\u0027, price\u003d\u002732.92\u0027),\n stock(date\u003d\u002720190407\u0027, price\u003d\u002732.92\u0027)]"
          },
          "metadata": {},
          "output_type": "execute_result",
          "execution_count": 28
        }
      ],
      "source": "from collections import namedtuple\nstock_namedtuple \u003d namedtuple(\u0027stock\u0027, (\u0027date\u0027, \u0027price\u0027))\nstock_namedtuple_list \u003d [stock_namedtuple(date, price) for date, price in zip(date_array, price_array)]\nstock_namedtuple_list",
      "metadata": {
        "pycharm": {
          "metadata": false,
          "name": "#%% 5. nametuple\n",
          "is_executing": false
        }
      }
    },
    {
      "cell_type": "code",
      "execution_count": 29,
      "outputs": [
        {
          "data": {
            "text/plain": "{\u002720190401\u0027: \u002730.14\u0027,\n \u002720190402\u0027: \u002729.58\u0027,\n \u002720190403\u0027: \u002726.36\u0027,\n \u002720190404\u0027: \u002732.56\u0027,\n \u002720190405\u0027: \u002732.82\u0027,\n \u002720190406\u0027: \u002732.92\u0027,\n \u002720190407\u0027: \u002732.92\u0027}"
          },
          "metadata": {},
          "output_type": "execute_result",
          "execution_count": 29
        }
      ],
      "source": "stock_dict \u003d {date: price for date, price in zip(date_array, price_array)}\nstock_dict",
      "metadata": {
        "pycharm": {
          "metadata": false,
          "name": "#%% 6. Dictionary\n",
          "is_executing": false
        }
      }
    },
    {
      "cell_type": "code",
      "execution_count": 30,
      "outputs": [
        {
          "data": {
            "text/plain": "(dict_keys([\u002720190401\u0027, \u002720190402\u0027, \u002720190403\u0027, \u002720190404\u0027, \u002720190405\u0027, \u002720190406\u0027, \u002720190407\u0027]),\n dict_values([\u002730.14\u0027, \u002729.58\u0027, \u002726.36\u0027, \u002732.56\u0027, \u002732.82\u0027, \u002732.92\u0027, \u002732.92\u0027]))"
          },
          "metadata": {},
          "output_type": "execute_result",
          "execution_count": 30
        }
      ],
      "source": "stock_dict.keys(), stock_dict.values()",
      "metadata": {
        "pycharm": {
          "metadata": false,
          "name": "#%%\n",
          "is_executing": false
        }
      }
    },
    {
      "cell_type": "code",
      "execution_count": 33,
      "outputs": [
        {
          "data": {
            "text/plain": "odict_keys([\u002720190401\u0027, \u002720190402\u0027, \u002720190403\u0027, \u002720190404\u0027, \u002720190405\u0027, \u002720190406\u0027, \u002720190407\u0027])"
          },
          "metadata": {},
          "output_type": "execute_result",
          "execution_count": 33
        }
      ],
      "source": "from collections import OrderedDict\nstock_dict \u003d OrderedDict(\n    (date, price) for date, price in zip(date_array, price_array) \n)\nstock_dict.keys()",
      "metadata": {
        "pycharm": {
          "metadata": false,
          "name": "#%%7. OrderedDict\n",
          "is_executing": false
        }
      }
    },
    {
      "cell_type": "code",
      "execution_count": 35,
      "outputs": [
        {
          "name": "stdout",
          "text": [
            "Hello\n"
          ],
          "output_type": "stream"
        }
      ],
      "source": "\n",
      "metadata": {
        "pycharm": {
          "metadata": false,
          "name": "#%%\n",
          "is_executing": false
        }
      }
    }
  ],
  "metadata": {
    "language_info": {
      "codemirror_mode": {
        "name": "ipython",
        "version": 2
      },
      "file_extension": ".py",
      "mimetype": "text/x-python",
      "name": "python",
      "nbconvert_exporter": "python",
      "pygments_lexer": "ipython2",
      "version": "2.7.6"
    },
    "kernelspec": {
      "name": "python3",
      "language": "python",
      "display_name": "Python 3"
    }
  },
  "nbformat": 4,
  "nbformat_minor": 0
}