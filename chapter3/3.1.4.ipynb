{
  "cells": [
    {
      "cell_type": "code",
      "execution_count": 2,
      "metadata": {
        "collapsed": true,
        "pycharm": {
          "is_executing": false
        }
      },
      "outputs": [],
      "source": "\nimport numpy as np\n\nstock_day_change \u003d np.load(\u0027./gen/stock_day_change.npy\u0027)\n"
    },
    {
      "cell_type": "code",
      "execution_count": 3,
      "outputs": [
        {
          "name": "stdout",
          "text": [
            "[[ 0.52772005 -1.23686502  0.51491667  0.18083315 -0.045416  ]\n [ 1.32417809  0.05159529 -1.02241279 -0.30628773 -1.52755081]]\n"
          ],
          "output_type": "stream"
        },
        {
          "data": {
            "text/plain": "array([[ 0, -1,  0,  0,  0],\n       [ 1,  0, -1,  0, -1]])"
          },
          "metadata": {},
          "output_type": "execute_result",
          "execution_count": 3
        }
      ],
      "source": "\nprint(stock_day_change[0:2, 0:5])\nstock_day_change[0:2, 0:5].astype(int)\n",
      "metadata": {
        "pycharm": {
          "metadata": false,
          "name": "#%% Type Casting\n",
          "is_executing": false
        }
      }
    },
    {
      "cell_type": "code",
      "execution_count": 4,
      "outputs": [
        {
          "data": {
            "text/plain": "array([[ 0.53, -1.24,  0.51,  0.18, -0.05],\n       [ 1.32,  0.05, -1.02, -0.31, -1.53]])"
          },
          "metadata": {},
          "output_type": "execute_result",
          "execution_count": 4
        }
      ],
      "source": "\nnp.around(stock_day_change[0:2, 0:5], 2)\n",
      "metadata": {
        "pycharm": {
          "metadata": false,
          "name": "#%%\n",
          "is_executing": false
        }
      }
    },
    {
      "cell_type": "code",
      "execution_count": 5,
      "outputs": [
        {
          "data": {
            "text/plain": "array([[        nan, -1.23686502,  0.51491667,  0.18083315, -0.045416  ],\n       [ 1.32417809,  0.05159529, -1.02241279, -0.30628773, -1.52755081]])"
          },
          "metadata": {},
          "output_type": "execute_result",
          "execution_count": 5
        }
      ],
      "source": "\ntmp_test \u003d stock_day_change[0:2, 0:5].copy()\n\ntmp_test[0][0] \u003d np.nan\ntmp_test",
      "metadata": {
        "pycharm": {
          "metadata": false,
          "name": "#%%\n",
          "is_executing": false
        }
      }
    },
    {
      "cell_type": "code",
      "execution_count": 6,
      "outputs": [
        {
          "data": {
            "text/plain": "array([[ 0.        , -1.23686502,  0.51491667,  0.18083315, -0.045416  ],\n       [ 1.32417809,  0.05159529, -1.02241279, -0.30628773, -1.52755081]])"
          },
          "metadata": {},
          "output_type": "execute_result",
          "execution_count": 6
        }
      ],
      "source": "\ntmp_test \u003d np.nan_to_num(tmp_test)\ntmp_test",
      "metadata": {
        "pycharm": {
          "metadata": false,
          "name": "#%%\n",
          "is_executing": false
        }
      }
    },
    {
      "cell_type": "code",
      "execution_count": null,
      "outputs": [],
      "source": "\n",
      "metadata": {
        "pycharm": {
          "metadata": false,
          "name": "#%%\n"
        }
      }
    }
  ],
  "metadata": {
    "language_info": {
      "codemirror_mode": {
        "name": "ipython",
        "version": 2
      },
      "file_extension": ".py",
      "mimetype": "text/x-python",
      "name": "python",
      "nbconvert_exporter": "python",
      "pygments_lexer": "ipython2",
      "version": "2.7.6"
    },
    "kernelspec": {
      "name": "python3",
      "language": "python",
      "display_name": "Python 3"
    }
  },
  "nbformat": 4,
  "nbformat_minor": 0
}