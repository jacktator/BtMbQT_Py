{
  "cells": [
    {
      "cell_type": "code",
      "execution_count": 1,
      "metadata": {
        "collapsed": true,
        "pycharm": {
          "is_executing": false
        }
      },
      "outputs": [],
      "source": "\nimport numpy as np\n\n# 200 stocks\nstock_cnt \u003d 200\n\n#504 trade days\nview_days \u003d 504\n\n# Normal distribution mean \u003d 0, std \u003d 1\nstock_day_change \u003d np.random.standard_normal((stock_cnt,\n                                              view_days))"
    },
    {
      "cell_type": "code",
      "execution_count": 3,
      "outputs": [
        {
          "name": "stdout",
          "text": [
            "[[ 0.901293   -0.01862414  0.09204024 -0.18621317 -0.54927495]\n [ 0.60266206 -1.02717357  0.76797468 -0.23567429 -0.70842047]]\n"
          ],
          "output_type": "stream"
        },
        {
          "data": {
            "text/plain": "array([[ 0,  0,  0,  0,  0],\n       [ 0, -1,  0,  0,  0]])"
          },
          "metadata": {},
          "output_type": "execute_result",
          "execution_count": 3
        }
      ],
      "source": "\nprint(stock_day_change[0:2, 0:5])\nstock_day_change[0:2, 0:5].astype(int)",
      "metadata": {
        "pycharm": {
          "metadata": false,
          "name": "#%%\n",
          "is_executing": false
        }
      }
    },
    {
      "cell_type": "code",
      "execution_count": 4,
      "outputs": [
        {
          "data": {
            "text/plain": "array([[ 0.9 , -0.02,  0.09, -0.19, -0.55],\n       [ 0.6 , -1.03,  0.77, -0.24, -0.71]])"
          },
          "metadata": {},
          "output_type": "execute_result",
          "execution_count": 4
        }
      ],
      "source": "\nnp.around(stock_day_change[0:2, 0:5], 2)",
      "metadata": {
        "pycharm": {
          "metadata": false,
          "name": "#%%\n",
          "is_executing": false
        }
      }
    },
    {
      "cell_type": "code",
      "execution_count": 5,
      "outputs": [
        {
          "data": {
            "text/plain": "array([[        nan, -0.01862414,  0.09204024, -0.18621317, -0.54927495],\n       [ 0.60266206, -1.02717357,  0.76797468, -0.23567429, -0.70842047]])"
          },
          "metadata": {},
          "output_type": "execute_result",
          "execution_count": 5
        }
      ],
      "source": "\ntmp_test \u003d stock_day_change[0:2, 0:5].copy()\n\ntmp_test[0][0] \u003d np.nan\ntmp_test",
      "metadata": {
        "pycharm": {
          "metadata": false,
          "name": "#%%\n",
          "is_executing": false
        }
      }
    },
    {
      "cell_type": "code",
      "execution_count": 6,
      "outputs": [
        {
          "data": {
            "text/plain": "array([[ 0.        , -0.01862414,  0.09204024, -0.18621317, -0.54927495],\n       [ 0.60266206, -1.02717357,  0.76797468, -0.23567429, -0.70842047]])"
          },
          "metadata": {},
          "output_type": "execute_result",
          "execution_count": 6
        }
      ],
      "source": "\ntmp_test \u003d np.nan_to_num(tmp_test)\ntmp_test",
      "metadata": {
        "pycharm": {
          "metadata": false,
          "name": "#%%\n",
          "is_executing": false
        }
      }
    },
    {
      "cell_type": "code",
      "execution_count": null,
      "outputs": [],
      "source": "\n",
      "metadata": {
        "pycharm": {
          "metadata": false,
          "name": "#%%\n"
        }
      }
    }
  ],
  "metadata": {
    "language_info": {
      "codemirror_mode": {
        "name": "ipython",
        "version": 2
      },
      "file_extension": ".py",
      "mimetype": "text/x-python",
      "name": "python",
      "nbconvert_exporter": "python",
      "pygments_lexer": "ipython2",
      "version": "2.7.6"
    },
    "kernelspec": {
      "name": "python3",
      "language": "python",
      "display_name": "Python 3"
    }
  },
  "nbformat": 4,
  "nbformat_minor": 0
}