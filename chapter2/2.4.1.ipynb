{
  "cells": [
    {
      "cell_type": "code",
      "execution_count": 6,
      "metadata": {
        "collapsed": true,
        "pycharm": {
          "name": "#%% Using itertools\n",
          "is_executing": false
        }
      },
      "outputs": [],
      "source": "import itertools\n"
    },
    {
      "cell_type": "code",
      "execution_count": 7,
      "outputs": [
        {
          "name": "stdout",
          "text": [
            "(1, 2, 3)\n(1, 3, 2)\n(2, 1, 3)\n(2, 3, 1)\n(3, 1, 2)\n(3, 2, 1)\n"
          ],
          "output_type": "stream"
        }
      ],
      "source": "items \u003d [1, 2, 3]\nfor item in itertools.permutations(items, 3):\n    print(item)\n",
      "metadata": {
        "pycharm": {
          "metadata": false,
          "name": "#%% Permutation - P(n,r) \u003d n!(n−r)!\n",
          "is_executing": false
        }
      }
    },
    {
      "cell_type": "code",
      "execution_count": 8,
      "outputs": [
        {
          "name": "stdout",
          "text": [
            "(1, 2)\n(1, 3)\n(2, 3)\n"
          ],
          "output_type": "stream"
        }
      ],
      "source": "for item in itertools.combinations(items, 2):\n    print(item)\n",
      "metadata": {
        "pycharm": {
          "metadata": false,
          "name": "#%% Combination - C(n,r) \u003d n! / (r!(n-r)!)\n",
          "is_executing": false
        }
      }
    },
    {
      "cell_type": "code",
      "execution_count": 9,
      "outputs": [
        {
          "name": "stdout",
          "text": [
            "(1, 1)\n(1, 2)\n(1, 3)\n(2, 2)\n(2, 3)\n(3, 3)\n"
          ],
          "output_type": "stream"
        }
      ],
      "source": "for item in itertools.combinations_with_replacement(items, 2):\n    print(item)\n",
      "metadata": {
        "pycharm": {
          "metadata": false,
          "name": "#%% Combination with replacement\n",
          "is_executing": false
        }
      }
    },
    {
      "cell_type": "code",
      "execution_count": 10,
      "outputs": [
        {
          "name": "stdout",
          "text": [
            "(\u0027a\u0027, \u0027c\u0027)\n(\u0027a\u0027, \u0027d\u0027)\n(\u0027b\u0027, \u0027c\u0027)\n(\u0027b\u0027, \u0027d\u0027)\n"
          ],
          "output_type": "stream"
        }
      ],
      "source": "ab \u003d [\u0027a\u0027, \u0027b\u0027]\ncd \u003d [\u0027c\u0027, \u0027d\u0027]\n# Produce the product of two arrays\nfor item in itertools.product(ab, cd):\n    print(item)\n",
      "metadata": {
        "pycharm": {
          "metadata": false,
          "name": "#%% product\n",
          "is_executing": false
        }
      }
    },
    {
      "cell_type": "code",
      "execution_count": 31,
      "outputs": [
        {
          "data": {
            "text/plain": "(0.1370000000000001, 5, -0.02)"
          },
          "metadata": {},
          "output_type": "execute_result",
          "execution_count": 31
        }
      ],
      "source": "\n# 1. Defining a function that takes params and return result+params\n\ndef calc(keep_stock_threshold, buy_change_threshold):\n    \"\"\"\n    :param keep_stock_threshold: \n    :param buy_change_threshold: \n    :return:  \n    \"\"\"\n\n    # Initialize an instance of Strategy2\n    import import_ipynb\n    from strategy_2 import TradeStrategy2\n    trade_strategy2 \u003d TradeStrategy2()\n    \n    # Use class method to set keep_stock_threshold\n    TradeStrategy2.set_keep_stock_threshold(keep_stock_threshold)\n    \n    # Use static method to set buy_change_threshold\n    TradeStrategy2.set_buy_change_threshold(buy_change_threshold)\n    \n    # Create Trade Days (MasterCard)\n    from abupy import ABuSymbolPd, EMarketDataSplitMode\n    # List 2 years of MasterCard closing price to list()\n    price_array \u003d ABuSymbolPd.make_kl_df(\u0027MA\u0027, EMarketDataSplitMode.E_DATA_SPLIT_SE).close.tolist()\n    date_array \u003d ABuSymbolPd.make_kl_df(\u0027MA\u0027, EMarketDataSplitMode.E_DATA_SPLIT_SE).date.tolist()\n    price_array[-5:], date_array[-5:]\n    \n    from tradedays import StockTradeDays\n    trade_days \u003d StockTradeDays(price_array, \"\", date_array)\n    # print(\u0027trade_days has {} days\u0027.format(len(trade_days)))\n    # print(\u0027Last trading day: {}\u0027.format(trade_days[-1]))\n\n    # Backtest\n    from trade_loopback import TradeLoopBack\n    trade_loop_back \u003d TradeLoopBack(trade_days, trade_strategy2)\n    trade_loop_back.execute_trade()\n    \n    # Calculate profit after back test\n    from functools import reduce\n    profit \u003d 0.0 if len(trade_loop_back.profit_array) \u003d\u003d 0 else \\\n        reduce(lambda a, b: a + b, trade_loop_back.profit_array)\n    \n    # Return profit and the two input params\n    return profit, keep_stock_threshold, buy_change_threshold\n\ncalc(5, -0.02)\n",
      "metadata": {
        "pycharm": {
          "metadata": false,
          "name": "#%% Use Cartesian product to find the best s_buy_change_threshold and s_keep_stock_threshold for strategy_2\n",
          "is_executing": false
        }
      }
    },
    {
      "cell_type": "code",
      "execution_count": 32,
      "outputs": [
        {
          "name": "stdout",
          "text": [
            "keep_stock Array: [2, 4, 6, 8, 10, 12, 14, 16, 18, 20, 22, 24, 26, 28]\nbuy_change Array: [-0.05, -0.06, -0.07, -0.08, -0.09, -0.1, -0.11, -0.12, -0.13, -0.14, -0.15]\n"
          ],
          "output_type": "stream"
        }
      ],
      "source": "\n# range: buy and then hold 2~30 days, step is 2\nkeep_stock_days_list \u003d range(2, 30, 2)\nprint(\u0027keep_stock Array: {}\u0027.format(list(keep_stock_days_list)))\n# range: \u0027buy_change\u0027 from -0.05 to -0.15, aka down 5% to 15%\nbuy_change_list \u003d [buy_change / 100.0 for buy_change in range(-5, -16, -1)]\nprint(\u0027buy_change Array: {}\u0027.format(buy_change_list))\n",
      "metadata": {
        "pycharm": {
          "metadata": false,
          "name": "#%%\n",
          "is_executing": false
        }
      }
    },
    {
      "cell_type": "code",
      "execution_count": 33,
      "outputs": [
        {
          "name": "stdout",
          "text": [
            "Cartesian product produced 154 results\n"
          ],
          "output_type": "stream"
        }
      ],
      "source": "result \u003d []\nfor keep_stock_threshold, buy_change_threshold in itertools.product(\n    keep_stock_days_list, buy_change_list):\n    result.append(calc(keep_stock_threshold, buy_change_threshold))\n\nprint(\u0027Cartesian product produced {} results\u0027.format(len(result)))\n",
      "metadata": {
        "pycharm": {
          "metadata": false,
          "name": "#%% Use Cartesian product to find the best combination\n",
          "is_executing": false
        }
      }
    },
    {
      "cell_type": "code",
      "execution_count": 41,
      "outputs": [
        {
          "data": {
            "text/plain": "[(0.37900000000000006, 8, -0.05),\n (0.306, 6, -0.05),\n (0.29800000000000004, 20, -0.05),\n (0.29300000000000004, 12, -0.05),\n (0.292, 8, -0.06),\n (0.289, 10, -0.05),\n (0.2749999999999999, 28, -0.05),\n (0.2719999999999999, 26, -0.05),\n (0.263, 16, -0.05),\n (0.2560000000000001, 18, -0.05)]"
          },
          "metadata": {},
          "output_type": "execute_result",
          "execution_count": 41
        }
      ],
      "source": "sorted(result)[::-1][:10]",
      "metadata": {
        "pycharm": {
          "metadata": false,
          "name": "#%% Reverse the result, find the top 10, sort\n",
          "is_executing": false
        }
      }
    },
    {
      "cell_type": "code",
      "execution_count": null,
      "outputs": [],
      "source": "\n",
      "metadata": {
        "pycharm": {
          "metadata": false,
          "name": "#%%\n"
        }
      }
    }
  ],
  "metadata": {
    "language_info": {
      "codemirror_mode": {
        "name": "ipython",
        "version": 2
      },
      "file_extension": ".py",
      "mimetype": "text/x-python",
      "name": "python",
      "nbconvert_exporter": "python",
      "pygments_lexer": "ipython2",
      "version": "2.7.6"
    },
    "kernelspec": {
      "name": "python3",
      "language": "python",
      "display_name": "Python 3"
    }
  },
  "nbformat": 4,
  "nbformat_minor": 0
}