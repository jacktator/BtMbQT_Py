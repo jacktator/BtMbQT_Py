{
  "cells": [
    {
      "cell_type": "code",
      "execution_count": 1,
      "metadata": {
        "collapsed": true,
        "pycharm": {
          "is_executing": false
        }
      },
      "outputs": [],
      "source": "\nimport numpy as np\n\n# 200 stocks\nstock_cnt \u003d 200\n\n#504 trade days\nview_days \u003d 504\n\n# Normal distribution mean \u003d 0, std \u003d 1\nstock_day_change \u003d np.random.standard_normal((stock_cnt, view_days))"
    },
    {
      "cell_type": "code",
      "execution_count": 2,
      "outputs": [
        {
          "data": {
            "text/plain": "array([[ 1.1864402 , -0.67757216, -0.44957352, -0.92764731],\n       [ 1.16088158,  1.81851611, -0.03462782,  0.10471911],\n       [ 0.4164613 ,  0.52200961,  0.81119679, -0.44302777],\n       [ 0.51044225, -0.39343621, -1.30727296, -1.08687327]])"
          },
          "metadata": {},
          "output_type": "execute_result",
          "execution_count": 2
        }
      ],
      "source": "\nstock_day_change_four \u003d stock_day_change[:4, :4]\nstock_day_change_four\n                                              ",
      "metadata": {
        "pycharm": {
          "metadata": false,
          "name": "#%%\n",
          "is_executing": false
        }
      }
    },
    {
      "cell_type": "code",
      "execution_count": 3,
      "outputs": [
        {
          "name": "stdout",
          "text": [
            "Max Gain [1.1864402  1.81851611 0.81119679 0.51044225]\n"
          ],
          "output_type": "stream"
        }
      ],
      "source": "\nprint(\u0027Max Gain {}\u0027.format(np.max(stock_day_change_four, axis\u003d1)))\n",
      "metadata": {
        "pycharm": {
          "metadata": false,
          "name": "#%%\n",
          "is_executing": false
        }
      }
    },
    {
      "cell_type": "code",
      "execution_count": 4,
      "outputs": [
        {
          "name": "stdout",
          "text": [
            "Max Drop [-0.92764731 -0.03462782 -0.44302777 -1.30727296]\nStand Deviation [0.82778033 0.76517421 0.46728495 0.70874142]\nAverage Gain [-0.2170882   0.76237224  0.32665998 -0.56928505]\n"
          ],
          "output_type": "stream"
        }
      ],
      "source": "\nprint(\u0027Max Drop {}\u0027.format(np.min(stock_day_change_four, axis\u003d1)))\nprint(\u0027Stand Deviation {}\u0027.format(np.std(stock_day_change_four, axis\u003d1)))\nprint(\u0027Average Gain {}\u0027.format(np.mean(stock_day_change_four, axis\u003d1)))\n",
      "metadata": {
        "pycharm": {
          "metadata": false,
          "name": "#%%\n",
          "is_executing": false
        }
      }
    },
    {
      "cell_type": "code",
      "execution_count": 5,
      "outputs": [
        {
          "name": "stdout",
          "text": [
            "Max Gain [1.1864402  1.81851611 0.81119679 0.10471911]\n"
          ],
          "output_type": "stream"
        }
      ],
      "source": "\nprint(\u0027Max Gain {}\u0027.format(np.max(stock_day_change_four, axis\u003d0)))\n",
      "metadata": {
        "pycharm": {
          "metadata": false,
          "name": "#%%\n",
          "is_executing": false
        }
      }
    },
    {
      "cell_type": "code",
      "execution_count": 6,
      "outputs": [
        {
          "name": "stdout",
          "text": [
            "Max Gain of 4 stocks [0 1 2 1]\n"
          ],
          "output_type": "stream"
        }
      ],
      "source": "\nprint(\u0027Max Gain of 4 stocks {}\u0027.format(np.argmax(stock_day_change_four, axis\u003d0)))\n",
      "metadata": {
        "pycharm": {
          "metadata": false,
          "name": "#%%\n",
          "is_executing": false
        }
      }
    },
    {
      "cell_type": "code",
      "execution_count": null,
      "outputs": [],
      "source": "\n",
      "metadata": {
        "pycharm": {
          "metadata": false,
          "name": "#%%\n"
        }
      }
    }
  ],
  "metadata": {
    "language_info": {
      "codemirror_mode": {
        "name": "ipython",
        "version": 2
      },
      "file_extension": ".py",
      "mimetype": "text/x-python",
      "name": "python",
      "nbconvert_exporter": "python",
      "pygments_lexer": "ipython2",
      "version": "2.7.6"
    },
    "kernelspec": {
      "name": "python3",
      "language": "python",
      "display_name": "Python 3"
    }
  },
  "nbformat": 4,
  "nbformat_minor": 0
}