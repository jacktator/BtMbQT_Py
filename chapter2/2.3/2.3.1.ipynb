{
  "cells": [
    {
      "cell_type": "code",
      "execution_count": null,
      "metadata": {
        "collapsed": true,
        "pycharm": {
          "name": "#%% Class\n"
        }
      },
      "outputs": [],
      "source": "from collections import namedtuple, OrderedDict\nfrom functools import reduce\n\nclass StockTradeDays(object): \n    \n    def __init__(self, \n                 price_array, \n                 start_date, \n                 date_array\u003dNone):\n        # Private Price Array\n        self.__price_array \u003d price_array\n        # Private Date Array\n        self.__date_array \u003d self._init_days(start_date, date_array)\n        # Private Change Array\n        self.__change_array \u003d self.__init_change()\n        # Construct OrderedDict\n        self.stock_dict \u003d self._init_stock_dict()\n    \n    def __init_change(self):\n        \"\"\"\n        Generate change_array from price_array\n        :return: \n        \"\"\"\n        price_float_array \u003d [float(price_str) for price_str in self.__price_array]\n        \n        # Move the price to generate a change_array\n        pp_array \u003d [(price1, price2) for price1, price2 in zip(price_float_array[:-1], price_float_array[1:])]\n        change_array \u003d map(\n            lambda pp: reduce(\n                lambda  a, b: round(\n                    (b - a) / a, \n                    3), \n                pp),\n            pp_array)\n        \n        # list insert() function insert first date change as 9. \n        change_array.insert(0, 0)\n        return change_array\n    \n    def _init_days(self, start_date, date_array):\n        \"\"\"\n        protected function,\n        :param start_date: First date\n        :param date_array: date_array\n        :return:\n        \"\"\"\n        if date_array is None:\n            # Use start_date and self.__price_arary to determine date_array\n            date_array \u003d [str(start_date + index) for index, _ in enumerate(self.__price_array)]\n        else:\n            # Use date_array if provided\n            date_array \u003d [str(date) for date in date_array]\n        return date_array\n    \n    def _init_stock_dic(self):\n        \"\"\"\n        Use namedtupple, OrderedDict to combine results\n        :return: \n        \"\"\"\n        stock_namedtuple \u003d namedtuple(\u0027stock\u0027, \n                                      (\u0027date\u0027, \u0027price\u0027, \u0027change\u0027))\n        # Use defined __date_array to combine OrderedDict\n        stock_dict \u003d OrderedDict(\n            (date, stock_namedtuple(date, price, change)\n             for date, price, change in\n             zip (self.__date_array, self.__price_array, self.__change_array))\n        )\n        return stock_dict\n    \n    def filter_stock(self, up_days_only\u003dTrue, want_calc_sum\u003dFalse):\n        \"\"\"\n        Filter stock result\n        :param up_days_only: \n        :param want_calc_sum: \n        :return: \n        \"\"\"\n        # Use filter_func as Filter\n        filter_func \u003d (lambda day: day.change \u003e 0) if up_days_only \\\n            else (lambda day: day.change \u003c 0)\n        \n        filtered_days \u003d filter(filter_func, self.stock_dict.values())\n        \n        if not want_calc_sum:\n            return filtered_days\n        \n        # Need to calculate the sum\n        change_sum \u003d 0.0\n        for day in want_days:\n            change_sum +\u003d day.change\n            return change_sum\n        \n    def __str__(self):\n        return str(self.stock_dict)\n    \n    __repr__ \u003d __str__\n        \n    def __iter__(self):\n        \"\"\"\n        Iterate stock_dict to yield elements\n        :return: \n        \"\"\"\n        for key in self.stock_dict:\n            yield self.stock_dict[key]\n        \n    def __getitem__(self, index):\n        date_key \u003d self.__date_array[index]\n        return self.stock_dict[date_key]\n    \n    def __len__(self):\n        return len(self.stock_dict)\n        "
    }
  ],
  "metadata": {
    "language_info": {
      "codemirror_mode": {
        "name": "ipython",
        "version": 2
      },
      "file_extension": ".py",
      "mimetype": "text/x-python",
      "name": "python",
      "nbconvert_exporter": "python",
      "pygments_lexer": "ipython2",
      "version": "2.7.6"
    },
    "kernelspec": {
      "name": "python3",
      "language": "python",
      "display_name": "Python 3"
    }
  },
  "nbformat": 4,
  "nbformat_minor": 0
}