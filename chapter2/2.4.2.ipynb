{
  "cells": [
    {
      "cell_type": "code",
      "execution_count": null,
      "metadata": {
        "collapsed": true,
        "pycharm": {
          "name": "#%% Multi Process \u0026 Multithreading\n"
        }
      },
      "outputs": [],
      "source": ""
    },
    {
      "cell_type": "code",
      "execution_count": 27,
      "outputs": [],
      "source": "\n# 1. Defining a function that takes params and return result+params\n\nimport import_ipynb\nfrom strategy_base import TradeStrategyBase\n    \ndef execute(strategy: TradeStrategyBase,\n         keep_stock_threshold: int, \n         buy_change_threshold: float):\n    \"\"\"\n    :param keep_stock_threshold: \n    :param buy_change_threshold: \n    :return:  \n    \"\"\"\n    \n    # Use class method to set keep_stock_threshold\n    strategy.set_keep_stock_threshold(keep_stock_threshold)\n    \n    # Use static method to set buy_change_threshold\n    strategy.set_buy_change_threshold(buy_change_threshold)\n    \n    # Create Trade Days (MasterCard)\n    from abupy import ABuSymbolPd, EMarketDataSplitMode\n    # List 2 years of MasterCard closing price to list()\n    price_array \u003d ABuSymbolPd.make_kl_df(\u0027MA\u0027, EMarketDataSplitMode.E_DATA_SPLIT_SE).close.tolist()\n    date_array \u003d ABuSymbolPd.make_kl_df(\u0027MA\u0027, EMarketDataSplitMode.E_DATA_SPLIT_SE).date.tolist()\n    price_array[-5:], date_array[-5:]\n    \n    from tradedays import StockTradeDays\n    trade_days \u003d StockTradeDays(price_array, \"\", date_array)\n    # print(\u0027trade_days has {} days\u0027.format(len(trade_days)))\n    # print(\u0027Last trading day: {}\u0027.format(trade_days[-1]))\n\n    # Backtest\n    from trade_loopback import TradeLoopBack\n    trade_loop_back \u003d TradeLoopBack(trade_days, strategy)\n    trade_loop_back.execute_trade()\n    \n    # Calculate profit after back test\n    from functools import reduce\n    profit \u003d 0.0 if len(trade_loop_back.profit_array) \u003d\u003d 0 else \\\n        reduce(lambda a, b: a + b, trade_loop_back.profit_array)\n    \n    # Return profit and the two input params\n    return profit, keep_stock_threshold, buy_change_threshold\n",
      "metadata": {
        "pycharm": {
          "metadata": false,
          "name": "#%% Use Cartesian product to find the best s_buy_change_threshold and s_keep_stock_threshold for strategy_2\n",
          "is_executing": false
        }
      }
    },
    {
      "cell_type": "code",
      "execution_count": 28,
      "outputs": [
        {
          "data": {
            "text/plain": "(0.1370000000000001, 5, -0.02)"
          },
          "metadata": {},
          "output_type": "execute_result",
          "execution_count": 28
        }
      ],
      "source": "\n# Initialize an instance of Strategy2\nimport import_ipynb\nfrom strategy_2 import TradeStrategy2\ntrade_strategy2 \u003d TradeStrategy2()\n\nexecute(trade_strategy2, 5, -0.02)\n",
      "metadata": {
        "pycharm": {
          "metadata": false,
          "name": "#%%\n",
          "is_executing": false
        }
      }
    },
    {
      "cell_type": "code",
      "execution_count": 29,
      "outputs": [
        {
          "name": "stdout",
          "text": [
            "keep_stock Array: [2, 4, 6, 8, 10, 12, 14, 16, 18, 20, 22, 24, 26, 28]\nbuy_change Array: [-0.05, -0.06, -0.07, -0.08, -0.09, -0.1, -0.11, -0.12, -0.13, -0.14, -0.15]\n"
          ],
          "output_type": "stream"
        }
      ],
      "source": "\n# range: buy and then hold 2~30 days, step is 2\nkeep_stock_days_list \u003d range(2, 30, 2)\nprint(\u0027keep_stock Array: {}\u0027.format(list(keep_stock_days_list)))\n# range: \u0027buy_change\u0027 from -0.05 to -0.15, aka down 5% to 15%\nbuy_change_list \u003d [buy_change / 100.0 for buy_change in range(-5, -16, -1)]\nprint(\u0027buy_change Array: {}\u0027.format(buy_change_list))\n",
      "metadata": {
        "pycharm": {
          "metadata": false,
          "name": "#%%\n",
          "is_executing": false
        }
      }
    },
    {
      "cell_type": "code",
      "execution_count": 31,
      "outputs": [
        {
          "data": {
            "text/plain": "[(0.37900000000000006, 8, -0.05),\n (0.306, 6, -0.05),\n (0.29800000000000004, 20, -0.05),\n (0.29300000000000004, 12, -0.05),\n (0.292, 8, -0.06),\n (0.289, 10, -0.05),\n (0.2749999999999999, 28, -0.05),\n (0.2719999999999999, 26, -0.05),\n (0.263, 16, -0.05),\n (0.2560000000000001, 18, -0.05)]"
          },
          "metadata": {},
          "output_type": "execute_result",
          "execution_count": 31
        }
      ],
      "source": "\n# Due go GIL (Global Interpreter Lock), Python can only execute one thread at a time. \n# So Python multi-threading works the best for IO-Bound and Concurrent Tasks for blocking operations, or multi processor concurrent CPU-Bound tasks.\n\n# 1. Using ProcessPollExecutor\n\nresult \u003d []\n# Callback function\ndef done_callback(r):\n    # done_callback runs on the main process\n    result.append(r.result())\n\nfrom concurrent.futures.process import ProcessPoolExecutor\nimport itertools\n\nwith ProcessPoolExecutor() as pool:\n    for keep_stock_threshold, buy_change_threshold in itertools.product(keep_stock_days_list, buy_change_list):\n        \"\"\"\n        Submit task, use calc() to submit\n        \"\"\"\n        future_result \u003d pool.submit(execute, \n                                    trade_strategy2, \n                                    keep_stock_threshold, \n                                    buy_change_threshold)\n        future_result.add_done_callback(done_callback)\n        \nsorted(result)[::-1][:10]",
      "metadata": {
        "pycharm": {
          "metadata": false,
          "name": "#%%\n",
          "is_executing": false
        }
      }
    },
    {
      "cell_type": "code",
      "execution_count": 32,
      "outputs": [
        {
          "data": {
            "text/plain": "[(0.29800000000000004, 12, -0.14),\n (0.29300000000000004, 6, -0.13),\n (0.289, 4, -0.05),\n (0.2749999999999999, 26, -0.1),\n (0.2719999999999999, 18, -0.07),\n (0.263, 12, -0.1),\n (0.2560000000000001, 6, -0.15),\n (0.2399999999999999, 14, -0.12),\n (0.21100000000000002, 2, -0.08),\n (0.18800000000000003, 2, -0.1)]"
          },
          "metadata": {},
          "output_type": "execute_result",
          "execution_count": 32
        }
      ],
      "source": "\n# 2. Using ThreadPollExecutor\nresult \u003d []\n# Callback function\ndef done_callback(r):\n    # done_callback runs on the main process\n    result.append(r.result())\n    \nfrom concurrent.futures import ThreadPoolExecutor\nimport itertools\n\nwith ThreadPoolExecutor() as pool:\n    for keep_stock_threshold, buy_change_threshold in itertools.product(keep_stock_days_list, buy_change_list):\n        future_result \u003d pool.submit(execute, \n                                    trade_strategy2, \n                                    keep_stock_threshold,\n                                    buy_change_threshold)\n        future_result.add_done_callback(done_callback)\n        \nsorted(result)[::-1][:10]",
      "metadata": {
        "pycharm": {
          "metadata": false,
          "name": "#%%\n",
          "is_executing": false
        }
      }
    },
    {
      "cell_type": "code",
      "execution_count": null,
      "outputs": [],
      "source": "\n# 3. \u0027with\u0027 and unmanaged resources\ndef __enter__(self):\n    self.acquire()\ndef __exit__(self, t, v, tb):\n    self.release()",
      "metadata": {
        "pycharm": {
          "metadata": false,
          "name": "#%%\n"
        }
      }
    }
  ],
  "metadata": {
    "language_info": {
      "codemirror_mode": {
        "name": "ipython",
        "version": 2
      },
      "file_extension": ".py",
      "mimetype": "text/x-python",
      "name": "python",
      "nbconvert_exporter": "python",
      "pygments_lexer": "ipython2",
      "version": "2.7.6"
    },
    "kernelspec": {
      "name": "python3",
      "language": "python",
      "display_name": "Python 3"
    }
  },
  "nbformat": 4,
  "nbformat_minor": 0
}