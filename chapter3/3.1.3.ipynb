{
  "cells": [
    {
      "cell_type": "code",
      "execution_count": 1,
      "outputs": [
        {
          "name": "stdout",
          "text": [
            "(200, 504)\n[[-0.34684593 -1.36306685 -0.71101589  0.04070414 -0.04369089]]\n"
          ],
          "output_type": "stream"
        }
      ],
      "source": "\nimport numpy as np\n\n# 200 stocks\nstock_cnt \u003d 200\n\n#504 trade days\nview_days \u003d 504\n\n# Normal distribution mean \u003d 0, std \u003d 1\nstock_day_change \u003d np.random.standard_normal((stock_cnt,\n                                              view_days))\n\n# print shape(200, 504)\nprint(stock_day_change.shape)\n\n# print first stock, first 5 days\nprint(stock_day_change[0:1, :5])\n",
      "metadata": {
        "pycharm": {
          "metadata": false,
          "name": "#%%\n",
          "is_executing": false
        }
      }
    },
    {
      "cell_type": "code",
      "execution_count": 3,
      "outputs": [
        {
          "data": {
            "text/plain": "array([[-1.1290258 ,  0.27532836, -0.65274524, -2.83417564,  0.31296201],\n       [ 0.57936586, -1.48891826, -0.80046338,  0.66811418,  0.6898518 ]])"
          },
          "metadata": {},
          "output_type": "execute_result",
          "execution_count": 3
        }
      ],
      "source": "\nstock_day_change[0:2, 0:5]\n",
      "metadata": {
        "pycharm": {
          "metadata": false,
          "name": "#%% Using stock data\n",
          "is_executing": false
        }
      }
    },
    {
      "cell_type": "code",
      "execution_count": 2,
      "outputs": [
        {
          "data": {
            "text/plain": "array([[-1.03243722, -0.106677  , -1.54601428,  0.30439264,  0.16257845],\n       [-1.02527985, -0.30049946, -1.12647611,  0.06621508, -0.71443007]])"
          },
          "metadata": {},
          "output_type": "execute_result",
          "execution_count": 2
        }
      ],
      "source": "\nstock_day_change[-2:, -5:]\n",
      "metadata": {
        "pycharm": {
          "metadata": false,
          "name": "#%%\n",
          "is_executing": false
        }
      }
    },
    {
      "cell_type": "code",
      "execution_count": 3,
      "outputs": [
        {
          "data": {
            "text/plain": "(array([[-1.03243722, -0.106677  , -1.54601428,  0.30439264,  0.16257845],\n        [-1.02527985, -0.30049946, -1.12647611,  0.06621508, -0.71443007]]),\n array([[-0.34684593, -1.36306685, -0.71101589,  0.04070414, -0.04369089],\n        [ 0.82962663, -2.3186561 ,  0.8162474 ,  2.0840199 ,  0.35241981]]))"
          },
          "metadata": {},
          "output_type": "execute_result",
          "execution_count": 3
        }
      ],
      "source": "\ntemp \u003d stock_day_change[0:2, 0:5].copy()\n\nstock_day_change[0:2, 0:5] \u003d stock_day_change[-2:, -5:]\n\nstock_day_change[-2:, -5:] \u003d temp\n\nstock_day_change[0:2, 0:5], stock_day_change[-2:, -5:]",
      "metadata": {
        "pycharm": {
          "metadata": false,
          "name": "#%%\n",
          "is_executing": false
        }
      }
    },
    {
      "cell_type": "code",
      "execution_count": null,
      "outputs": [],
      "source": "\n",
      "metadata": {
        "pycharm": {
          "metadata": false,
          "name": "#%%\n"
        }
      }
    }
  ],
  "metadata": {
    "language_info": {
      "codemirror_mode": {
        "name": "ipython",
        "version": 2
      },
      "file_extension": ".py",
      "mimetype": "text/x-python",
      "name": "python",
      "nbconvert_exporter": "python",
      "pygments_lexer": "ipython2",
      "version": "2.7.6"
    },
    "kernelspec": {
      "name": "python3",
      "language": "python",
      "display_name": "Python 3"
    },
    "stem_cell": {
      "cell_type": "raw",
      "source": "",
      "metadata": {
        "pycharm": {
          "metadata": false
        }
      }
    }
  },
  "nbformat": 4,
  "nbformat_minor": 0
}