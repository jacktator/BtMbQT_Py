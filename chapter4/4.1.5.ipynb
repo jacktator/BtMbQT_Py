{
  "cells": [
    {
      "cell_type": "code",
      "execution_count": 4,
      "outputs": [
        {
          "data": {
            "text/plain": "(200, 504)"
          },
          "metadata": {},
          "output_type": "execute_result",
          "execution_count": 4
        }
      ],
      "source": "\nimport pandas as pd\nimport numpy as np\n\nstock_day_change \u003d np.load(\u0027../chapter3/gen/stock_day_change.npy\u0027)\nstock_day_change.shape",
      "metadata": {
        "pycharm": {
          "metadata": false,
          "name": "#%% Index Row\n",
          "is_executing": false
        }
      }
    },
    {
      "cell_type": "code",
      "execution_count": 5,
      "outputs": [
        {
          "data": {
            "text/plain": "              0         1         2         3         4         5         6    \\\nStock 0 -0.506857 -0.298351  0.287734  1.294099 -1.410662 -0.007399  0.832101   \nStock 1  1.090711  1.096060 -0.647854  0.753340 -1.760276  1.071615  1.215913   \n\n              7         8         9    ...       494       495       496  \\\nStock 0 -0.090907 -1.628213 -0.714435  ...  1.034027  0.530784 -0.380703   \nStock 1  0.888936 -0.769439  0.589205  ... -1.346089  0.536451  0.960366   \n\n              497       498       499       500       501       502       503  \nStock 0  0.107044 -1.299332 -0.801399  1.337638  1.420855  0.341945  1.208976  \nStock 1 -0.406703  1.302131 -0.097017  0.599954 -0.260712 -1.117452  0.578165  \n\n[2 rows x 504 columns]",
            "text/html": "\u003cdiv\u003e\n\u003cstyle scoped\u003e\n    .dataframe tbody tr th:only-of-type {\n        vertical-align: middle;\n    }\n\n    .dataframe tbody tr th {\n        vertical-align: top;\n    }\n\n    .dataframe thead th {\n        text-align: right;\n    }\n\u003c/style\u003e\n\u003ctable border\u003d\"1\" class\u003d\"dataframe\"\u003e\n  \u003cthead\u003e\n    \u003ctr style\u003d\"text-align: right;\"\u003e\n      \u003cth\u003e\u003c/th\u003e\n      \u003cth\u003e0\u003c/th\u003e\n      \u003cth\u003e1\u003c/th\u003e\n      \u003cth\u003e2\u003c/th\u003e\n      \u003cth\u003e3\u003c/th\u003e\n      \u003cth\u003e4\u003c/th\u003e\n      \u003cth\u003e5\u003c/th\u003e\n      \u003cth\u003e6\u003c/th\u003e\n      \u003cth\u003e7\u003c/th\u003e\n      \u003cth\u003e8\u003c/th\u003e\n      \u003cth\u003e9\u003c/th\u003e\n      \u003cth\u003e...\u003c/th\u003e\n      \u003cth\u003e494\u003c/th\u003e\n      \u003cth\u003e495\u003c/th\u003e\n      \u003cth\u003e496\u003c/th\u003e\n      \u003cth\u003e497\u003c/th\u003e\n      \u003cth\u003e498\u003c/th\u003e\n      \u003cth\u003e499\u003c/th\u003e\n      \u003cth\u003e500\u003c/th\u003e\n      \u003cth\u003e501\u003c/th\u003e\n      \u003cth\u003e502\u003c/th\u003e\n      \u003cth\u003e503\u003c/th\u003e\n    \u003c/tr\u003e\n  \u003c/thead\u003e\n  \u003ctbody\u003e\n    \u003ctr\u003e\n      \u003cth\u003eStock 0\u003c/th\u003e\n      \u003ctd\u003e-0.506857\u003c/td\u003e\n      \u003ctd\u003e-0.298351\u003c/td\u003e\n      \u003ctd\u003e0.287734\u003c/td\u003e\n      \u003ctd\u003e1.294099\u003c/td\u003e\n      \u003ctd\u003e-1.410662\u003c/td\u003e\n      \u003ctd\u003e-0.007399\u003c/td\u003e\n      \u003ctd\u003e0.832101\u003c/td\u003e\n      \u003ctd\u003e-0.090907\u003c/td\u003e\n      \u003ctd\u003e-1.628213\u003c/td\u003e\n      \u003ctd\u003e-0.714435\u003c/td\u003e\n      \u003ctd\u003e...\u003c/td\u003e\n      \u003ctd\u003e1.034027\u003c/td\u003e\n      \u003ctd\u003e0.530784\u003c/td\u003e\n      \u003ctd\u003e-0.380703\u003c/td\u003e\n      \u003ctd\u003e0.107044\u003c/td\u003e\n      \u003ctd\u003e-1.299332\u003c/td\u003e\n      \u003ctd\u003e-0.801399\u003c/td\u003e\n      \u003ctd\u003e1.337638\u003c/td\u003e\n      \u003ctd\u003e1.420855\u003c/td\u003e\n      \u003ctd\u003e0.341945\u003c/td\u003e\n      \u003ctd\u003e1.208976\u003c/td\u003e\n    \u003c/tr\u003e\n    \u003ctr\u003e\n      \u003cth\u003eStock 1\u003c/th\u003e\n      \u003ctd\u003e1.090711\u003c/td\u003e\n      \u003ctd\u003e1.096060\u003c/td\u003e\n      \u003ctd\u003e-0.647854\u003c/td\u003e\n      \u003ctd\u003e0.753340\u003c/td\u003e\n      \u003ctd\u003e-1.760276\u003c/td\u003e\n      \u003ctd\u003e1.071615\u003c/td\u003e\n      \u003ctd\u003e1.215913\u003c/td\u003e\n      \u003ctd\u003e0.888936\u003c/td\u003e\n      \u003ctd\u003e-0.769439\u003c/td\u003e\n      \u003ctd\u003e0.589205\u003c/td\u003e\n      \u003ctd\u003e...\u003c/td\u003e\n      \u003ctd\u003e-1.346089\u003c/td\u003e\n      \u003ctd\u003e0.536451\u003c/td\u003e\n      \u003ctd\u003e0.960366\u003c/td\u003e\n      \u003ctd\u003e-0.406703\u003c/td\u003e\n      \u003ctd\u003e1.302131\u003c/td\u003e\n      \u003ctd\u003e-0.097017\u003c/td\u003e\n      \u003ctd\u003e0.599954\u003c/td\u003e\n      \u003ctd\u003e-0.260712\u003c/td\u003e\n      \u003ctd\u003e-1.117452\u003c/td\u003e\n      \u003ctd\u003e0.578165\u003c/td\u003e\n    \u003c/tr\u003e\n  \u003c/tbody\u003e\n\u003c/table\u003e\n\u003cp\u003e2 rows × 504 columns\u003c/p\u003e\n\u003c/div\u003e"
          },
          "metadata": {},
          "output_type": "execute_result",
          "execution_count": 5
        }
      ],
      "source": "stock_symbols \u003d [\u0027Stock \u0027 + str(x) for x in range(stock_day_change.shape[0])]\n\n\npd.DataFrame(stock_day_change, index\u003dstock_symbols).head(2)",
      "metadata": {
        "pycharm": {
          "metadata": false,
          "name": "#%%\n",
          "is_executing": false
        }
      }
    },
    {
      "cell_type": "code",
      "execution_count": 6,
      "outputs": [
        {
          "data": {
            "text/plain": "           2019-05-05  2019-05-06  2019-05-07  2019-05-08  2019-05-09  \\\nStock 198   -0.878839    0.275720   -0.372983    0.230094    0.228319   \nStock 199    0.271601   -0.229816    0.443362    1.696638   -0.266938   \n\n           2019-05-10  2019-05-11  2019-05-12  2019-05-13  2019-05-14  ...  \\\nStock 198   -2.356772    0.820326    0.733801    0.382649    0.683604  ...   \nStock 199    0.820770   -0.774684   -0.404516   -0.382519   -0.037754  ...   \n\n           2020-09-10  2020-09-11  2020-09-12  2020-09-13  2020-09-14  \\\nStock 198    0.363046   -0.491884    0.156982    0.100225    0.636174   \nStock 199    0.439571   -1.541329    0.336386    0.153086   -0.916691   \n\n           2020-09-15  2020-09-16  2020-09-17  2020-09-18  2020-09-19  \nStock 198   -0.126595   -0.023974   -1.952426    0.047569   -0.565014  \nStock 199   -0.795388    1.208598   -0.882161   -0.081196   -0.588972  \n\n[2 rows x 504 columns]",
            "text/html": "\u003cdiv\u003e\n\u003cstyle scoped\u003e\n    .dataframe tbody tr th:only-of-type {\n        vertical-align: middle;\n    }\n\n    .dataframe tbody tr th {\n        vertical-align: top;\n    }\n\n    .dataframe thead th {\n        text-align: right;\n    }\n\u003c/style\u003e\n\u003ctable border\u003d\"1\" class\u003d\"dataframe\"\u003e\n  \u003cthead\u003e\n    \u003ctr style\u003d\"text-align: right;\"\u003e\n      \u003cth\u003e\u003c/th\u003e\n      \u003cth\u003e2019-05-05 00:00:00\u003c/th\u003e\n      \u003cth\u003e2019-05-06 00:00:00\u003c/th\u003e\n      \u003cth\u003e2019-05-07 00:00:00\u003c/th\u003e\n      \u003cth\u003e2019-05-08 00:00:00\u003c/th\u003e\n      \u003cth\u003e2019-05-09 00:00:00\u003c/th\u003e\n      \u003cth\u003e2019-05-10 00:00:00\u003c/th\u003e\n      \u003cth\u003e2019-05-11 00:00:00\u003c/th\u003e\n      \u003cth\u003e2019-05-12 00:00:00\u003c/th\u003e\n      \u003cth\u003e2019-05-13 00:00:00\u003c/th\u003e\n      \u003cth\u003e2019-05-14 00:00:00\u003c/th\u003e\n      \u003cth\u003e...\u003c/th\u003e\n      \u003cth\u003e2020-09-10 00:00:00\u003c/th\u003e\n      \u003cth\u003e2020-09-11 00:00:00\u003c/th\u003e\n      \u003cth\u003e2020-09-12 00:00:00\u003c/th\u003e\n      \u003cth\u003e2020-09-13 00:00:00\u003c/th\u003e\n      \u003cth\u003e2020-09-14 00:00:00\u003c/th\u003e\n      \u003cth\u003e2020-09-15 00:00:00\u003c/th\u003e\n      \u003cth\u003e2020-09-16 00:00:00\u003c/th\u003e\n      \u003cth\u003e2020-09-17 00:00:00\u003c/th\u003e\n      \u003cth\u003e2020-09-18 00:00:00\u003c/th\u003e\n      \u003cth\u003e2020-09-19 00:00:00\u003c/th\u003e\n    \u003c/tr\u003e\n  \u003c/thead\u003e\n  \u003ctbody\u003e\n    \u003ctr\u003e\n      \u003cth\u003eStock 198\u003c/th\u003e\n      \u003ctd\u003e-0.878839\u003c/td\u003e\n      \u003ctd\u003e0.275720\u003c/td\u003e\n      \u003ctd\u003e-0.372983\u003c/td\u003e\n      \u003ctd\u003e0.230094\u003c/td\u003e\n      \u003ctd\u003e0.228319\u003c/td\u003e\n      \u003ctd\u003e-2.356772\u003c/td\u003e\n      \u003ctd\u003e0.820326\u003c/td\u003e\n      \u003ctd\u003e0.733801\u003c/td\u003e\n      \u003ctd\u003e0.382649\u003c/td\u003e\n      \u003ctd\u003e0.683604\u003c/td\u003e\n      \u003ctd\u003e...\u003c/td\u003e\n      \u003ctd\u003e0.363046\u003c/td\u003e\n      \u003ctd\u003e-0.491884\u003c/td\u003e\n      \u003ctd\u003e0.156982\u003c/td\u003e\n      \u003ctd\u003e0.100225\u003c/td\u003e\n      \u003ctd\u003e0.636174\u003c/td\u003e\n      \u003ctd\u003e-0.126595\u003c/td\u003e\n      \u003ctd\u003e-0.023974\u003c/td\u003e\n      \u003ctd\u003e-1.952426\u003c/td\u003e\n      \u003ctd\u003e0.047569\u003c/td\u003e\n      \u003ctd\u003e-0.565014\u003c/td\u003e\n    \u003c/tr\u003e\n    \u003ctr\u003e\n      \u003cth\u003eStock 199\u003c/th\u003e\n      \u003ctd\u003e0.271601\u003c/td\u003e\n      \u003ctd\u003e-0.229816\u003c/td\u003e\n      \u003ctd\u003e0.443362\u003c/td\u003e\n      \u003ctd\u003e1.696638\u003c/td\u003e\n      \u003ctd\u003e-0.266938\u003c/td\u003e\n      \u003ctd\u003e0.820770\u003c/td\u003e\n      \u003ctd\u003e-0.774684\u003c/td\u003e\n      \u003ctd\u003e-0.404516\u003c/td\u003e\n      \u003ctd\u003e-0.382519\u003c/td\u003e\n      \u003ctd\u003e-0.037754\u003c/td\u003e\n      \u003ctd\u003e...\u003c/td\u003e\n      \u003ctd\u003e0.439571\u003c/td\u003e\n      \u003ctd\u003e-1.541329\u003c/td\u003e\n      \u003ctd\u003e0.336386\u003c/td\u003e\n      \u003ctd\u003e0.153086\u003c/td\u003e\n      \u003ctd\u003e-0.916691\u003c/td\u003e\n      \u003ctd\u003e-0.795388\u003c/td\u003e\n      \u003ctd\u003e1.208598\u003c/td\u003e\n      \u003ctd\u003e-0.882161\u003c/td\u003e\n      \u003ctd\u003e-0.081196\u003c/td\u003e\n      \u003ctd\u003e-0.588972\u003c/td\u003e\n    \u003c/tr\u003e\n  \u003c/tbody\u003e\n\u003c/table\u003e\n\u003cp\u003e2 rows × 504 columns\u003c/p\u003e\n\u003c/div\u003e"
          },
          "metadata": {},
          "output_type": "execute_result",
          "execution_count": 6
        }
      ],
      "source": "\ndays \u003d pd.date_range(\u00272019-5-5\u0027, \n                     periods\u003dstock_day_change.shape[1], \n                     freq\u003d\u00271d\u0027)\n\ndf \u003d pd.DataFrame(stock_day_change, \n                  index\u003dstock_symbols,\n                  columns\u003ddays)\n\ndf.tail(2)\n",
      "metadata": {
        "pycharm": {
          "metadata": false,
          "name": "#%%\n",
          "is_executing": false
        }
      }
    },
    {
      "cell_type": "code",
      "execution_count": 7,
      "outputs": [
        {
          "data": {
            "text/plain": "             Stock 0   Stock 1   Stock 2   Stock 3   Stock 4   Stock 5  \\\n2019-05-05 -0.506857  1.090711  0.373684  0.809291 -1.752636 -2.952854   \n2019-05-06 -0.298351  1.096060 -0.477065 -0.453796 -2.942695 -0.996775   \n2019-05-07  0.287734 -0.647854 -0.207089 -1.217405 -0.560116 -1.206895   \n2019-05-08  1.294099  0.753340  1.607185  0.216179  0.398311  0.641651   \n2019-05-09 -1.410662 -1.760276 -0.061423 -0.831195 -0.866971  1.128578   \n\n             Stock 6   Stock 7   Stock 8   Stock 9  ...  Stock 190  Stock 191  \\\n2019-05-05  0.106409  1.889763  1.225531  0.374656  ...  -0.346456  -1.091096   \n2019-05-06  1.054571  0.778077 -2.520750 -0.867114  ...   0.067842   0.483856   \n2019-05-07 -0.113872 -0.999805 -0.593713  0.607763  ...  -0.595827   0.661378   \n2019-05-08  1.200570  0.640452  0.987177 -0.599716  ...   0.415872   0.293173   \n2019-05-09  2.669840 -0.530921  1.350396 -0.213242  ...  -0.310630   0.076795   \n\n            Stock 192  Stock 193  Stock 194  Stock 195  Stock 196  Stock 197  \\\n2019-05-05  -0.346139   0.506435  -0.896319  -0.481032   1.249549   0.276082   \n2019-05-06   0.671936  -1.550365   0.116652  -0.882604  -0.421115   0.404352   \n2019-05-07  -0.452928  -0.908632   1.701420  -0.001381  -0.724871   1.541651   \n2019-05-08  -1.121605  -0.062685  -0.603673   1.339592   1.964875  -0.006093   \n2019-05-09  -0.137254   0.534734   0.533235   1.836515   0.990284  -1.162237   \n\n            Stock 198  Stock 199  \n2019-05-05  -0.878839   0.271601  \n2019-05-06   0.275720  -0.229816  \n2019-05-07  -0.372983   0.443362  \n2019-05-08   0.230094   1.696638  \n2019-05-09   0.228319  -0.266938  \n\n[5 rows x 200 columns]",
            "text/html": "\u003cdiv\u003e\n\u003cstyle scoped\u003e\n    .dataframe tbody tr th:only-of-type {\n        vertical-align: middle;\n    }\n\n    .dataframe tbody tr th {\n        vertical-align: top;\n    }\n\n    .dataframe thead th {\n        text-align: right;\n    }\n\u003c/style\u003e\n\u003ctable border\u003d\"1\" class\u003d\"dataframe\"\u003e\n  \u003cthead\u003e\n    \u003ctr style\u003d\"text-align: right;\"\u003e\n      \u003cth\u003e\u003c/th\u003e\n      \u003cth\u003eStock 0\u003c/th\u003e\n      \u003cth\u003eStock 1\u003c/th\u003e\n      \u003cth\u003eStock 2\u003c/th\u003e\n      \u003cth\u003eStock 3\u003c/th\u003e\n      \u003cth\u003eStock 4\u003c/th\u003e\n      \u003cth\u003eStock 5\u003c/th\u003e\n      \u003cth\u003eStock 6\u003c/th\u003e\n      \u003cth\u003eStock 7\u003c/th\u003e\n      \u003cth\u003eStock 8\u003c/th\u003e\n      \u003cth\u003eStock 9\u003c/th\u003e\n      \u003cth\u003e...\u003c/th\u003e\n      \u003cth\u003eStock 190\u003c/th\u003e\n      \u003cth\u003eStock 191\u003c/th\u003e\n      \u003cth\u003eStock 192\u003c/th\u003e\n      \u003cth\u003eStock 193\u003c/th\u003e\n      \u003cth\u003eStock 194\u003c/th\u003e\n      \u003cth\u003eStock 195\u003c/th\u003e\n      \u003cth\u003eStock 196\u003c/th\u003e\n      \u003cth\u003eStock 197\u003c/th\u003e\n      \u003cth\u003eStock 198\u003c/th\u003e\n      \u003cth\u003eStock 199\u003c/th\u003e\n    \u003c/tr\u003e\n  \u003c/thead\u003e\n  \u003ctbody\u003e\n    \u003ctr\u003e\n      \u003cth\u003e2019-05-05\u003c/th\u003e\n      \u003ctd\u003e-0.506857\u003c/td\u003e\n      \u003ctd\u003e1.090711\u003c/td\u003e\n      \u003ctd\u003e0.373684\u003c/td\u003e\n      \u003ctd\u003e0.809291\u003c/td\u003e\n      \u003ctd\u003e-1.752636\u003c/td\u003e\n      \u003ctd\u003e-2.952854\u003c/td\u003e\n      \u003ctd\u003e0.106409\u003c/td\u003e\n      \u003ctd\u003e1.889763\u003c/td\u003e\n      \u003ctd\u003e1.225531\u003c/td\u003e\n      \u003ctd\u003e0.374656\u003c/td\u003e\n      \u003ctd\u003e...\u003c/td\u003e\n      \u003ctd\u003e-0.346456\u003c/td\u003e\n      \u003ctd\u003e-1.091096\u003c/td\u003e\n      \u003ctd\u003e-0.346139\u003c/td\u003e\n      \u003ctd\u003e0.506435\u003c/td\u003e\n      \u003ctd\u003e-0.896319\u003c/td\u003e\n      \u003ctd\u003e-0.481032\u003c/td\u003e\n      \u003ctd\u003e1.249549\u003c/td\u003e\n      \u003ctd\u003e0.276082\u003c/td\u003e\n      \u003ctd\u003e-0.878839\u003c/td\u003e\n      \u003ctd\u003e0.271601\u003c/td\u003e\n    \u003c/tr\u003e\n    \u003ctr\u003e\n      \u003cth\u003e2019-05-06\u003c/th\u003e\n      \u003ctd\u003e-0.298351\u003c/td\u003e\n      \u003ctd\u003e1.096060\u003c/td\u003e\n      \u003ctd\u003e-0.477065\u003c/td\u003e\n      \u003ctd\u003e-0.453796\u003c/td\u003e\n      \u003ctd\u003e-2.942695\u003c/td\u003e\n      \u003ctd\u003e-0.996775\u003c/td\u003e\n      \u003ctd\u003e1.054571\u003c/td\u003e\n      \u003ctd\u003e0.778077\u003c/td\u003e\n      \u003ctd\u003e-2.520750\u003c/td\u003e\n      \u003ctd\u003e-0.867114\u003c/td\u003e\n      \u003ctd\u003e...\u003c/td\u003e\n      \u003ctd\u003e0.067842\u003c/td\u003e\n      \u003ctd\u003e0.483856\u003c/td\u003e\n      \u003ctd\u003e0.671936\u003c/td\u003e\n      \u003ctd\u003e-1.550365\u003c/td\u003e\n      \u003ctd\u003e0.116652\u003c/td\u003e\n      \u003ctd\u003e-0.882604\u003c/td\u003e\n      \u003ctd\u003e-0.421115\u003c/td\u003e\n      \u003ctd\u003e0.404352\u003c/td\u003e\n      \u003ctd\u003e0.275720\u003c/td\u003e\n      \u003ctd\u003e-0.229816\u003c/td\u003e\n    \u003c/tr\u003e\n    \u003ctr\u003e\n      \u003cth\u003e2019-05-07\u003c/th\u003e\n      \u003ctd\u003e0.287734\u003c/td\u003e\n      \u003ctd\u003e-0.647854\u003c/td\u003e\n      \u003ctd\u003e-0.207089\u003c/td\u003e\n      \u003ctd\u003e-1.217405\u003c/td\u003e\n      \u003ctd\u003e-0.560116\u003c/td\u003e\n      \u003ctd\u003e-1.206895\u003c/td\u003e\n      \u003ctd\u003e-0.113872\u003c/td\u003e\n      \u003ctd\u003e-0.999805\u003c/td\u003e\n      \u003ctd\u003e-0.593713\u003c/td\u003e\n      \u003ctd\u003e0.607763\u003c/td\u003e\n      \u003ctd\u003e...\u003c/td\u003e\n      \u003ctd\u003e-0.595827\u003c/td\u003e\n      \u003ctd\u003e0.661378\u003c/td\u003e\n      \u003ctd\u003e-0.452928\u003c/td\u003e\n      \u003ctd\u003e-0.908632\u003c/td\u003e\n      \u003ctd\u003e1.701420\u003c/td\u003e\n      \u003ctd\u003e-0.001381\u003c/td\u003e\n      \u003ctd\u003e-0.724871\u003c/td\u003e\n      \u003ctd\u003e1.541651\u003c/td\u003e\n      \u003ctd\u003e-0.372983\u003c/td\u003e\n      \u003ctd\u003e0.443362\u003c/td\u003e\n    \u003c/tr\u003e\n    \u003ctr\u003e\n      \u003cth\u003e2019-05-08\u003c/th\u003e\n      \u003ctd\u003e1.294099\u003c/td\u003e\n      \u003ctd\u003e0.753340\u003c/td\u003e\n      \u003ctd\u003e1.607185\u003c/td\u003e\n      \u003ctd\u003e0.216179\u003c/td\u003e\n      \u003ctd\u003e0.398311\u003c/td\u003e\n      \u003ctd\u003e0.641651\u003c/td\u003e\n      \u003ctd\u003e1.200570\u003c/td\u003e\n      \u003ctd\u003e0.640452\u003c/td\u003e\n      \u003ctd\u003e0.987177\u003c/td\u003e\n      \u003ctd\u003e-0.599716\u003c/td\u003e\n      \u003ctd\u003e...\u003c/td\u003e\n      \u003ctd\u003e0.415872\u003c/td\u003e\n      \u003ctd\u003e0.293173\u003c/td\u003e\n      \u003ctd\u003e-1.121605\u003c/td\u003e\n      \u003ctd\u003e-0.062685\u003c/td\u003e\n      \u003ctd\u003e-0.603673\u003c/td\u003e\n      \u003ctd\u003e1.339592\u003c/td\u003e\n      \u003ctd\u003e1.964875\u003c/td\u003e\n      \u003ctd\u003e-0.006093\u003c/td\u003e\n      \u003ctd\u003e0.230094\u003c/td\u003e\n      \u003ctd\u003e1.696638\u003c/td\u003e\n    \u003c/tr\u003e\n    \u003ctr\u003e\n      \u003cth\u003e2019-05-09\u003c/th\u003e\n      \u003ctd\u003e-1.410662\u003c/td\u003e\n      \u003ctd\u003e-1.760276\u003c/td\u003e\n      \u003ctd\u003e-0.061423\u003c/td\u003e\n      \u003ctd\u003e-0.831195\u003c/td\u003e\n      \u003ctd\u003e-0.866971\u003c/td\u003e\n      \u003ctd\u003e1.128578\u003c/td\u003e\n      \u003ctd\u003e2.669840\u003c/td\u003e\n      \u003ctd\u003e-0.530921\u003c/td\u003e\n      \u003ctd\u003e1.350396\u003c/td\u003e\n      \u003ctd\u003e-0.213242\u003c/td\u003e\n      \u003ctd\u003e...\u003c/td\u003e\n      \u003ctd\u003e-0.310630\u003c/td\u003e\n      \u003ctd\u003e0.076795\u003c/td\u003e\n      \u003ctd\u003e-0.137254\u003c/td\u003e\n      \u003ctd\u003e0.534734\u003c/td\u003e\n      \u003ctd\u003e0.533235\u003c/td\u003e\n      \u003ctd\u003e1.836515\u003c/td\u003e\n      \u003ctd\u003e0.990284\u003c/td\u003e\n      \u003ctd\u003e-1.162237\u003c/td\u003e\n      \u003ctd\u003e0.228319\u003c/td\u003e\n      \u003ctd\u003e-0.266938\u003c/td\u003e\n    \u003c/tr\u003e\n  \u003c/tbody\u003e\n\u003c/table\u003e\n\u003cp\u003e5 rows × 200 columns\u003c/p\u003e\n\u003c/div\u003e"
          },
          "metadata": {},
          "output_type": "execute_result",
          "execution_count": 7
        }
      ],
      "source": "\ndfT \u003d df.T\n\ndfT.head()",
      "metadata": {
        "pycharm": {
          "metadata": false,
          "name": "#%% Financial Time Series\n",
          "is_executing": false
        }
      }
    },
    {
      "cell_type": "code",
      "execution_count": 8,
      "outputs": [
        {
          "name": "stderr",
          "text": [
            "/Library/Frameworks/Python.framework/Versions/3.7/lib/python3.7/site-packages/ipykernel_launcher.py:2: FutureWarning: how in .resample() is deprecated\nthe new syntax is .resample(...).mean()\n  \n"
          ],
          "output_type": "stream"
        },
        {
          "data": {
            "text/plain": "             Stock 0   Stock 1   Stock 2   Stock 3   Stock 4   Stock 5  \\\n2019-05-05  0.126734  0.040264  0.389529  0.275289 -0.138106 -0.232682   \n2019-05-26  0.262047 -0.171022  0.163304 -0.223355  0.137678  0.004021   \n2019-06-16  0.217441  0.015986 -0.004570  0.011293  0.320080  0.082807   \n2019-07-07  0.103525  0.307140 -0.248838 -0.093852  0.106091 -0.070213   \n2019-07-28 -0.335890  0.183317 -0.279965  0.018698 -0.351927 -0.261884   \n\n             Stock 6   Stock 7   Stock 8   Stock 9  ...  Stock 190  Stock 191  \\\n2019-05-05  0.038088  0.264559 -0.164050 -0.121657  ...  -0.299124   0.316980   \n2019-05-26  0.094891 -0.078355  0.453132  0.090670  ...   0.360112  -0.193916   \n2019-06-16  0.123642  0.236910  0.035496 -0.145730  ...  -0.216607  -0.029313   \n2019-07-07  0.042546  0.256815 -0.229412  0.264921  ...   0.063688  -0.183336   \n2019-07-28  0.194863 -0.157465  0.022996 -0.124747  ...  -0.315442  -0.245300   \n\n            Stock 192  Stock 193  Stock 194  Stock 195  Stock 196  Stock 197  \\\n2019-05-05  -0.369732  -0.445366   0.458701   0.032341   0.404103   0.176979   \n2019-05-26   0.119575   0.620949  -0.026034  -0.280499   0.142658  -0.063782   \n2019-06-16   0.009001   0.315698   0.265536   0.191974  -0.057080   0.170175   \n2019-07-07   0.004640   0.123131   0.061365   0.001733   0.328562  -0.061509   \n2019-07-28  -0.011220  -0.132323   0.119321   0.076577   0.095191   0.269639   \n\n            Stock 198  Stock 199  \n2019-05-05   0.087162   0.156653  \n2019-05-26   0.227492  -0.021898  \n2019-06-16  -0.218082   0.449133  \n2019-07-07  -0.125934  -0.070423  \n2019-07-28   0.128455  -0.095554  \n\n[5 rows x 200 columns]",
            "text/html": "\u003cdiv\u003e\n\u003cstyle scoped\u003e\n    .dataframe tbody tr th:only-of-type {\n        vertical-align: middle;\n    }\n\n    .dataframe tbody tr th {\n        vertical-align: top;\n    }\n\n    .dataframe thead th {\n        text-align: right;\n    }\n\u003c/style\u003e\n\u003ctable border\u003d\"1\" class\u003d\"dataframe\"\u003e\n  \u003cthead\u003e\n    \u003ctr style\u003d\"text-align: right;\"\u003e\n      \u003cth\u003e\u003c/th\u003e\n      \u003cth\u003eStock 0\u003c/th\u003e\n      \u003cth\u003eStock 1\u003c/th\u003e\n      \u003cth\u003eStock 2\u003c/th\u003e\n      \u003cth\u003eStock 3\u003c/th\u003e\n      \u003cth\u003eStock 4\u003c/th\u003e\n      \u003cth\u003eStock 5\u003c/th\u003e\n      \u003cth\u003eStock 6\u003c/th\u003e\n      \u003cth\u003eStock 7\u003c/th\u003e\n      \u003cth\u003eStock 8\u003c/th\u003e\n      \u003cth\u003eStock 9\u003c/th\u003e\n      \u003cth\u003e...\u003c/th\u003e\n      \u003cth\u003eStock 190\u003c/th\u003e\n      \u003cth\u003eStock 191\u003c/th\u003e\n      \u003cth\u003eStock 192\u003c/th\u003e\n      \u003cth\u003eStock 193\u003c/th\u003e\n      \u003cth\u003eStock 194\u003c/th\u003e\n      \u003cth\u003eStock 195\u003c/th\u003e\n      \u003cth\u003eStock 196\u003c/th\u003e\n      \u003cth\u003eStock 197\u003c/th\u003e\n      \u003cth\u003eStock 198\u003c/th\u003e\n      \u003cth\u003eStock 199\u003c/th\u003e\n    \u003c/tr\u003e\n  \u003c/thead\u003e\n  \u003ctbody\u003e\n    \u003ctr\u003e\n      \u003cth\u003e2019-05-05\u003c/th\u003e\n      \u003ctd\u003e0.126734\u003c/td\u003e\n      \u003ctd\u003e0.040264\u003c/td\u003e\n      \u003ctd\u003e0.389529\u003c/td\u003e\n      \u003ctd\u003e0.275289\u003c/td\u003e\n      \u003ctd\u003e-0.138106\u003c/td\u003e\n      \u003ctd\u003e-0.232682\u003c/td\u003e\n      \u003ctd\u003e0.038088\u003c/td\u003e\n      \u003ctd\u003e0.264559\u003c/td\u003e\n      \u003ctd\u003e-0.164050\u003c/td\u003e\n      \u003ctd\u003e-0.121657\u003c/td\u003e\n      \u003ctd\u003e...\u003c/td\u003e\n      \u003ctd\u003e-0.299124\u003c/td\u003e\n      \u003ctd\u003e0.316980\u003c/td\u003e\n      \u003ctd\u003e-0.369732\u003c/td\u003e\n      \u003ctd\u003e-0.445366\u003c/td\u003e\n      \u003ctd\u003e0.458701\u003c/td\u003e\n      \u003ctd\u003e0.032341\u003c/td\u003e\n      \u003ctd\u003e0.404103\u003c/td\u003e\n      \u003ctd\u003e0.176979\u003c/td\u003e\n      \u003ctd\u003e0.087162\u003c/td\u003e\n      \u003ctd\u003e0.156653\u003c/td\u003e\n    \u003c/tr\u003e\n    \u003ctr\u003e\n      \u003cth\u003e2019-05-26\u003c/th\u003e\n      \u003ctd\u003e0.262047\u003c/td\u003e\n      \u003ctd\u003e-0.171022\u003c/td\u003e\n      \u003ctd\u003e0.163304\u003c/td\u003e\n      \u003ctd\u003e-0.223355\u003c/td\u003e\n      \u003ctd\u003e0.137678\u003c/td\u003e\n      \u003ctd\u003e0.004021\u003c/td\u003e\n      \u003ctd\u003e0.094891\u003c/td\u003e\n      \u003ctd\u003e-0.078355\u003c/td\u003e\n      \u003ctd\u003e0.453132\u003c/td\u003e\n      \u003ctd\u003e0.090670\u003c/td\u003e\n      \u003ctd\u003e...\u003c/td\u003e\n      \u003ctd\u003e0.360112\u003c/td\u003e\n      \u003ctd\u003e-0.193916\u003c/td\u003e\n      \u003ctd\u003e0.119575\u003c/td\u003e\n      \u003ctd\u003e0.620949\u003c/td\u003e\n      \u003ctd\u003e-0.026034\u003c/td\u003e\n      \u003ctd\u003e-0.280499\u003c/td\u003e\n      \u003ctd\u003e0.142658\u003c/td\u003e\n      \u003ctd\u003e-0.063782\u003c/td\u003e\n      \u003ctd\u003e0.227492\u003c/td\u003e\n      \u003ctd\u003e-0.021898\u003c/td\u003e\n    \u003c/tr\u003e\n    \u003ctr\u003e\n      \u003cth\u003e2019-06-16\u003c/th\u003e\n      \u003ctd\u003e0.217441\u003c/td\u003e\n      \u003ctd\u003e0.015986\u003c/td\u003e\n      \u003ctd\u003e-0.004570\u003c/td\u003e\n      \u003ctd\u003e0.011293\u003c/td\u003e\n      \u003ctd\u003e0.320080\u003c/td\u003e\n      \u003ctd\u003e0.082807\u003c/td\u003e\n      \u003ctd\u003e0.123642\u003c/td\u003e\n      \u003ctd\u003e0.236910\u003c/td\u003e\n      \u003ctd\u003e0.035496\u003c/td\u003e\n      \u003ctd\u003e-0.145730\u003c/td\u003e\n      \u003ctd\u003e...\u003c/td\u003e\n      \u003ctd\u003e-0.216607\u003c/td\u003e\n      \u003ctd\u003e-0.029313\u003c/td\u003e\n      \u003ctd\u003e0.009001\u003c/td\u003e\n      \u003ctd\u003e0.315698\u003c/td\u003e\n      \u003ctd\u003e0.265536\u003c/td\u003e\n      \u003ctd\u003e0.191974\u003c/td\u003e\n      \u003ctd\u003e-0.057080\u003c/td\u003e\n      \u003ctd\u003e0.170175\u003c/td\u003e\n      \u003ctd\u003e-0.218082\u003c/td\u003e\n      \u003ctd\u003e0.449133\u003c/td\u003e\n    \u003c/tr\u003e\n    \u003ctr\u003e\n      \u003cth\u003e2019-07-07\u003c/th\u003e\n      \u003ctd\u003e0.103525\u003c/td\u003e\n      \u003ctd\u003e0.307140\u003c/td\u003e\n      \u003ctd\u003e-0.248838\u003c/td\u003e\n      \u003ctd\u003e-0.093852\u003c/td\u003e\n      \u003ctd\u003e0.106091\u003c/td\u003e\n      \u003ctd\u003e-0.070213\u003c/td\u003e\n      \u003ctd\u003e0.042546\u003c/td\u003e\n      \u003ctd\u003e0.256815\u003c/td\u003e\n      \u003ctd\u003e-0.229412\u003c/td\u003e\n      \u003ctd\u003e0.264921\u003c/td\u003e\n      \u003ctd\u003e...\u003c/td\u003e\n      \u003ctd\u003e0.063688\u003c/td\u003e\n      \u003ctd\u003e-0.183336\u003c/td\u003e\n      \u003ctd\u003e0.004640\u003c/td\u003e\n      \u003ctd\u003e0.123131\u003c/td\u003e\n      \u003ctd\u003e0.061365\u003c/td\u003e\n      \u003ctd\u003e0.001733\u003c/td\u003e\n      \u003ctd\u003e0.328562\u003c/td\u003e\n      \u003ctd\u003e-0.061509\u003c/td\u003e\n      \u003ctd\u003e-0.125934\u003c/td\u003e\n      \u003ctd\u003e-0.070423\u003c/td\u003e\n    \u003c/tr\u003e\n    \u003ctr\u003e\n      \u003cth\u003e2019-07-28\u003c/th\u003e\n      \u003ctd\u003e-0.335890\u003c/td\u003e\n      \u003ctd\u003e0.183317\u003c/td\u003e\n      \u003ctd\u003e-0.279965\u003c/td\u003e\n      \u003ctd\u003e0.018698\u003c/td\u003e\n      \u003ctd\u003e-0.351927\u003c/td\u003e\n      \u003ctd\u003e-0.261884\u003c/td\u003e\n      \u003ctd\u003e0.194863\u003c/td\u003e\n      \u003ctd\u003e-0.157465\u003c/td\u003e\n      \u003ctd\u003e0.022996\u003c/td\u003e\n      \u003ctd\u003e-0.124747\u003c/td\u003e\n      \u003ctd\u003e...\u003c/td\u003e\n      \u003ctd\u003e-0.315442\u003c/td\u003e\n      \u003ctd\u003e-0.245300\u003c/td\u003e\n      \u003ctd\u003e-0.011220\u003c/td\u003e\n      \u003ctd\u003e-0.132323\u003c/td\u003e\n      \u003ctd\u003e0.119321\u003c/td\u003e\n      \u003ctd\u003e0.076577\u003c/td\u003e\n      \u003ctd\u003e0.095191\u003c/td\u003e\n      \u003ctd\u003e0.269639\u003c/td\u003e\n      \u003ctd\u003e0.128455\u003c/td\u003e\n      \u003ctd\u003e-0.095554\u003c/td\u003e\n    \u003c/tr\u003e\n  \u003c/tbody\u003e\n\u003c/table\u003e\n\u003cp\u003e5 rows × 200 columns\u003c/p\u003e\n\u003c/div\u003e"
          },
          "metadata": {},
          "output_type": "execute_result",
          "execution_count": 8
        }
      ],
      "source": "\ndf_20 \u003d dfT.resample(\u002721d\u0027, how\u003d\u0027mean\u0027)\n\ndf_20.head()",
      "metadata": {
        "pycharm": {
          "metadata": false,
          "name": "#%%\n",
          "is_executing": false
        }
      }
    },
    {
      "cell_type": "code",
      "execution_count": null,
      "outputs": [],
      "source": "",
      "metadata": {
        "pycharm": {
          "metadata": false,
          "name": "#%%\n",
          "is_executing": true
        }
      }
    },
    {
      "cell_type": "code",
      "execution_count": 9,
      "outputs": [
        {
          "name": "stdout",
          "text": [
            "\u003cclass \u0027pandas.core.series.Series\u0027\u003e\n"
          ],
          "output_type": "stream"
        },
        {
          "data": {
            "text/plain": "2019-05-05   -0.506857\n2019-05-06   -0.298351\n2019-05-07    0.287734\n2019-05-08    1.294099\n2019-05-09   -1.410662\nFreq: D, Name: Stock 0, dtype: float64"
          },
          "metadata": {},
          "output_type": "execute_result",
          "execution_count": 9
        }
      ],
      "source": "\ndf_stock0 \u003d dfT[\u0027Stock 0\u0027]\n\nprint(type(df_stock0))\n\ndf_stock0.head()",
      "metadata": {
        "pycharm": {
          "metadata": false,
          "name": "#%% Constructing Series\n",
          "is_executing": false
        }
      }
    },
    {
      "cell_type": "code",
      "execution_count": 10,
      "outputs": [
        {
          "data": {
            "text/plain": "\u003cmatplotlib.axes._subplots.AxesSubplot at 0x11c25c898\u003e"
          },
          "metadata": {},
          "output_type": "execute_result",
          "execution_count": 10
        }
      ],
      "source": "df_stock0.cumsum().plot()\n\n",
      "metadata": {
        "pycharm": {
          "metadata": false,
          "name": "#%%\n",
          "is_executing": false
        }
      }
    },
    {
      "cell_type": "code",
      "execution_count": 11,
      "outputs": [
        {
          "name": "stderr",
          "text": [
            "/Library/Frameworks/Python.framework/Versions/3.7/lib/python3.7/site-packages/ipykernel_launcher.py:1: FutureWarning: how in .resample() is deprecated\nthe new syntax is .resample(...).ohlc()\n  \"\"\"Entry point for launching an IPython kernel.\n/Library/Frameworks/Python.framework/Versions/3.7/lib/python3.7/site-packages/ipykernel_launcher.py:2: FutureWarning: how in .resample() is deprecated\nthe new syntax is .resample(...).ohlc()\n  \n"
          ],
          "output_type": "stream"
        },
        {
          "data": {
            "text/plain": "                open      high       low     close\n2019-05-05 -0.506857  0.776626 -0.805207 -0.634036\n2019-05-10 -0.641436  0.190666 -2.242889 -2.242889\n2019-05-15 -0.642762  0.296048 -1.653774 -0.714821\n2019-05-20  0.476702  3.139213  0.476702  3.139213\n2019-05-25  2.661410  4.689615  2.661410  3.561887",
            "text/html": "\u003cdiv\u003e\n\u003cstyle scoped\u003e\n    .dataframe tbody tr th:only-of-type {\n        vertical-align: middle;\n    }\n\n    .dataframe tbody tr th {\n        vertical-align: top;\n    }\n\n    .dataframe thead th {\n        text-align: right;\n    }\n\u003c/style\u003e\n\u003ctable border\u003d\"1\" class\u003d\"dataframe\"\u003e\n  \u003cthead\u003e\n    \u003ctr style\u003d\"text-align: right;\"\u003e\n      \u003cth\u003e\u003c/th\u003e\n      \u003cth\u003eopen\u003c/th\u003e\n      \u003cth\u003ehigh\u003c/th\u003e\n      \u003cth\u003elow\u003c/th\u003e\n      \u003cth\u003eclose\u003c/th\u003e\n    \u003c/tr\u003e\n  \u003c/thead\u003e\n  \u003ctbody\u003e\n    \u003ctr\u003e\n      \u003cth\u003e2019-05-05\u003c/th\u003e\n      \u003ctd\u003e-0.506857\u003c/td\u003e\n      \u003ctd\u003e0.776626\u003c/td\u003e\n      \u003ctd\u003e-0.805207\u003c/td\u003e\n      \u003ctd\u003e-0.634036\u003c/td\u003e\n    \u003c/tr\u003e\n    \u003ctr\u003e\n      \u003cth\u003e2019-05-10\u003c/th\u003e\n      \u003ctd\u003e-0.641436\u003c/td\u003e\n      \u003ctd\u003e0.190666\u003c/td\u003e\n      \u003ctd\u003e-2.242889\u003c/td\u003e\n      \u003ctd\u003e-2.242889\u003c/td\u003e\n    \u003c/tr\u003e\n    \u003ctr\u003e\n      \u003cth\u003e2019-05-15\u003c/th\u003e\n      \u003ctd\u003e-0.642762\u003c/td\u003e\n      \u003ctd\u003e0.296048\u003c/td\u003e\n      \u003ctd\u003e-1.653774\u003c/td\u003e\n      \u003ctd\u003e-0.714821\u003c/td\u003e\n    \u003c/tr\u003e\n    \u003ctr\u003e\n      \u003cth\u003e2019-05-20\u003c/th\u003e\n      \u003ctd\u003e0.476702\u003c/td\u003e\n      \u003ctd\u003e3.139213\u003c/td\u003e\n      \u003ctd\u003e0.476702\u003c/td\u003e\n      \u003ctd\u003e3.139213\u003c/td\u003e\n    \u003c/tr\u003e\n    \u003ctr\u003e\n      \u003cth\u003e2019-05-25\u003c/th\u003e\n      \u003ctd\u003e2.661410\u003c/td\u003e\n      \u003ctd\u003e4.689615\u003c/td\u003e\n      \u003ctd\u003e2.661410\u003c/td\u003e\n      \u003ctd\u003e3.561887\u003c/td\u003e\n    \u003c/tr\u003e\n  \u003c/tbody\u003e\n\u003c/table\u003e\n\u003c/div\u003e"
          },
          "metadata": {},
          "output_type": "execute_result",
          "execution_count": 11
        }
      ],
      "source": "df_stock0_5 \u003d df_stock0.cumsum().resample(\u00275D\u0027, how\u003d\u0027ohlc\u0027)\ndf_stock0_21 \u003d df_stock0.cumsum().resample(\u002721D\u0027, how\u003d\u0027ohlc\u0027)\n\ndf_stock0_5.head()",
      "metadata": {
        "pycharm": {
          "metadata": false,
          "name": "#%% Resampling OHLC\n",
          "is_executing": false
        }
      }
    },
    {
      "cell_type": "code",
      "execution_count": 12,
      "outputs": [
        {
          "traceback": [
            "\u001b[0;31m---------------------------------------------------------------------------\u001b[0m",
            "\u001b[0;31mAttributeError\u001b[0m                            Traceback (most recent call last)",
            "\u001b[0;32m\u003cipython-input-12-dccbfe9c3b67\u003e\u001b[0m in \u001b[0;36m\u003cmodule\u003e\u001b[0;34m\u001b[0m\n\u001b[1;32m     12\u001b[0m                                    \u001b[0mday_sum\u001b[0m\u001b[0;34m\u003d\u001b[0m\u001b[0;32mFalse\u001b[0m\u001b[0;34m,\u001b[0m\u001b[0;34m\u001b[0m\u001b[0;34m\u001b[0m\u001b[0m\n\u001b[1;32m     13\u001b[0m                                    \u001b[0mhtml_bk\u001b[0m\u001b[0;34m\u003d\u001b[0m\u001b[0;32mFalse\u001b[0m\u001b[0;34m,\u001b[0m\u001b[0;34m\u001b[0m\u001b[0;34m\u001b[0m\u001b[0m\n\u001b[0;32m---\u003e 14\u001b[0;31m                                    save\u003dFalse)\n\u001b[0m",
            "\u001b[0;32m/Library/Frameworks/Python.framework/Versions/3.7/lib/python3.7/site-packages/abupy/MarketBu/ABuMarketDrawing.py\u001b[0m in \u001b[0;36mplot_candle_stick\u001b[0;34m(date, p_open, high, low, close, volume, view_index, symbol, day_sum, html_bk, save, minute)\u001b[0m\n\u001b[1;32m    186\u001b[0m     \u001b[0;32mif\u001b[0m \u001b[0mhtml_bk\u001b[0m \u001b[0;32mis\u001b[0m \u001b[0;32mFalse\u001b[0m\u001b[0;34m:\u001b[0m\u001b[0;34m\u001b[0m\u001b[0;34m\u001b[0m\u001b[0m\n\u001b[1;32m    187\u001b[0m         \u001b[0;31m# 绘制不可交互的\u001b[0m\u001b[0;34m\u001b[0m\u001b[0;34m\u001b[0m\u001b[0;34m\u001b[0m\u001b[0m\n\u001b[0;32m--\u003e 188\u001b[0;31m         \u001b[0m_do_plot_candle\u001b[0m\u001b[0;34m(\u001b[0m\u001b[0mdate\u001b[0m\u001b[0;34m,\u001b[0m \u001b[0mp_open\u001b[0m\u001b[0;34m,\u001b[0m \u001b[0mhigh\u001b[0m\u001b[0;34m,\u001b[0m \u001b[0mlow\u001b[0m\u001b[0;34m,\u001b[0m \u001b[0mclose\u001b[0m\u001b[0;34m,\u001b[0m \u001b[0mvolume\u001b[0m\u001b[0;34m,\u001b[0m \u001b[0mview_index\u001b[0m\u001b[0;34m,\u001b[0m \u001b[0msymbol\u001b[0m\u001b[0;34m,\u001b[0m \u001b[0mday_sum\u001b[0m\u001b[0;34m,\u001b[0m \u001b[0msave\u001b[0m\u001b[0;34m,\u001b[0m \u001b[0mminute\u001b[0m\u001b[0;34m)\u001b[0m\u001b[0;34m\u001b[0m\u001b[0;34m\u001b[0m\u001b[0m\n\u001b[0m\u001b[1;32m    189\u001b[0m     \u001b[0;32melse\u001b[0m\u001b[0;34m:\u001b[0m\u001b[0;34m\u001b[0m\u001b[0;34m\u001b[0m\u001b[0m\n\u001b[1;32m    190\u001b[0m         \u001b[0;31m# 通过bk绘制可交互的\u001b[0m\u001b[0;34m\u001b[0m\u001b[0;34m\u001b[0m\u001b[0;34m\u001b[0m\u001b[0m\n",
            "\u001b[0;32m/Library/Frameworks/Python.framework/Versions/3.7/lib/python3.7/site-packages/abupy/MarketBu/ABuMarketDrawing.py\u001b[0m in \u001b[0;36m_do_plot_candle\u001b[0;34m(date, p_open, high, low, close, volume, view_index, symbol, day_sum, save, minute)\u001b[0m\n\u001b[1;32m    275\u001b[0m         \u001b[0mqutotes\u001b[0m \u001b[0;34m\u003d\u001b[0m \u001b[0;34m[\u001b[0m\u001b[0;34m]\u001b[0m\u001b[0;34m\u001b[0m\u001b[0;34m\u001b[0m\u001b[0m\n\u001b[1;32m    276\u001b[0m         \u001b[0;32mfor\u001b[0m \u001b[0mindex\u001b[0m\u001b[0;34m,\u001b[0m \u001b[0;34m(\u001b[0m\u001b[0md\u001b[0m\u001b[0;34m,\u001b[0m \u001b[0mo\u001b[0m\u001b[0;34m,\u001b[0m \u001b[0mc\u001b[0m\u001b[0;34m,\u001b[0m \u001b[0mh\u001b[0m\u001b[0;34m,\u001b[0m \u001b[0ml\u001b[0m\u001b[0;34m)\u001b[0m \u001b[0;32min\u001b[0m \u001b[0menumerate\u001b[0m\u001b[0;34m(\u001b[0m\u001b[0mzip\u001b[0m\u001b[0;34m(\u001b[0m\u001b[0mdate\u001b[0m\u001b[0;34m,\u001b[0m \u001b[0mp_open\u001b[0m\u001b[0;34m,\u001b[0m \u001b[0mclose\u001b[0m\u001b[0;34m,\u001b[0m \u001b[0mhigh\u001b[0m\u001b[0;34m,\u001b[0m \u001b[0mlow\u001b[0m\u001b[0;34m)\u001b[0m\u001b[0;34m)\u001b[0m\u001b[0;34m:\u001b[0m\u001b[0;34m\u001b[0m\u001b[0;34m\u001b[0m\u001b[0m\n\u001b[0;32m--\u003e 277\u001b[0;31m             \u001b[0md\u001b[0m \u001b[0;34m\u003d\u001b[0m \u001b[0mindex\u001b[0m \u001b[0;32mif\u001b[0m \u001b[0mminute\u001b[0m \u001b[0;32melse\u001b[0m \u001b[0mmpf\u001b[0m\u001b[0;34m.\u001b[0m\u001b[0mdate2num\u001b[0m\u001b[0;34m(\u001b[0m\u001b[0md\u001b[0m\u001b[0;34m)\u001b[0m\u001b[0;34m\u001b[0m\u001b[0;34m\u001b[0m\u001b[0m\n\u001b[0m\u001b[1;32m    278\u001b[0m             \u001b[0mval\u001b[0m \u001b[0;34m\u003d\u001b[0m \u001b[0;34m(\u001b[0m\u001b[0md\u001b[0m\u001b[0;34m,\u001b[0m \u001b[0mo\u001b[0m\u001b[0;34m,\u001b[0m \u001b[0mc\u001b[0m\u001b[0;34m,\u001b[0m \u001b[0mh\u001b[0m\u001b[0;34m,\u001b[0m \u001b[0ml\u001b[0m\u001b[0;34m)\u001b[0m\u001b[0;34m\u001b[0m\u001b[0;34m\u001b[0m\u001b[0m\n\u001b[1;32m    279\u001b[0m             \u001b[0mqutotes\u001b[0m\u001b[0;34m.\u001b[0m\u001b[0mappend\u001b[0m\u001b[0;34m(\u001b[0m\u001b[0mval\u001b[0m\u001b[0;34m)\u001b[0m\u001b[0;34m\u001b[0m\u001b[0;34m\u001b[0m\u001b[0m\n",
            "\u001b[0;31mAttributeError\u001b[0m: module \u0027mpl_finance\u0027 has no attribute \u0027date2num\u0027"
          ],
          "ename": "AttributeError",
          "evalue": "module \u0027mpl_finance\u0027 has no attribute \u0027date2num\u0027",
          "output_type": "error"
        },
        {
          "data": {
            "text/plain": "\u003cFigure size 1440x864 with 2 Axes\u003e",
            "image/png": "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\u003d\n"
          },
          "metadata": {},
          "output_type": "display_data"
        }
      ],
      "source": "\nfrom abupy import ABuMarketDrawing\n\nABuMarketDrawing.plot_candle_stick(df_stock0_5.index, \n                                   df_stock0_5[\u0027open\u0027].values,\n                                   df_stock0_5[\u0027high\u0027].values, \n                                   df_stock0_5[\u0027low\u0027].values, \n                                   df_stock0_5[\u0027close\u0027].values,\n                                   np.random.random(len(df_stock0_5)),\n                                   None, \n                                   \u0027stock\u0027, \n                                   day_sum\u003dFalse,\n                                   html_bk\u003dFalse,\n                                   save\u003dFalse)",
      "metadata": {
        "pycharm": {
          "metadata": false,
          "name": "#%%\n",
          "is_executing": false
        }
      }
    },
    {
      "cell_type": "code",
      "execution_count": null,
      "outputs": [],
      "source": "\n",
      "metadata": {
        "pycharm": {
          "metadata": false,
          "name": "#%%\n"
        }
      }
    }
  ],
  "metadata": {
    "language_info": {
      "codemirror_mode": {
        "name": "ipython",
        "version": 2
      },
      "file_extension": ".py",
      "mimetype": "text/x-python",
      "name": "python",
      "nbconvert_exporter": "python",
      "pygments_lexer": "ipython2",
      "version": "2.7.6"
    },
    "kernelspec": {
      "name": "python3",
      "language": "python",
      "display_name": "Python 3"
    },
    "stem_cell": {
      "cell_type": "raw",
      "source": "",
      "metadata": {
        "pycharm": {
          "metadata": false
        }
      }
    }
  },
  "nbformat": 4,
  "nbformat_minor": 0
}