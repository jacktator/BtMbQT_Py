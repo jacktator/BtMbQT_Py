{
  "cells": [
    {
      "cell_type": "code",
      "execution_count": 1,
      "outputs": [
        {
          "data": {
            "text/plain": "(200, 504)"
          },
          "metadata": {},
          "output_type": "execute_result",
          "execution_count": 1
        }
      ],
      "source": "\nimport pandas as pd\nimport numpy as np\n\nstock_day_change \u003d np.load(\u0027../chapter3/gen/stock_day_change.npy\u0027)\nstock_day_change.shape",
      "metadata": {
        "pycharm": {
          "metadata": false,
          "name": "#%% Index Row\n",
          "is_executing": false
        }
      }
    },
    {
      "cell_type": "code",
      "execution_count": 3,
      "outputs": [
        {
          "data": {
            "text/plain": "              0         1         2         3         4         5         6    \\\nStock 0  0.527720 -1.236865  0.514917  0.180833 -0.045416  0.556833 -0.363686   \nStock 1  1.324178  0.051595 -1.022413 -0.306288 -1.527551 -0.130872 -0.962214   \n\n              7         8         9    ...       494       495       496  \\\nStock 0 -0.729176  1.473225 -0.772695  ...  0.876309 -0.153373 -0.985994   \nStock 1 -1.263536  2.050024 -0.566308  ...  0.585468 -0.494432 -0.607224   \n\n              497       498       499       500       501       502       503  \nStock 0  0.767506 -0.785673 -0.941625 -0.193180  1.761580  0.195582 -2.445398  \nStock 1 -1.335591 -0.304961 -1.831066 -3.284115 -0.954791 -0.180334  2.014905  \n\n[2 rows x 504 columns]",
            "text/html": "\u003cdiv\u003e\n\u003cstyle scoped\u003e\n    .dataframe tbody tr th:only-of-type {\n        vertical-align: middle;\n    }\n\n    .dataframe tbody tr th {\n        vertical-align: top;\n    }\n\n    .dataframe thead th {\n        text-align: right;\n    }\n\u003c/style\u003e\n\u003ctable border\u003d\"1\" class\u003d\"dataframe\"\u003e\n  \u003cthead\u003e\n    \u003ctr style\u003d\"text-align: right;\"\u003e\n      \u003cth\u003e\u003c/th\u003e\n      \u003cth\u003e0\u003c/th\u003e\n      \u003cth\u003e1\u003c/th\u003e\n      \u003cth\u003e2\u003c/th\u003e\n      \u003cth\u003e3\u003c/th\u003e\n      \u003cth\u003e4\u003c/th\u003e\n      \u003cth\u003e5\u003c/th\u003e\n      \u003cth\u003e6\u003c/th\u003e\n      \u003cth\u003e7\u003c/th\u003e\n      \u003cth\u003e8\u003c/th\u003e\n      \u003cth\u003e9\u003c/th\u003e\n      \u003cth\u003e...\u003c/th\u003e\n      \u003cth\u003e494\u003c/th\u003e\n      \u003cth\u003e495\u003c/th\u003e\n      \u003cth\u003e496\u003c/th\u003e\n      \u003cth\u003e497\u003c/th\u003e\n      \u003cth\u003e498\u003c/th\u003e\n      \u003cth\u003e499\u003c/th\u003e\n      \u003cth\u003e500\u003c/th\u003e\n      \u003cth\u003e501\u003c/th\u003e\n      \u003cth\u003e502\u003c/th\u003e\n      \u003cth\u003e503\u003c/th\u003e\n    \u003c/tr\u003e\n  \u003c/thead\u003e\n  \u003ctbody\u003e\n    \u003ctr\u003e\n      \u003cth\u003eStock 0\u003c/th\u003e\n      \u003ctd\u003e0.527720\u003c/td\u003e\n      \u003ctd\u003e-1.236865\u003c/td\u003e\n      \u003ctd\u003e0.514917\u003c/td\u003e\n      \u003ctd\u003e0.180833\u003c/td\u003e\n      \u003ctd\u003e-0.045416\u003c/td\u003e\n      \u003ctd\u003e0.556833\u003c/td\u003e\n      \u003ctd\u003e-0.363686\u003c/td\u003e\n      \u003ctd\u003e-0.729176\u003c/td\u003e\n      \u003ctd\u003e1.473225\u003c/td\u003e\n      \u003ctd\u003e-0.772695\u003c/td\u003e\n      \u003ctd\u003e...\u003c/td\u003e\n      \u003ctd\u003e0.876309\u003c/td\u003e\n      \u003ctd\u003e-0.153373\u003c/td\u003e\n      \u003ctd\u003e-0.985994\u003c/td\u003e\n      \u003ctd\u003e0.767506\u003c/td\u003e\n      \u003ctd\u003e-0.785673\u003c/td\u003e\n      \u003ctd\u003e-0.941625\u003c/td\u003e\n      \u003ctd\u003e-0.193180\u003c/td\u003e\n      \u003ctd\u003e1.761580\u003c/td\u003e\n      \u003ctd\u003e0.195582\u003c/td\u003e\n      \u003ctd\u003e-2.445398\u003c/td\u003e\n    \u003c/tr\u003e\n    \u003ctr\u003e\n      \u003cth\u003eStock 1\u003c/th\u003e\n      \u003ctd\u003e1.324178\u003c/td\u003e\n      \u003ctd\u003e0.051595\u003c/td\u003e\n      \u003ctd\u003e-1.022413\u003c/td\u003e\n      \u003ctd\u003e-0.306288\u003c/td\u003e\n      \u003ctd\u003e-1.527551\u003c/td\u003e\n      \u003ctd\u003e-0.130872\u003c/td\u003e\n      \u003ctd\u003e-0.962214\u003c/td\u003e\n      \u003ctd\u003e-1.263536\u003c/td\u003e\n      \u003ctd\u003e2.050024\u003c/td\u003e\n      \u003ctd\u003e-0.566308\u003c/td\u003e\n      \u003ctd\u003e...\u003c/td\u003e\n      \u003ctd\u003e0.585468\u003c/td\u003e\n      \u003ctd\u003e-0.494432\u003c/td\u003e\n      \u003ctd\u003e-0.607224\u003c/td\u003e\n      \u003ctd\u003e-1.335591\u003c/td\u003e\n      \u003ctd\u003e-0.304961\u003c/td\u003e\n      \u003ctd\u003e-1.831066\u003c/td\u003e\n      \u003ctd\u003e-3.284115\u003c/td\u003e\n      \u003ctd\u003e-0.954791\u003c/td\u003e\n      \u003ctd\u003e-0.180334\u003c/td\u003e\n      \u003ctd\u003e2.014905\u003c/td\u003e\n    \u003c/tr\u003e\n  \u003c/tbody\u003e\n\u003c/table\u003e\n\u003cp\u003e2 rows × 504 columns\u003c/p\u003e\n\u003c/div\u003e"
          },
          "metadata": {},
          "output_type": "execute_result",
          "execution_count": 3
        }
      ],
      "source": "stock_symbols \u003d [\u0027Stock \u0027 + str(x) for x in range(stock_day_change.shape[0])]\n\n\npd.DataFrame(stock_day_change, index\u003dstock_symbols).head(2)",
      "metadata": {
        "pycharm": {
          "metadata": false,
          "name": "#%%\n",
          "is_executing": false
        }
      }
    },
    {
      "cell_type": "code",
      "execution_count": 4,
      "outputs": [
        {
          "data": {
            "text/plain": "           2019-05-05  2019-05-06  2019-05-07  2019-05-08  2019-05-09  \\\nStock 198   -0.053088    0.138707    0.441068   -1.042822    1.237187   \nStock 199   -0.101985    0.815515    0.387779   -1.325105   -0.595241   \n\n           2019-05-10  2019-05-11  2019-05-12  2019-05-13  2019-05-14  ...  \\\nStock 198    1.451057    0.913733   -1.854771   -1.052082   -1.375764  ...   \nStock 199   -0.424438   -1.393351   -0.609623   -0.751235    1.010909  ...   \n\n           2020-09-10  2020-09-11  2020-09-12  2020-09-13  2020-09-14  \\\nStock 198    1.246692    0.825181   -1.761645   -1.692005   -0.828006   \nStock 199    0.818334   -0.545158   -0.246831   -1.145152   -0.295820   \n\n           2020-09-15  2020-09-16  2020-09-17  2020-09-18  2020-09-19  \nStock 198    1.331872   -0.121794   -0.759830    0.527017   -0.409459  \nStock 199   -0.741641   -0.113084    0.109259   -1.675851   -0.628187  \n\n[2 rows x 504 columns]",
            "text/html": "\u003cdiv\u003e\n\u003cstyle scoped\u003e\n    .dataframe tbody tr th:only-of-type {\n        vertical-align: middle;\n    }\n\n    .dataframe tbody tr th {\n        vertical-align: top;\n    }\n\n    .dataframe thead th {\n        text-align: right;\n    }\n\u003c/style\u003e\n\u003ctable border\u003d\"1\" class\u003d\"dataframe\"\u003e\n  \u003cthead\u003e\n    \u003ctr style\u003d\"text-align: right;\"\u003e\n      \u003cth\u003e\u003c/th\u003e\n      \u003cth\u003e2019-05-05 00:00:00\u003c/th\u003e\n      \u003cth\u003e2019-05-06 00:00:00\u003c/th\u003e\n      \u003cth\u003e2019-05-07 00:00:00\u003c/th\u003e\n      \u003cth\u003e2019-05-08 00:00:00\u003c/th\u003e\n      \u003cth\u003e2019-05-09 00:00:00\u003c/th\u003e\n      \u003cth\u003e2019-05-10 00:00:00\u003c/th\u003e\n      \u003cth\u003e2019-05-11 00:00:00\u003c/th\u003e\n      \u003cth\u003e2019-05-12 00:00:00\u003c/th\u003e\n      \u003cth\u003e2019-05-13 00:00:00\u003c/th\u003e\n      \u003cth\u003e2019-05-14 00:00:00\u003c/th\u003e\n      \u003cth\u003e...\u003c/th\u003e\n      \u003cth\u003e2020-09-10 00:00:00\u003c/th\u003e\n      \u003cth\u003e2020-09-11 00:00:00\u003c/th\u003e\n      \u003cth\u003e2020-09-12 00:00:00\u003c/th\u003e\n      \u003cth\u003e2020-09-13 00:00:00\u003c/th\u003e\n      \u003cth\u003e2020-09-14 00:00:00\u003c/th\u003e\n      \u003cth\u003e2020-09-15 00:00:00\u003c/th\u003e\n      \u003cth\u003e2020-09-16 00:00:00\u003c/th\u003e\n      \u003cth\u003e2020-09-17 00:00:00\u003c/th\u003e\n      \u003cth\u003e2020-09-18 00:00:00\u003c/th\u003e\n      \u003cth\u003e2020-09-19 00:00:00\u003c/th\u003e\n    \u003c/tr\u003e\n  \u003c/thead\u003e\n  \u003ctbody\u003e\n    \u003ctr\u003e\n      \u003cth\u003eStock 198\u003c/th\u003e\n      \u003ctd\u003e-0.053088\u003c/td\u003e\n      \u003ctd\u003e0.138707\u003c/td\u003e\n      \u003ctd\u003e0.441068\u003c/td\u003e\n      \u003ctd\u003e-1.042822\u003c/td\u003e\n      \u003ctd\u003e1.237187\u003c/td\u003e\n      \u003ctd\u003e1.451057\u003c/td\u003e\n      \u003ctd\u003e0.913733\u003c/td\u003e\n      \u003ctd\u003e-1.854771\u003c/td\u003e\n      \u003ctd\u003e-1.052082\u003c/td\u003e\n      \u003ctd\u003e-1.375764\u003c/td\u003e\n      \u003ctd\u003e...\u003c/td\u003e\n      \u003ctd\u003e1.246692\u003c/td\u003e\n      \u003ctd\u003e0.825181\u003c/td\u003e\n      \u003ctd\u003e-1.761645\u003c/td\u003e\n      \u003ctd\u003e-1.692005\u003c/td\u003e\n      \u003ctd\u003e-0.828006\u003c/td\u003e\n      \u003ctd\u003e1.331872\u003c/td\u003e\n      \u003ctd\u003e-0.121794\u003c/td\u003e\n      \u003ctd\u003e-0.759830\u003c/td\u003e\n      \u003ctd\u003e0.527017\u003c/td\u003e\n      \u003ctd\u003e-0.409459\u003c/td\u003e\n    \u003c/tr\u003e\n    \u003ctr\u003e\n      \u003cth\u003eStock 199\u003c/th\u003e\n      \u003ctd\u003e-0.101985\u003c/td\u003e\n      \u003ctd\u003e0.815515\u003c/td\u003e\n      \u003ctd\u003e0.387779\u003c/td\u003e\n      \u003ctd\u003e-1.325105\u003c/td\u003e\n      \u003ctd\u003e-0.595241\u003c/td\u003e\n      \u003ctd\u003e-0.424438\u003c/td\u003e\n      \u003ctd\u003e-1.393351\u003c/td\u003e\n      \u003ctd\u003e-0.609623\u003c/td\u003e\n      \u003ctd\u003e-0.751235\u003c/td\u003e\n      \u003ctd\u003e1.010909\u003c/td\u003e\n      \u003ctd\u003e...\u003c/td\u003e\n      \u003ctd\u003e0.818334\u003c/td\u003e\n      \u003ctd\u003e-0.545158\u003c/td\u003e\n      \u003ctd\u003e-0.246831\u003c/td\u003e\n      \u003ctd\u003e-1.145152\u003c/td\u003e\n      \u003ctd\u003e-0.295820\u003c/td\u003e\n      \u003ctd\u003e-0.741641\u003c/td\u003e\n      \u003ctd\u003e-0.113084\u003c/td\u003e\n      \u003ctd\u003e0.109259\u003c/td\u003e\n      \u003ctd\u003e-1.675851\u003c/td\u003e\n      \u003ctd\u003e-0.628187\u003c/td\u003e\n    \u003c/tr\u003e\n  \u003c/tbody\u003e\n\u003c/table\u003e\n\u003cp\u003e2 rows × 504 columns\u003c/p\u003e\n\u003c/div\u003e"
          },
          "metadata": {},
          "output_type": "execute_result",
          "execution_count": 4
        }
      ],
      "source": "\ndays \u003d pd.date_range(\u00272019-5-5\u0027, \n                     periods\u003dstock_day_change.shape[1], \n                     freq\u003d\u00271d\u0027)\n\ndf \u003d pd.DataFrame(stock_day_change, \n                  index\u003dstock_symbols,\n                  columns\u003ddays)\n\ndf.tail(2)\n",
      "metadata": {
        "pycharm": {
          "metadata": false,
          "name": "#%%\n",
          "is_executing": false
        }
      }
    },
    {
      "cell_type": "code",
      "execution_count": 5,
      "outputs": [
        {
          "data": {
            "text/plain": "             Stock 0   Stock 1   Stock 2   Stock 3   Stock 4   Stock 5  \\\n2019-05-05  0.527720  1.324178 -0.223788 -0.937098  1.406566  0.957824   \n2019-05-06 -1.236865  0.051595  0.067544 -0.683621 -0.507649  0.507778   \n2019-05-07  0.514917 -1.022413  0.922877  0.017476  0.259681 -0.119210   \n2019-05-08  0.180833 -0.306288  0.333663 -0.554113 -1.244343  1.280279   \n2019-05-09 -0.045416 -1.527551  1.500108  0.833855 -1.907790  0.881364   \n\n             Stock 6   Stock 7   Stock 8   Stock 9  ...  Stock 190  Stock 191  \\\n2019-05-05  1.044041 -0.651587  0.464999 -0.516410  ...   2.997773  -0.832533   \n2019-05-06  0.790736 -0.689069  0.514969  0.654974  ...   0.877402  -1.261433   \n2019-05-07  1.770557  0.582359  0.823356  0.150947  ...   0.945752   0.168291   \n2019-05-08 -1.432242 -1.206500 -0.354819  0.071444  ...   0.892940   1.103229   \n2019-05-09  0.926680  1.617695 -1.083982  1.138991  ...   0.412548   0.084023   \n\n            Stock 192  Stock 193  Stock 194  Stock 195  Stock 196  Stock 197  \\\n2019-05-05  -1.128344  -0.763647   0.479788  -0.674381  -1.293047   0.354278   \n2019-05-06  -0.294202  -1.308643   1.138518   0.410375   0.314434   0.099246   \n2019-05-07   0.134597   0.125274   1.189262  -0.200274   0.159171  -0.464432   \n2019-05-08  -0.119797   0.733906  -0.347820  -0.217721  -0.231897   0.322970   \n2019-05-09   0.461560  -0.810808  -1.237486  -0.675079  -1.561913   1.052685   \n\n            Stock 198  Stock 199  \n2019-05-05  -0.053088  -0.101985  \n2019-05-06   0.138707   0.815515  \n2019-05-07   0.441068   0.387779  \n2019-05-08  -1.042822  -1.325105  \n2019-05-09   1.237187  -0.595241  \n\n[5 rows x 200 columns]",
            "text/html": "\u003cdiv\u003e\n\u003cstyle scoped\u003e\n    .dataframe tbody tr th:only-of-type {\n        vertical-align: middle;\n    }\n\n    .dataframe tbody tr th {\n        vertical-align: top;\n    }\n\n    .dataframe thead th {\n        text-align: right;\n    }\n\u003c/style\u003e\n\u003ctable border\u003d\"1\" class\u003d\"dataframe\"\u003e\n  \u003cthead\u003e\n    \u003ctr style\u003d\"text-align: right;\"\u003e\n      \u003cth\u003e\u003c/th\u003e\n      \u003cth\u003eStock 0\u003c/th\u003e\n      \u003cth\u003eStock 1\u003c/th\u003e\n      \u003cth\u003eStock 2\u003c/th\u003e\n      \u003cth\u003eStock 3\u003c/th\u003e\n      \u003cth\u003eStock 4\u003c/th\u003e\n      \u003cth\u003eStock 5\u003c/th\u003e\n      \u003cth\u003eStock 6\u003c/th\u003e\n      \u003cth\u003eStock 7\u003c/th\u003e\n      \u003cth\u003eStock 8\u003c/th\u003e\n      \u003cth\u003eStock 9\u003c/th\u003e\n      \u003cth\u003e...\u003c/th\u003e\n      \u003cth\u003eStock 190\u003c/th\u003e\n      \u003cth\u003eStock 191\u003c/th\u003e\n      \u003cth\u003eStock 192\u003c/th\u003e\n      \u003cth\u003eStock 193\u003c/th\u003e\n      \u003cth\u003eStock 194\u003c/th\u003e\n      \u003cth\u003eStock 195\u003c/th\u003e\n      \u003cth\u003eStock 196\u003c/th\u003e\n      \u003cth\u003eStock 197\u003c/th\u003e\n      \u003cth\u003eStock 198\u003c/th\u003e\n      \u003cth\u003eStock 199\u003c/th\u003e\n    \u003c/tr\u003e\n  \u003c/thead\u003e\n  \u003ctbody\u003e\n    \u003ctr\u003e\n      \u003cth\u003e2019-05-05\u003c/th\u003e\n      \u003ctd\u003e0.527720\u003c/td\u003e\n      \u003ctd\u003e1.324178\u003c/td\u003e\n      \u003ctd\u003e-0.223788\u003c/td\u003e\n      \u003ctd\u003e-0.937098\u003c/td\u003e\n      \u003ctd\u003e1.406566\u003c/td\u003e\n      \u003ctd\u003e0.957824\u003c/td\u003e\n      \u003ctd\u003e1.044041\u003c/td\u003e\n      \u003ctd\u003e-0.651587\u003c/td\u003e\n      \u003ctd\u003e0.464999\u003c/td\u003e\n      \u003ctd\u003e-0.516410\u003c/td\u003e\n      \u003ctd\u003e...\u003c/td\u003e\n      \u003ctd\u003e2.997773\u003c/td\u003e\n      \u003ctd\u003e-0.832533\u003c/td\u003e\n      \u003ctd\u003e-1.128344\u003c/td\u003e\n      \u003ctd\u003e-0.763647\u003c/td\u003e\n      \u003ctd\u003e0.479788\u003c/td\u003e\n      \u003ctd\u003e-0.674381\u003c/td\u003e\n      \u003ctd\u003e-1.293047\u003c/td\u003e\n      \u003ctd\u003e0.354278\u003c/td\u003e\n      \u003ctd\u003e-0.053088\u003c/td\u003e\n      \u003ctd\u003e-0.101985\u003c/td\u003e\n    \u003c/tr\u003e\n    \u003ctr\u003e\n      \u003cth\u003e2019-05-06\u003c/th\u003e\n      \u003ctd\u003e-1.236865\u003c/td\u003e\n      \u003ctd\u003e0.051595\u003c/td\u003e\n      \u003ctd\u003e0.067544\u003c/td\u003e\n      \u003ctd\u003e-0.683621\u003c/td\u003e\n      \u003ctd\u003e-0.507649\u003c/td\u003e\n      \u003ctd\u003e0.507778\u003c/td\u003e\n      \u003ctd\u003e0.790736\u003c/td\u003e\n      \u003ctd\u003e-0.689069\u003c/td\u003e\n      \u003ctd\u003e0.514969\u003c/td\u003e\n      \u003ctd\u003e0.654974\u003c/td\u003e\n      \u003ctd\u003e...\u003c/td\u003e\n      \u003ctd\u003e0.877402\u003c/td\u003e\n      \u003ctd\u003e-1.261433\u003c/td\u003e\n      \u003ctd\u003e-0.294202\u003c/td\u003e\n      \u003ctd\u003e-1.308643\u003c/td\u003e\n      \u003ctd\u003e1.138518\u003c/td\u003e\n      \u003ctd\u003e0.410375\u003c/td\u003e\n      \u003ctd\u003e0.314434\u003c/td\u003e\n      \u003ctd\u003e0.099246\u003c/td\u003e\n      \u003ctd\u003e0.138707\u003c/td\u003e\n      \u003ctd\u003e0.815515\u003c/td\u003e\n    \u003c/tr\u003e\n    \u003ctr\u003e\n      \u003cth\u003e2019-05-07\u003c/th\u003e\n      \u003ctd\u003e0.514917\u003c/td\u003e\n      \u003ctd\u003e-1.022413\u003c/td\u003e\n      \u003ctd\u003e0.922877\u003c/td\u003e\n      \u003ctd\u003e0.017476\u003c/td\u003e\n      \u003ctd\u003e0.259681\u003c/td\u003e\n      \u003ctd\u003e-0.119210\u003c/td\u003e\n      \u003ctd\u003e1.770557\u003c/td\u003e\n      \u003ctd\u003e0.582359\u003c/td\u003e\n      \u003ctd\u003e0.823356\u003c/td\u003e\n      \u003ctd\u003e0.150947\u003c/td\u003e\n      \u003ctd\u003e...\u003c/td\u003e\n      \u003ctd\u003e0.945752\u003c/td\u003e\n      \u003ctd\u003e0.168291\u003c/td\u003e\n      \u003ctd\u003e0.134597\u003c/td\u003e\n      \u003ctd\u003e0.125274\u003c/td\u003e\n      \u003ctd\u003e1.189262\u003c/td\u003e\n      \u003ctd\u003e-0.200274\u003c/td\u003e\n      \u003ctd\u003e0.159171\u003c/td\u003e\n      \u003ctd\u003e-0.464432\u003c/td\u003e\n      \u003ctd\u003e0.441068\u003c/td\u003e\n      \u003ctd\u003e0.387779\u003c/td\u003e\n    \u003c/tr\u003e\n    \u003ctr\u003e\n      \u003cth\u003e2019-05-08\u003c/th\u003e\n      \u003ctd\u003e0.180833\u003c/td\u003e\n      \u003ctd\u003e-0.306288\u003c/td\u003e\n      \u003ctd\u003e0.333663\u003c/td\u003e\n      \u003ctd\u003e-0.554113\u003c/td\u003e\n      \u003ctd\u003e-1.244343\u003c/td\u003e\n      \u003ctd\u003e1.280279\u003c/td\u003e\n      \u003ctd\u003e-1.432242\u003c/td\u003e\n      \u003ctd\u003e-1.206500\u003c/td\u003e\n      \u003ctd\u003e-0.354819\u003c/td\u003e\n      \u003ctd\u003e0.071444\u003c/td\u003e\n      \u003ctd\u003e...\u003c/td\u003e\n      \u003ctd\u003e0.892940\u003c/td\u003e\n      \u003ctd\u003e1.103229\u003c/td\u003e\n      \u003ctd\u003e-0.119797\u003c/td\u003e\n      \u003ctd\u003e0.733906\u003c/td\u003e\n      \u003ctd\u003e-0.347820\u003c/td\u003e\n      \u003ctd\u003e-0.217721\u003c/td\u003e\n      \u003ctd\u003e-0.231897\u003c/td\u003e\n      \u003ctd\u003e0.322970\u003c/td\u003e\n      \u003ctd\u003e-1.042822\u003c/td\u003e\n      \u003ctd\u003e-1.325105\u003c/td\u003e\n    \u003c/tr\u003e\n    \u003ctr\u003e\n      \u003cth\u003e2019-05-09\u003c/th\u003e\n      \u003ctd\u003e-0.045416\u003c/td\u003e\n      \u003ctd\u003e-1.527551\u003c/td\u003e\n      \u003ctd\u003e1.500108\u003c/td\u003e\n      \u003ctd\u003e0.833855\u003c/td\u003e\n      \u003ctd\u003e-1.907790\u003c/td\u003e\n      \u003ctd\u003e0.881364\u003c/td\u003e\n      \u003ctd\u003e0.926680\u003c/td\u003e\n      \u003ctd\u003e1.617695\u003c/td\u003e\n      \u003ctd\u003e-1.083982\u003c/td\u003e\n      \u003ctd\u003e1.138991\u003c/td\u003e\n      \u003ctd\u003e...\u003c/td\u003e\n      \u003ctd\u003e0.412548\u003c/td\u003e\n      \u003ctd\u003e0.084023\u003c/td\u003e\n      \u003ctd\u003e0.461560\u003c/td\u003e\n      \u003ctd\u003e-0.810808\u003c/td\u003e\n      \u003ctd\u003e-1.237486\u003c/td\u003e\n      \u003ctd\u003e-0.675079\u003c/td\u003e\n      \u003ctd\u003e-1.561913\u003c/td\u003e\n      \u003ctd\u003e1.052685\u003c/td\u003e\n      \u003ctd\u003e1.237187\u003c/td\u003e\n      \u003ctd\u003e-0.595241\u003c/td\u003e\n    \u003c/tr\u003e\n  \u003c/tbody\u003e\n\u003c/table\u003e\n\u003cp\u003e5 rows × 200 columns\u003c/p\u003e\n\u003c/div\u003e"
          },
          "metadata": {},
          "output_type": "execute_result",
          "execution_count": 5
        }
      ],
      "source": "\ndfT \u003d df.T\n\ndfT.head()",
      "metadata": {
        "pycharm": {
          "metadata": false,
          "name": "#%% Financial Time Series\n",
          "is_executing": false
        }
      }
    },
    {
      "cell_type": "code",
      "execution_count": 6,
      "outputs": [
        {
          "name": "stderr",
          "text": [
            "/Library/Frameworks/Python.framework/Versions/3.7/lib/python3.7/site-packages/ipykernel_launcher.py:2: FutureWarning: how in .resample() is deprecated\nthe new syntax is .resample(...).mean()\n  \n"
          ],
          "output_type": "stream"
        },
        {
          "data": {
            "text/plain": "             Stock 0   Stock 1   Stock 2   Stock 3   Stock 4   Stock 5  \\\n2019-05-05  0.161140 -0.041944  0.148595 -0.200697 -0.455080 -0.032901   \n2019-05-26 -0.162653 -0.262087  0.227754 -0.043023 -0.065610 -0.035613   \n2019-06-16 -0.012436  0.014483  0.259476  0.083686 -0.229368 -0.039657   \n2019-07-07 -0.191842  0.398651 -0.295237  0.029556  0.026537  0.138017   \n2019-07-28 -0.145707 -0.525639  0.281060 -0.167727  0.032739  0.113453   \n\n             Stock 6   Stock 7   Stock 8   Stock 9  ...  Stock 190  Stock 191  \\\n2019-05-05  0.045289 -0.166805 -0.229886  0.442544  ...   0.430976  -0.385515   \n2019-05-26 -0.293797 -0.127974  0.216800 -0.210601  ...   0.493295  -0.118492   \n2019-06-16  0.038361  0.177036  0.041773  0.206200  ...  -0.094646   0.447571   \n2019-07-07 -0.004789 -0.197447 -0.129367  0.153889  ...   0.210070  -0.045163   \n2019-07-28  0.281093 -0.148789  0.241297  0.050288  ...  -0.314666   0.174203   \n\n            Stock 192  Stock 193  Stock 194  Stock 195  Stock 196  Stock 197  \\\n2019-05-05  -0.230763   0.098694  -0.222598   0.158075   0.160241  -0.188561   \n2019-05-26   0.257006  -0.400160  -0.069641   0.254386  -0.125659  -0.491082   \n2019-06-16  -0.180623   0.293562  -0.334270   0.074137   0.006579   0.278741   \n2019-07-07  -0.172261   0.144408   0.118135   0.666646  -0.162227  -0.076834   \n2019-07-28   0.558204   0.115519  -0.197639   0.007913  -0.115723   0.011201   \n\n            Stock 198  Stock 199  \n2019-05-05  -0.302841  -0.011129  \n2019-05-26   0.235918  -0.017978  \n2019-06-16  -0.231485  -0.151512  \n2019-07-07   0.252563   0.239882  \n2019-07-28   0.150606   0.039766  \n\n[5 rows x 200 columns]",
            "text/html": "\u003cdiv\u003e\n\u003cstyle scoped\u003e\n    .dataframe tbody tr th:only-of-type {\n        vertical-align: middle;\n    }\n\n    .dataframe tbody tr th {\n        vertical-align: top;\n    }\n\n    .dataframe thead th {\n        text-align: right;\n    }\n\u003c/style\u003e\n\u003ctable border\u003d\"1\" class\u003d\"dataframe\"\u003e\n  \u003cthead\u003e\n    \u003ctr style\u003d\"text-align: right;\"\u003e\n      \u003cth\u003e\u003c/th\u003e\n      \u003cth\u003eStock 0\u003c/th\u003e\n      \u003cth\u003eStock 1\u003c/th\u003e\n      \u003cth\u003eStock 2\u003c/th\u003e\n      \u003cth\u003eStock 3\u003c/th\u003e\n      \u003cth\u003eStock 4\u003c/th\u003e\n      \u003cth\u003eStock 5\u003c/th\u003e\n      \u003cth\u003eStock 6\u003c/th\u003e\n      \u003cth\u003eStock 7\u003c/th\u003e\n      \u003cth\u003eStock 8\u003c/th\u003e\n      \u003cth\u003eStock 9\u003c/th\u003e\n      \u003cth\u003e...\u003c/th\u003e\n      \u003cth\u003eStock 190\u003c/th\u003e\n      \u003cth\u003eStock 191\u003c/th\u003e\n      \u003cth\u003eStock 192\u003c/th\u003e\n      \u003cth\u003eStock 193\u003c/th\u003e\n      \u003cth\u003eStock 194\u003c/th\u003e\n      \u003cth\u003eStock 195\u003c/th\u003e\n      \u003cth\u003eStock 196\u003c/th\u003e\n      \u003cth\u003eStock 197\u003c/th\u003e\n      \u003cth\u003eStock 198\u003c/th\u003e\n      \u003cth\u003eStock 199\u003c/th\u003e\n    \u003c/tr\u003e\n  \u003c/thead\u003e\n  \u003ctbody\u003e\n    \u003ctr\u003e\n      \u003cth\u003e2019-05-05\u003c/th\u003e\n      \u003ctd\u003e0.161140\u003c/td\u003e\n      \u003ctd\u003e-0.041944\u003c/td\u003e\n      \u003ctd\u003e0.148595\u003c/td\u003e\n      \u003ctd\u003e-0.200697\u003c/td\u003e\n      \u003ctd\u003e-0.455080\u003c/td\u003e\n      \u003ctd\u003e-0.032901\u003c/td\u003e\n      \u003ctd\u003e0.045289\u003c/td\u003e\n      \u003ctd\u003e-0.166805\u003c/td\u003e\n      \u003ctd\u003e-0.229886\u003c/td\u003e\n      \u003ctd\u003e0.442544\u003c/td\u003e\n      \u003ctd\u003e...\u003c/td\u003e\n      \u003ctd\u003e0.430976\u003c/td\u003e\n      \u003ctd\u003e-0.385515\u003c/td\u003e\n      \u003ctd\u003e-0.230763\u003c/td\u003e\n      \u003ctd\u003e0.098694\u003c/td\u003e\n      \u003ctd\u003e-0.222598\u003c/td\u003e\n      \u003ctd\u003e0.158075\u003c/td\u003e\n      \u003ctd\u003e0.160241\u003c/td\u003e\n      \u003ctd\u003e-0.188561\u003c/td\u003e\n      \u003ctd\u003e-0.302841\u003c/td\u003e\n      \u003ctd\u003e-0.011129\u003c/td\u003e\n    \u003c/tr\u003e\n    \u003ctr\u003e\n      \u003cth\u003e2019-05-26\u003c/th\u003e\n      \u003ctd\u003e-0.162653\u003c/td\u003e\n      \u003ctd\u003e-0.262087\u003c/td\u003e\n      \u003ctd\u003e0.227754\u003c/td\u003e\n      \u003ctd\u003e-0.043023\u003c/td\u003e\n      \u003ctd\u003e-0.065610\u003c/td\u003e\n      \u003ctd\u003e-0.035613\u003c/td\u003e\n      \u003ctd\u003e-0.293797\u003c/td\u003e\n      \u003ctd\u003e-0.127974\u003c/td\u003e\n      \u003ctd\u003e0.216800\u003c/td\u003e\n      \u003ctd\u003e-0.210601\u003c/td\u003e\n      \u003ctd\u003e...\u003c/td\u003e\n      \u003ctd\u003e0.493295\u003c/td\u003e\n      \u003ctd\u003e-0.118492\u003c/td\u003e\n      \u003ctd\u003e0.257006\u003c/td\u003e\n      \u003ctd\u003e-0.400160\u003c/td\u003e\n      \u003ctd\u003e-0.069641\u003c/td\u003e\n      \u003ctd\u003e0.254386\u003c/td\u003e\n      \u003ctd\u003e-0.125659\u003c/td\u003e\n      \u003ctd\u003e-0.491082\u003c/td\u003e\n      \u003ctd\u003e0.235918\u003c/td\u003e\n      \u003ctd\u003e-0.017978\u003c/td\u003e\n    \u003c/tr\u003e\n    \u003ctr\u003e\n      \u003cth\u003e2019-06-16\u003c/th\u003e\n      \u003ctd\u003e-0.012436\u003c/td\u003e\n      \u003ctd\u003e0.014483\u003c/td\u003e\n      \u003ctd\u003e0.259476\u003c/td\u003e\n      \u003ctd\u003e0.083686\u003c/td\u003e\n      \u003ctd\u003e-0.229368\u003c/td\u003e\n      \u003ctd\u003e-0.039657\u003c/td\u003e\n      \u003ctd\u003e0.038361\u003c/td\u003e\n      \u003ctd\u003e0.177036\u003c/td\u003e\n      \u003ctd\u003e0.041773\u003c/td\u003e\n      \u003ctd\u003e0.206200\u003c/td\u003e\n      \u003ctd\u003e...\u003c/td\u003e\n      \u003ctd\u003e-0.094646\u003c/td\u003e\n      \u003ctd\u003e0.447571\u003c/td\u003e\n      \u003ctd\u003e-0.180623\u003c/td\u003e\n      \u003ctd\u003e0.293562\u003c/td\u003e\n      \u003ctd\u003e-0.334270\u003c/td\u003e\n      \u003ctd\u003e0.074137\u003c/td\u003e\n      \u003ctd\u003e0.006579\u003c/td\u003e\n      \u003ctd\u003e0.278741\u003c/td\u003e\n      \u003ctd\u003e-0.231485\u003c/td\u003e\n      \u003ctd\u003e-0.151512\u003c/td\u003e\n    \u003c/tr\u003e\n    \u003ctr\u003e\n      \u003cth\u003e2019-07-07\u003c/th\u003e\n      \u003ctd\u003e-0.191842\u003c/td\u003e\n      \u003ctd\u003e0.398651\u003c/td\u003e\n      \u003ctd\u003e-0.295237\u003c/td\u003e\n      \u003ctd\u003e0.029556\u003c/td\u003e\n      \u003ctd\u003e0.026537\u003c/td\u003e\n      \u003ctd\u003e0.138017\u003c/td\u003e\n      \u003ctd\u003e-0.004789\u003c/td\u003e\n      \u003ctd\u003e-0.197447\u003c/td\u003e\n      \u003ctd\u003e-0.129367\u003c/td\u003e\n      \u003ctd\u003e0.153889\u003c/td\u003e\n      \u003ctd\u003e...\u003c/td\u003e\n      \u003ctd\u003e0.210070\u003c/td\u003e\n      \u003ctd\u003e-0.045163\u003c/td\u003e\n      \u003ctd\u003e-0.172261\u003c/td\u003e\n      \u003ctd\u003e0.144408\u003c/td\u003e\n      \u003ctd\u003e0.118135\u003c/td\u003e\n      \u003ctd\u003e0.666646\u003c/td\u003e\n      \u003ctd\u003e-0.162227\u003c/td\u003e\n      \u003ctd\u003e-0.076834\u003c/td\u003e\n      \u003ctd\u003e0.252563\u003c/td\u003e\n      \u003ctd\u003e0.239882\u003c/td\u003e\n    \u003c/tr\u003e\n    \u003ctr\u003e\n      \u003cth\u003e2019-07-28\u003c/th\u003e\n      \u003ctd\u003e-0.145707\u003c/td\u003e\n      \u003ctd\u003e-0.525639\u003c/td\u003e\n      \u003ctd\u003e0.281060\u003c/td\u003e\n      \u003ctd\u003e-0.167727\u003c/td\u003e\n      \u003ctd\u003e0.032739\u003c/td\u003e\n      \u003ctd\u003e0.113453\u003c/td\u003e\n      \u003ctd\u003e0.281093\u003c/td\u003e\n      \u003ctd\u003e-0.148789\u003c/td\u003e\n      \u003ctd\u003e0.241297\u003c/td\u003e\n      \u003ctd\u003e0.050288\u003c/td\u003e\n      \u003ctd\u003e...\u003c/td\u003e\n      \u003ctd\u003e-0.314666\u003c/td\u003e\n      \u003ctd\u003e0.174203\u003c/td\u003e\n      \u003ctd\u003e0.558204\u003c/td\u003e\n      \u003ctd\u003e0.115519\u003c/td\u003e\n      \u003ctd\u003e-0.197639\u003c/td\u003e\n      \u003ctd\u003e0.007913\u003c/td\u003e\n      \u003ctd\u003e-0.115723\u003c/td\u003e\n      \u003ctd\u003e0.011201\u003c/td\u003e\n      \u003ctd\u003e0.150606\u003c/td\u003e\n      \u003ctd\u003e0.039766\u003c/td\u003e\n    \u003c/tr\u003e\n  \u003c/tbody\u003e\n\u003c/table\u003e\n\u003cp\u003e5 rows × 200 columns\u003c/p\u003e\n\u003c/div\u003e"
          },
          "metadata": {},
          "output_type": "execute_result",
          "execution_count": 6
        }
      ],
      "source": "\ndf_20 \u003d dfT.resample(\u002721d\u0027, how\u003d\u0027mean\u0027)\n\ndf_20.head()",
      "metadata": {
        "pycharm": {
          "metadata": false,
          "name": "#%%\n",
          "is_executing": false
        }
      }
    },
    {
      "cell_type": "code",
      "execution_count": null,
      "outputs": [],
      "source": "\n",
      "metadata": {
        "pycharm": {
          "metadata": false,
          "name": "#%%\n"
        }
      }
    }
  ],
  "metadata": {
    "language_info": {
      "codemirror_mode": {
        "name": "ipython",
        "version": 2
      },
      "file_extension": ".py",
      "mimetype": "text/x-python",
      "name": "python",
      "nbconvert_exporter": "python",
      "pygments_lexer": "ipython2",
      "version": "2.7.6"
    },
    "kernelspec": {
      "name": "python3",
      "language": "python",
      "display_name": "Python 3"
    },
    "stem_cell": {
      "cell_type": "raw",
      "source": "",
      "metadata": {
        "pycharm": {
          "metadata": false
        }
      }
    }
  },
  "nbformat": 4,
  "nbformat_minor": 0
}