{
  "cells": [
    {
      "cell_type": "code",
      "execution_count": 3,
      "metadata": {
        "collapsed": true,
        "pycharm": {
          "is_executing": false,
          "name": "#%% Functons and Define\n"
        }
      },
      "outputs": [
        {
          "data": {
            "text/plain": "{\u002720190401\u0027: 30.14,\n \u002720190402\u0027: 29.58,\n \u002720190403\u0027: 26.36,\n \u002720190404\u0027: 32.56,\n \u002720190405\u0027: 32.82}"
          },
          "metadata": {},
          "output_type": "execute_result",
          "execution_count": 3
        }
      ],
      "source": "price_array \u003d [30.14, 29.58, 26.36, 32.56, 32.82]\ndate_array \u003d [str(20190401 + ind) for ind, _ in enumerate(price_array)]\nstock_dict: dict \u003d {date:price for date, price in zip(date_array, price_array)}\nstock_dict"
    },
    {
      "cell_type": "code",
      "execution_count": 4,
      "outputs": [
        {
          "data": {
            "text/plain": "(\u002720190401\u0027, 30.14)"
          },
          "metadata": {},
          "output_type": "execute_result",
          "execution_count": 4
        }
      ],
      "source": "# This only finds the min of keys, not values\nmin(zip(stock_dict.keys(), stock_dict.values()))",
      "metadata": {
        "pycharm": {
          "metadata": false,
          "name": "#%% 1. Built-in functions\n",
          "is_executing": false
        }
      }
    },
    {
      "cell_type": "code",
      "execution_count": 5,
      "outputs": [
        {
          "data": {
            "text/plain": "(26.36, \u002720190403\u0027)"
          },
          "metadata": {},
          "output_type": "execute_result",
          "execution_count": 5
        }
      ],
      "source": "min(zip(stock_dict.values(), stock_dict.keys()))",
      "metadata": {
        "pycharm": {
          "metadata": false,
          "name": "#%%\n",
          "is_executing": false
        }
      }
    },
    {
      "cell_type": "code",
      "execution_count": 10,
      "outputs": [
        {
          "name": "stdout",
          "text": [
            "(32.56, \u002720190404\u0027)\n"
          ],
          "output_type": "stream"
        }
      ],
      "source": "def find_second_max(dict_array):\n    stock_prices_sorted \u003d sorted(\n        zip(dict_array.values(), dict_array.keys())\n    )\n    return stock_prices_sorted[-2]\n\nif callable(find_second_max):\n    print(find_second_max(stock_dict))",
      "metadata": {
        "pycharm": {
          "metadata": false,
          "name": "#%% 2. Cumtom functions\n",
          "is_executing": false
        }
      }
    },
    {
      "cell_type": "code",
      "execution_count": null,
      "outputs": [],
      "source": "\n",
      "metadata": {
        "pycharm": {
          "metadata": false,
          "name": "#%%\n"
        }
      }
    }
  ],
  "metadata": {
    "language_info": {
      "codemirror_mode": {
        "name": "ipython",
        "version": 2
      },
      "file_extension": ".py",
      "mimetype": "text/x-python",
      "name": "python",
      "nbconvert_exporter": "python",
      "pygments_lexer": "ipython2",
      "version": "2.7.6"
    },
    "kernelspec": {
      "name": "python3",
      "language": "python",
      "display_name": "Python 3"
    }
  },
  "nbformat": 4,
  "nbformat_minor": 0
}