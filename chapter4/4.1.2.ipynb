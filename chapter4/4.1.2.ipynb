{
  "cells": [
    {
      "cell_type": "code",
      "execution_count": 7,
      "outputs": [
        {
          "data": {
            "text/plain": "(200, 504)"
          },
          "metadata": {},
          "output_type": "execute_result",
          "execution_count": 7
        }
      ],
      "source": "\nimport pandas as pd\nimport numpy as np\n\nstock_day_change \u003d np.load(\u0027../chapter3/gen/stock_day_change.npy\u0027)\nstock_day_change.shape",
      "metadata": {
        "pycharm": {
          "metadata": false,
          "name": "#%% Index Row\n",
          "is_executing": false
        }
      }
    },
    {
      "cell_type": "code",
      "execution_count": 8,
      "outputs": [
        {
          "data": {
            "text/plain": "              0         1         2         3         4         5         6    \\\nStock 0  0.527720 -1.236865  0.514917  0.180833 -0.045416  0.556833 -0.363686   \nStock 1  1.324178  0.051595 -1.022413 -0.306288 -1.527551 -0.130872 -0.962214   \n\n              7         8         9    ...       494       495       496  \\\nStock 0 -0.729176  1.473225 -0.772695  ...  0.876309 -0.153373 -0.985994   \nStock 1 -1.263536  2.050024 -0.566308  ...  0.585468 -0.494432 -0.607224   \n\n              497       498       499       500       501       502       503  \nStock 0  0.767506 -0.785673 -0.941625 -0.193180  1.761580  0.195582 -2.445398  \nStock 1 -1.335591 -0.304961 -1.831066 -3.284115 -0.954791 -0.180334  2.014905  \n\n[2 rows x 504 columns]",
            "text/html": "\u003cdiv\u003e\n\u003cstyle scoped\u003e\n    .dataframe tbody tr th:only-of-type {\n        vertical-align: middle;\n    }\n\n    .dataframe tbody tr th {\n        vertical-align: top;\n    }\n\n    .dataframe thead th {\n        text-align: right;\n    }\n\u003c/style\u003e\n\u003ctable border\u003d\"1\" class\u003d\"dataframe\"\u003e\n  \u003cthead\u003e\n    \u003ctr style\u003d\"text-align: right;\"\u003e\n      \u003cth\u003e\u003c/th\u003e\n      \u003cth\u003e0\u003c/th\u003e\n      \u003cth\u003e1\u003c/th\u003e\n      \u003cth\u003e2\u003c/th\u003e\n      \u003cth\u003e3\u003c/th\u003e\n      \u003cth\u003e4\u003c/th\u003e\n      \u003cth\u003e5\u003c/th\u003e\n      \u003cth\u003e6\u003c/th\u003e\n      \u003cth\u003e7\u003c/th\u003e\n      \u003cth\u003e8\u003c/th\u003e\n      \u003cth\u003e9\u003c/th\u003e\n      \u003cth\u003e...\u003c/th\u003e\n      \u003cth\u003e494\u003c/th\u003e\n      \u003cth\u003e495\u003c/th\u003e\n      \u003cth\u003e496\u003c/th\u003e\n      \u003cth\u003e497\u003c/th\u003e\n      \u003cth\u003e498\u003c/th\u003e\n      \u003cth\u003e499\u003c/th\u003e\n      \u003cth\u003e500\u003c/th\u003e\n      \u003cth\u003e501\u003c/th\u003e\n      \u003cth\u003e502\u003c/th\u003e\n      \u003cth\u003e503\u003c/th\u003e\n    \u003c/tr\u003e\n  \u003c/thead\u003e\n  \u003ctbody\u003e\n    \u003ctr\u003e\n      \u003cth\u003eStock 0\u003c/th\u003e\n      \u003ctd\u003e0.527720\u003c/td\u003e\n      \u003ctd\u003e-1.236865\u003c/td\u003e\n      \u003ctd\u003e0.514917\u003c/td\u003e\n      \u003ctd\u003e0.180833\u003c/td\u003e\n      \u003ctd\u003e-0.045416\u003c/td\u003e\n      \u003ctd\u003e0.556833\u003c/td\u003e\n      \u003ctd\u003e-0.363686\u003c/td\u003e\n      \u003ctd\u003e-0.729176\u003c/td\u003e\n      \u003ctd\u003e1.473225\u003c/td\u003e\n      \u003ctd\u003e-0.772695\u003c/td\u003e\n      \u003ctd\u003e...\u003c/td\u003e\n      \u003ctd\u003e0.876309\u003c/td\u003e\n      \u003ctd\u003e-0.153373\u003c/td\u003e\n      \u003ctd\u003e-0.985994\u003c/td\u003e\n      \u003ctd\u003e0.767506\u003c/td\u003e\n      \u003ctd\u003e-0.785673\u003c/td\u003e\n      \u003ctd\u003e-0.941625\u003c/td\u003e\n      \u003ctd\u003e-0.193180\u003c/td\u003e\n      \u003ctd\u003e1.761580\u003c/td\u003e\n      \u003ctd\u003e0.195582\u003c/td\u003e\n      \u003ctd\u003e-2.445398\u003c/td\u003e\n    \u003c/tr\u003e\n    \u003ctr\u003e\n      \u003cth\u003eStock 1\u003c/th\u003e\n      \u003ctd\u003e1.324178\u003c/td\u003e\n      \u003ctd\u003e0.051595\u003c/td\u003e\n      \u003ctd\u003e-1.022413\u003c/td\u003e\n      \u003ctd\u003e-0.306288\u003c/td\u003e\n      \u003ctd\u003e-1.527551\u003c/td\u003e\n      \u003ctd\u003e-0.130872\u003c/td\u003e\n      \u003ctd\u003e-0.962214\u003c/td\u003e\n      \u003ctd\u003e-1.263536\u003c/td\u003e\n      \u003ctd\u003e2.050024\u003c/td\u003e\n      \u003ctd\u003e-0.566308\u003c/td\u003e\n      \u003ctd\u003e...\u003c/td\u003e\n      \u003ctd\u003e0.585468\u003c/td\u003e\n      \u003ctd\u003e-0.494432\u003c/td\u003e\n      \u003ctd\u003e-0.607224\u003c/td\u003e\n      \u003ctd\u003e-1.335591\u003c/td\u003e\n      \u003ctd\u003e-0.304961\u003c/td\u003e\n      \u003ctd\u003e-1.831066\u003c/td\u003e\n      \u003ctd\u003e-3.284115\u003c/td\u003e\n      \u003ctd\u003e-0.954791\u003c/td\u003e\n      \u003ctd\u003e-0.180334\u003c/td\u003e\n      \u003ctd\u003e2.014905\u003c/td\u003e\n    \u003c/tr\u003e\n  \u003c/tbody\u003e\n\u003c/table\u003e\n\u003cp\u003e2 rows × 504 columns\u003c/p\u003e\n\u003c/div\u003e"
          },
          "metadata": {},
          "output_type": "execute_result",
          "execution_count": 8
        }
      ],
      "source": "stock_symbols \u003d [\u0027Stock \u0027 + str(x) for x in range(stock_day_change.shape[0])]\n\npd.DataFrame(stock_day_change, index\u003dstock_symbols).head(2)",
      "metadata": {
        "pycharm": {
          "metadata": false,
          "name": "#%%\n",
          "is_executing": false
        }
      }
    },
    {
      "cell_type": "code",
      "execution_count": 9,
      "outputs": [
        {
          "data": {
            "text/plain": "           2019-05-05  2019-05-06  2019-05-07  2019-05-08  2019-05-09  \\\nStock 198   -0.053088    0.138707    0.441068   -1.042822    1.237187   \nStock 199   -0.101985    0.815515    0.387779   -1.325105   -0.595241   \n\n           2019-05-10  2019-05-11  2019-05-12  2019-05-13  2019-05-14  ...  \\\nStock 198    1.451057    0.913733   -1.854771   -1.052082   -1.375764  ...   \nStock 199   -0.424438   -1.393351   -0.609623   -0.751235    1.010909  ...   \n\n           2020-09-10  2020-09-11  2020-09-12  2020-09-13  2020-09-14  \\\nStock 198    1.246692    0.825181   -1.761645   -1.692005   -0.828006   \nStock 199    0.818334   -0.545158   -0.246831   -1.145152   -0.295820   \n\n           2020-09-15  2020-09-16  2020-09-17  2020-09-18  2020-09-19  \nStock 198    1.331872   -0.121794   -0.759830    0.527017   -0.409459  \nStock 199   -0.741641   -0.113084    0.109259   -1.675851   -0.628187  \n\n[2 rows x 504 columns]",
            "text/html": "\u003cdiv\u003e\n\u003cstyle scoped\u003e\n    .dataframe tbody tr th:only-of-type {\n        vertical-align: middle;\n    }\n\n    .dataframe tbody tr th {\n        vertical-align: top;\n    }\n\n    .dataframe thead th {\n        text-align: right;\n    }\n\u003c/style\u003e\n\u003ctable border\u003d\"1\" class\u003d\"dataframe\"\u003e\n  \u003cthead\u003e\n    \u003ctr style\u003d\"text-align: right;\"\u003e\n      \u003cth\u003e\u003c/th\u003e\n      \u003cth\u003e2019-05-05 00:00:00\u003c/th\u003e\n      \u003cth\u003e2019-05-06 00:00:00\u003c/th\u003e\n      \u003cth\u003e2019-05-07 00:00:00\u003c/th\u003e\n      \u003cth\u003e2019-05-08 00:00:00\u003c/th\u003e\n      \u003cth\u003e2019-05-09 00:00:00\u003c/th\u003e\n      \u003cth\u003e2019-05-10 00:00:00\u003c/th\u003e\n      \u003cth\u003e2019-05-11 00:00:00\u003c/th\u003e\n      \u003cth\u003e2019-05-12 00:00:00\u003c/th\u003e\n      \u003cth\u003e2019-05-13 00:00:00\u003c/th\u003e\n      \u003cth\u003e2019-05-14 00:00:00\u003c/th\u003e\n      \u003cth\u003e...\u003c/th\u003e\n      \u003cth\u003e2020-09-10 00:00:00\u003c/th\u003e\n      \u003cth\u003e2020-09-11 00:00:00\u003c/th\u003e\n      \u003cth\u003e2020-09-12 00:00:00\u003c/th\u003e\n      \u003cth\u003e2020-09-13 00:00:00\u003c/th\u003e\n      \u003cth\u003e2020-09-14 00:00:00\u003c/th\u003e\n      \u003cth\u003e2020-09-15 00:00:00\u003c/th\u003e\n      \u003cth\u003e2020-09-16 00:00:00\u003c/th\u003e\n      \u003cth\u003e2020-09-17 00:00:00\u003c/th\u003e\n      \u003cth\u003e2020-09-18 00:00:00\u003c/th\u003e\n      \u003cth\u003e2020-09-19 00:00:00\u003c/th\u003e\n    \u003c/tr\u003e\n  \u003c/thead\u003e\n  \u003ctbody\u003e\n    \u003ctr\u003e\n      \u003cth\u003eStock 198\u003c/th\u003e\n      \u003ctd\u003e-0.053088\u003c/td\u003e\n      \u003ctd\u003e0.138707\u003c/td\u003e\n      \u003ctd\u003e0.441068\u003c/td\u003e\n      \u003ctd\u003e-1.042822\u003c/td\u003e\n      \u003ctd\u003e1.237187\u003c/td\u003e\n      \u003ctd\u003e1.451057\u003c/td\u003e\n      \u003ctd\u003e0.913733\u003c/td\u003e\n      \u003ctd\u003e-1.854771\u003c/td\u003e\n      \u003ctd\u003e-1.052082\u003c/td\u003e\n      \u003ctd\u003e-1.375764\u003c/td\u003e\n      \u003ctd\u003e...\u003c/td\u003e\n      \u003ctd\u003e1.246692\u003c/td\u003e\n      \u003ctd\u003e0.825181\u003c/td\u003e\n      \u003ctd\u003e-1.761645\u003c/td\u003e\n      \u003ctd\u003e-1.692005\u003c/td\u003e\n      \u003ctd\u003e-0.828006\u003c/td\u003e\n      \u003ctd\u003e1.331872\u003c/td\u003e\n      \u003ctd\u003e-0.121794\u003c/td\u003e\n      \u003ctd\u003e-0.759830\u003c/td\u003e\n      \u003ctd\u003e0.527017\u003c/td\u003e\n      \u003ctd\u003e-0.409459\u003c/td\u003e\n    \u003c/tr\u003e\n    \u003ctr\u003e\n      \u003cth\u003eStock 199\u003c/th\u003e\n      \u003ctd\u003e-0.101985\u003c/td\u003e\n      \u003ctd\u003e0.815515\u003c/td\u003e\n      \u003ctd\u003e0.387779\u003c/td\u003e\n      \u003ctd\u003e-1.325105\u003c/td\u003e\n      \u003ctd\u003e-0.595241\u003c/td\u003e\n      \u003ctd\u003e-0.424438\u003c/td\u003e\n      \u003ctd\u003e-1.393351\u003c/td\u003e\n      \u003ctd\u003e-0.609623\u003c/td\u003e\n      \u003ctd\u003e-0.751235\u003c/td\u003e\n      \u003ctd\u003e1.010909\u003c/td\u003e\n      \u003ctd\u003e...\u003c/td\u003e\n      \u003ctd\u003e0.818334\u003c/td\u003e\n      \u003ctd\u003e-0.545158\u003c/td\u003e\n      \u003ctd\u003e-0.246831\u003c/td\u003e\n      \u003ctd\u003e-1.145152\u003c/td\u003e\n      \u003ctd\u003e-0.295820\u003c/td\u003e\n      \u003ctd\u003e-0.741641\u003c/td\u003e\n      \u003ctd\u003e-0.113084\u003c/td\u003e\n      \u003ctd\u003e0.109259\u003c/td\u003e\n      \u003ctd\u003e-1.675851\u003c/td\u003e\n      \u003ctd\u003e-0.628187\u003c/td\u003e\n    \u003c/tr\u003e\n  \u003c/tbody\u003e\n\u003c/table\u003e\n\u003cp\u003e2 rows × 504 columns\u003c/p\u003e\n\u003c/div\u003e"
          },
          "metadata": {},
          "output_type": "execute_result",
          "execution_count": 9
        }
      ],
      "source": "\ndays \u003d pd.date_range(\u00272019-5-5\u0027, \n                     periods\u003dstock_day_change.shape[1], \n                     freq\u003d\u00271d\u0027)\n\ndf \u003d pd.DataFrame(stock_day_change, \n                  index\u003dstock_symbols,\n                  columns\u003ddays)\n\ndf.tail(2)",
      "metadata": {
        "pycharm": {
          "metadata": false,
          "name": "#%%\n",
          "is_executing": false
        }
      }
    },
    {
      "cell_type": "code",
      "execution_count": 10,
      "outputs": [
        {
          "traceback": [
            "\u001b[0;31m---------------------------------------------------------------------------\u001b[0m",
            "\u001b[0;31mKeyError\u001b[0m                                  Traceback (most recent call last)",
            "\u001b[0;32m\u003cipython-input-10-1646e41df32d\u003e\u001b[0m in \u001b[0;36m\u003cmodule\u003e\u001b[0;34m\u001b[0m\n\u001b[1;32m      1\u001b[0m df.to_csv(\u0027./gen/random_df.csv\u0027, \n\u001b[1;32m      2\u001b[0m                \u001b[0mcolumns\u001b[0m\u001b[0;34m\u003d\u001b[0m\u001b[0mdf\u001b[0m\u001b[0;34m.\u001b[0m\u001b[0mcolumns\u001b[0m\u001b[0;34m,\u001b[0m\u001b[0;34m\u001b[0m\u001b[0;34m\u001b[0m\u001b[0m\n\u001b[0;32m----\u003e 3\u001b[0;31m                index\u003dTrue)\n\u001b[0m\u001b[1;32m      4\u001b[0m \u001b[0;34m\u001b[0m\u001b[0m\n",
            "\u001b[0;32m/Library/Frameworks/Python.framework/Versions/3.7/lib/python3.7/site-packages/pandas/core/generic.py\u001b[0m in \u001b[0;36mto_csv\u001b[0;34m(self, path_or_buf, sep, na_rep, float_format, columns, header, index, index_label, mode, encoding, compression, quoting, quotechar, line_terminator, chunksize, tupleize_cols, date_format, doublequote, escapechar, decimal)\u001b[0m\n\u001b[1;32m   3017\u001b[0m                                  \u001b[0mdate_format\u001b[0m\u001b[0;34m\u003d\u001b[0m\u001b[0mdate_format\u001b[0m\u001b[0;34m,\u001b[0m\u001b[0;34m\u001b[0m\u001b[0;34m\u001b[0m\u001b[0m\n\u001b[1;32m   3018\u001b[0m                                  \u001b[0mdoublequote\u001b[0m\u001b[0;34m\u003d\u001b[0m\u001b[0mdoublequote\u001b[0m\u001b[0;34m,\u001b[0m\u001b[0;34m\u001b[0m\u001b[0;34m\u001b[0m\u001b[0m\n\u001b[0;32m-\u003e 3019\u001b[0;31m                                  escapechar\u003descapechar, decimal\u003ddecimal)\n\u001b[0m\u001b[1;32m   3020\u001b[0m         \u001b[0mformatter\u001b[0m\u001b[0;34m.\u001b[0m\u001b[0msave\u001b[0m\u001b[0;34m(\u001b[0m\u001b[0;34m)\u001b[0m\u001b[0;34m\u001b[0m\u001b[0;34m\u001b[0m\u001b[0m\n\u001b[1;32m   3021\u001b[0m \u001b[0;34m\u001b[0m\u001b[0m\n",
            "\u001b[0;32m/Library/Frameworks/Python.framework/Versions/3.7/lib/python3.7/site-packages/pandas/io/formats/csvs.py\u001b[0m in \u001b[0;36m__init__\u001b[0;34m(self, obj, path_or_buf, sep, na_rep, float_format, cols, header, index, index_label, mode, nanRep, encoding, compression, quoting, line_terminator, chunksize, tupleize_cols, quotechar, date_format, doublequote, escapechar, decimal)\u001b[0m\n\u001b[1;32m     92\u001b[0m             \u001b[0;32melse\u001b[0m\u001b[0;34m:\u001b[0m\u001b[0;34m\u001b[0m\u001b[0;34m\u001b[0m\u001b[0m\n\u001b[1;32m     93\u001b[0m                 \u001b[0mcols\u001b[0m \u001b[0;34m\u003d\u001b[0m \u001b[0mlist\u001b[0m\u001b[0;34m(\u001b[0m\u001b[0mcols\u001b[0m\u001b[0;34m)\u001b[0m\u001b[0;34m\u001b[0m\u001b[0;34m\u001b[0m\u001b[0m\n\u001b[0;32m---\u003e 94\u001b[0;31m             \u001b[0mself\u001b[0m\u001b[0;34m.\u001b[0m\u001b[0mobj\u001b[0m \u001b[0;34m\u003d\u001b[0m \u001b[0mself\u001b[0m\u001b[0;34m.\u001b[0m\u001b[0mobj\u001b[0m\u001b[0;34m.\u001b[0m\u001b[0mloc\u001b[0m\u001b[0;34m[\u001b[0m\u001b[0;34m:\u001b[0m\u001b[0;34m,\u001b[0m \u001b[0mcols\u001b[0m\u001b[0;34m]\u001b[0m\u001b[0;34m\u001b[0m\u001b[0;34m\u001b[0m\u001b[0m\n\u001b[0m\u001b[1;32m     95\u001b[0m \u001b[0;34m\u001b[0m\u001b[0m\n\u001b[1;32m     96\u001b[0m         \u001b[0;31m# update columns to include possible multiplicity of dupes\u001b[0m\u001b[0;34m\u001b[0m\u001b[0;34m\u001b[0m\u001b[0;34m\u001b[0m\u001b[0m\n",
            "\u001b[0;32m/Library/Frameworks/Python.framework/Versions/3.7/lib/python3.7/site-packages/pandas/core/indexing.py\u001b[0m in \u001b[0;36m__getitem__\u001b[0;34m(self, key)\u001b[0m\n\u001b[1;32m   1492\u001b[0m             \u001b[0;32mexcept\u001b[0m \u001b[0;34m(\u001b[0m\u001b[0mKeyError\u001b[0m\u001b[0;34m,\u001b[0m \u001b[0mIndexError\u001b[0m\u001b[0;34m,\u001b[0m \u001b[0mAttributeError\u001b[0m\u001b[0;34m)\u001b[0m\u001b[0;34m:\u001b[0m\u001b[0;34m\u001b[0m\u001b[0;34m\u001b[0m\u001b[0m\n\u001b[1;32m   1493\u001b[0m                 \u001b[0;32mpass\u001b[0m\u001b[0;34m\u001b[0m\u001b[0;34m\u001b[0m\u001b[0m\n\u001b[0;32m-\u003e 1494\u001b[0;31m             \u001b[0;32mreturn\u001b[0m \u001b[0mself\u001b[0m\u001b[0;34m.\u001b[0m\u001b[0m_getitem_tuple\u001b[0m\u001b[0;34m(\u001b[0m\u001b[0mkey\u001b[0m\u001b[0;34m)\u001b[0m\u001b[0;34m\u001b[0m\u001b[0;34m\u001b[0m\u001b[0m\n\u001b[0m\u001b[1;32m   1495\u001b[0m         \u001b[0;32melse\u001b[0m\u001b[0;34m:\u001b[0m\u001b[0;34m\u001b[0m\u001b[0;34m\u001b[0m\u001b[0m\n\u001b[1;32m   1496\u001b[0m             \u001b[0;31m# we by definition only have the 0th axis\u001b[0m\u001b[0;34m\u001b[0m\u001b[0;34m\u001b[0m\u001b[0;34m\u001b[0m\u001b[0m\n",
            "\u001b[0;32m/Library/Frameworks/Python.framework/Versions/3.7/lib/python3.7/site-packages/pandas/core/indexing.py\u001b[0m in \u001b[0;36m_getitem_tuple\u001b[0;34m(self, tup)\u001b[0m\n\u001b[1;32m    886\u001b[0m                 \u001b[0;32mcontinue\u001b[0m\u001b[0;34m\u001b[0m\u001b[0;34m\u001b[0m\u001b[0m\n\u001b[1;32m    887\u001b[0m \u001b[0;34m\u001b[0m\u001b[0m\n\u001b[0;32m--\u003e 888\u001b[0;31m             \u001b[0mretval\u001b[0m \u001b[0;34m\u003d\u001b[0m \u001b[0mgetattr\u001b[0m\u001b[0;34m(\u001b[0m\u001b[0mretval\u001b[0m\u001b[0;34m,\u001b[0m \u001b[0mself\u001b[0m\u001b[0;34m.\u001b[0m\u001b[0mname\u001b[0m\u001b[0;34m)\u001b[0m\u001b[0;34m.\u001b[0m\u001b[0m_getitem_axis\u001b[0m\u001b[0;34m(\u001b[0m\u001b[0mkey\u001b[0m\u001b[0;34m,\u001b[0m \u001b[0maxis\u001b[0m\u001b[0;34m\u003d\u001b[0m\u001b[0mi\u001b[0m\u001b[0;34m)\u001b[0m\u001b[0;34m\u001b[0m\u001b[0;34m\u001b[0m\u001b[0m\n\u001b[0m\u001b[1;32m    889\u001b[0m \u001b[0;34m\u001b[0m\u001b[0m\n\u001b[1;32m    890\u001b[0m         \u001b[0;32mreturn\u001b[0m \u001b[0mretval\u001b[0m\u001b[0;34m\u001b[0m\u001b[0;34m\u001b[0m\u001b[0m\n",
            "\u001b[0;32m/Library/Frameworks/Python.framework/Versions/3.7/lib/python3.7/site-packages/pandas/core/indexing.py\u001b[0m in \u001b[0;36m_getitem_axis\u001b[0;34m(self, key, axis)\u001b[0m\n\u001b[1;32m   1900\u001b[0m                     \u001b[0;32mraise\u001b[0m \u001b[0mValueError\u001b[0m\u001b[0;34m(\u001b[0m\u001b[0;34m\u0027Cannot index with multidimensional key\u0027\u001b[0m\u001b[0;34m)\u001b[0m\u001b[0;34m\u001b[0m\u001b[0;34m\u001b[0m\u001b[0m\n\u001b[1;32m   1901\u001b[0m \u001b[0;34m\u001b[0m\u001b[0m\n\u001b[0;32m-\u003e 1902\u001b[0;31m                 \u001b[0;32mreturn\u001b[0m \u001b[0mself\u001b[0m\u001b[0;34m.\u001b[0m\u001b[0m_getitem_iterable\u001b[0m\u001b[0;34m(\u001b[0m\u001b[0mkey\u001b[0m\u001b[0;34m,\u001b[0m \u001b[0maxis\u001b[0m\u001b[0;34m\u003d\u001b[0m\u001b[0maxis\u001b[0m\u001b[0;34m)\u001b[0m\u001b[0;34m\u001b[0m\u001b[0;34m\u001b[0m\u001b[0m\n\u001b[0m\u001b[1;32m   1903\u001b[0m \u001b[0;34m\u001b[0m\u001b[0m\n\u001b[1;32m   1904\u001b[0m             \u001b[0;31m# nested tuple slicing\u001b[0m\u001b[0;34m\u001b[0m\u001b[0;34m\u001b[0m\u001b[0;34m\u001b[0m\u001b[0m\n",
            "\u001b[0;32m/Library/Frameworks/Python.framework/Versions/3.7/lib/python3.7/site-packages/pandas/core/indexing.py\u001b[0m in \u001b[0;36m_getitem_iterable\u001b[0;34m(self, key, axis)\u001b[0m\n\u001b[1;32m   1203\u001b[0m             \u001b[0;31m# A collection of keys\u001b[0m\u001b[0;34m\u001b[0m\u001b[0;34m\u001b[0m\u001b[0;34m\u001b[0m\u001b[0m\n\u001b[1;32m   1204\u001b[0m             keyarr, indexer \u003d self._get_listlike_indexer(key, axis,\n\u001b[0;32m-\u003e 1205\u001b[0;31m                                                          raise_missing\u003dFalse)\n\u001b[0m\u001b[1;32m   1206\u001b[0m             return self.obj._reindex_with_indexers({axis: [keyarr, indexer]},\n\u001b[1;32m   1207\u001b[0m                                                    copy\u003dTrue, allow_dups\u003dTrue)\n",
            "\u001b[0;32m/Library/Frameworks/Python.framework/Versions/3.7/lib/python3.7/site-packages/pandas/core/indexing.py\u001b[0m in \u001b[0;36m_get_listlike_indexer\u001b[0;34m(self, key, axis, raise_missing)\u001b[0m\n\u001b[1;32m   1159\u001b[0m         self._validate_read_indexer(keyarr, indexer,\n\u001b[1;32m   1160\u001b[0m                                     \u001b[0mo\u001b[0m\u001b[0;34m.\u001b[0m\u001b[0m_get_axis_number\u001b[0m\u001b[0;34m(\u001b[0m\u001b[0maxis\u001b[0m\u001b[0;34m)\u001b[0m\u001b[0;34m,\u001b[0m\u001b[0;34m\u001b[0m\u001b[0;34m\u001b[0m\u001b[0m\n\u001b[0;32m-\u003e 1161\u001b[0;31m                                     raise_missing\u003draise_missing)\n\u001b[0m\u001b[1;32m   1162\u001b[0m         \u001b[0;32mreturn\u001b[0m \u001b[0mkeyarr\u001b[0m\u001b[0;34m,\u001b[0m \u001b[0mindexer\u001b[0m\u001b[0;34m\u001b[0m\u001b[0;34m\u001b[0m\u001b[0m\n\u001b[1;32m   1163\u001b[0m \u001b[0;34m\u001b[0m\u001b[0m\n",
            "\u001b[0;32m/Library/Frameworks/Python.framework/Versions/3.7/lib/python3.7/site-packages/pandas/core/indexing.py\u001b[0m in \u001b[0;36m_validate_read_indexer\u001b[0;34m(self, key, indexer, axis, raise_missing)\u001b[0m\n\u001b[1;32m   1244\u001b[0m                 raise KeyError(\n\u001b[1;32m   1245\u001b[0m                     u\"None of [{key}] are in the [{axis}]\".format(\n\u001b[0;32m-\u003e 1246\u001b[0;31m                         key\u003dkey, axis\u003dself.obj._get_axis_name(axis)))\n\u001b[0m\u001b[1;32m   1247\u001b[0m \u001b[0;34m\u001b[0m\u001b[0m\n\u001b[1;32m   1248\u001b[0m             \u001b[0;31m# We (temporarily) allow for some missing keys with .loc, except in\u001b[0m\u001b[0;34m\u001b[0m\u001b[0;34m\u001b[0m\u001b[0;34m\u001b[0m\u001b[0m\n",
            "\u001b[0;31mKeyError\u001b[0m: \"None of [Index([\u00272019-05-05\u0027, \u00272019-05-06\u0027, \u00272019-05-07\u0027, \u00272019-05-08\u0027, \u00272019-05-09\u0027,\\n       \u00272019-05-10\u0027, \u00272019-05-11\u0027, \u00272019-05-12\u0027, \u00272019-05-13\u0027, \u00272019-05-14\u0027,\\n       ...\\n       \u00272020-09-10\u0027, \u00272020-09-11\u0027, \u00272020-09-12\u0027, \u00272020-09-13\u0027, \u00272020-09-14\u0027,\\n       \u00272020-09-15\u0027, \u00272020-09-16\u0027, \u00272020-09-17\u0027, \u00272020-09-18\u0027, \u00272020-09-19\u0027],\\n      dtype\u003d\u0027object\u0027, length\u003d504)] are in the [columns]\""
          ],
          "ename": "KeyError",
          "evalue": "\"None of [Index([\u00272019-05-05\u0027, \u00272019-05-06\u0027, \u00272019-05-07\u0027, \u00272019-05-08\u0027, \u00272019-05-09\u0027,\\n       \u00272019-05-10\u0027, \u00272019-05-11\u0027, \u00272019-05-12\u0027, \u00272019-05-13\u0027, \u00272019-05-14\u0027,\\n       ...\\n       \u00272020-09-10\u0027, \u00272020-09-11\u0027, \u00272020-09-12\u0027, \u00272020-09-13\u0027, \u00272020-09-14\u0027,\\n       \u00272020-09-15\u0027, \u00272020-09-16\u0027, \u00272020-09-17\u0027, \u00272020-09-18\u0027, \u00272020-09-19\u0027],\\n      dtype\u003d\u0027object\u0027, length\u003d504)] are in the [columns]\"",
          "output_type": "error"
        }
      ],
      "source": "",
      "metadata": {
        "pycharm": {
          "metadata": false,
          "name": "#%%\n",
          "is_executing": false
        }
      }
    }
  ],
  "metadata": {
    "language_info": {
      "codemirror_mode": {
        "name": "ipython",
        "version": 2
      },
      "file_extension": ".py",
      "mimetype": "text/x-python",
      "name": "python",
      "nbconvert_exporter": "python",
      "pygments_lexer": "ipython2",
      "version": "2.7.6"
    },
    "kernelspec": {
      "name": "python3",
      "language": "python",
      "display_name": "Python 3"
    },
    "stem_cell": {
      "cell_type": "raw",
      "source": "",
      "metadata": {
        "pycharm": {
          "metadata": false
        }
      }
    }
  },
  "nbformat": 4,
  "nbformat_minor": 0
}