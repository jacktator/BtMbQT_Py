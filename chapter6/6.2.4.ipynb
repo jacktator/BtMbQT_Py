{
  "cells": [
    {
      "cell_type": "code",
      "execution_count": null,
      "metadata": {
        "collapsed": true,
        "pycharm": {}
      },
      "outputs": [],
      "source": "\nfrom abc import ABCMeta, abstractmethod\nimport matplotlib.pyplot as plt\nimport pandas as pd\nimport numpy as np\nimport six\n\n# 每个人平均寿命期望是75年，约75*365\u003d27375天\nK_INIT_LIVING_DAYS \u003d 27375\n\nclass Person(object):\n    \"\"\"\n        人类\n    \"\"\"\n\n    def __init__(self):\n        # 初始化人平均能活的寿命\n        self.living \u003d K_INIT_LIVING_DAYS\n        # 初始化幸福指数\n        self.happiness \u003d 0\n        # 初始化财富值\n        self.wealth \u003d 0\n        # 初始化名望权利\n        self.fame \u003d 0\n        # 活着的第几天\n        self.living_day \u003d 0\n\n    def live_one_day(self, seek):\n        \"\"\"\n        每天只能进行一个seek，这个seek决定了你今天追求的是什么，得到了什么\n        seek的类型属于下面将编写的BaseSeekDay\n        :param seek:\n        :return:\n        \"\"\"\n        # 调用每个独特的BaseSeekDay类都会实现的do_seek_day，得到今天的收获\n        consume_living, happiness, wealth, fame \u003d seek.do_seek_day()\n        # 每天要减去生命消耗，有些seek前面还会增加生命\n        self.living -\u003d consume_living\n        # seek得到的幸福指数积累\n        self.happiness +\u003d happiness\n        # seek得到的财富积累\n        self.wealth +\u003d wealth\n        # seek得到的名望权力积累\n        self.fame +\u003d fame\n        # 活完这一天了\n        self.living_day +\u003d 1\n    "
    },
    {
      "cell_type": "code",
      "execution_count": null,
      "outputs": [],
      "source": "class BaseSeekDay(six.with_metaclass(ABCMeta, object)):\n    def __init__(self):\n        # 每个追求每天消耗生命的常数\n        self.living_consume \u003d 0\n\n        # 每个追求每天幸福指数常数\n        self.happiness_base \u003d 0\n\n        # 每个追求每天财富积累常数\n        self.wealth_base \u003d 0\n        # 每个追求每天名望权利积累常数\n        self.fame_base \u003d 0\n\n        # 每个追求每天消耗生命的可变因素序列\n        self.living_factor \u003d [0]\n\n        # 每个追求每天幸福指数的可变因素序列\n        self.happiness_factor \u003d [0]\n\n        # 每个追求每天财富积累的可变因素序列\n        self.wealth_factor \u003d [0]\n        # 每个追求每天名望权利的可变因素序列\n        self.fame_factor \u003d [0]\n\n        # 追求了多少天了这一生\n        self.do_seek_day_cnt \u003d 0\n        # 子类进行常数及可变因素序列设置\n        self._init_self()\n\n    @abstractmethod\n    def _init_self(self, *args, **kwargs):\n        # 子类必须实现，设置自己的生命消耗的常数，幸福指数常数等常数设置\n        pass\n\n    @abstractmethod\n    def _gen_living_days(self, *args, **kwargs):\n        # 子类必须实现，设置自己的可变因素序列\n        pass\n\n    def do_seek_day(self):\n        \"\"\"\n        每一天的追求具体seek\n        :return:\n        \"\"\"\n        # 生命消耗\u003dliving_consume:消耗常数 * happiness_factor:可变序列\n        if self.do_seek_day_cnt \u003e\u003d len(self.living_factor):\n            # 超出len(self.living_factor), 就取最后一个living_factor[-1]\n            consume_living \u003d \\\n                self.living_factor[-1] * self.living_consume\n        else:\n            # 每个类自定义这个追求的消耗生命常数，以及living_factor，比如\n            # HealthSeekDay追求健康，living_factor序列的值即由负值-\u003e正值\n            # 每个子类living_factor会有自己特点的变化速度及序列长度，导致每个\n            # 追求对生命的消耗随着追求的次数变化不一\n            consume_living \u003d self.living_factor[self.do_seek_day_cnt] \\\n                             * self.living_consume\n        # 幸福指数\u003dhappiness_base:幸福常数 * happiness_factor:可变序列\n        if self.do_seek_day_cnt \u003e\u003d len(self.happiness_factor):\n            # 超出len(self.happiness_factor), 就取最后一个\n            # 由于happiness_factor值由:n—\u003e0 所以happiness_factor[-1]\u003d0\n            # 即随着追求一个事物的次数过多后会变的没有幸福感\n            happiness \u003d self.happiness_factor[\n                            -1] * self.happiness_base\n        else:\n            # 每个类自定义这个追求的幸福指数常数，以及happiness_factor\n            # happiness_factor子类的定义一般是从高－\u003e低变化\n            happiness \u003d self.happiness_factor[\n                            self.do_seek_day_cnt] * self.happiness_base\n        # 财富积累\u003dwealth_base:积累常数 * wealth_factor:可变序列\n        if self.do_seek_day_cnt \u003e\u003d len(self.wealth_factor):\n            # 超出len(self.wealth_factor), 就取最后一个\n            wealth \u003d self.wealth_factor[-1] * self.wealth_base\n        else:\n            # 每个类自定义这个追求的财富指数常数，以及wealth_factor\n            wealth \u003d self.wealth_factor[\n                         self.do_seek_day_cnt] * self.wealth_base\n        # 权利积累\u003dfame_base:积累常数 * fame_factor:可变序列\n        if self.do_seek_day_cnt \u003e\u003d len(self.fame_factor):\n            # 超出len(self.fame_factor), 就取最后一个\n            fame \u003d self.fame_factor[-1] * self.fame_base\n        else:\n            # 每个类自定义这个追求的名望权利指数常数，以及fame_factor\n            fame \u003d self.fame_factor[\n                       self.do_seek_day_cnt] * self.fame_base\n        # 追求了多少天了这一生 + 1\n        self.do_seek_day_cnt +\u003d 1\n        # 返回这个追求这一天对生命的消耗，得到的幸福，财富，名望权利\n        return consume_living, happiness, wealth, fame\n",
      "metadata": {
        "pycharm": {
          "metadata": false,
          "name": "#%%\n"
        }
      }
    },
    {
      "cell_type": "code",
      "execution_count": null,
      "outputs": [],
      "source": "def regular_mm(group):\n    # 最小-最大规范化\n    return (group - group.min()) / (group.max() - group.min())\n\n\nclass HealthSeekDay(BaseSeekDay):\n    \"\"\"\n        HealthSeekDay追求健康长寿的一天:\n        形象：健身，旅游，娱乐，做感兴趣的事情。\n        抽象：追求健康长寿。\n    \"\"\"\n\n    def _init_self(self):\n        # 每天对生命消耗的常数＝1，即代表1天\n        self.living_consume \u003d 1\n        # 每天幸福指数常数＝1\n        self.happiness_base \u003d 1\n        # 设定可变因素序列\n        self._gen_living_days()\n\n    def _gen_living_days(self):\n        # 只生成12000个序列，因为下面的happiness_factor序列值由1－\u003e0\n        # 所以大于12000次的追求都将只是单纯消耗生命，并不增加幸福指数\n        # 即随着做一件事情的次数越来越多，幸福感越来越低，直到完全体会不到幸福\n        days \u003d np.arange(1, 12000)\n        # 基础函数选用sqrt, 影响序列变化速度\n        living_days \u003d np.sqrt(days)\n\n        \"\"\"\n            对生命消耗可变因素序列值由-1-\u003e1, 也就是这个追求一开始的时候对生命\n            的消耗为负增长，延长了生命，随着追求的次数不断增多对生命的消耗转为正\n            数因为即使一个人天天锻炼身体，天天吃营养品，也还是会有自然死亡的那\n            一天\n        \"\"\"\n        # *2-1的目的:regular_mm在0-1之间,HealthSeekDay要结果在－1，1之间\n        self.living_factor \u003d regular_mm(living_days) * 2 - 1\n        # 结果在1-0之间 [::-1]: 将0-\u003e1转换到1-\u003e0\n        self.happiness_factor \u003d regular_mm(days)[::-1]",
      "metadata": {
        "pycharm": {
          "metadata": false,
          "name": "#%%\n"
        }
      }
    },
    {
      "cell_type": "code",
      "execution_count": null,
      "outputs": [],
      "source": "# 初始化我, 你一生的故事：HealthSeekDay\nme \u003d Person()\n# 初始化追求健康长寿快乐\nseek_health \u003d HealthSeekDay()\nwhile me.living \u003e 0:\n    # 只要还活着，就追求健康长寿快乐\n    me.live_one_day(seek_health)\n\nprint(\u0027只追求健康长寿快乐活了{}年，幸福指数{},积累财富{},名望权力{}\u0027.format\n      (round(me.living_day / 365, 2), round(me.happiness, 2),\n       me.wealth, me.fame))",
      "metadata": {
        "pycharm": {
          "metadata": false,
          "name": "#%%\n"
        }
      }
    },
    {
      "cell_type": "code",
      "execution_count": null,
      "outputs": [],
      "source": "plt.plot(seek_health.living_factor * seek_health.living_consume)\nplt.plot(seek_health.happiness_factor * seek_health.happiness_base)\nplt.legend([\u0027living_factor\u0027, \u0027happiness_factor\u0027], loc\u003d\u0027best\u0027)",
      "metadata": {
        "pycharm": {
          "metadata": false,
          "name": "#%%\n"
        }
      }
    },
    {
      "cell_type": "code",
      "execution_count": null,
      "outputs": [],
      "source": "class StockSeekDay(BaseSeekDay):\n    \"\"\"\n        StockSeekDay追求财富金钱的一天:\n        形象：做股票投资赚钱的事情。\n        抽象：追求财富金钱\n    \"\"\"\n\n    def _init_self(self, show\u003dFalse):\n        # 每天对生命消耗的常数＝2，即代表2天\n        self.living_consume \u003d 2\n        # 每天幸福指数常数＝0.5\n        self.happiness_base \u003d 0.5\n        # 财富积累常数＝10，默认＝0\n        self.wealth_base \u003d 10\n        # 设定可变因素序列\n        self._gen_living_days()\n\n    def _gen_living_days(self):\n        # 只生成10000个序列\n        days \u003d np.arange(1, 10000)\n        # 针对生命消耗living_factor的基础函数还是sqrt\n        living_days \u003d np.sqrt(days)\n        # 由于不需要像HealthSeekDay从负数开始，所以直接regular_mm 即:0-\u003e1\n        self.living_factor \u003d regular_mm(living_days)\n        \n        # 针对幸福感可变序列使用了np.power4，即变化速度比sqrt快\n        happiness_days \u003d np.power(days, 4)\n        # 幸福指数可变因素会快速递减由1-\u003e0\n        self.happiness_factor \u003d regular_mm(happiness_days)[::-1]\n        \n        \"\"\"\n            这里简单设定wealth_factor\u003dliving_factor\n            living_factor(0-1), 导致wealth_factor(0-1), 即财富积累越到\n            后面越有效率，速度越快，头一个100万最难赚\n        \"\"\"\n        self.wealth_factor \u003d self.living_factor",
      "metadata": {
        "pycharm": {
          "metadata": false,
          "name": "#%%\n"
        }
      }
    },
    {
      "cell_type": "code",
      "execution_count": null,
      "outputs": [],
      "source": "# 初始化我, 你一生的故事：StockSeekDay\nme \u003d Person()\n# 初始化追求财富金钱\nseek_stock \u003d StockSeekDay()\nwhile me.living \u003e 0:\n    # 只要还活着，就追求财富金钱\n    me.live_one_day(seek_stock)\n\nprint(\u0027只追求财富金钱活了{}年，幸福指数{}, 积累财富{}, 名望权力{}\u0027.format\n      (round(me.living_day / 365, 2), round(me.happiness, 2),\n       round(me.wealth, 2), me.fame))",
      "metadata": {
        "pycharm": {
          "metadata": false,
          "name": "#%%\n"
        }
      }
    },
    {
      "cell_type": "code",
      "execution_count": null,
      "outputs": [],
      "source": "plt.plot(seek_stock.living_factor * seek_stock.living_consume)\nplt.plot(seek_stock.happiness_factor * seek_stock.happiness_base)\nplt.legend([\u0027living_factor\u0027, \u0027happiness_factor\u0027], loc\u003d\u0027best\u0027)",
      "metadata": {
        "pycharm": {
          "metadata": false,
          "name": "#%%\n"
        }
      }
    },
    {
      "cell_type": "code",
      "execution_count": null,
      "outputs": [],
      "source": "class FameSeekDay(BaseSeekDay):\n    \"\"\"\n        FameTask追求名望权力的一天:\n        追求名望权力\n    \"\"\"\n\n    def _init_self(self):\n        # 每天对生命消耗的常数＝3，即代表3天\n        self.living_consume \u003d 3\n        # 每天幸福指数常数＝0.6\n        self.happiness_base \u003d 0.6\n        # 名望权利积累常数＝10，默认＝0\n        self.fame_base \u003d 10\n        # 设定可变因素序列\n        self._gen_living_days()\n\n    def _gen_living_days(self):\n        # 只生成12000个序列\n        days \u003d np.arange(1, 12000)\n        # 针对生命消耗living_factor的基础函数还是sqrt\n        living_days \u003d np.sqrt(days)\n        # 由于不需要像HealthSeekDay从负数开始，所以直接regular_mm 即:0-\u003e1\n        self.living_factor \u003d regular_mm(living_days)\n\n        # 针对幸福感可变序列使用了np.power2\n        # 即变化速度比StockSeekDay慢但比HealthSeekDay快\n        happiness_days \u003d np.power(days, 2)\n        # 幸福指数可变因素递减由1-\u003e0\n        self.happiness_factor \u003d regular_mm(happiness_days)[::-1]\n\n        # 这里简单设定fame_factor\u003dliving_factor\n        self.fame_factor \u003d self.living_factor",
      "metadata": {
        "pycharm": {
          "metadata": false,
          "name": "#%%\n"
        }
      }
    },
    {
      "cell_type": "code",
      "execution_count": null,
      "outputs": [],
      "source": "# 初始化我, 你一生的故事：FameSeekDay\nme \u003d Person()\n# 初始化追求名望权力\nseek_fame \u003d FameSeekDay()\nwhile me.living \u003e 0:\n    # 只要还活着，就追求名望权力\n    me.live_one_day(seek_fame)\n\nprint(\u0027只追求名望权力活了{}年，幸福指数{}, 积累财富{}, 名望权力{}\u0027.format\n      (round(me.living_day / 365, 2), round(me.happiness, 2),\n       round(me.wealth, 2), round(me.fame, 2)))",
      "metadata": {
        "pycharm": {
          "metadata": false,
          "name": "#%%\n"
        }
      }
    },
    {
      "cell_type": "code",
      "execution_count": null,
      "outputs": [],
      "source": "\nplt.plot(seek_fame.living_factor * seek_fame.living_consume)\nplt.plot(seek_fame.happiness_factor * seek_fame.happiness_base)\nplt.legend([\u0027living_factor\u0027, \u0027happiness_factor\u0027], loc\u003d\u0027best\u0027);",
      "metadata": {
        "pycharm": {
          "metadata": false,
          "name": "#%%\n"
        }
      }
    },
    {
      "cell_type": "code",
      "execution_count": null,
      "outputs": [],
      "source": "def my_life(weights):\n    \"\"\"\n        追求健康长寿快乐的权重:weights[0]\n        追求财富金钱的权重:weights[1]\n        追求名望权力的权重:weights[2]\n    \"\"\"\n    # 追求健康长寿快乐\n    seek_health \u003d HealthSeekDay()\n    # 追求财富金钱\n    seek_stock \u003d StockSeekDay()\n    # 追求名望权力\n    seek_fame \u003d FameSeekDay()\n\n    # 放在一个list中对对应下面np.random.choice中的index[0, 1, 2]\n    seek_list \u003d [seek_health, seek_stock, seek_fame]\n\n    # 初始化我\n    me \u003d Person()\n    # 加权随机抽取序列。80000天肯定够了, 80000天快220年了。。。\n    seek_choice \u003d np.random.choice([0, 1, 2], 80000, p\u003dweights)\n\n    while me.living \u003e 0:\n        # 追求从加权随机抽取序列已经初始化好的\n        seek_ind \u003d seek_choice[me.living_day]\n        seek \u003d seek_list[seek_ind]\n        # 只要还活着，就追求\n        me.live_one_day(seek)\n    return round(me.living_day / 365, 2), round(me.happiness, 2), \\\n        round(me.wealth, 2), round(me.fame, 2)",
      "metadata": {
        "pycharm": {
          "metadata": false,
          "name": "#%%\n"
        }
      }
    },
    {
      "cell_type": "code",
      "execution_count": null,
      "outputs": [],
      "source": "living_day, happiness, wealth, fame \u003d my_life([0.4, 0.3, 0.3])\nprint(\u0027活了{}年，幸福指数{}, 积累财富{}, 名望权力{}\u0027.format(\n    living_day, happiness, wealth, fame))",
      "metadata": {
        "pycharm": {
          "metadata": false,
          "name": "#%%\n"
        }
      }
    },
    {
      "cell_type": "code",
      "execution_count": null,
      "outputs": [],
      "source": "weights \u003d np.random.random(3)\nweights /\u003d np.sum(weights)\nweights",
      "metadata": {
        "pycharm": {
          "metadata": false,
          "name": "#%%\n"
        }
      }
    },
    {
      "cell_type": "code",
      "execution_count": null,
      "outputs": [],
      "source": "from abupy import AbuProgress\nprogress \u003d AbuProgress(2000, 0, label\u003d\u0027my_life...\u0027)\n    \nresult \u003d []\nfor _ in range(2000):\n    # 2000次随机权重分配\n    weights \u003d np.random.random(3)\n    weights /\u003d np.sum(weights)\n    # result中：tuple[0]权重weights,，tuple[1]my_life返回的结果\n    result.append((weights, my_life(weights)))\n    progress.show()",
      "metadata": {
        "pycharm": {
          "metadata": false,
          "name": "#%%\n"
        }
      }
    },
    {
      "cell_type": "code",
      "execution_count": null,
      "outputs": [],
      "source": "# result中tuple[1]\u003dmy_life返回的结果, my_life[1]\u003d幸福指数，so-\u003ex[1][1]\nsorted_scores \u003d sorted(result, key\u003dlambda x: x[1][1], reverse\u003dTrue)\n# 将最优权重sorted_scores[0][0]代入my_life得到结果\nliving_day, happiness, wealth, fame \u003d my_life(sorted_scores[0][0])\n\nprint(\u0027活了{}年，幸福指数{}, 积累财富{}, 名望权力{}\u0027.format\n          (living_day, happiness, wealth, fame))\n\nprint(\u0027人生最优权重：追求健康{:.3f},追求财富{:.3f},追求名望{:.3f}\u0027.format(\n        sorted_scores[0][0][0], sorted_scores[0][0][1],\n        sorted_scores[0][0][2]))",
      "metadata": {
        "pycharm": {
          "metadata": false,
          "name": "#%%\n"
        }
      }
    },
    {
      "cell_type": "code",
      "execution_count": null,
      "outputs": [],
      "source": "from mpl_toolkits.mplot3d import Axes3D\n\"\"\"\n    result中: tuple[0]权重weights, tuple[1]my_life返回的结果\n    r[0][0]: 追求健康长寿快乐的权重\n    r[0][1]: 追求财富金钱的权重\n    r[0][2]: 追求名望权力的权重\n    r[1][1]: my_life[1]\u003d幸福指数\n\"\"\"\nresult_show \u003d np.array(\n    [[r[0][0], r[0][1], r[0][2], r[1][1]] for r in result])\n\nfig \u003d plt.figure(figsize\u003d(9, 6))\nax \u003d fig.gca(projection\u003d\u00273d\u0027)\nax.view_init(30, 60)\n\"\"\"\n    x:追求健康长寿快乐的权重, y:追求财富金钱的权重\n    z:追求名望权力的权重, c:color 幸福指数, 颜色越深越幸福\n\"\"\"\nax.scatter3D(result_show[:, 0], result_show[:, 1], result_show[:, 2],\n             c\u003dresult_show[:, 3], cmap\u003d\u0027spring\u0027)\nax.set_xlabel(\u0027health\u0027)\nax.set_ylabel(\u0027stock\u0027)\nax.set_zlabel(\u0027fame\u0027)\n\n# 幸福指数\nhappiness_result \u003d result_show[:, 3]\n# 使用qcut分10份\nprint(pd.qcut(happiness_result, 10).value_counts())",
      "metadata": {
        "pycharm": {
          "metadata": false,
          "name": "#%%\n"
        }
      }
    },
    {
      "cell_type": "code",
      "execution_count": null,
      "outputs": [],
      "source": "def minimize_happiness_global(weights):\n    if np.sum(weights) !\u003d 1:\n        # 过滤权重和不等于1的权重组合\n        return 0\n    # 最优都是寻找最小值，所以要得到幸福指数最大的权重，\n    # 返回-my_life，这样最小的结果其实是幸福指数最大的权重配比\n    return -my_life(weights)[1]\n\nopt_global \u003d sco.brute(minimize_happiness_global,\n                       ((0, 1.1, 0.1), (0, 1.1, 0.1), (0, 1.1, 0.1)))\nopt_global",
      "metadata": {
        "pycharm": {
          "metadata": false,
          "name": "#%%\n"
        }
      }
    },
    {
      "cell_type": "code",
      "execution_count": null,
      "outputs": [],
      "source": "living_day, happiness, wealth, fame \u003d my_life(opt_global)\nprint(\u0027活了{}年，幸福指数{}, 积累财富{}, 名望权力{}\u0027.format\n      (living_day, happiness, wealth, fame))",
      "metadata": {
        "pycharm": {
          "metadata": false,
          "name": "#%%\n"
        }
      }
    }
  ],
  "metadata": {
    "language_info": {
      "codemirror_mode": {
        "name": "ipython",
        "version": 2
      },
      "file_extension": ".py",
      "mimetype": "text/x-python",
      "name": "python",
      "nbconvert_exporter": "python",
      "pygments_lexer": "ipython2",
      "version": "2.7.6"
    },
    "kernelspec": {
      "name": "python3",
      "language": "python",
      "display_name": "Python 3"
    }
  },
  "nbformat": 4,
  "nbformat_minor": 0
}