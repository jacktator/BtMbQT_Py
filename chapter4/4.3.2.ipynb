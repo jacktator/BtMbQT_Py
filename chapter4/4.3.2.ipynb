{
  "cells": [
    {
      "cell_type": "code",
      "execution_count": 1,
      "outputs": [
        {
          "data": {
            "text/plain": "            close   high    low  p_change   open  pre_close   volume  \\\n2018-12-24  89.50  91.55  89.50    -2.004  90.74      91.33  3190855   \n2018-12-26  93.84  93.89  89.05     4.849  89.85      89.50  5383666   \n2018-12-27  93.84  93.89  89.05     0.000  89.85      93.84  5383666   \n2018-12-28  93.84  93.89  89.05     0.000  89.85      93.84  5383666   \n2018-12-31  93.84  93.89  89.05     0.000  89.85      93.84  5383666   \n\n                date  date_week  key     atr21     atr14  \n2018-12-24  20181224          0  392  4.443110  4.863392  \n2018-12-26  20181226          2  393  4.479191  4.860273  \n2018-12-27  20181227          3  394  4.511992  4.857570  \n2018-12-28  20181228          4  395  4.541811  4.855227  \n2018-12-31  20181231          0  396  4.568919  4.853197  ",
            "text/html": "\u003cdiv\u003e\n\u003cstyle scoped\u003e\n    .dataframe tbody tr th:only-of-type {\n        vertical-align: middle;\n    }\n\n    .dataframe tbody tr th {\n        vertical-align: top;\n    }\n\n    .dataframe thead th {\n        text-align: right;\n    }\n\u003c/style\u003e\n\u003ctable border\u003d\"1\" class\u003d\"dataframe\"\u003e\n  \u003cthead\u003e\n    \u003ctr style\u003d\"text-align: right;\"\u003e\n      \u003cth\u003e\u003c/th\u003e\n      \u003cth\u003eclose\u003c/th\u003e\n      \u003cth\u003ehigh\u003c/th\u003e\n      \u003cth\u003elow\u003c/th\u003e\n      \u003cth\u003ep_change\u003c/th\u003e\n      \u003cth\u003eopen\u003c/th\u003e\n      \u003cth\u003epre_close\u003c/th\u003e\n      \u003cth\u003evolume\u003c/th\u003e\n      \u003cth\u003edate\u003c/th\u003e\n      \u003cth\u003edate_week\u003c/th\u003e\n      \u003cth\u003ekey\u003c/th\u003e\n      \u003cth\u003eatr21\u003c/th\u003e\n      \u003cth\u003eatr14\u003c/th\u003e\n    \u003c/tr\u003e\n  \u003c/thead\u003e\n  \u003ctbody\u003e\n    \u003ctr\u003e\n      \u003cth\u003e2018-12-24\u003c/th\u003e\n      \u003ctd\u003e89.50\u003c/td\u003e\n      \u003ctd\u003e91.55\u003c/td\u003e\n      \u003ctd\u003e89.50\u003c/td\u003e\n      \u003ctd\u003e-2.004\u003c/td\u003e\n      \u003ctd\u003e90.74\u003c/td\u003e\n      \u003ctd\u003e91.33\u003c/td\u003e\n      \u003ctd\u003e3190855\u003c/td\u003e\n      \u003ctd\u003e20181224\u003c/td\u003e\n      \u003ctd\u003e0\u003c/td\u003e\n      \u003ctd\u003e392\u003c/td\u003e\n      \u003ctd\u003e4.443110\u003c/td\u003e\n      \u003ctd\u003e4.863392\u003c/td\u003e\n    \u003c/tr\u003e\n    \u003ctr\u003e\n      \u003cth\u003e2018-12-26\u003c/th\u003e\n      \u003ctd\u003e93.84\u003c/td\u003e\n      \u003ctd\u003e93.89\u003c/td\u003e\n      \u003ctd\u003e89.05\u003c/td\u003e\n      \u003ctd\u003e4.849\u003c/td\u003e\n      \u003ctd\u003e89.85\u003c/td\u003e\n      \u003ctd\u003e89.50\u003c/td\u003e\n      \u003ctd\u003e5383666\u003c/td\u003e\n      \u003ctd\u003e20181226\u003c/td\u003e\n      \u003ctd\u003e2\u003c/td\u003e\n      \u003ctd\u003e393\u003c/td\u003e\n      \u003ctd\u003e4.479191\u003c/td\u003e\n      \u003ctd\u003e4.860273\u003c/td\u003e\n    \u003c/tr\u003e\n    \u003ctr\u003e\n      \u003cth\u003e2018-12-27\u003c/th\u003e\n      \u003ctd\u003e93.84\u003c/td\u003e\n      \u003ctd\u003e93.89\u003c/td\u003e\n      \u003ctd\u003e89.05\u003c/td\u003e\n      \u003ctd\u003e0.000\u003c/td\u003e\n      \u003ctd\u003e89.85\u003c/td\u003e\n      \u003ctd\u003e93.84\u003c/td\u003e\n      \u003ctd\u003e5383666\u003c/td\u003e\n      \u003ctd\u003e20181227\u003c/td\u003e\n      \u003ctd\u003e3\u003c/td\u003e\n      \u003ctd\u003e394\u003c/td\u003e\n      \u003ctd\u003e4.511992\u003c/td\u003e\n      \u003ctd\u003e4.857570\u003c/td\u003e\n    \u003c/tr\u003e\n    \u003ctr\u003e\n      \u003cth\u003e2018-12-28\u003c/th\u003e\n      \u003ctd\u003e93.84\u003c/td\u003e\n      \u003ctd\u003e93.89\u003c/td\u003e\n      \u003ctd\u003e89.05\u003c/td\u003e\n      \u003ctd\u003e0.000\u003c/td\u003e\n      \u003ctd\u003e89.85\u003c/td\u003e\n      \u003ctd\u003e93.84\u003c/td\u003e\n      \u003ctd\u003e5383666\u003c/td\u003e\n      \u003ctd\u003e20181228\u003c/td\u003e\n      \u003ctd\u003e4\u003c/td\u003e\n      \u003ctd\u003e395\u003c/td\u003e\n      \u003ctd\u003e4.541811\u003c/td\u003e\n      \u003ctd\u003e4.855227\u003c/td\u003e\n    \u003c/tr\u003e\n    \u003ctr\u003e\n      \u003cth\u003e2018-12-31\u003c/th\u003e\n      \u003ctd\u003e93.84\u003c/td\u003e\n      \u003ctd\u003e93.89\u003c/td\u003e\n      \u003ctd\u003e89.05\u003c/td\u003e\n      \u003ctd\u003e0.000\u003c/td\u003e\n      \u003ctd\u003e89.85\u003c/td\u003e\n      \u003ctd\u003e93.84\u003c/td\u003e\n      \u003ctd\u003e5383666\u003c/td\u003e\n      \u003ctd\u003e20181231\u003c/td\u003e\n      \u003ctd\u003e0\u003c/td\u003e\n      \u003ctd\u003e396\u003c/td\u003e\n      \u003ctd\u003e4.568919\u003c/td\u003e\n      \u003ctd\u003e4.853197\u003c/td\u003e\n    \u003c/tr\u003e\n  \u003c/tbody\u003e\n\u003c/table\u003e\n\u003c/div\u003e"
          },
          "metadata": {},
          "output_type": "execute_result",
          "execution_count": 1
        }
      ],
      "source": "import pandas as pd\n\namex_df \u003d pd.read_csv(\u0027./gen/amex_df.csv\u0027,\n                           parse_dates\u003dTrue,\n                           index_col\u003d0)\namex_df.tail()\n ",
      "metadata": {
        "pycharm": {
          "metadata": false,
          "name": "#%%\n",
          "is_executing": false
        }
      }
    },
    {
      "cell_type": "code",
      "execution_count": null,
      "metadata": {
        "collapsed": true,
        "pycharm": {
          "name": "#%%"
        }
      },
      "outputs": [],
      "source": ""
    }
  ],
  "metadata": {
    "language_info": {
      "codemirror_mode": {
        "name": "ipython",
        "version": 2
      },
      "file_extension": ".py",
      "mimetype": "text/x-python",
      "name": "python",
      "nbconvert_exporter": "python",
      "pygments_lexer": "ipython2",
      "version": "2.7.6"
    },
    "kernelspec": {
      "name": "python3",
      "language": "python",
      "display_name": "Python 3"
    },
    "stem_cell": {
      "cell_type": "raw",
      "source": "",
      "metadata": {
        "pycharm": {
          "metadata": false
        }
      }
    }
  },
  "nbformat": 4,
  "nbformat_minor": 0
}