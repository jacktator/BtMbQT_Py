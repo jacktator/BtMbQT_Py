{
  "cells": [
    {
      "cell_type": "code",
      "execution_count": 5,
      "outputs": [
        {
          "data": {
            "text/plain": "            close   high    low  p_change   open  pre_close   volume  \\\n2018-12-24  89.50  91.55  89.50    -2.004  90.74      91.33  3190855   \n2018-12-26  93.84  93.89  89.05     4.849  89.85      89.50  5383666   \n2018-12-27  93.84  93.89  89.05     0.000  89.85      93.84  5383666   \n2018-12-28  93.84  93.89  89.05     0.000  89.85      93.84  5383666   \n2018-12-31  93.84  93.89  89.05     0.000  89.85      93.84  5383666   \n\n                date  date_week  key   atr21   atr14  \n2018-12-24  20181224          0  392  4.4431  4.8634  \n2018-12-26  20181226          2  393  4.4792  4.8603  \n2018-12-27  20181227          3  394  4.5120  4.8576  \n2018-12-28  20181228          4  395  4.5418  4.8552  \n2018-12-31  20181231          0  396  4.5689  4.8532  ",
            "text/html": "\u003cdiv\u003e\n\u003cstyle scoped\u003e\n    .dataframe tbody tr th:only-of-type {\n        vertical-align: middle;\n    }\n\n    .dataframe tbody tr th {\n        vertical-align: top;\n    }\n\n    .dataframe thead th {\n        text-align: right;\n    }\n\u003c/style\u003e\n\u003ctable border\u003d\"1\" class\u003d\"dataframe\"\u003e\n  \u003cthead\u003e\n    \u003ctr style\u003d\"text-align: right;\"\u003e\n      \u003cth\u003e\u003c/th\u003e\n      \u003cth\u003eclose\u003c/th\u003e\n      \u003cth\u003ehigh\u003c/th\u003e\n      \u003cth\u003elow\u003c/th\u003e\n      \u003cth\u003ep_change\u003c/th\u003e\n      \u003cth\u003eopen\u003c/th\u003e\n      \u003cth\u003epre_close\u003c/th\u003e\n      \u003cth\u003evolume\u003c/th\u003e\n      \u003cth\u003edate\u003c/th\u003e\n      \u003cth\u003edate_week\u003c/th\u003e\n      \u003cth\u003ekey\u003c/th\u003e\n      \u003cth\u003eatr21\u003c/th\u003e\n      \u003cth\u003eatr14\u003c/th\u003e\n    \u003c/tr\u003e\n  \u003c/thead\u003e\n  \u003ctbody\u003e\n    \u003ctr\u003e\n      \u003cth\u003e2018-12-24\u003c/th\u003e\n      \u003ctd\u003e89.50\u003c/td\u003e\n      \u003ctd\u003e91.55\u003c/td\u003e\n      \u003ctd\u003e89.50\u003c/td\u003e\n      \u003ctd\u003e-2.004\u003c/td\u003e\n      \u003ctd\u003e90.74\u003c/td\u003e\n      \u003ctd\u003e91.33\u003c/td\u003e\n      \u003ctd\u003e3190855\u003c/td\u003e\n      \u003ctd\u003e20181224\u003c/td\u003e\n      \u003ctd\u003e0\u003c/td\u003e\n      \u003ctd\u003e392\u003c/td\u003e\n      \u003ctd\u003e4.4431\u003c/td\u003e\n      \u003ctd\u003e4.8634\u003c/td\u003e\n    \u003c/tr\u003e\n    \u003ctr\u003e\n      \u003cth\u003e2018-12-26\u003c/th\u003e\n      \u003ctd\u003e93.84\u003c/td\u003e\n      \u003ctd\u003e93.89\u003c/td\u003e\n      \u003ctd\u003e89.05\u003c/td\u003e\n      \u003ctd\u003e4.849\u003c/td\u003e\n      \u003ctd\u003e89.85\u003c/td\u003e\n      \u003ctd\u003e89.50\u003c/td\u003e\n      \u003ctd\u003e5383666\u003c/td\u003e\n      \u003ctd\u003e20181226\u003c/td\u003e\n      \u003ctd\u003e2\u003c/td\u003e\n      \u003ctd\u003e393\u003c/td\u003e\n      \u003ctd\u003e4.4792\u003c/td\u003e\n      \u003ctd\u003e4.8603\u003c/td\u003e\n    \u003c/tr\u003e\n    \u003ctr\u003e\n      \u003cth\u003e2018-12-27\u003c/th\u003e\n      \u003ctd\u003e93.84\u003c/td\u003e\n      \u003ctd\u003e93.89\u003c/td\u003e\n      \u003ctd\u003e89.05\u003c/td\u003e\n      \u003ctd\u003e0.000\u003c/td\u003e\n      \u003ctd\u003e89.85\u003c/td\u003e\n      \u003ctd\u003e93.84\u003c/td\u003e\n      \u003ctd\u003e5383666\u003c/td\u003e\n      \u003ctd\u003e20181227\u003c/td\u003e\n      \u003ctd\u003e3\u003c/td\u003e\n      \u003ctd\u003e394\u003c/td\u003e\n      \u003ctd\u003e4.5120\u003c/td\u003e\n      \u003ctd\u003e4.8576\u003c/td\u003e\n    \u003c/tr\u003e\n    \u003ctr\u003e\n      \u003cth\u003e2018-12-28\u003c/th\u003e\n      \u003ctd\u003e93.84\u003c/td\u003e\n      \u003ctd\u003e93.89\u003c/td\u003e\n      \u003ctd\u003e89.05\u003c/td\u003e\n      \u003ctd\u003e0.000\u003c/td\u003e\n      \u003ctd\u003e89.85\u003c/td\u003e\n      \u003ctd\u003e93.84\u003c/td\u003e\n      \u003ctd\u003e5383666\u003c/td\u003e\n      \u003ctd\u003e20181228\u003c/td\u003e\n      \u003ctd\u003e4\u003c/td\u003e\n      \u003ctd\u003e395\u003c/td\u003e\n      \u003ctd\u003e4.5418\u003c/td\u003e\n      \u003ctd\u003e4.8552\u003c/td\u003e\n    \u003c/tr\u003e\n    \u003ctr\u003e\n      \u003cth\u003e2018-12-31\u003c/th\u003e\n      \u003ctd\u003e93.84\u003c/td\u003e\n      \u003ctd\u003e93.89\u003c/td\u003e\n      \u003ctd\u003e89.05\u003c/td\u003e\n      \u003ctd\u003e0.000\u003c/td\u003e\n      \u003ctd\u003e89.85\u003c/td\u003e\n      \u003ctd\u003e93.84\u003c/td\u003e\n      \u003ctd\u003e5383666\u003c/td\u003e\n      \u003ctd\u003e20181231\u003c/td\u003e\n      \u003ctd\u003e0\u003c/td\u003e\n      \u003ctd\u003e396\u003c/td\u003e\n      \u003ctd\u003e4.5689\u003c/td\u003e\n      \u003ctd\u003e4.8532\u003c/td\u003e\n    \u003c/tr\u003e\n  \u003c/tbody\u003e\n\u003c/table\u003e\n\u003c/div\u003e"
          },
          "metadata": {},
          "output_type": "execute_result",
          "execution_count": 5
        }
      ],
      "source": "\nimport pandas as pd\n\namex_df \u003d pd.read_csv(\u0027./gen/amex_df.csv\u0027,\n                           parse_dates\u003dTrue,\n                           index_col\u003d0)\n\namex_df.tail()\n",
      "metadata": {
        "pycharm": {
          "metadata": false,
          "name": "#%% Fundamental Analysis\n",
          "is_executing": false
        }
      }
    },
    {
      "cell_type": "code",
      "execution_count": 6,
      "outputs": [
        {
          "data": {
            "text/plain": "2018-07-23    100.15\n2018-07-24    101.46\n2018-07-25    101.23\n2018-07-26    102.84\n2018-07-27    102.87\n2018-07-30    102.73\n2018-07-31    101.05\nName: open, dtype: float64"
          },
          "metadata": {},
          "output_type": "execute_result",
          "execution_count": 6
        }
      ],
      "source": "\namex_df.loc[\u00272018-07-23\u0027:\u00272018-07-31\u0027, \u0027open\u0027]\n",
      "metadata": {
        "pycharm": {
          "metadata": false,
          "name": "#%% 4.2.2\n",
          "is_executing": false
        }
      }
    },
    {
      "cell_type": "code",
      "execution_count": 3,
      "outputs": [
        {
          "data": {
            "text/plain": "             close    high      low  p_change    open  pre_close   volume  \\\n2018-07-23  101.22  101.40  100.010     1.068  100.15     100.15  2617933   \n2018-07-24  101.71  102.09  101.170     0.484  101.46     101.22  3155065   \n2018-07-25  102.63  102.78  101.080     0.905  101.23     101.71  2545997   \n2018-07-26  102.50  103.15  102.355    -0.127  102.84     102.63  2743989   \n2018-07-27  103.85  104.24  102.670     1.317  102.87     102.50  3815881   \n2018-07-30  100.85  103.11  100.350    -2.889  102.73     103.85  4423094   \n2018-07-31   99.52  101.20   99.440    -1.319  101.05     100.85  4330417   \n\n                date  date_week  key   atr21   atr14  \n2018-07-23  20180723          0  285  1.8120  1.8057  \n2018-07-24  20180724          1  286  1.8236  1.8236  \n2018-07-25  20180725          2  287  1.8124  1.8072  \n2018-07-26  20180726          3  288  1.7785  1.7582  \n2018-07-27  20180727          4  289  1.7632  1.7384  \n2018-07-30  20180730          0  290  1.8538  1.8747  \n2018-07-31  20180731          1  291  2.0862  2.2127  ",
            "text/html": "\u003cdiv\u003e\n\u003cstyle scoped\u003e\n    .dataframe tbody tr th:only-of-type {\n        vertical-align: middle;\n    }\n\n    .dataframe tbody tr th {\n        vertical-align: top;\n    }\n\n    .dataframe thead th {\n        text-align: right;\n    }\n\u003c/style\u003e\n\u003ctable border\u003d\"1\" class\u003d\"dataframe\"\u003e\n  \u003cthead\u003e\n    \u003ctr style\u003d\"text-align: right;\"\u003e\n      \u003cth\u003e\u003c/th\u003e\n      \u003cth\u003eclose\u003c/th\u003e\n      \u003cth\u003ehigh\u003c/th\u003e\n      \u003cth\u003elow\u003c/th\u003e\n      \u003cth\u003ep_change\u003c/th\u003e\n      \u003cth\u003eopen\u003c/th\u003e\n      \u003cth\u003epre_close\u003c/th\u003e\n      \u003cth\u003evolume\u003c/th\u003e\n      \u003cth\u003edate\u003c/th\u003e\n      \u003cth\u003edate_week\u003c/th\u003e\n      \u003cth\u003ekey\u003c/th\u003e\n      \u003cth\u003eatr21\u003c/th\u003e\n      \u003cth\u003eatr14\u003c/th\u003e\n    \u003c/tr\u003e\n  \u003c/thead\u003e\n  \u003ctbody\u003e\n    \u003ctr\u003e\n      \u003cth\u003e2018-07-23\u003c/th\u003e\n      \u003ctd\u003e101.22\u003c/td\u003e\n      \u003ctd\u003e101.40\u003c/td\u003e\n      \u003ctd\u003e100.010\u003c/td\u003e\n      \u003ctd\u003e1.068\u003c/td\u003e\n      \u003ctd\u003e100.15\u003c/td\u003e\n      \u003ctd\u003e100.15\u003c/td\u003e\n      \u003ctd\u003e2617933\u003c/td\u003e\n      \u003ctd\u003e20180723\u003c/td\u003e\n      \u003ctd\u003e0\u003c/td\u003e\n      \u003ctd\u003e285\u003c/td\u003e\n      \u003ctd\u003e1.8120\u003c/td\u003e\n      \u003ctd\u003e1.8057\u003c/td\u003e\n    \u003c/tr\u003e\n    \u003ctr\u003e\n      \u003cth\u003e2018-07-24\u003c/th\u003e\n      \u003ctd\u003e101.71\u003c/td\u003e\n      \u003ctd\u003e102.09\u003c/td\u003e\n      \u003ctd\u003e101.170\u003c/td\u003e\n      \u003ctd\u003e0.484\u003c/td\u003e\n      \u003ctd\u003e101.46\u003c/td\u003e\n      \u003ctd\u003e101.22\u003c/td\u003e\n      \u003ctd\u003e3155065\u003c/td\u003e\n      \u003ctd\u003e20180724\u003c/td\u003e\n      \u003ctd\u003e1\u003c/td\u003e\n      \u003ctd\u003e286\u003c/td\u003e\n      \u003ctd\u003e1.8236\u003c/td\u003e\n      \u003ctd\u003e1.8236\u003c/td\u003e\n    \u003c/tr\u003e\n    \u003ctr\u003e\n      \u003cth\u003e2018-07-25\u003c/th\u003e\n      \u003ctd\u003e102.63\u003c/td\u003e\n      \u003ctd\u003e102.78\u003c/td\u003e\n      \u003ctd\u003e101.080\u003c/td\u003e\n      \u003ctd\u003e0.905\u003c/td\u003e\n      \u003ctd\u003e101.23\u003c/td\u003e\n      \u003ctd\u003e101.71\u003c/td\u003e\n      \u003ctd\u003e2545997\u003c/td\u003e\n      \u003ctd\u003e20180725\u003c/td\u003e\n      \u003ctd\u003e2\u003c/td\u003e\n      \u003ctd\u003e287\u003c/td\u003e\n      \u003ctd\u003e1.8124\u003c/td\u003e\n      \u003ctd\u003e1.8072\u003c/td\u003e\n    \u003c/tr\u003e\n    \u003ctr\u003e\n      \u003cth\u003e2018-07-26\u003c/th\u003e\n      \u003ctd\u003e102.50\u003c/td\u003e\n      \u003ctd\u003e103.15\u003c/td\u003e\n      \u003ctd\u003e102.355\u003c/td\u003e\n      \u003ctd\u003e-0.127\u003c/td\u003e\n      \u003ctd\u003e102.84\u003c/td\u003e\n      \u003ctd\u003e102.63\u003c/td\u003e\n      \u003ctd\u003e2743989\u003c/td\u003e\n      \u003ctd\u003e20180726\u003c/td\u003e\n      \u003ctd\u003e3\u003c/td\u003e\n      \u003ctd\u003e288\u003c/td\u003e\n      \u003ctd\u003e1.7785\u003c/td\u003e\n      \u003ctd\u003e1.7582\u003c/td\u003e\n    \u003c/tr\u003e\n    \u003ctr\u003e\n      \u003cth\u003e2018-07-27\u003c/th\u003e\n      \u003ctd\u003e103.85\u003c/td\u003e\n      \u003ctd\u003e104.24\u003c/td\u003e\n      \u003ctd\u003e102.670\u003c/td\u003e\n      \u003ctd\u003e1.317\u003c/td\u003e\n      \u003ctd\u003e102.87\u003c/td\u003e\n      \u003ctd\u003e102.50\u003c/td\u003e\n      \u003ctd\u003e3815881\u003c/td\u003e\n      \u003ctd\u003e20180727\u003c/td\u003e\n      \u003ctd\u003e4\u003c/td\u003e\n      \u003ctd\u003e289\u003c/td\u003e\n      \u003ctd\u003e1.7632\u003c/td\u003e\n      \u003ctd\u003e1.7384\u003c/td\u003e\n    \u003c/tr\u003e\n    \u003ctr\u003e\n      \u003cth\u003e2018-07-30\u003c/th\u003e\n      \u003ctd\u003e100.85\u003c/td\u003e\n      \u003ctd\u003e103.11\u003c/td\u003e\n      \u003ctd\u003e100.350\u003c/td\u003e\n      \u003ctd\u003e-2.889\u003c/td\u003e\n      \u003ctd\u003e102.73\u003c/td\u003e\n      \u003ctd\u003e103.85\u003c/td\u003e\n      \u003ctd\u003e4423094\u003c/td\u003e\n      \u003ctd\u003e20180730\u003c/td\u003e\n      \u003ctd\u003e0\u003c/td\u003e\n      \u003ctd\u003e290\u003c/td\u003e\n      \u003ctd\u003e1.8538\u003c/td\u003e\n      \u003ctd\u003e1.8747\u003c/td\u003e\n    \u003c/tr\u003e\n    \u003ctr\u003e\n      \u003cth\u003e2018-07-31\u003c/th\u003e\n      \u003ctd\u003e99.52\u003c/td\u003e\n      \u003ctd\u003e101.20\u003c/td\u003e\n      \u003ctd\u003e99.440\u003c/td\u003e\n      \u003ctd\u003e-1.319\u003c/td\u003e\n      \u003ctd\u003e101.05\u003c/td\u003e\n      \u003ctd\u003e100.85\u003c/td\u003e\n      \u003ctd\u003e4330417\u003c/td\u003e\n      \u003ctd\u003e20180731\u003c/td\u003e\n      \u003ctd\u003e1\u003c/td\u003e\n      \u003ctd\u003e291\u003c/td\u003e\n      \u003ctd\u003e2.0862\u003c/td\u003e\n      \u003ctd\u003e2.2127\u003c/td\u003e\n    \u003c/tr\u003e\n  \u003c/tbody\u003e\n\u003c/table\u003e\n\u003c/div\u003e"
          },
          "metadata": {},
          "output_type": "execute_result",
          "execution_count": 3
        }
      ],
      "source": "\namex_df.loc[\u00272018-07-23\u0027:\u00272018-07-31\u0027]\n",
      "metadata": {
        "pycharm": {
          "metadata": false,
          "name": "#%%\n",
          "is_executing": false
        }
      }
    },
    {
      "cell_type": "code",
      "execution_count": 4,
      "outputs": [
        {
          "data": {
            "text/plain": "              low  p_change   open  pre_close\n2017-06-06  78.29    -0.152  78.46      78.97\n2017-06-07  78.79     1.218  78.91      78.85\n2017-06-08  79.67     0.175  79.71      79.81\n2017-06-09  79.73     0.450  80.39      79.95",
            "text/html": "\u003cdiv\u003e\n\u003cstyle scoped\u003e\n    .dataframe tbody tr th:only-of-type {\n        vertical-align: middle;\n    }\n\n    .dataframe tbody tr th {\n        vertical-align: top;\n    }\n\n    .dataframe thead th {\n        text-align: right;\n    }\n\u003c/style\u003e\n\u003ctable border\u003d\"1\" class\u003d\"dataframe\"\u003e\n  \u003cthead\u003e\n    \u003ctr style\u003d\"text-align: right;\"\u003e\n      \u003cth\u003e\u003c/th\u003e\n      \u003cth\u003elow\u003c/th\u003e\n      \u003cth\u003ep_change\u003c/th\u003e\n      \u003cth\u003eopen\u003c/th\u003e\n      \u003cth\u003epre_close\u003c/th\u003e\n    \u003c/tr\u003e\n  \u003c/thead\u003e\n  \u003ctbody\u003e\n    \u003ctr\u003e\n      \u003cth\u003e2017-06-06\u003c/th\u003e\n      \u003ctd\u003e78.29\u003c/td\u003e\n      \u003ctd\u003e-0.152\u003c/td\u003e\n      \u003ctd\u003e78.46\u003c/td\u003e\n      \u003ctd\u003e78.97\u003c/td\u003e\n    \u003c/tr\u003e\n    \u003ctr\u003e\n      \u003cth\u003e2017-06-07\u003c/th\u003e\n      \u003ctd\u003e78.79\u003c/td\u003e\n      \u003ctd\u003e1.218\u003c/td\u003e\n      \u003ctd\u003e78.91\u003c/td\u003e\n      \u003ctd\u003e78.85\u003c/td\u003e\n    \u003c/tr\u003e\n    \u003ctr\u003e\n      \u003cth\u003e2017-06-08\u003c/th\u003e\n      \u003ctd\u003e79.67\u003c/td\u003e\n      \u003ctd\u003e0.175\u003c/td\u003e\n      \u003ctd\u003e79.71\u003c/td\u003e\n      \u003ctd\u003e79.81\u003c/td\u003e\n    \u003c/tr\u003e\n    \u003ctr\u003e\n      \u003cth\u003e2017-06-09\u003c/th\u003e\n      \u003ctd\u003e79.73\u003c/td\u003e\n      \u003ctd\u003e0.450\u003c/td\u003e\n      \u003ctd\u003e80.39\u003c/td\u003e\n      \u003ctd\u003e79.95\u003c/td\u003e\n    \u003c/tr\u003e\n  \u003c/tbody\u003e\n\u003c/table\u003e\n\u003c/div\u003e"
          },
          "metadata": {},
          "output_type": "execute_result",
          "execution_count": 4
        }
      ],
      "source": "\namex_df.iloc[1:5, 2:6]\n",
      "metadata": {
        "pycharm": {
          "metadata": false,
          "name": "#%%\n",
          "is_executing": false
        }
      }
    },
    {
      "cell_type": "code",
      "execution_count": 7,
      "outputs": [
        {
          "data": {
            "text/plain": "               low  p_change    open  pre_close\n2017-06-05   78.61     0.612   78.75      78.49\n2017-06-06   78.29    -0.152   78.46      78.97\n2017-06-07   78.79     1.218   78.91      78.85\n2017-06-08   79.67     0.175   79.71      79.81\n2017-06-09   79.73     0.450   80.39      79.95\n2017-06-12   79.95    -0.174   80.35      80.31\n2017-06-13   80.07     0.524   80.20      80.17\n2017-06-14   79.62     0.310   80.11      80.59\n2017-06-15   80.23    -0.173   80.38      80.84\n2017-06-16   80.77     0.929   80.86      80.70\n...            ...       ...     ...        ...\n2018-12-17  100.78    -4.276  105.46     105.70\n2018-12-18  100.47    -0.158  101.98     101.18\n2018-12-19   98.20    -2.227   99.76     101.02\n2018-12-20   95.26    -3.037   97.91      98.77\n2018-12-21   91.15    -4.636   95.20      95.77\n2018-12-24   89.50    -2.004   90.74      91.33\n2018-12-26   89.05     4.849   89.85      89.50\n2018-12-27   89.05     0.000   89.85      93.84\n2018-12-28   89.05     0.000   89.85      93.84\n2018-12-31   89.05     0.000   89.85      93.84\n\n[397 rows x 4 columns]",
            "text/html": "\u003cdiv\u003e\n\u003cstyle scoped\u003e\n    .dataframe tbody tr th:only-of-type {\n        vertical-align: middle;\n    }\n\n    .dataframe tbody tr th {\n        vertical-align: top;\n    }\n\n    .dataframe thead th {\n        text-align: right;\n    }\n\u003c/style\u003e\n\u003ctable border\u003d\"1\" class\u003d\"dataframe\"\u003e\n  \u003cthead\u003e\n    \u003ctr style\u003d\"text-align: right;\"\u003e\n      \u003cth\u003e\u003c/th\u003e\n      \u003cth\u003elow\u003c/th\u003e\n      \u003cth\u003ep_change\u003c/th\u003e\n      \u003cth\u003eopen\u003c/th\u003e\n      \u003cth\u003epre_close\u003c/th\u003e\n    \u003c/tr\u003e\n  \u003c/thead\u003e\n  \u003ctbody\u003e\n    \u003ctr\u003e\n      \u003cth\u003e2017-06-05\u003c/th\u003e\n      \u003ctd\u003e78.61\u003c/td\u003e\n      \u003ctd\u003e0.612\u003c/td\u003e\n      \u003ctd\u003e78.75\u003c/td\u003e\n      \u003ctd\u003e78.49\u003c/td\u003e\n    \u003c/tr\u003e\n    \u003ctr\u003e\n      \u003cth\u003e2017-06-06\u003c/th\u003e\n      \u003ctd\u003e78.29\u003c/td\u003e\n      \u003ctd\u003e-0.152\u003c/td\u003e\n      \u003ctd\u003e78.46\u003c/td\u003e\n      \u003ctd\u003e78.97\u003c/td\u003e\n    \u003c/tr\u003e\n    \u003ctr\u003e\n      \u003cth\u003e2017-06-07\u003c/th\u003e\n      \u003ctd\u003e78.79\u003c/td\u003e\n      \u003ctd\u003e1.218\u003c/td\u003e\n      \u003ctd\u003e78.91\u003c/td\u003e\n      \u003ctd\u003e78.85\u003c/td\u003e\n    \u003c/tr\u003e\n    \u003ctr\u003e\n      \u003cth\u003e2017-06-08\u003c/th\u003e\n      \u003ctd\u003e79.67\u003c/td\u003e\n      \u003ctd\u003e0.175\u003c/td\u003e\n      \u003ctd\u003e79.71\u003c/td\u003e\n      \u003ctd\u003e79.81\u003c/td\u003e\n    \u003c/tr\u003e\n    \u003ctr\u003e\n      \u003cth\u003e2017-06-09\u003c/th\u003e\n      \u003ctd\u003e79.73\u003c/td\u003e\n      \u003ctd\u003e0.450\u003c/td\u003e\n      \u003ctd\u003e80.39\u003c/td\u003e\n      \u003ctd\u003e79.95\u003c/td\u003e\n    \u003c/tr\u003e\n    \u003ctr\u003e\n      \u003cth\u003e2017-06-12\u003c/th\u003e\n      \u003ctd\u003e79.95\u003c/td\u003e\n      \u003ctd\u003e-0.174\u003c/td\u003e\n      \u003ctd\u003e80.35\u003c/td\u003e\n      \u003ctd\u003e80.31\u003c/td\u003e\n    \u003c/tr\u003e\n    \u003ctr\u003e\n      \u003cth\u003e2017-06-13\u003c/th\u003e\n      \u003ctd\u003e80.07\u003c/td\u003e\n      \u003ctd\u003e0.524\u003c/td\u003e\n      \u003ctd\u003e80.20\u003c/td\u003e\n      \u003ctd\u003e80.17\u003c/td\u003e\n    \u003c/tr\u003e\n    \u003ctr\u003e\n      \u003cth\u003e2017-06-14\u003c/th\u003e\n      \u003ctd\u003e79.62\u003c/td\u003e\n      \u003ctd\u003e0.310\u003c/td\u003e\n      \u003ctd\u003e80.11\u003c/td\u003e\n      \u003ctd\u003e80.59\u003c/td\u003e\n    \u003c/tr\u003e\n    \u003ctr\u003e\n      \u003cth\u003e2017-06-15\u003c/th\u003e\n      \u003ctd\u003e80.23\u003c/td\u003e\n      \u003ctd\u003e-0.173\u003c/td\u003e\n      \u003ctd\u003e80.38\u003c/td\u003e\n      \u003ctd\u003e80.84\u003c/td\u003e\n    \u003c/tr\u003e\n    \u003ctr\u003e\n      \u003cth\u003e2017-06-16\u003c/th\u003e\n      \u003ctd\u003e80.77\u003c/td\u003e\n      \u003ctd\u003e0.929\u003c/td\u003e\n      \u003ctd\u003e80.86\u003c/td\u003e\n      \u003ctd\u003e80.70\u003c/td\u003e\n    \u003c/tr\u003e\n    \u003ctr\u003e\n      \u003cth\u003e...\u003c/th\u003e\n      \u003ctd\u003e...\u003c/td\u003e\n      \u003ctd\u003e...\u003c/td\u003e\n      \u003ctd\u003e...\u003c/td\u003e\n      \u003ctd\u003e...\u003c/td\u003e\n    \u003c/tr\u003e\n    \u003ctr\u003e\n      \u003cth\u003e2018-12-17\u003c/th\u003e\n      \u003ctd\u003e100.78\u003c/td\u003e\n      \u003ctd\u003e-4.276\u003c/td\u003e\n      \u003ctd\u003e105.46\u003c/td\u003e\n      \u003ctd\u003e105.70\u003c/td\u003e\n    \u003c/tr\u003e\n    \u003ctr\u003e\n      \u003cth\u003e2018-12-18\u003c/th\u003e\n      \u003ctd\u003e100.47\u003c/td\u003e\n      \u003ctd\u003e-0.158\u003c/td\u003e\n      \u003ctd\u003e101.98\u003c/td\u003e\n      \u003ctd\u003e101.18\u003c/td\u003e\n    \u003c/tr\u003e\n    \u003ctr\u003e\n      \u003cth\u003e2018-12-19\u003c/th\u003e\n      \u003ctd\u003e98.20\u003c/td\u003e\n      \u003ctd\u003e-2.227\u003c/td\u003e\n      \u003ctd\u003e99.76\u003c/td\u003e\n      \u003ctd\u003e101.02\u003c/td\u003e\n    \u003c/tr\u003e\n    \u003ctr\u003e\n      \u003cth\u003e2018-12-20\u003c/th\u003e\n      \u003ctd\u003e95.26\u003c/td\u003e\n      \u003ctd\u003e-3.037\u003c/td\u003e\n      \u003ctd\u003e97.91\u003c/td\u003e\n      \u003ctd\u003e98.77\u003c/td\u003e\n    \u003c/tr\u003e\n    \u003ctr\u003e\n      \u003cth\u003e2018-12-21\u003c/th\u003e\n      \u003ctd\u003e91.15\u003c/td\u003e\n      \u003ctd\u003e-4.636\u003c/td\u003e\n      \u003ctd\u003e95.20\u003c/td\u003e\n      \u003ctd\u003e95.77\u003c/td\u003e\n    \u003c/tr\u003e\n    \u003ctr\u003e\n      \u003cth\u003e2018-12-24\u003c/th\u003e\n      \u003ctd\u003e89.50\u003c/td\u003e\n      \u003ctd\u003e-2.004\u003c/td\u003e\n      \u003ctd\u003e90.74\u003c/td\u003e\n      \u003ctd\u003e91.33\u003c/td\u003e\n    \u003c/tr\u003e\n    \u003ctr\u003e\n      \u003cth\u003e2018-12-26\u003c/th\u003e\n      \u003ctd\u003e89.05\u003c/td\u003e\n      \u003ctd\u003e4.849\u003c/td\u003e\n      \u003ctd\u003e89.85\u003c/td\u003e\n      \u003ctd\u003e89.50\u003c/td\u003e\n    \u003c/tr\u003e\n    \u003ctr\u003e\n      \u003cth\u003e2018-12-27\u003c/th\u003e\n      \u003ctd\u003e89.05\u003c/td\u003e\n      \u003ctd\u003e0.000\u003c/td\u003e\n      \u003ctd\u003e89.85\u003c/td\u003e\n      \u003ctd\u003e93.84\u003c/td\u003e\n    \u003c/tr\u003e\n    \u003ctr\u003e\n      \u003cth\u003e2018-12-28\u003c/th\u003e\n      \u003ctd\u003e89.05\u003c/td\u003e\n      \u003ctd\u003e0.000\u003c/td\u003e\n      \u003ctd\u003e89.85\u003c/td\u003e\n      \u003ctd\u003e93.84\u003c/td\u003e\n    \u003c/tr\u003e\n    \u003ctr\u003e\n      \u003cth\u003e2018-12-31\u003c/th\u003e\n      \u003ctd\u003e89.05\u003c/td\u003e\n      \u003ctd\u003e0.000\u003c/td\u003e\n      \u003ctd\u003e89.85\u003c/td\u003e\n      \u003ctd\u003e93.84\u003c/td\u003e\n    \u003c/tr\u003e\n  \u003c/tbody\u003e\n\u003c/table\u003e\n\u003cp\u003e397 rows × 4 columns\u003c/p\u003e\n\u003c/div\u003e"
          },
          "metadata": {},
          "output_type": "execute_result",
          "execution_count": 7
        }
      ],
      "source": "\namex_df.iloc[:, 2:6]\n",
      "metadata": {
        "pycharm": {
          "metadata": false,
          "name": "#%%\n",
          "is_executing": false
        }
      }
    },
    {
      "cell_type": "code",
      "execution_count": 11,
      "outputs": [
        {
          "data": {
            "text/plain": "            close   high    low  p_change   open  pre_close   volume  \\\n2017-07-25  85.41  86.10  85.08     0.482  85.84      85.00  3255176   \n2017-07-26  85.30  85.72  85.17    -0.129  85.41      85.41  3038102   \n\n                date  date_week  key   atr21   atr14  \n2017-07-25  20170725          1   35  1.0936  1.0881  \n2017-07-26  20170726          2   36  1.0586  1.0388  ",
            "text/html": "\u003cdiv\u003e\n\u003cstyle scoped\u003e\n    .dataframe tbody tr th:only-of-type {\n        vertical-align: middle;\n    }\n\n    .dataframe tbody tr th {\n        vertical-align: top;\n    }\n\n    .dataframe thead th {\n        text-align: right;\n    }\n\u003c/style\u003e\n\u003ctable border\u003d\"1\" class\u003d\"dataframe\"\u003e\n  \u003cthead\u003e\n    \u003ctr style\u003d\"text-align: right;\"\u003e\n      \u003cth\u003e\u003c/th\u003e\n      \u003cth\u003eclose\u003c/th\u003e\n      \u003cth\u003ehigh\u003c/th\u003e\n      \u003cth\u003elow\u003c/th\u003e\n      \u003cth\u003ep_change\u003c/th\u003e\n      \u003cth\u003eopen\u003c/th\u003e\n      \u003cth\u003epre_close\u003c/th\u003e\n      \u003cth\u003evolume\u003c/th\u003e\n      \u003cth\u003edate\u003c/th\u003e\n      \u003cth\u003edate_week\u003c/th\u003e\n      \u003cth\u003ekey\u003c/th\u003e\n      \u003cth\u003eatr21\u003c/th\u003e\n      \u003cth\u003eatr14\u003c/th\u003e\n    \u003c/tr\u003e\n  \u003c/thead\u003e\n  \u003ctbody\u003e\n    \u003ctr\u003e\n      \u003cth\u003e2017-07-25\u003c/th\u003e\n      \u003ctd\u003e85.41\u003c/td\u003e\n      \u003ctd\u003e86.10\u003c/td\u003e\n      \u003ctd\u003e85.08\u003c/td\u003e\n      \u003ctd\u003e0.482\u003c/td\u003e\n      \u003ctd\u003e85.84\u003c/td\u003e\n      \u003ctd\u003e85.00\u003c/td\u003e\n      \u003ctd\u003e3255176\u003c/td\u003e\n      \u003ctd\u003e20170725\u003c/td\u003e\n      \u003ctd\u003e1\u003c/td\u003e\n      \u003ctd\u003e35\u003c/td\u003e\n      \u003ctd\u003e1.0936\u003c/td\u003e\n      \u003ctd\u003e1.0881\u003c/td\u003e\n    \u003c/tr\u003e\n    \u003ctr\u003e\n      \u003cth\u003e2017-07-26\u003c/th\u003e\n      \u003ctd\u003e85.30\u003c/td\u003e\n      \u003ctd\u003e85.72\u003c/td\u003e\n      \u003ctd\u003e85.17\u003c/td\u003e\n      \u003ctd\u003e-0.129\u003c/td\u003e\n      \u003ctd\u003e85.41\u003c/td\u003e\n      \u003ctd\u003e85.41\u003c/td\u003e\n      \u003ctd\u003e3038102\u003c/td\u003e\n      \u003ctd\u003e20170726\u003c/td\u003e\n      \u003ctd\u003e2\u003c/td\u003e\n      \u003ctd\u003e36\u003c/td\u003e\n      \u003ctd\u003e1.0586\u003c/td\u003e\n      \u003ctd\u003e1.0388\u003c/td\u003e\n    \u003c/tr\u003e\n  \u003c/tbody\u003e\n\u003c/table\u003e\n\u003c/div\u003e"
          },
          "metadata": {},
          "output_type": "execute_result",
          "execution_count": 11
        }
      ],
      "source": "\namex_df.iloc[35:37]",
      "metadata": {
        "pycharm": {
          "metadata": false,
          "name": "#%%\n",
          "is_executing": false
        }
      }
    },
    {
      "cell_type": "code",
      "execution_count": 12,
      "outputs": [
        {
          "name": "stdout",
          "text": [
            "2017-06-05    78.97\n2017-06-06    78.85\n2017-06-07    79.81\nName: close, dtype: float64\n"
          ],
          "output_type": "stream"
        }
      ],
      "source": "print(amex_df.close[0:3])",
      "metadata": {
        "pycharm": {
          "metadata": false,
          "name": "#%%\n",
          "is_executing": false
        }
      }
    },
    {
      "cell_type": "code",
      "execution_count": 13,
      "outputs": [
        {
          "data": {
            "text/plain": "            close   high    low\n2017-06-05  78.97  79.20  78.61\n2017-06-06  78.85  78.93  78.29\n2017-06-07  79.81  80.09  78.79",
            "text/html": "\u003cdiv\u003e\n\u003cstyle scoped\u003e\n    .dataframe tbody tr th:only-of-type {\n        vertical-align: middle;\n    }\n\n    .dataframe tbody tr th {\n        vertical-align: top;\n    }\n\n    .dataframe thead th {\n        text-align: right;\n    }\n\u003c/style\u003e\n\u003ctable border\u003d\"1\" class\u003d\"dataframe\"\u003e\n  \u003cthead\u003e\n    \u003ctr style\u003d\"text-align: right;\"\u003e\n      \u003cth\u003e\u003c/th\u003e\n      \u003cth\u003eclose\u003c/th\u003e\n      \u003cth\u003ehigh\u003c/th\u003e\n      \u003cth\u003elow\u003c/th\u003e\n    \u003c/tr\u003e\n  \u003c/thead\u003e\n  \u003ctbody\u003e\n    \u003ctr\u003e\n      \u003cth\u003e2017-06-05\u003c/th\u003e\n      \u003ctd\u003e78.97\u003c/td\u003e\n      \u003ctd\u003e79.20\u003c/td\u003e\n      \u003ctd\u003e78.61\u003c/td\u003e\n    \u003c/tr\u003e\n    \u003ctr\u003e\n      \u003cth\u003e2017-06-06\u003c/th\u003e\n      \u003ctd\u003e78.85\u003c/td\u003e\n      \u003ctd\u003e78.93\u003c/td\u003e\n      \u003ctd\u003e78.29\u003c/td\u003e\n    \u003c/tr\u003e\n    \u003ctr\u003e\n      \u003cth\u003e2017-06-07\u003c/th\u003e\n      \u003ctd\u003e79.81\u003c/td\u003e\n      \u003ctd\u003e80.09\u003c/td\u003e\n      \u003ctd\u003e78.79\u003c/td\u003e\n    \u003c/tr\u003e\n  \u003c/tbody\u003e\n\u003c/table\u003e\n\u003c/div\u003e"
          },
          "metadata": {},
          "output_type": "execute_result",
          "execution_count": 13
        }
      ],
      "source": "amex_df[[\u0027close\u0027, \u0027high\u0027, \u0027low\u0027]][0:3]",
      "metadata": {
        "pycharm": {
          "metadata": false,
          "name": "#%%\n",
          "is_executing": false
        }
      }
    },
    {
      "cell_type": "code",
      "execution_count": null,
      "metadata": {
        "collapsed": true,
        "pycharm": {}
      },
      "outputs": [],
      "source": ""
    }
  ],
  "metadata": {
    "language_info": {
      "codemirror_mode": {
        "name": "ipython",
        "version": 2
      },
      "file_extension": ".py",
      "mimetype": "text/x-python",
      "name": "python",
      "nbconvert_exporter": "python",
      "pygments_lexer": "ipython2",
      "version": "2.7.6"
    },
    "kernelspec": {
      "name": "python3",
      "language": "python",
      "display_name": "Python 3"
    },
    "stem_cell": {
      "cell_type": "raw",
      "source": "",
      "metadata": {
        "pycharm": {
          "metadata": false
        }
      }
    }
  },
  "nbformat": 4,
  "nbformat_minor": 0
}