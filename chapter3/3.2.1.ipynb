{
  "cells": [
    {
      "cell_type": "code",
      "execution_count": 2,
      "metadata": {
        "collapsed": true,
        "pycharm": {
          "is_executing": false
        }
      },
      "outputs": [],
      "source": "\nimport numpy as np\n\n# 200 stocks\nstock_cnt \u003d 200\n\n#504 trade days\nview_days \u003d 504\n\n# Normal distribution mean \u003d 0, std \u003d 1\nstock_day_change \u003d np.random.standard_normal((stock_cnt, view_days))"
    },
    {
      "cell_type": "code",
      "execution_count": 3,
      "outputs": [
        {
          "data": {
            "text/plain": "array([[-0.03660269,  0.9770636 ,  0.84639129, -0.47125016],\n       [-1.21111869,  1.36423146, -2.17512105,  0.0608013 ],\n       [ 1.08047902, -1.67335139,  0.07299045,  0.24744061],\n       [-0.24738127, -0.12973454, -0.755171  ,  1.00216839]])"
          },
          "metadata": {},
          "output_type": "execute_result",
          "execution_count": 3
        }
      ],
      "source": "\nstock_day_change_four \u003d stock_day_change[:4, :4]\nstock_day_change_four\n                                              ",
      "metadata": {
        "pycharm": {
          "metadata": false,
          "name": "#%%\n",
          "is_executing": false
        }
      }
    },
    {
      "cell_type": "code",
      "execution_count": 4,
      "outputs": [
        {
          "name": "stdout",
          "text": [
            "Max Gain in a day [0.9770636  1.36423146 1.08047902 1.00216839]\n"
          ],
          "output_type": "stream"
        }
      ],
      "source": "\nprint(\u0027Max Gain {}\u0027.format(np.max(stock_day_change_four, axis\u003d1)))\n",
      "metadata": {
        "pycharm": {
          "metadata": false,
          "name": "#%%\n",
          "is_executing": false
        }
      }
    },
    {
      "cell_type": "code",
      "execution_count": 6,
      "outputs": [
        {
          "name": "stdout",
          "text": [
            "Max Drop [-0.47125016 -2.17512105 -1.67335139 -0.755171  ]\nStand Deviation [0.6045134  1.33240395 1.00194039 0.64195416]\nAverage Gain [ 0.32890051 -0.49030175 -0.06811033 -0.0325296 ]\n"
          ],
          "output_type": "stream"
        }
      ],
      "source": "\nprint(\u0027Max Drop {}\u0027.format(np.min(stock_day_change_four, axis\u003d1)))\nprint(\u0027Stand Deviation {}\u0027.format(np.std(stock_day_change_four, axis\u003d1)))\nprint(\u0027Average Gain {}\u0027.format(np.mean(stock_day_change_four, axis\u003d1)))\n",
      "metadata": {
        "pycharm": {
          "metadata": false,
          "name": "#%%\n",
          "is_executing": false
        }
      }
    },
    {
      "cell_type": "code",
      "execution_count": 7,
      "outputs": [
        {
          "name": "stdout",
          "text": [
            "Max Gain of 4 stock [1.08047902 1.36423146 0.84639129 1.00216839]\n"
          ],
          "output_type": "stream"
        }
      ],
      "source": "\nprint(\u0027Max Gain {}\u0027.format(np.max(stock_day_change_four, axis\u003d0)))\n",
      "metadata": {
        "pycharm": {
          "metadata": false,
          "name": "#%%\n",
          "is_executing": false
        }
      }
    },
    {
      "cell_type": "code",
      "execution_count": 8,
      "outputs": [
        {
          "name": "stdout",
          "text": [
            "Max Gain of 4 stocks [2 1 0 3]\n"
          ],
          "output_type": "stream"
        }
      ],
      "source": "\nprint(\u0027Max Gain of 4 stocks {}\u0027.format(np.argmax(stock_day_change_four, axis\u003d0)))\n",
      "metadata": {
        "pycharm": {
          "metadata": false,
          "name": "#%%\n",
          "is_executing": false
        }
      }
    },
    {
      "cell_type": "code",
      "execution_count": null,
      "outputs": [],
      "source": "\n",
      "metadata": {
        "pycharm": {
          "metadata": false,
          "name": "#%%\n"
        }
      }
    }
  ],
  "metadata": {
    "language_info": {
      "codemirror_mode": {
        "name": "ipython",
        "version": 2
      },
      "file_extension": ".py",
      "mimetype": "text/x-python",
      "name": "python",
      "nbconvert_exporter": "python",
      "pygments_lexer": "ipython2",
      "version": "2.7.6"
    },
    "kernelspec": {
      "name": "python3",
      "language": "python",
      "display_name": "Python 3"
    }
  },
  "nbformat": 4,
  "nbformat_minor": 0
}