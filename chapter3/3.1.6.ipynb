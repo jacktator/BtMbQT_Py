{
  "cells": [
    {
      "cell_type": "code",
      "execution_count": 4,
      "metadata": {
        "collapsed": true,
        "pycharm": {
          "name": "#%%\n",
          "is_executing": false
        }
      },
      "outputs": [],
      "source": "\nimport numpy as np\n\n# 200 stocks\nstock_cnt \u003d 200\n\n#504 trade days\nview_days \u003d 504\n\n# Normal distribution mean \u003d 0, std \u003d 1\nstock_day_change \u003d np.random.standard_normal((stock_cnt, view_days))\n"
    },
    {
      "cell_type": "code",
      "execution_count": 5,
      "outputs": [
        {
          "data": {
            "text/plain": "False"
          },
          "metadata": {},
          "output_type": "execute_result",
          "execution_count": 5
        }
      ],
      "source": "\nnp.all(stock_day_change[0:2, 0:5] \u003e 0)\n",
      "metadata": {
        "pycharm": {
          "metadata": false,
          "name": "#%%\n",
          "is_executing": false
        }
      }
    },
    {
      "cell_type": "code",
      "execution_count": 6,
      "outputs": [
        {
          "data": {
            "text/plain": "True"
          },
          "metadata": {},
          "output_type": "execute_result",
          "execution_count": 6
        }
      ],
      "source": "\nnp.any(stock_day_change[0:2, 0:5] \u003e 0)\n",
      "metadata": {
        "pycharm": {
          "metadata": false,
          "name": "#%%\n",
          "is_executing": false
        }
      }
    },
    {
      "cell_type": "code",
      "execution_count": 8,
      "outputs": [
        {
          "traceback": [
            "\u001b[0;31m---------------------------------------------------------------------------\u001b[0m",
            "\u001b[0;31mValueError\u001b[0m                                Traceback (most recent call last)",
            "\u001b[0;32m\u003cipython-input-8-36e5c595e9ee\u003e\u001b[0m in \u001b[0;36m\u003cmodule\u003e\u001b[0;34m\u001b[0m\n\u001b[1;32m      1\u001b[0m \u001b[0;34m\u001b[0m\u001b[0m\n\u001b[0;32m----\u003e 2\u001b[0;31m \u001b[0mnp\u001b[0m\u001b[0;34m.\u001b[0m\u001b[0mmaximum\u001b[0m\u001b[0;34m(\u001b[0m\u001b[0mstock_day_change\u001b[0m\u001b[0;34m[\u001b[0m\u001b[0;36m0\u001b[0m\u001b[0;34m:\u001b[0m\u001b[0;36m3\u001b[0m\u001b[0;34m,\u001b[0m \u001b[0;36m0\u001b[0m\u001b[0;34m:\u001b[0m\u001b[0;36m5\u001b[0m\u001b[0;34m]\u001b[0m\u001b[0;34m,\u001b[0m \u001b[0mstock_day_change\u001b[0m\u001b[0;34m[\u001b[0m\u001b[0;34m-\u001b[0m\u001b[0;36m2\u001b[0m\u001b[0;34m:\u001b[0m\u001b[0;34m,\u001b[0m \u001b[0;34m-\u001b[0m\u001b[0;36m5\u001b[0m\u001b[0;34m:\u001b[0m\u001b[0;34m]\u001b[0m\u001b[0;34m)\u001b[0m\u001b[0;34m\u001b[0m\u001b[0;34m\u001b[0m\u001b[0m\n\u001b[0m",
            "\u001b[0;31mValueError\u001b[0m: operands could not be broadcast together with shapes (3,5) (2,5) "
          ],
          "ename": "ValueError",
          "evalue": "operands could not be broadcast together with shapes (3,5) (2,5) ",
          "output_type": "error"
        }
      ],
      "source": "\nnp.maximum(stock_day_change[0:2, 0:5], stock_day_change[-2:, -5:])\n",
      "metadata": {
        "pycharm": {
          "metadata": false,
          "name": "#%%\n",
          "is_executing": false
        }
      }
    },
    {
      "cell_type": "code",
      "execution_count": 9,
      "outputs": [
        {
          "name": "stdout",
          "text": [
            "[[0 0 0 0 0]\n [0 0 0 0 0]]\n"
          ],
          "output_type": "stream"
        },
        {
          "data": {
            "text/plain": "array([0])"
          },
          "metadata": {},
          "output_type": "execute_result",
          "execution_count": 9
        }
      ],
      "source": "\nchange_int \u003d stock_day_change[0:2, 0:5].astype(int)\nprint(change_int)\n\nnp.unique(change_int)",
      "metadata": {
        "pycharm": {
          "metadata": false,
          "name": "#%%\n",
          "is_executing": false
        }
      }
    },
    {
      "cell_type": "code",
      "execution_count": 10,
      "outputs": [
        {
          "data": {
            "text/plain": "array([[-0.74620536,  0.10997983,  0.42538259, -1.12313415],\n       [-0.26669086,  0.20164189,  0.24671922, -0.05067129]])"
          },
          "metadata": {},
          "output_type": "execute_result",
          "execution_count": 10
        }
      ],
      "source": "\nnp.diff(stock_day_change[0:2, 0:5])\n",
      "metadata": {
        "pycharm": {
          "metadata": false,
          "name": "#%%\n",
          "is_executing": false
        }
      }
    },
    {
      "cell_type": "code",
      "execution_count": 11,
      "outputs": [
        {
          "data": {
            "text/plain": "array([[-0.69736965, -0.21785514, -0.12619308, -0.30485645,  0.76760641]])"
          },
          "metadata": {},
          "output_type": "execute_result",
          "execution_count": 11
        }
      ],
      "source": "\nnp.diff(stock_day_change[0:2, 0:5], axis\u003d0)\n",
      "metadata": {
        "pycharm": {
          "metadata": false,
          "name": "#%%\n",
          "is_executing": false
        }
      }
    },
    {
      "cell_type": "code",
      "execution_count": 14,
      "outputs": [
        {
          "name": "stdout",
          "text": [
            "[[\u00270\u0027 \u00270\u0027 \u0027Haha\u0027 \u00270\u0027 \u00270\u0027]\n [\u0027Haha\u0027 \u0027Haha\u0027 \u00270\u0027 \u00270\u0027 \u00270\u0027]]\n"
          ],
          "output_type": "stream"
        }
      ],
      "source": "\ntmp_test \u003d stock_day_change[-2:, -5:]\nprint(np.where(tmp_test \u003e 0.5, 1, 0))\n",
      "metadata": {
        "pycharm": {
          "metadata": false,
          "name": "#%%\n",
          "is_executing": false
        }
      }
    },
    {
      "cell_type": "code",
      "execution_count": 16,
      "outputs": [
        {
          "name": "stdout",
          "text": [
            "[[-0.01864268 -0.66765041  1.         -0.76805078  0.26676159]\n [ 1.          1.         -0.30415205 -0.27642542 -0.98397264]]\n"
          ],
          "output_type": "stream"
        }
      ],
      "source": "\nprint(np.where(tmp_test \u003e 0.5, 1, tmp_test))\n",
      "metadata": {
        "pycharm": {
          "metadata": false,
          "name": "#%%\n",
          "is_executing": false
        }
      }
    },
    {
      "cell_type": "code",
      "execution_count": 17,
      "outputs": [
        {
          "data": {
            "text/plain": "array([[0, 1, 1, 1, 0],\n       [1, 1, 0, 0, 1]])"
          },
          "metadata": {},
          "output_type": "execute_result",
          "execution_count": 17
        }
      ],
      "source": "\nnp.where(np.logical_or(tmp_test \u003e 0.5, tmp_test \u003c -0.5), 1, 0)",
      "metadata": {
        "pycharm": {
          "metadata": false,
          "name": "#%%\n",
          "is_executing": false
        }
      }
    },
    {
      "cell_type": "code",
      "execution_count": null,
      "outputs": [],
      "source": "\n",
      "metadata": {
        "pycharm": {
          "metadata": false,
          "name": "#%%\n"
        }
      }
    }
  ],
  "metadata": {
    "language_info": {
      "codemirror_mode": {
        "name": "ipython",
        "version": 2
      },
      "file_extension": ".py",
      "mimetype": "text/x-python",
      "name": "python",
      "nbconvert_exporter": "python",
      "pygments_lexer": "ipython2",
      "version": "2.7.6"
    },
    "kernelspec": {
      "name": "python3",
      "language": "python",
      "display_name": "Python 3"
    }
  },
  "nbformat": 4,
  "nbformat_minor": 0
}