{
  "cells": [
    {
      "cell_type": "code",
      "execution_count": 1,
      "outputs": [],
      "source": "\nimport numpy as np\n\nstock_day_change \u003d np.load(\u0027./gen/stock_day_change.npy\u0027)\n",
      "metadata": {
        "pycharm": {
          "metadata": false,
          "name": "#%%\n",
          "is_executing": false
        }
      }
    },
    {
      "cell_type": "code",
      "execution_count": 2,
      "outputs": [
        {
          "data": {
            "text/plain": "array([[ 0.52772005, -1.23686502,  0.51491667,  0.18083315, -0.045416  ],\n       [ 1.32417809,  0.05159529, -1.02241279, -0.30628773, -1.52755081]])"
          },
          "metadata": {},
          "output_type": "execute_result",
          "execution_count": 2
        }
      ],
      "source": "\nstock_day_change[:2, :5]\n",
      "metadata": {
        "pycharm": {
          "metadata": false,
          "name": "#%% Slicing first 2 stocks and first 5 days\n",
          "is_executing": false
        }
      }
    },
    {
      "cell_type": "code",
      "execution_count": 2,
      "outputs": [
        {
          "data": {
            "text/plain": "array([[-1.03243722, -0.106677  , -1.54601428,  0.30439264,  0.16257845],\n       [-1.02527985, -0.30049946, -1.12647611,  0.06621508, -0.71443007]])"
          },
          "metadata": {},
          "output_type": "execute_result",
          "execution_count": 2
        }
      ],
      "source": "\nstock_day_change[-2:, -5:]\n",
      "metadata": {
        "pycharm": {
          "metadata": false,
          "name": "#%% Slicing last 2 stocks and last 5 days\n",
          "is_executing": false
        }
      }
    },
    {
      "cell_type": "code",
      "execution_count": 4,
      "outputs": [
        {
          "data": {
            "text/plain": "(array([[ 0.52772005, -1.23686502,  0.51491667,  0.18083315, -0.045416  ],\n        [ 1.32417809,  0.05159529, -1.02241279, -0.30628773, -1.52755081]]),\n array([[ 1.33187212, -0.12179383, -0.75982958,  0.52701703, -0.40945897],\n        [-0.741641  , -0.11308376,  0.10925913, -1.67585091, -0.62818711]]))"
          },
          "metadata": {},
          "output_type": "execute_result",
          "execution_count": 4
        }
      ],
      "source": "\ntemp \u003d stock_day_change[0:2, 0:5].copy()\n\nstock_day_change[0:2, 0:5] \u003d stock_day_change[-2:, -5:]\n\nstock_day_change[-2:, -5:] \u003d temp\n\nstock_day_change[0:2, 0:5], stock_day_change[-2:, -5:]",
      "metadata": {
        "pycharm": {
          "metadata": false,
          "name": "#%% Numpy uses referenes, so instead of direct assigning, temp is neededd\n",
          "is_executing": false
        }
      }
    },
    {
      "cell_type": "code",
      "execution_count": null,
      "outputs": [],
      "source": "\n",
      "metadata": {
        "pycharm": {
          "metadata": false,
          "name": "#%%\n"
        }
      }
    }
  ],
  "metadata": {
    "language_info": {
      "codemirror_mode": {
        "name": "ipython",
        "version": 2
      },
      "file_extension": ".py",
      "mimetype": "text/x-python",
      "name": "python",
      "nbconvert_exporter": "python",
      "pygments_lexer": "ipython2",
      "version": "2.7.6"
    },
    "kernelspec": {
      "name": "python3",
      "language": "python",
      "display_name": "Python 3"
    },
    "stem_cell": {
      "cell_type": "raw",
      "source": "",
      "metadata": {
        "pycharm": {
          "metadata": false
        }
      }
    }
  },
  "nbformat": 4,
  "nbformat_minor": 0
}