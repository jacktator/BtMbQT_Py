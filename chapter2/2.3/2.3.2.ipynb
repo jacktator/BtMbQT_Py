{
  "cells": [
    {
      "cell_type": "code",
      "execution_count": 22,
      "outputs": [],
      "source": "from collections import OrderedDict, namedtuple\nfrom typing import List\nfrom functools import reduce\n\nclass StockTradeDays(object): \n    \n    def __init__(self, \n                 price_array: List[int], \n                 start_date: str, \n                 date_array: List[int] \u003d None):\n        # Private Price Array\n        self.__price_array \u003d price_array\n        # Private Date Array\n        self.__date_array \u003d self._init_days(start_date, date_array)\n        # Private Change Array\n        self.__change_array \u003d self.__init_change()\n        # Construct OrderedDict\n        self.stock_dict \u003d self._init_stock_dict()\n    \n    def __init_change(self):\n        \"\"\"\n        Generate change_array from price_array\n        :return: \n        \"\"\"\n        price_float_array \u003d [float(price_str) for price_str in self.__price_array]\n        \n        # Move the price to generate a change_array\n        pp_array \u003d [(price1, price2) for price1, price2 in zip(price_float_array[:-1], price_float_array[1:])]\n        change_map \u003d map(\n            lambda pp: reduce(\n                lambda  a, b: round(\n                    (b - a) / a, \n                    3), \n                pp),\n            pp_array)\n        \n        # list insert() function insert first date change as 9.\n        change_array \u003d list(change_map)\n        change_array.insert(0, 0)\n        return change_array\n    \n    def _init_days(self, \n                   start_date:str, \n                   date_array:List[int]):\n        \"\"\"\n        protected function,\n        :param start_date: First date\n        :param date_array: date_array\n        :return:\n        \"\"\"\n        if date_array is None:\n            # Use start_date and self.__price_arary to determine date_array\n            date_array \u003d [str(start_date + index) for index, _ in enumerate(self.__price_array)]\n        else:\n            # Use date_array if provided\n            date_array \u003d [str(date) for date in date_array]\n        return date_array\n    \n    def _init_stock_dict(self):\n        \"\"\"\n        Use namedtupple, OrderedDict to combine results\n        :return: \n        \"\"\"\n        stock_namedtuple \u003d namedtuple(\u0027stock\u0027, \n                                      (\u0027date\u0027, \u0027price\u0027, \u0027change\u0027))\n        # Use defined __date_array to combine OrderedDict\n        stock_dict \u003d OrderedDict(\n            (date, stock_namedtuple(date, price, change))\n            for date, price, change in\n            zip (self.__date_array, self.__price_array, self.__change_array))\n        return stock_dict\n    \n    def filter_stock(self, \n                     up_days_only: bool \u003d True, \n                     want_calc_sum: bool \u003d False):\n        \"\"\"\n        Filter stock result\n        :param up_days_only: \n        :param want_calc_sum: \n        :return: \n        \"\"\"\n        # Use filter_func as Filter\n        filter_func \u003d (lambda day: day.change \u003e 0) if up_days_only \\\n            else (lambda day: day.change \u003c 0)\n        \n        filtered_days \u003d list(filter(filter_func, self.stock_dict.values()))\n        \n        if not want_calc_sum:\n            return filtered_days\n        \n        # Need to calculate the sum\n        change_sum \u003d 0.0\n        for day in filtered_days:\n            change_sum +\u003d day.change\n            return change_sum\n        \n    def __str__(self):\n        return str(self.stock_dict)\n    \n    __repr__ \u003d __str__\n        \n    def __iter__(self):\n        \"\"\"\n        Iterate stock_dict to yield elements\n        :return: \n        \"\"\"\n        for key in self.stock_dict:\n            yield self.stock_dict[key]\n        \n    def __getitem__(self, index):\n        date_key \u003d self.__date_array[index]\n        return self.stock_dict[date_key]\n    \n    def __len__(self):\n        return len(self.stock_dict)\n    ",
      "metadata": {
        "pycharm": {
          "metadata": false,
          "name": "#%% StockTradeDays Class\n",
          "is_executing": false
        }
      }
    },
    {
      "cell_type": "code",
      "execution_count": 23,
      "metadata": {
        "collapsed": true,
        "pycharm": {
          "is_executing": false,
          "name": "#%% Inheretance \n"
        }
      },
      "outputs": [],
      "source": "import six\nfrom abc import ABCMeta, abstractmethod\n\nclass TradeStrategyBase(six.with_metaclass(ABCMeta, object)):\n    \"\"\"\n    Trading Strategy Abstract Base Class\n    \"\"\"\n    @abstractmethod\n    def buy_strategy(self, *args, **kwargs):\n        # Base Buy Strategy \n        pass\n    \n    @abstractmethod\n    def sell_strategy(self, *args, **kwargs):\n        # Base Sell Strategy\n        pass"
    },
    {
      "cell_type": "code",
      "execution_count": 31,
      "outputs": [],
      "source": "class TradeStrategy1(TradeStrategyBase):\n    \"\"\"\n    Trade Strategy 1: Follow the upward trend.\n    When price rise above an absolute threshold, set to 2%, buy and hold s_keep_stock_threshold (20) days. \n    \"\"\"\n    s_keep_stock_threshold \u003d 20\n    \n    def __init__(self):\n        self.held_period_days \u003d 0\n        # Buy threshold 2%\n        self.__buy_change_threshold \u003d 0.02\n        \n    def buy_strategy(self, trade_index, trade_day, trade_days):\n        if self.held_period_days \u003d\u003d 0 and \\\n                trade_day.change \u003e self.__buy_change_threshold:\n            # When there is no holding, and situation meets the above threshold\n            self.held_period_days +\u003d 1\n        elif self.held_period_days \u003e 0:\n            # self.held_period_days \u003e 0, means already holding, increment held_period_days by 1\n            self.held_period_days +\u003d 1\n\n    def sell_strategy(self, trade_index, trade_day, trade_days):\n        if self.held_period_days \u003e\u003d \\\n            TradeStrategy1.s_keep_stock_threshold:\n            # When holding period exceeds s_keep_stock_threshold, sell stocks\n            self.held_period_days \u003d 0\n    \n    @property\n    def buy_change_threshold(self):\n        return self.__buy_change_threshold\n    \n    @buy_change_threshold.setter\n    def buy_change_threshold(self, buy_change_threshold):\n        if not isinstance(buy_change_threshold, float):\n            \"\"\"\n                Upward threshold needs to be a float type.\n            \"\"\"\n            raise TypeError(\u0027buy_change_threshold must be float!\u0027)\n        # Take only the last 2 digits in Upward threshold\n        self.__buy_change_threshold \u003d round(buy_change_threshold, 2)",
      "metadata": {
        "pycharm": {
          "metadata": false,
          "name": "#%%\n",
          "is_executing": false
        }
      }
    },
    {
      "cell_type": "code",
      "execution_count": 73,
      "outputs": [],
      "source": "class TradeLoopBack(object):\n    \"\"\"\n    Trade Back-Testing System\n    \"\"\"\n    def __init__(self, trade_days, trade_strategy):\n        \"\"\"\n        Initialize trading system using StockTradeDays and TradeStrategyBase\n        :param trade_days: StockTradeDays \n        :param trade_strategy: TradeStrategyBase\n        \"\"\"\n        self.trade_days \u003d trade_days\n        self.trade_strategy \u003d trade_strategy\n        # Profit Array from Trading\n        self.profit_array \u003d []\n        \n    def execute_trade(self):\n        \"\"\"\n        Executing the back-test\n        :return: \n        \"\"\" \n        for index, day in enumerate(self.trade_days):\n            \"\"\"\n            Iterate through dates, execute the back-test\n            \"\"\"\n            if self.trade_strategy.held_period_days \u003e 0:\n                # If holding, add trading profit\n                self.profit_array.append(day.change)\n            # hasattr: To check if a attribute exists\n            if hasattr(self.trade_strategy, \u0027buy_strategy\u0027):\n                # Execute Buy\n                self.trade_strategy.buy_strategy(index, day, self.trade_days)\n                \n            if hasattr(self.trade_strategy, \u0027sell_strategy\u0027):\n                # Execute Sell\n                self.trade_strategy.sell_strategy(index, day, self.trade_days)\n            ",
      "metadata": {
        "pycharm": {
          "metadata": false,
          "name": "#%%\n",
          "is_executing": false
        }
      }
    },
    {
      "cell_type": "code",
      "execution_count": 47,
      "outputs": [
        {
          "data": {
            "text/plain": "([121.65,\n  122.88,\n  123.4,\n  125.2,\n  125.9,\n  125.24,\n  125.19,\n  124.76,\n  123.04,\n  120.76,\n  122.32,\n  122.5,\n  121.42,\n  121.96,\n  123.09,\n  122.93,\n  123.1,\n  123.4,\n  124.01,\n  123.52,\n  122.74,\n  124.81,\n  121.51,\n  121.45,\n  120.78,\n  121.98,\n  120.8,\n  122.2,\n  122.73,\n  124.23,\n  125.28,\n  125.47,\n  127.01,\n  127.43,\n  127.73,\n  128.04,\n  128.47,\n  129.27,\n  129.52,\n  129.98,\n  130.99,\n  128.93,\n  127.91,\n  127.8,\n  129.49,\n  130.61,\n  129.89,\n  129.82,\n  130.38,\n  129.84,\n  129.72,\n  127.67,\n  128.55,\n  131.09,\n  131.58,\n  132.37,\n  130.88,\n  131.14,\n  131.94,\n  133.8,\n  133.07,\n  132.96,\n  132.75,\n  133.85,\n  133.84,\n  133.8,\n  133.3,\n  133.24,\n  132.66,\n  132.89,\n  136.53,\n  137.22,\n  141.98,\n  142.4,\n  140.1,\n  141.51,\n  141.58,\n  141.54,\n  142.66,\n  142.24,\n  141.75,\n  141.89,\n  138.57,\n  138.35,\n  139.69,\n  140.14,\n  141.17,\n  142.01,\n  143.01,\n  142.13,\n  143.74,\n  143.49,\n  144.53,\n  145.58,\n  146.815,\n  146.66,\n  147.35,\n  146.19,\n  145.85,\n  146.19,\n  144.945,\n  145.375,\n  145.55,\n  145.8,\n  146.24,\n  146.59,\n  148.52,\n  148.95,\n  148.77,\n  148.89,\n  148.25,\n  149.29,\n  150.09,\n  149.97,\n  149.97,\n  149.29,\n  149.54,\n  149.69,\n  149.95,\n  148.33,\n  150.33,\n  149.02,\n  149.56,\n  152.51,\n  151.25,\n  152.74,\n  152.98,\n  154.19,\n  148.35,\n  150.47,\n  149.69,\n  143.43,\n  145.13,\n  147.42,\n  149.45,\n  149.89,\n  150.88,\n  152.5,\n  151.69,\n  151.93,\n  153.4,\n  153.12,\n  151.68,\n  151.45,\n  150.53,\n  150.85,\n  151.28,\n  151.4,\n  151.77,\n  151.36,\n  151.91,\n  153.82,\n  155.81,\n  159.04,\n  159.27,\n  159.5,\n  159.85,\n  160.92,\n  162.33,\n  162.29,\n  164.32,\n  165.48,\n  166.83,\n  168.28,\n  167.19,\n  167.01,\n  168.59,\n  170.34,\n  168.55,\n  167.19,\n  169.0,\n  172.93,\n  170.55,\n  164.59,\n  169.28,\n  168.73,\n  160.62,\n  165.2,\n  167.89,\n  170.12,\n  172.52,\n  174.69,\n  175.65,\n  175.35,\n  172.32,\n  172.95,\n  175.76,\n  177.87,\n  175.93,\n  175.76,\n  173.49,\n  175.02,\n  178.53,\n  177.53,\n  179.21,\n  179.25,\n  183.24,\n  181.96,\n  181.01,\n  180.12,\n  180.95,\n  182.55,\n  179.59,\n  182.51,\n  183.21,\n  175.52,\n  171.83,\n  177.17,\n  172.52,\n  170.35,\n  175.16,\n  171.6,\n  172.47,\n  173.69,\n  175.85,\n  169.7,\n  170.34,\n  174.72,\n  172.36,\n  174.8,\n  174.27,\n  173.87,\n  178.33,\n  179.41,\n  179.01,\n  177.08,\n  175.43,\n  173.24,\n  172.47,\n  178.16,\n  175.94,\n  178.27,\n  180.25,\n  185.82,\n  186.48,\n  188.17,\n  189.1,\n  190.53,\n  190.63,\n  193.05,\n  193.35,\n  192.12,\n  192.0,\n  192.38,\n  191.2,\n  190.4,\n  191.2,\n  191.62,\n  192.99,\n  191.91,\n  191.17,\n  189.53,\n  191.76,\n  190.12,\n  195.37,\n  197.73,\n  199.4,\n  203.21,\n  199.54,\n  200.04,\n  198.49,\n  200.13,\n  199.41,\n  199.23,\n  199.53,\n  201.13,\n  199.69,\n  201.54,\n  201.87,\n  201.48,\n  194.98,\n  196.46,\n  193.18,\n  197.1,\n  196.52,\n  197.67,\n  196.27,\n  198.87,\n  199.52,\n  200.93,\n  201.52,\n  203.84,\n  207.78,\n  205.91,\n  204.08,\n  206.37,\n  208.36,\n  206.06,\n  206.71,\n  207.84,\n  209.58,\n  214.16,\n  207.37,\n  202.94,\n  197.87,\n  198.0,\n  201.2,\n  202.01,\n  201.2,\n  201.54,\n  202.62,\n  202.86,\n  203.6,\n  202.65,\n  202.31,\n  203.88,\n  200.24,\n  203.6,\n  203.21,\n  204.75,\n  203.09,\n  204.31,\n  205.22,\n  209.4,\n  211.53,\n  212.63,\n  214.57,\n  213.8,\n  215.56,\n  216.82,\n  211.16,\n  212.77,\n  211.09,\n  211.67,\n  213.45,\n  214.03,\n  217.22,\n  217.96,\n  216.47,\n  220.05,\n  218.19,\n  221.39,\n  221.9,\n  221.35,\n  222.12,\n  222.26,\n  222.31,\n  222.61,\n  223.77,\n  222.37,\n  223.13,\n  216.15,\n  213.26,\n  208.26,\n  209.76,\n  196.69,\n  194.51,\n  204.22,\n  200.32,\n  207.78,\n  207.44,\n  203.62,\n  203.06,\n  204.5,\n  202.43,\n  195.69,\n  203.52,\n  197.49,\n  191.04,\n  187.73,\n  197.67,\n  199.71,\n  197.72,\n  197.72,\n  197.98,\n  208.3,\n  208.24,\n  205.62,\n  199.14,\n  198.17,\n  197.56,\n  200.71,\n  199.04,\n  196.95,\n  187.11,\n  187.66,\n  182.6,\n  191.85,\n  192.98,\n  202.28,\n  202.28,\n  201.07,\n  201.07,\n  200.49,\n  202.99,\n  196.5,\n  198.06,\n  197.74,\n  200.29,\n  198.96,\n  195.33,\n  190.45,\n  191.61,\n  187.12,\n  182.71,\n  175.19,\n  174.65,\n  186.43,\n  186.43,\n  186.43,\n  186.43],\n [20170530,\n  20170531,\n  20170601,\n  20170602,\n  20170605,\n  20170606,\n  20170607,\n  20170608,\n  20170609,\n  20170612,\n  20170613,\n  20170614,\n  20170615,\n  20170616,\n  20170619,\n  20170620,\n  20170621,\n  20170622,\n  20170623,\n  20170626,\n  20170627,\n  20170628,\n  20170629,\n  20170630,\n  20170703,\n  20170705,\n  20170706,\n  20170707,\n  20170710,\n  20170711,\n  20170712,\n  20170713,\n  20170714,\n  20170717,\n  20170718,\n  20170719,\n  20170720,\n  20170721,\n  20170724,\n  20170725,\n  20170726,\n  20170727,\n  20170728,\n  20170731,\n  20170801,\n  20170802,\n  20170803,\n  20170804,\n  20170807,\n  20170808,\n  20170809,\n  20170810,\n  20170811,\n  20170814,\n  20170815,\n  20170816,\n  20170817,\n  20170818,\n  20170821,\n  20170822,\n  20170823,\n  20170824,\n  20170825,\n  20170828,\n  20170829,\n  20170830,\n  20170831,\n  20170901,\n  20170905,\n  20170906,\n  20170907,\n  20170908,\n  20170911,\n  20170912,\n  20170913,\n  20170914,\n  20170915,\n  20170918,\n  20170919,\n  20170920,\n  20170921,\n  20170922,\n  20170925,\n  20170926,\n  20170927,\n  20170928,\n  20170929,\n  20171002,\n  20171003,\n  20171004,\n  20171005,\n  20171006,\n  20171009,\n  20171010,\n  20171011,\n  20171012,\n  20171013,\n  20171016,\n  20171017,\n  20171018,\n  20171019,\n  20171020,\n  20171023,\n  20171024,\n  20171025,\n  20171026,\n  20171027,\n  20171030,\n  20171031,\n  20171101,\n  20171102,\n  20171103,\n  20171106,\n  20171107,\n  20171108,\n  20171109,\n  20171110,\n  20171113,\n  20171114,\n  20171115,\n  20171116,\n  20171117,\n  20171120,\n  20171121,\n  20171122,\n  20171124,\n  20171127,\n  20171128,\n  20171129,\n  20171130,\n  20171201,\n  20171204,\n  20171205,\n  20171206,\n  20171207,\n  20171208,\n  20171211,\n  20171212,\n  20171213,\n  20171214,\n  20171215,\n  20171218,\n  20171219,\n  20171220,\n  20171221,\n  20171222,\n  20171226,\n  20171227,\n  20171228,\n  20171229,\n  20180102,\n  20180103,\n  20180104,\n  20180105,\n  20180108,\n  20180109,\n  20180110,\n  20180111,\n  20180112,\n  20180116,\n  20180117,\n  20180118,\n  20180119,\n  20180122,\n  20180123,\n  20180124,\n  20180125,\n  20180126,\n  20180129,\n  20180130,\n  20180131,\n  20180201,\n  20180202,\n  20180205,\n  20180206,\n  20180207,\n  20180208,\n  20180209,\n  20180212,\n  20180213,\n  20180214,\n  20180215,\n  20180216,\n  20180220,\n  20180221,\n  20180222,\n  20180223,\n  20180226,\n  20180227,\n  20180228,\n  20180301,\n  20180302,\n  20180305,\n  20180306,\n  20180307,\n  20180308,\n  20180309,\n  20180312,\n  20180313,\n  20180314,\n  20180315,\n  20180316,\n  20180319,\n  20180320,\n  20180321,\n  20180322,\n  20180323,\n  20180326,\n  20180327,\n  20180328,\n  20180329,\n  20180402,\n  20180403,\n  20180404,\n  20180405,\n  20180406,\n  20180409,\n  20180410,\n  20180411,\n  20180412,\n  20180413,\n  20180416,\n  20180417,\n  20180418,\n  20180419,\n  20180420,\n  20180423,\n  20180424,\n  20180425,\n  20180426,\n  20180427,\n  20180430,\n  20180501,\n  20180502,\n  20180503,\n  20180504,\n  20180507,\n  20180508,\n  20180509,\n  20180510,\n  20180511,\n  20180514,\n  20180515,\n  20180516,\n  20180517,\n  20180518,\n  20180521,\n  20180522,\n  20180523,\n  20180524,\n  20180525,\n  20180529,\n  20180530,\n  20180531,\n  20180601,\n  20180604,\n  20180605,\n  20180606,\n  20180607,\n  20180608,\n  20180611,\n  20180612,\n  20180613,\n  20180614,\n  20180615,\n  20180618,\n  20180619,\n  20180620,\n  20180621,\n  20180622,\n  20180625,\n  20180626,\n  20180627,\n  20180628,\n  20180629,\n  20180702,\n  20180703,\n  20180705,\n  20180706,\n  20180709,\n  20180710,\n  20180711,\n  20180712,\n  20180713,\n  20180716,\n  20180717,\n  20180718,\n  20180719,\n  20180720,\n  20180723,\n  20180724,\n  20180725,\n  20180726,\n  20180727,\n  20180730,\n  20180731,\n  20180801,\n  20180802,\n  20180803,\n  20180806,\n  20180807,\n  20180808,\n  20180809,\n  20180810,\n  20180813,\n  20180814,\n  20180815,\n  20180816,\n  20180817,\n  20180820,\n  20180821,\n  20180822,\n  20180823,\n  20180824,\n  20180827,\n  20180828,\n  20180829,\n  20180830,\n  20180831,\n  20180904,\n  20180905,\n  20180906,\n  20180907,\n  20180910,\n  20180911,\n  20180912,\n  20180913,\n  20180914,\n  20180917,\n  20180918,\n  20180919,\n  20180920,\n  20180921,\n  20180924,\n  20180925,\n  20180926,\n  20180927,\n  20180928,\n  20181001,\n  20181002,\n  20181003,\n  20181004,\n  20181005,\n  20181008,\n  20181009,\n  20181010,\n  20181011,\n  20181012,\n  20181015,\n  20181016,\n  20181017,\n  20181018,\n  20181019,\n  20181022,\n  20181023,\n  20181024,\n  20181025,\n  20181026,\n  20181029,\n  20181030,\n  20181031,\n  20181101,\n  20181102,\n  20181105,\n  20181106,\n  20181107,\n  20181108,\n  20181109,\n  20181112,\n  20181113,\n  20181114,\n  20181115,\n  20181116,\n  20181119,\n  20181120,\n  20181121,\n  20181123,\n  20181126,\n  20181127,\n  20181128,\n  20181129,\n  20181130,\n  20181203,\n  20181204,\n  20181206,\n  20181207,\n  20181210,\n  20181211,\n  20181212,\n  20181213,\n  20181214,\n  20181217,\n  20181218,\n  20181219,\n  20181220,\n  20181221,\n  20181224,\n  20181226,\n  20181227,\n  20181228,\n  20181231])"
          },
          "metadata": {},
          "output_type": "execute_result",
          "execution_count": 47
        }
      ],
      "source": "from abupy import ABuSymbolPd, EMarketDataSplitMode\n# List 2 years of MasterCard closing price to list()\nprice_array \u003d ABuSymbolPd.make_kl_df(\u0027MA\u0027, EMarketDataSplitMode.E_DATA_SPLIT_SE).close.tolist()\ndate_array \u003d ABuSymbolPd.make_kl_df(\u0027MA\u0027, EMarketDataSplitMode.E_DATA_SPLIT_SE).date.tolist()\nprice_array[:], date_array[:]",
      "metadata": {
        "pycharm": {
          "metadata": false,
          "name": "#%%\n",
          "is_executing": false
        }
      }
    },
    {
      "cell_type": "code",
      "execution_count": 48,
      "outputs": [
        {
          "name": "stdout",
          "text": [
            "trade_days has 401 days\nLast trading day: stock(date\u003d\u002720181231\u0027, price\u003d186.43, change\u003d0.0)\n"
          ],
          "output_type": "stream"
        }
      ],
      "source": "# Create Trade Days\ntrade_days \u003d StockTradeDays(price_array, \"\", date_array)\nprint(\u0027trade_days has {} days\u0027.format(len(trade_days)))\nprint(\u0027Last trading day: {}\u0027.format(trade_days[-1]))",
      "metadata": {
        "pycharm": {
          "metadata": false,
          "name": "#%%\n",
          "is_executing": false
        }
      }
    },
    {
      "cell_type": "code",
      "execution_count": 75,
      "outputs": [
        {
          "name": "stdout",
          "text": [
            "TradeStrategy1 Total Profit: 6.5000000000000115%\n"
          ],
          "output_type": "stream"
        }
      ],
      "source": "# Back Test Strategy\ntrade_loop_back \u003d TradeLoopBack(trade_days, TradeStrategy1())\ntrade_loop_back.execute_trade()\nprint(\u0027TradeStrategy1 Total Profit: {}%\u0027.format(\n    reduce(lambda a, b: a + b, trade_loop_back.profit_array) * 100\n))",
      "metadata": {
        "pycharm": {
          "metadata": false,
          "name": "#%%\n",
          "is_executing": false
        }
      }
    },
    {
      "cell_type": "code",
      "execution_count": 33,
      "outputs": [],
      "source": "",
      "metadata": {
        "pycharm": {
          "metadata": false,
          "name": "#%%\n",
          "is_executing": false
        }
      }
    }
  ],
  "metadata": {
    "language_info": {
      "codemirror_mode": {
        "name": "ipython",
        "version": 2
      },
      "file_extension": ".py",
      "mimetype": "text/x-python",
      "name": "python",
      "nbconvert_exporter": "python",
      "pygments_lexer": "ipython2",
      "version": "2.7.6"
    },
    "kernelspec": {
      "name": "python3",
      "language": "python",
      "display_name": "Python 3"
    },
    "stem_cell": {
      "cell_type": "raw",
      "source": "",
      "metadata": {
        "pycharm": {
          "metadata": false
        }
      }
    }
  },
  "nbformat": 4,
  "nbformat_minor": 0
}