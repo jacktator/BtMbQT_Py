{
 "cells": [
  {
   "cell_type": "code",
   "execution_count": 5,
   "metadata": {
    "collapsed": true,
    "pycharm": {
     "is_executing": false,
     "name": "#%% Functons and Define\n"
    }
   },
   "outputs": [
    {
     "data": {
      "text/plain": "{'20190401': 30.14,\n '20190402': 29.58,\n '20190403': 26.36,\n '20190404': 32.56,\n '20190405': 32.82}"
     },
     "metadata": {},
     "output_type": "execute_result",
     "execution_count": 5
    }
   ],
   "source": [
    "price_array = [30.14, 29.58, 26.36, 32.56, 32.82]\n",
    "date_array = [str(20190401 + ind) for ind, _ in enumerate(price_array)]\n",
    "stock_dict: dict = {date:price for date, price in zip(date_array, price_array)}\n",
    "stock_dict"
   ]
  },
  {
   "cell_type": "code",
   "execution_count": 6,
   "outputs": [
    {
     "data": {
      "text/plain": "('20190401', 30.14)"
     },
     "metadata": {},
     "output_type": "execute_result",
     "execution_count": 6
    }
   ],
   "source": [
    "# This only finds the min of keys, not values\n",
    "min(zip(stock_dict.keys(), stock_dict.values()))"
   ],
   "metadata": {
    "pycharm": {
     "metadata": false,
     "name": "#%% 1. Built-in functions\n",
     "is_executing": false
    }
   }
  },
  {
   "cell_type": "code",
   "execution_count": 7,
   "outputs": [
    {
     "data": {
      "text/plain": "(26.36, '20190403')"
     },
     "metadata": {},
     "output_type": "execute_result",
     "execution_count": 7
    }
   ],
   "source": [
    "min(zip(stock_dict.values(), stock_dict.keys()))"
   ],
   "metadata": {
    "pycharm": {
     "metadata": false,
     "name": "#%%\n",
     "is_executing": false
    }
   }
  },
  {
   "cell_type": "code",
   "execution_count": 8,
   "outputs": [
    {
     "name": "stdout",
     "text": [
      "(32.56, '20190404')\n"
     ],
     "output_type": "stream"
    }
   ],
   "source": [
    "def find_second_max(dict_array):\n",
    "    stock_prices_sorted = sorted(\n",
    "        zip(dict_array.values(), dict_array.keys())\n",
    "    )\n",
    "    return stock_prices_sorted[-2]\n",
    "\n",
    "if callable(find_second_max):\n",
    "    print(find_second_max(stock_dict))"
   ],
   "metadata": {
    "pycharm": {
     "metadata": false,
     "name": "#%% 2. Cumtom functions\n",
     "is_executing": false
    }
   }
  },
  {
   "cell_type": "code",
   "execution_count": null,
   "outputs": [],
   "source": [],
   "metadata": {
    "pycharm": {
     "metadata": false,
     "name": "#%%"
    }
   }
  }
 ],
 "metadata": {
  "language_info": {
   "codemirror_mode": {
    "name": "ipython",
    "version": 2
   },
   "file_extension": ".py",
   "mimetype": "text/x-python",
   "name": "python",
   "nbconvert_exporter": "python",
   "pygments_lexer": "ipython2",
   "version": "2.7.6"
  },
  "kernelspec": {
   "name": "python3",
   "language": "python",
   "display_name": "Python 3"
  },
  "pycharm": {
   "stem_cell": {
    "cell_type": "raw",
    "source": [],
    "metadata": {
     "collapsed": false
    }
   }
  }
 },
 "nbformat": 4,
 "nbformat_minor": 0
}