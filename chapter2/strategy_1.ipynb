{
  "cells": [
    {
      "cell_type": "code",
      "execution_count": null,
      "outputs": [],
      "source": "import import_ipynb\nfrom strategy_base import TradeStrategyBase\n\nclass TradeStrategy1(TradeStrategyBase):\n    \"\"\"\n    Trade Strategy 1: Follow the upward trend.\n    When price rise above an absolute threshold, set to 2%, buy and hold s_keep_stock_threshold (20) days. \n    \"\"\"\n    s_keep_stock_threshold \u003d 20\n    \n    def __init__(self):\n        self.held_period_days \u003d 0\n        # Buy threshold 2%\n        self.__buy_change_threshold \u003d 0.02\n        \n    def buy_strategy(self, trade_index, trade_day, trade_days):\n        if self.held_period_days \u003d\u003d 0 and \\\n                trade_day.change \u003e self.__buy_change_threshold:\n            # When there is no holding, and situation meets the above threshold\n            self.held_period_days +\u003d 1\n        elif self.held_period_days \u003e 0:\n            # self.held_period_days \u003e 0, means already holding, increment held_period_days by 1\n            self.held_period_days +\u003d 1\n\n    def sell_strategy(self, trade_index, trade_day, trade_days):\n        if self.held_period_days \u003e\u003d \\\n            TradeStrategy1.s_keep_stock_threshold:\n            # When holding period exceeds s_keep_stock_threshold, sell stocks\n            self.held_period_days \u003d 0\n    \n    @property\n    def buy_change_threshold(self):\n        return self.__buy_change_threshold\n    \n    @buy_change_threshold.setter\n    def buy_change_threshold(self, buy_change_threshold):\n        if not isinstance(buy_change_threshold, float):\n            \"\"\"\n                Upward threshold needs to be a float type.\n            \"\"\"\n            raise TypeError(\u0027buy_change_threshold must be float!\u0027)\n        # Take only the last 2 digits in Upward threshold\n        self.__buy_change_threshold \u003d round(buy_change_threshold, 2)",
      "metadata": {
        "pycharm": {
          "metadata": false,
          "name": "#%% Trade Strategy 1: Follow the upward trend.\n"
        }
      }
    }
  ],
  "metadata": {
    "language_info": {
      "codemirror_mode": {
        "name": "ipython",
        "version": 2
      },
      "file_extension": ".py",
      "mimetype": "text/x-python",
      "name": "python",
      "nbconvert_exporter": "python",
      "pygments_lexer": "ipython2",
      "version": "2.7.6"
    },
    "kernelspec": {
      "name": "python3",
      "language": "python",
      "display_name": "Python 3"
    },
    "stem_cell": {
      "cell_type": "raw",
      "source": "",
      "metadata": {
        "pycharm": {
          "metadata": false
        }
      }
    }
  },
  "nbformat": 4,
  "nbformat_minor": 0
}