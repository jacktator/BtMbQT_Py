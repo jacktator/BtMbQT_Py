{
  "cells": [
    {
      "cell_type": "code",
      "execution_count": 7,
      "outputs": [],
      "source": "import numpy as np\n\nstock_day_change \u003d np.load(\u0027./gen/stock_day_change.npy\u0027)\n",
      "metadata": {
        "pycharm": {
          "metadata": false,
          "name": "#%%\n",
          "is_executing": false
        }
      }
    },
    {
      "cell_type": "code",
      "execution_count": 8,
      "metadata": {
        "collapsed": true,
        "pycharm": {
          "name": "#%% Normal Distribution\n",
          "is_executing": false
        }
      },
      "outputs": [
        {
          "name": "stdout",
          "text": [
            "Stock 0 Mean: 0.065\nStock 0 Std: 0.987\n"
          ],
          "output_type": "stream"
        }
      ],
      "source": "\nimport scipy.stats as scs\n\nstock_mean \u003d stock_day_change[0].mean()\n\nstock_std \u003d stock_day_change[0].std()\n\nprint(\u0027Stock 0 Mean: {:.3f}\u0027.format(stock_mean))\nprint(\u0027Stock 0 Std: {:.3f}\u0027.format(stock_std))\n"
    },
    {
      "cell_type": "code",
      "execution_count": 17,
      "outputs": [
        {
          "data": {
            "text/plain": "(array([0.03471205, 0.01735602, 0.        , 0.03471205, 0.08678012,\n        0.03471205, 0.10413614, 0.12149216, 0.05206807, 0.15620421,\n        0.20827228, 0.19091626, 0.17356024, 0.19091626, 0.24298433,\n        0.2950524 , 0.26034035, 0.19091626, 0.36447649, 0.27769638,\n        0.32976445, 0.36447649, 0.57274878, 0.38183252, 0.39918854,\n        0.36447649, 0.36447649, 0.41654457, 0.2950524 , 0.36447649,\n        0.34712047, 0.15620421, 0.24298433, 0.20827228, 0.20827228,\n        0.13884819, 0.10413614, 0.19091626, 0.01735602, 0.03471205,\n        0.08678012, 0.01735602, 0.05206807, 0.01735602, 0.01735602,\n        0.        , 0.        , 0.        , 0.        , 0.01735602]),\n array([-2.56663983, -2.45232061, -2.3380014 , -2.22368218, -2.10936297,\n        -1.99504375, -1.88072454, -1.76640532, -1.65208611, -1.53776689,\n        -1.42344768, -1.30912846, -1.19480925, -1.08049004, -0.96617082,\n        -0.85185161, -0.73753239, -0.62321318, -0.50889396, -0.39457475,\n        -0.28025553, -0.16593632, -0.0516171 ,  0.06270211,  0.17702133,\n         0.29134054,  0.40565976,  0.51997897,  0.63429818,  0.7486174 ,\n         0.86293661,  0.97725583,  1.09157504,  1.20589426,  1.32021347,\n         1.43453269,  1.5488519 ,  1.66317112,  1.77749033,  1.89180955,\n         2.00612876,  2.12044798,  2.23476719,  2.3490864 ,  2.46340562,\n         2.57772483,  2.69204405,  2.80636326,  2.92068248,  3.03500169,\n         3.14932091]),\n \u003ca list of 50 Patch objects\u003e)"
          },
          "metadata": {},
          "output_type": "execute_result",
          "execution_count": 17
        },
        {
          "data": {
            "text/plain": "\u003cFigure size 432x288 with 1 Axes\u003e",
            "image/png": "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\u003d\u003d\n"
          },
          "metadata": {
            "needs_background": "light"
          },
          "output_type": "display_data"
        }
      ],
      "source": "\nfrom matplotlib import pyplot\npyplot.hist(stock_day_change[0], \n            bins\u003d50, \n            density\u003dTrue)\n",
      "metadata": {
        "pycharm": {
          "metadata": false,
          "name": "#%%\n",
          "is_executing": false
        }
      }
    },
    {
      "cell_type": "code",
      "execution_count": 18,
      "outputs": [
        {
          "data": {
            "text/plain": "[\u003cmatplotlib.lines.Line2D at 0x12c1817f0\u003e]"
          },
          "metadata": {},
          "output_type": "execute_result",
          "execution_count": 18
        },
        {
          "data": {
            "text/plain": "\u003cFigure size 432x288 with 1 Axes\u003e",
            "image/png": "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\u003d\n"
          },
          "metadata": {
            "needs_background": "light"
          },
          "output_type": "display_data"
        }
      ],
      "source": "\nfit_linspace \u003d np.linspace(stock_day_change[0].min(),\n                           stock_day_change[0].max())\npdf \u003d scs.norm(stock_mean, stock_std).pdf(fit_linspace)\n\npyplot.plot(fit_linspace, pdf, lw\u003d2, c\u003d\u0027r\u0027)\n",
      "metadata": {
        "pycharm": {
          "metadata": false,
          "name": "#%%\n",
          "is_executing": false
        }
      }
    },
    {
      "cell_type": "code",
      "execution_count": null,
      "outputs": [],
      "source": "\n",
      "metadata": {
        "pycharm": {
          "metadata": false,
          "name": "#%%\n"
        }
      }
    }
  ],
  "metadata": {
    "language_info": {
      "codemirror_mode": {
        "name": "ipython",
        "version": 2
      },
      "file_extension": ".py",
      "mimetype": "text/x-python",
      "name": "python",
      "nbconvert_exporter": "python",
      "pygments_lexer": "ipython2",
      "version": "2.7.6"
    },
    "kernelspec": {
      "name": "python3",
      "language": "python",
      "display_name": "Python 3"
    },
    "stem_cell": {
      "cell_type": "raw",
      "source": "",
      "metadata": {
        "pycharm": {
          "metadata": false
        }
      }
    }
  },
  "nbformat": 4,
  "nbformat_minor": 0
}