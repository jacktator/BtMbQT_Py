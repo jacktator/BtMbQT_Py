{
  "cells": [
    {
      "cell_type": "code",
      "execution_count": 37,
      "metadata": {
        "collapsed": true,
        "pycharm": {
          "is_executing": false
        }
      },
      "outputs": [
        {
          "data": {
            "text/plain": "            close   high    low  p_change   open  pre_close   volume  \\\n2018-12-24  89.50  91.55  89.50    -2.004  90.74      91.33  3190855   \n2018-12-26  93.84  93.89  89.05     4.849  89.85      89.50  5383666   \n2018-12-27  93.84  93.89  89.05     0.000  89.85      93.84  5383666   \n2018-12-28  93.84  93.89  89.05     0.000  89.85      93.84  5383666   \n2018-12-31  93.84  93.89  89.05     0.000  89.85      93.84  5383666   \n\n                date  date_week  key     atr21     atr14  \n2018-12-24  20181224          0  392  4.443110  4.863392  \n2018-12-26  20181226          2  393  4.479191  4.860273  \n2018-12-27  20181227          3  394  4.511992  4.857570  \n2018-12-28  20181228          4  395  4.541811  4.855227  \n2018-12-31  20181231          0  396  4.568919  4.853197  ",
            "text/html": "\u003cdiv\u003e\n\u003cstyle scoped\u003e\n    .dataframe tbody tr th:only-of-type {\n        vertical-align: middle;\n    }\n\n    .dataframe tbody tr th {\n        vertical-align: top;\n    }\n\n    .dataframe thead th {\n        text-align: right;\n    }\n\u003c/style\u003e\n\u003ctable border\u003d\"1\" class\u003d\"dataframe\"\u003e\n  \u003cthead\u003e\n    \u003ctr style\u003d\"text-align: right;\"\u003e\n      \u003cth\u003e\u003c/th\u003e\n      \u003cth\u003eclose\u003c/th\u003e\n      \u003cth\u003ehigh\u003c/th\u003e\n      \u003cth\u003elow\u003c/th\u003e\n      \u003cth\u003ep_change\u003c/th\u003e\n      \u003cth\u003eopen\u003c/th\u003e\n      \u003cth\u003epre_close\u003c/th\u003e\n      \u003cth\u003evolume\u003c/th\u003e\n      \u003cth\u003edate\u003c/th\u003e\n      \u003cth\u003edate_week\u003c/th\u003e\n      \u003cth\u003ekey\u003c/th\u003e\n      \u003cth\u003eatr21\u003c/th\u003e\n      \u003cth\u003eatr14\u003c/th\u003e\n    \u003c/tr\u003e\n  \u003c/thead\u003e\n  \u003ctbody\u003e\n    \u003ctr\u003e\n      \u003cth\u003e2018-12-24\u003c/th\u003e\n      \u003ctd\u003e89.50\u003c/td\u003e\n      \u003ctd\u003e91.55\u003c/td\u003e\n      \u003ctd\u003e89.50\u003c/td\u003e\n      \u003ctd\u003e-2.004\u003c/td\u003e\n      \u003ctd\u003e90.74\u003c/td\u003e\n      \u003ctd\u003e91.33\u003c/td\u003e\n      \u003ctd\u003e3190855\u003c/td\u003e\n      \u003ctd\u003e20181224\u003c/td\u003e\n      \u003ctd\u003e0\u003c/td\u003e\n      \u003ctd\u003e392\u003c/td\u003e\n      \u003ctd\u003e4.443110\u003c/td\u003e\n      \u003ctd\u003e4.863392\u003c/td\u003e\n    \u003c/tr\u003e\n    \u003ctr\u003e\n      \u003cth\u003e2018-12-26\u003c/th\u003e\n      \u003ctd\u003e93.84\u003c/td\u003e\n      \u003ctd\u003e93.89\u003c/td\u003e\n      \u003ctd\u003e89.05\u003c/td\u003e\n      \u003ctd\u003e4.849\u003c/td\u003e\n      \u003ctd\u003e89.85\u003c/td\u003e\n      \u003ctd\u003e89.50\u003c/td\u003e\n      \u003ctd\u003e5383666\u003c/td\u003e\n      \u003ctd\u003e20181226\u003c/td\u003e\n      \u003ctd\u003e2\u003c/td\u003e\n      \u003ctd\u003e393\u003c/td\u003e\n      \u003ctd\u003e4.479191\u003c/td\u003e\n      \u003ctd\u003e4.860273\u003c/td\u003e\n    \u003c/tr\u003e\n    \u003ctr\u003e\n      \u003cth\u003e2018-12-27\u003c/th\u003e\n      \u003ctd\u003e93.84\u003c/td\u003e\n      \u003ctd\u003e93.89\u003c/td\u003e\n      \u003ctd\u003e89.05\u003c/td\u003e\n      \u003ctd\u003e0.000\u003c/td\u003e\n      \u003ctd\u003e89.85\u003c/td\u003e\n      \u003ctd\u003e93.84\u003c/td\u003e\n      \u003ctd\u003e5383666\u003c/td\u003e\n      \u003ctd\u003e20181227\u003c/td\u003e\n      \u003ctd\u003e3\u003c/td\u003e\n      \u003ctd\u003e394\u003c/td\u003e\n      \u003ctd\u003e4.511992\u003c/td\u003e\n      \u003ctd\u003e4.857570\u003c/td\u003e\n    \u003c/tr\u003e\n    \u003ctr\u003e\n      \u003cth\u003e2018-12-28\u003c/th\u003e\n      \u003ctd\u003e93.84\u003c/td\u003e\n      \u003ctd\u003e93.89\u003c/td\u003e\n      \u003ctd\u003e89.05\u003c/td\u003e\n      \u003ctd\u003e0.000\u003c/td\u003e\n      \u003ctd\u003e89.85\u003c/td\u003e\n      \u003ctd\u003e93.84\u003c/td\u003e\n      \u003ctd\u003e5383666\u003c/td\u003e\n      \u003ctd\u003e20181228\u003c/td\u003e\n      \u003ctd\u003e4\u003c/td\u003e\n      \u003ctd\u003e395\u003c/td\u003e\n      \u003ctd\u003e4.541811\u003c/td\u003e\n      \u003ctd\u003e4.855227\u003c/td\u003e\n    \u003c/tr\u003e\n    \u003ctr\u003e\n      \u003cth\u003e2018-12-31\u003c/th\u003e\n      \u003ctd\u003e93.84\u003c/td\u003e\n      \u003ctd\u003e93.89\u003c/td\u003e\n      \u003ctd\u003e89.05\u003c/td\u003e\n      \u003ctd\u003e0.000\u003c/td\u003e\n      \u003ctd\u003e89.85\u003c/td\u003e\n      \u003ctd\u003e93.84\u003c/td\u003e\n      \u003ctd\u003e5383666\u003c/td\u003e\n      \u003ctd\u003e20181231\u003c/td\u003e\n      \u003ctd\u003e0\u003c/td\u003e\n      \u003ctd\u003e396\u003c/td\u003e\n      \u003ctd\u003e4.568919\u003c/td\u003e\n      \u003ctd\u003e4.853197\u003c/td\u003e\n    \u003c/tr\u003e\n  \u003c/tbody\u003e\n\u003c/table\u003e\n\u003c/div\u003e"
          },
          "metadata": {},
          "output_type": "execute_result",
          "execution_count": 37
        }
      ],
      "source": "import pandas as pd\nimport numpy as np\nimport scipy.stats as scs\nfrom matplotlib import pyplot as plt\n\namex_df \u003d pd.read_csv(\u0027./gen/amex_df.csv\u0027,\n                           parse_dates\u003dTrue,\n                           index_col\u003d0)\namex_df.tail()\n "
    },
    {
      "cell_type": "code",
      "execution_count": 50,
      "outputs": [
        {
          "name": "stdout",
          "text": [
            "Days 397\nChange 0.05236272040302267\nSTD 1.275137314618302\n"
          ],
          "output_type": "stream"
        },
        {
          "data": {
            "text/plain": "\u003cFigure size 432x288 with 1 Axes\u003e",
            "image/png": "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\u003d\n"
          },
          "metadata": {
            "needs_background": "light"
          },
          "output_type": "display_data"
        }
      ],
      "source": "\n# Different stocks has different variation. Let\u0027s use top 10% of variation as \u0027abnormal\u0027 deviation.\n# When abnormal deviation happens, trade\n\namex_df.p_change.hist(bins\u003d80, )\nprint(\u0027Days {}\u0027.format(len(amex_df.p_change)))\nprint(\u0027Change {}\u0027.format(amex_df.p_change.mean()))\nprint(\u0027STD {}\u0027.format(amex_df.p_change.std()))\n\nfit_linspace \u003d np.linspace(amex_df.p_change.min(),\n                           amex_df.p_change.max())\npdf \u003d scs.norm(amex_df.p_change.mean(), \n               amex_df.p_change.std()).pdf(fit_linspace)\n",
      "metadata": {
        "pycharm": {
          "metadata": false,
          "name": "#%%\n",
          "is_executing": false
        }
      }
    },
    {
      "cell_type": "code",
      "execution_count": 51,
      "outputs": [
        {
          "data": {
            "text/plain": "[\u003cmatplotlib.lines.Line2D at 0x126226390\u003e]"
          },
          "metadata": {},
          "output_type": "execute_result",
          "execution_count": 51
        },
        {
          "data": {
            "text/plain": "\u003cFigure size 432x288 with 1 Axes\u003e",
            "image/png": "[encoded data removed]"
          },
          "metadata": {
            "needs_background": "light"
          },
          "output_type": "display_data"
        }
      ],
      "source": "\nplt.plot(fit_linspace, pdf, lw\u003d2, c\u003d\u0027r\u0027)\n",
      "metadata": {
        "pycharm": {
          "metadata": false,
          "name": "#%%\n",
          "is_executing": false
        }
      }
    },
    {
      "cell_type": "code",
      "execution_count": 56,
      "outputs": [
        {
          "data": {
            "text/plain": "(-0.001, 0.094]    41\n(1.951, 5.63]      40\n(1.33, 1.951]      40\n(0.749, 0.995]     40\n(0.449, 0.59]      40\n(0.196, 0.322]     40\n(0.995, 1.33]      39\n(0.59, 0.749]      39\n(0.322, 0.449]     39\n(0.094, 0.196]     39\nName: p_change, dtype: int64"
          },
          "metadata": {},
          "output_type": "execute_result",
          "execution_count": 56
        }
      ],
      "source": "\n# Normal Distribution\n# Use qcut to cut percentile\nimport numpy as np\n\ncuts \u003d pd.qcut(np.abs(amex_df.p_change), \n               10)\ncuts.value_counts()\n\n# Result is 1.951%\n",
      "metadata": {
        "pycharm": {
          "metadata": false,
          "name": "#%% \n",
          "is_executing": false
        }
      }
    },
    {
      "cell_type": "code",
      "execution_count": 57,
      "outputs": [
        {
          "data": {
            "text/plain": "(0.0, 3.0]      203\n(-3.0, 0.0]     177\n(-5.0, -3.0]      9\n(3.0, 5.0]        7\n(-7.0, -5.0]      1\n(7.0, inf]        0\n(5.0, 7.0]        0\n(-inf, -7.0]      0\nName: p_change, dtype: int64"
          },
          "metadata": {},
          "output_type": "execute_result",
          "execution_count": 57
        }
      ],
      "source": "\nbins \u003d [-np.inf,\n        -7.0,\n        -5,\n        -3,\n        0,\n        3,\n        5,\n        7,\n        np.inf]\nfixed_cuts \u003d pd.cut(amex_df.p_change, bins)\nfixed_cuts.value_counts()\n",
      "metadata": {
        "pycharm": {
          "metadata": false,
          "name": "#%% 4 3.1\n",
          "is_executing": false
        }
      }
    },
    {
      "cell_type": "code",
      "execution_count": 61,
      "outputs": [
        {
          "data": {
            "text/plain": "            cr_dummies_(-inf, -7.0]  cr_dummies_(-7.0, -5.0]  \\\n2018-12-24                        0                        0   \n2018-12-26                        0                        0   \n2018-12-27                        0                        0   \n2018-12-28                        0                        0   \n2018-12-31                        0                        0   \n\n            cr_dummies_(-5.0, -3.0]  cr_dummies_(-3.0, 0.0]  \\\n2018-12-24                        0                       1   \n2018-12-26                        0                       0   \n2018-12-27                        0                       1   \n2018-12-28                        0                       1   \n2018-12-31                        0                       1   \n\n            cr_dummies_(0.0, 3.0]  cr_dummies_(3.0, 5.0]  \\\n2018-12-24                      0                      0   \n2018-12-26                      0                      1   \n2018-12-27                      0                      0   \n2018-12-28                      0                      0   \n2018-12-31                      0                      0   \n\n            cr_dummies_(5.0, 7.0]  cr_dummies_(7.0, inf]  \n2018-12-24                      0                      0  \n2018-12-26                      0                      0  \n2018-12-27                      0                      0  \n2018-12-28                      0                      0  \n2018-12-31                      0                      0  ",
            "text/html": "\u003cdiv\u003e\n\u003cstyle scoped\u003e\n    .dataframe tbody tr th:only-of-type {\n        vertical-align: middle;\n    }\n\n    .dataframe tbody tr th {\n        vertical-align: top;\n    }\n\n    .dataframe thead th {\n        text-align: right;\n    }\n\u003c/style\u003e\n\u003ctable border\u003d\"1\" class\u003d\"dataframe\"\u003e\n  \u003cthead\u003e\n    \u003ctr style\u003d\"text-align: right;\"\u003e\n      \u003cth\u003e\u003c/th\u003e\n      \u003cth\u003ecr_dummies_(-inf, -7.0]\u003c/th\u003e\n      \u003cth\u003ecr_dummies_(-7.0, -5.0]\u003c/th\u003e\n      \u003cth\u003ecr_dummies_(-5.0, -3.0]\u003c/th\u003e\n      \u003cth\u003ecr_dummies_(-3.0, 0.0]\u003c/th\u003e\n      \u003cth\u003ecr_dummies_(0.0, 3.0]\u003c/th\u003e\n      \u003cth\u003ecr_dummies_(3.0, 5.0]\u003c/th\u003e\n      \u003cth\u003ecr_dummies_(5.0, 7.0]\u003c/th\u003e\n      \u003cth\u003ecr_dummies_(7.0, inf]\u003c/th\u003e\n    \u003c/tr\u003e\n  \u003c/thead\u003e\n  \u003ctbody\u003e\n    \u003ctr\u003e\n      \u003cth\u003e2018-12-24\u003c/th\u003e\n      \u003ctd\u003e0\u003c/td\u003e\n      \u003ctd\u003e0\u003c/td\u003e\n      \u003ctd\u003e0\u003c/td\u003e\n      \u003ctd\u003e1\u003c/td\u003e\n      \u003ctd\u003e0\u003c/td\u003e\n      \u003ctd\u003e0\u003c/td\u003e\n      \u003ctd\u003e0\u003c/td\u003e\n      \u003ctd\u003e0\u003c/td\u003e\n    \u003c/tr\u003e\n    \u003ctr\u003e\n      \u003cth\u003e2018-12-26\u003c/th\u003e\n      \u003ctd\u003e0\u003c/td\u003e\n      \u003ctd\u003e0\u003c/td\u003e\n      \u003ctd\u003e0\u003c/td\u003e\n      \u003ctd\u003e0\u003c/td\u003e\n      \u003ctd\u003e0\u003c/td\u003e\n      \u003ctd\u003e1\u003c/td\u003e\n      \u003ctd\u003e0\u003c/td\u003e\n      \u003ctd\u003e0\u003c/td\u003e\n    \u003c/tr\u003e\n    \u003ctr\u003e\n      \u003cth\u003e2018-12-27\u003c/th\u003e\n      \u003ctd\u003e0\u003c/td\u003e\n      \u003ctd\u003e0\u003c/td\u003e\n      \u003ctd\u003e0\u003c/td\u003e\n      \u003ctd\u003e1\u003c/td\u003e\n      \u003ctd\u003e0\u003c/td\u003e\n      \u003ctd\u003e0\u003c/td\u003e\n      \u003ctd\u003e0\u003c/td\u003e\n      \u003ctd\u003e0\u003c/td\u003e\n    \u003c/tr\u003e\n    \u003ctr\u003e\n      \u003cth\u003e2018-12-28\u003c/th\u003e\n      \u003ctd\u003e0\u003c/td\u003e\n      \u003ctd\u003e0\u003c/td\u003e\n      \u003ctd\u003e0\u003c/td\u003e\n      \u003ctd\u003e1\u003c/td\u003e\n      \u003ctd\u003e0\u003c/td\u003e\n      \u003ctd\u003e0\u003c/td\u003e\n      \u003ctd\u003e0\u003c/td\u003e\n      \u003ctd\u003e0\u003c/td\u003e\n    \u003c/tr\u003e\n    \u003ctr\u003e\n      \u003cth\u003e2018-12-31\u003c/th\u003e\n      \u003ctd\u003e0\u003c/td\u003e\n      \u003ctd\u003e0\u003c/td\u003e\n      \u003ctd\u003e0\u003c/td\u003e\n      \u003ctd\u003e1\u003c/td\u003e\n      \u003ctd\u003e0\u003c/td\u003e\n      \u003ctd\u003e0\u003c/td\u003e\n      \u003ctd\u003e0\u003c/td\u003e\n      \u003ctd\u003e0\u003c/td\u003e\n    \u003c/tr\u003e\n  \u003c/tbody\u003e\n\u003c/table\u003e\n\u003c/div\u003e"
          },
          "metadata": {},
          "output_type": "execute_result",
          "execution_count": 61
        }
      ],
      "source": "\nchange_ration_dummies \u003d pd.get_dummies(fixed_cuts,\n                                       prefix\u003d\u0027cr_dummies\u0027)\nchange_ration_dummies.tail()\n",
      "metadata": {
        "pycharm": {
          "metadata": false,
          "name": "#%%\n",
          "is_executing": false
        }
      }
    },
    {
      "cell_type": "code",
      "execution_count": null,
      "outputs": [],
      "source": "\n",
      "metadata": {
        "pycharm": {
          "metadata": false,
          "name": "#%%\n"
        }
      }
    }
  ],
  "metadata": {
    "language_info": {
      "codemirror_mode": {
        "name": "ipython",
        "version": 2
      },
      "file_extension": ".py",
      "mimetype": "text/x-python",
      "name": "python",
      "nbconvert_exporter": "python",
      "pygments_lexer": "ipython2",
      "version": "2.7.6"
    },
    "kernelspec": {
      "name": "python3",
      "language": "python",
      "display_name": "Python 3"
    }
  },
  "nbformat": 4,
  "nbformat_minor": 0
}